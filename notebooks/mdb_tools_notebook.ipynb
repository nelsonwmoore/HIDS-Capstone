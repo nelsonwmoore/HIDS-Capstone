{
 "cells": [
  {
   "cell_type": "markdown",
   "metadata": {},
   "source": [
    "# Installs and Imports"
   ]
  },
  {
   "cell_type": "markdown",
   "metadata": {},
   "source": [
    "## Installs"
   ]
  },
  {
   "cell_type": "code",
   "execution_count": 20,
   "metadata": {},
   "outputs": [
    {
     "name": "stdout",
     "output_type": "stream",
     "text": [
      "Looking in indexes: https://test.pypi.org/simple/\n",
      "Requirement already satisfied: mdb-tools in c:\\programdata\\anaconda3\\envs\\hids_capstone\\lib\\site-packages (0.6.14)\n",
      "Collecting mdb-tools\n",
      "  Downloading https://test-files.pythonhosted.org/packages/3e/4e/023a4e390770ea17eacdfbdf476268bbfd2765b78adda039fa9fb2494b1d/mdb_tools-0.7.0-py3-none-any.whl (15 kB)\n",
      "Installing collected packages: mdb-tools\n",
      "  Attempting uninstall: mdb-tools\n",
      "    Found existing installation: mdb-tools 0.6.14\n",
      "    Uninstalling mdb-tools-0.6.14:\n",
      "      Successfully uninstalled mdb-tools-0.6.14\n",
      "Successfully installed mdb-tools-0.7.0\n",
      "Note: you may need to restart the kernel to use updated packages.\n"
     ]
    }
   ],
   "source": [
    "%pip install -i https://test.pypi.org/simple/ mdb-tools --upgrade"
   ]
  },
  {
   "cell_type": "markdown",
   "metadata": {},
   "source": [
    "## Imports"
   ]
  },
  {
   "cell_type": "code",
   "execution_count": 2,
   "metadata": {},
   "outputs": [],
   "source": [
    "from neo4j import GraphDatabase, basic_auth\n",
    "from mdb_tools import NelsonMDB\n",
    "from mdb_tools.mdb_tools import get_entity_type\n",
    "from bento_meta.entity import Entity\n",
    "from bento_meta.objects import Term, Concept, Predicate, Node, Edge, Property\n",
    "from bento_meta.mdb import MDB, read_txn, read_txn_value, read_txn_data\n",
    "from bento_meta.mdb.writeable import WriteableMDB, write_txn\n",
    "import pandas as pd"
   ]
  },
  {
   "cell_type": "markdown",
   "metadata": {},
   "source": [
    "# Database connection"
   ]
  },
  {
   "cell_type": "markdown",
   "metadata": {},
   "source": [
    "First we need the URL, username, and password for the database connection.\n",
    "\n",
    "These tools were developed to be used with the Bento [Metamodel database (MDB)](https://github.com/CBIIT/bento-meta), but the examples provided should work with [an empty Neo4J graph database](https://sandbox.neo4j.com/?ref=get-started-dropdown-cta&persona=data-scientist) too."
   ]
  },
  {
   "cell_type": "markdown",
   "metadata": {},
   "source": [
    "The metamodel database (MDB) records:\n",
    "- node/relationship/property structure of models;\n",
    "- the official local vocabulary - terms that are employed in the backend data system;\n",
    "- synonyms for local vocabulary mapped from external standards; and\n",
    "- the value sets for properties with enumerated value domains, and data types for other properties."
   ]
  },
  {
   "cell_type": "code",
   "execution_count": 3,
   "metadata": {},
   "outputs": [],
   "source": [
    "# MDB sandbox\n",
    "URL = \"bolt://localhost:7687\" # <URL for database>\n",
    "USER = \"neo4j\" # <Username for database>\n",
    "PASSWORD = \"noble-use-dairy\" # <Password for database>"
   ]
  },
  {
   "cell_type": "markdown",
   "metadata": {},
   "source": [
    "Use these credentials to instantiate a \"NelsonMDB\" object (a subclass of bento-meta's WriteableMDB).\n",
    "\n",
    "Many of the tools in the bento_mdb package use this object to interact with the Metamodel database in a number of different ways without requiring in-depth knowledge of the Neo4J Python Driver."
   ]
  },
  {
   "cell_type": "code",
   "execution_count": 4,
   "metadata": {},
   "outputs": [],
   "source": [
    "mdbn = NelsonMDB(uri=URL, user=USER, password=PASSWORD)"
   ]
  },
  {
   "cell_type": "markdown",
   "metadata": {},
   "source": [
    "# Bento-meta Entities"
   ]
  },
  {
   "cell_type": "markdown",
   "metadata": {},
   "source": [
    "[Bento-meta entities](https://cbiit.github.io/bento-meta/the_object_model.html#component-objects) are Python objects that represent Neo4J nodes in the database. We use these as input for many of the mdb tools to specify the nodes we wish to work with.\n",
    "\n",
    "Let's look at some of the types of entities found in the MDB, and how we can set their [attributes](https://cbiit.github.io/bento-meta/the_object_model.html#objects-and-their-attributes) with Python.\n",
    "\n",
    "<img src=\"https://github.com/CBIIT/bento-meta/blob/master/metamodel.svg?raw=true\" width=\"750px\"/>"
   ]
  },
  {
   "cell_type": "markdown",
   "metadata": {},
   "source": [
    "### Node"
   ]
  },
  {
   "cell_type": "markdown",
   "metadata": {},
   "source": [
    "First, let's look at the node entity. This represents a Neo4j node with the label \"node.\" In the MDB, this represents a model node or endpoint, such as \"Subject\" in the Cancer Data Aggregator (CDA) model or \"file\" in the Genomic Data Commons (GDC) model.\n",
    "\n",
    "For a node, the combination of its model and handle are unique in the MDB (Note: ALL entities must also have a \"nanoid\" attribute, which we will touch on later in the [MDB Tools section](#make_nano)."
   ]
  },
  {
   "cell_type": "code",
   "execution_count": 6,
   "metadata": {},
   "outputs": [],
   "source": [
    "# first we can instantiate a Node and add its attributes via object properties\n",
    "test_node = Node()\n",
    "test_node.handle = \"file\"\n",
    "test_node.model = \"GDC\""
   ]
  },
  {
   "cell_type": "code",
   "execution_count": 48,
   "metadata": {},
   "outputs": [
    {
     "name": "stdout",
     "output_type": "stream",
     "text": [
      "Node handle: file; Node model: GDC\n"
     ]
    }
   ],
   "source": [
    "# we can then access those attributes later in the same way\n",
    "print(f\"Node handle: {test_node.handle}; Node model: {test_node.model}\")"
   ]
  },
  {
   "cell_type": "markdown",
   "metadata": {},
   "source": [
    "### Edge"
   ]
  },
  {
   "cell_type": "markdown",
   "metadata": {},
   "source": [
    "Edge entities represent relationships between model nodes. In the MDB these are nodes with the label \"relationship,\" such as the relationship node with handle \"data_from\" in the GDC model. This has a source node with the handle \"file\" and a destination node with the handle \"slide.\"\n",
    "\n",
    "For a given edge/relationship between a source node (linked via the \"has_src\" Neo4J relationship) and destination node (via \"has_dst\"), the combination of its model & handle along with its source and destination node handles is unique within a model."
   ]
  },
  {
   "cell_type": "code",
   "execution_count": 58,
   "metadata": {},
   "outputs": [
    {
     "name": "stdout",
     "output_type": "stream",
     "text": [
      "Edge handle: data_from, model: GDC, src: file, dst: slide\n"
     ]
    }
   ],
   "source": [
    "# we can also set attributes of an entity as a dictionary\n",
    "test_edge = Edge({\n",
    "    \"handle\": \"data_from\",\n",
    "    \"model\": \"GDC\"\n",
    "})\n",
    "\n",
    "# define source and destination nodes separately\n",
    "test_src = Node({\"handle\": \"file\", \"model\": \"GDC\"})\n",
    "test_dst = Node({\"handle\": \"slide\", \"model\": \"GDC\"})\n",
    "\n",
    "# can then set edge attributes src & dst, which accept entities.\n",
    "test_edge.src = test_src\n",
    "test_edge.dst = test_dst\n",
    "\n",
    "print(f\"Edge handle: {test_edge.handle}, model: {test_edge.model}, src: {test_edge.src.handle}, dst: {test_edge.dst.handle}\")\n"
   ]
  },
  {
   "cell_type": "markdown",
   "metadata": {},
   "source": [
    "### Property"
   ]
  },
  {
   "cell_type": "markdown",
   "metadata": {},
   "source": [
    "Property entities represent a property of a node or edge/relationship, and are linked to that entity as the destination of a \"has_property\" Neo4J relationship. An example is the proprety with the handle \"file_id\" of the node with the handle \"file.\"\n",
    "\n",
    "For a given property, the combination of its model and handle along with the handle of the source entity on the other side of the \"has_property\" relationship is unique."
   ]
  },
  {
   "cell_type": "code",
   "execution_count": 7,
   "metadata": {},
   "outputs": [
    {
     "name": "stdout",
     "output_type": "stream",
     "text": [
      "Property handle: file_id, model: GDC, node: file\n"
     ]
    }
   ],
   "source": [
    "test_prop = Property({\n",
    "    \"handle\": \"file_id\",\n",
    "    \"model\": \"GDC\"\n",
    "})\n",
    "\n",
    "print(f\"Property handle: {test_prop.handle}, model: {test_prop.model}, node: {test_node.handle}\")"
   ]
  },
  {
   "cell_type": "markdown",
   "metadata": {},
   "source": [
    "### Concept"
   ]
  },
  {
   "cell_type": "markdown",
   "metadata": {},
   "source": [
    "Concept entities represent intellectual concepts, and are represented only by their nanoid. \n",
    "\n",
    "They are used in the MDB to connect Term nodes that are identical in meaning (synonymous). This can link semantically identical terms with values such as \"Wilm's Tumor\" and \"Nephroblastoma, NOS\" and their representative codes from external vocabularies such as \"8960/3\" all to the same Concept (with nanoid eN7Kvk) via the \"represents\" Neo4J relationship.\n",
    "\n",
    "They are also used to connect other entities, such as Properties, via the \"has_concept\" Neo4J relationship. In this case, they represent inter-model mappings such as between:\n",
    "- the CDA property with the handle \"identifier\" of the node with the handle \"File\"\n",
    "- the GDC property with the handle \"file_id\" of the node with the handle \"file\"\n",
    "- the PDC property with the handle \"diagnosis_id\" of the node with the handle \"diagnosis\"\n",
    "\n",
    "All three of these can be linked by the same Concept with a nanoid of \"BrFFDM\" via the \"has_concept\" Neo4J relationship, as they represent the same identifier data within each model.\n",
    "\n",
    "One important distinction is that a Term \"represents\" a Concept, while a Property (or other node) \"has_concept\" a Concept. This highlights the fact that Terms are words for things, not the things themselves."
   ]
  },
  {
   "cell_type": "code",
   "execution_count": 10,
   "metadata": {},
   "outputs": [
    {
     "name": "stdout",
     "output_type": "stream",
     "text": [
      "Concept nanoid: eN7Kvk\n"
     ]
    }
   ],
   "source": [
    "test_concept = Concept({\"nanoid\": \"eN7Kvk\"})\n",
    "\n",
    "print(f\"Concept nanoid: {test_concept.nanoid}\")"
   ]
  },
  {
   "cell_type": "markdown",
   "metadata": {},
   "source": [
    "### Term"
   ]
  },
  {
   "cell_type": "markdown",
   "metadata": {},
   "source": [
    "Term entities represent instances of an encoding of a concept. The value attribute is a string represention of a term, and often they represent different unique values within a model's database for a given Property (which often represents a field/column name).\n",
    "\n",
    "For example, the synonymous terms with values of \"Wilm's Tumor\" and \"Nephroblastoma, NOS\" with origin_name \"GDC\" are valid values of the GDC Property with the handle \"relationship_primary_diagnosis.\" Another term in the \"value set\" for this property is \"Bone Cancer.\"\n",
    "\n",
    "For a given term, the combination of it's value and origin_name is unique (origin_id and origin_version may also be required for unique identification of terms in the future)."
   ]
  },
  {
   "cell_type": "code",
   "execution_count": 37,
   "metadata": {},
   "outputs": [
    {
     "name": "stdout",
     "output_type": "stream",
     "text": [
      "Term values: 'Wilm's Tumor', 'Nephroblastoma, NOS', '8960/3', model: GDC\n",
      "Concept Terms: {\"Wilm's Tumor\": <bento_meta.objects.Term object at 0x000001FF118554F0>, 'Nephroblastoma, NOS': <bento_meta.objects.Term object at 0x000001FF118554C0>, '8960/3': <bento_meta.objects.Term object at 0x000001FF118556D0>}\n"
     ]
    }
   ],
   "source": [
    "test_term_1 = Term({\n",
    "    \"value\": \"Wilm's Tumor\",\n",
    "    \"origin_name\": \"GDC\"\n",
    "})\n",
    "test_term_2 = Term({\n",
    "    \"value\": \"Nephroblastoma, NOS\",\n",
    "    \"origin_name\": \"GDC\"\n",
    "})\n",
    "test_term_3 = Term({\n",
    "    \"value\": \"8960/3\",\n",
    "    \"origin_name\": \"GDC\"\n",
    "})\n",
    "\n",
    "test_concept.terms = [test_term_1, test_term_2, test_term_3]\n",
    "\n",
    "print(f\"Term values: '{test_term_1.value}', '{test_term_2.value}', '{test_term_3.value}', model: {test_term_1.origin_name}\")\n",
    "print(f\"Concept Terms: {test_concept.terms}\")"
   ]
  },
  {
   "cell_type": "markdown",
   "metadata": {},
   "source": [
    "### Predicate"
   ]
  },
  {
   "cell_type": "markdown",
   "metadata": {},
   "source": [
    "Predicate entities represent semantic relationships between two Neo4J concept nodes. Predicates are also uniquely identified by their nanoid attribute, but also have handles associated with them and are linked to concept nodes via the \"has_subject\" and \"has_object\" Neo4J relationships.\n",
    "\n",
    "For example, the predicate with the handle \"exactMatch\" links the concepts with nanoids \"n3udfp\" and \"4jkzA3\", each of which represent terms with values of \"Lung\" in the GDC model.\n",
    "\n",
    "Predicate handles are derived from [SKOS vocabulary](https://www.w3.org/TR/2005/WD-swbp-skos-core-spec-20051102/). Some examples that will be used the MDB are \"exactMatch,\" \"closeMatch,\" \"broader,\" \"narrower,\" and \"related\"."
   ]
  },
  {
   "cell_type": "code",
   "execution_count": 41,
   "metadata": {},
   "outputs": [
    {
     "name": "stdout",
     "output_type": "stream",
     "text": [
      "Predicate handle: exactMatch, subject nanoid: '4jkzA3', object nanoid: 'n3udfp'\n"
     ]
    }
   ],
   "source": [
    "test_pred = Predicate({\n",
    "    \"handle\": \"exactMatch\",\n",
    "    \"subject\": Concept({\"nanoid\": \"4jkzA3\"}),\n",
    "    \"object\": Concept({\"nanoid\": \"n3udfp\"})\n",
    "})\n",
    "\n",
    "print(f\"Predicate handle: {test_pred.handle}, subject nanoid: '{test_pred.subject.nanoid}', object nanoid: '{test_pred.object.nanoid}'\") # type: ignore"
   ]
  },
  {
   "cell_type": "markdown",
   "metadata": {},
   "source": [
    "# MDB Tools"
   ]
  },
  {
   "cell_type": "markdown",
   "metadata": {},
   "source": [
    "## Setup for Blank Sandbox"
   ]
  },
  {
   "cell_type": "markdown",
   "metadata": {},
   "source": [
    "Run this code to set up the database if you are trying this notebook on a new Neo4J sandbox, or some of the examples may not work properly.\n",
    "\n",
    "If you are trying this on an actual MDB instance, the examples should work without this setup."
   ]
  },
  {
   "cell_type": "code",
   "execution_count": null,
   "metadata": {},
   "outputs": [],
   "source": [
    "# basic tools setup\n",
    "\n",
    "\n",
    "# link_synonyms setup\n",
    "test_term_1 = Term({\"value\": \"Epithelioma, benign\", \"origin_name\": \"GDC\", \"nanoid\": \"zRGp4a\"})\n",
    "test_term_2 = Term({\"value\": \"Epithelial tumor, benign\", \"origin_name\": \"GDC\", \"nanoid\": \"GmGVWZ\"})\n",
    "test_concept_1 = Concept({\"nanoid\": \"gNbSxf\"})\n",
    "mdbn.create_entity(test_term_1)\n",
    "mdbn.create_entity(test_term_2)\n",
    "mdbn.create_relationship(test_term_1, test_concept_1, \"represents\")\n",
    "mdbn.create_relationship(test_term_2, test_concept_1, \"represents\")\n",
    "\n",
    "# merge_two_concepts setup\n",
    "test_concept_1 = Concept({\"nanoid\": \"oXDdoU\"})\n",
    "test_concept_2 = Concept({\"nanoid\": \"vHb6hz\"})\n",
    "test_concept_3 = Concept({\"nanoid\": \"7v2zvu\"})\n",
    "mdbn.create_entity(test_concept_1)\n",
    "mdbn.create_entity(test_concept_2)\n",
    "mdbn.create_entity(test_concept_3)\n",
    "test_term_1 = Term({\"value\": \"Wilms Tumor\", \"origin_name\": \"NDC\", \"nanoid\": \"ajQta4\"})\n",
    "test_term_2 = Term({\"value\": \"Nephroblastoma, NOS\", \"origin_name\": \"NDC\", \"nanoid\": \"1Njrd8\"})\n",
    "test_term_3 = Term({\"value\": \"8960/3\", \"origin_name\": \"MDC\", \"nanoid\": \"e5zCQJ\"})\n",
    "test_term_4 = Term({\"value\": \"Wilms Tumor\", \"origin_name\": \"ODC\", \"nanoid\": \"nVEvUF\"})\n",
    "mdbn.create_entity(test_term_1)\n",
    "mdbn.create_entity(test_term_2)\n",
    "mdbn.create_entity(test_term_3)\n",
    "mdbn.create_entity(test_term_4)\n",
    "mdbn.create_relationship(test_term_1, test_concept_1, \"represents\")\n",
    "mdbn.create_relationship(test_term_2, test_concept_1, \"represents\")\n",
    "mdbn.create_relationship(test_term_3, test_concept_2, \"represents\")\n",
    "mdbn.create_relationship(test_term_4, test_concept_3, \"represents\")\n",
    "mdbn.link_concepts_to_predicate(test_concept_2, test_concept_3)\n",
    "\n",
    "# find synonyms setup\n",
    "test_term = Term({\"value\": \"Melanoma\", \"origin_name\": \"GDC\", \"nanoid\": \"1FQA8k\"})"
   ]
  },
  {
   "cell_type": "markdown",
   "metadata": {},
   "source": [
    "## Basic Tools"
   ]
  },
  {
   "cell_type": "markdown",
   "metadata": {},
   "source": [
    "These are some of the basic building blocks of the MDB toolkit and what they do. All of these tools are methods of the NelsonMDB object that [we defined earlier](#database-connection).\n",
    "\n",
    "If a tool uses \"entity\" in the name, it generally will accept the Node, Property, Edge, & Term entities. Some of these may also work with other entities (such as Concepts and Predicates) and as functionality is added these examples will be updated accordingly."
   ]
  },
  {
   "cell_type": "markdown",
   "metadata": {},
   "source": [
    "### get_entity_count"
   ]
  },
  {
   "cell_type": "markdown",
   "metadata": {},
   "source": [
    "Returns count of given entity (w/ its properties) found in MDB as a list.\n",
    "- If count = 0, entity with given properties not found\n",
    "- If count = 1, entity with given properties is unique\n",
    "- If count > 1, more properties needed to uniquely identify entity"
   ]
  },
  {
   "cell_type": "code",
   "execution_count": 73,
   "metadata": {},
   "outputs": [
    {
     "name": "stdout",
     "output_type": "stream",
     "text": [
      "0\n"
     ]
    }
   ],
   "source": [
    "test_term = Term({\"value\": \"Cancerr\"})\n",
    "\n",
    "entity_count = mdbn.get_entity_count(test_term)\n",
    "\n",
    "print(entity_count[0])"
   ]
  },
  {
   "cell_type": "markdown",
   "metadata": {},
   "source": [
    "Oops, we misspelled the term value, let's try again with the correct value."
   ]
  },
  {
   "cell_type": "code",
   "execution_count": 74,
   "metadata": {},
   "outputs": [
    {
     "name": "stdout",
     "output_type": "stream",
     "text": [
      "2\n"
     ]
    }
   ],
   "source": [
    "test_term.value = \"Cancer\"\n",
    "\n",
    "entity_count = mdbn.get_entity_count(test_term)\n",
    "\n",
    "print(entity_count[0])"
   ]
  },
  {
   "cell_type": "markdown",
   "metadata": {},
   "source": [
    "Better, but Terms also need an origin_name attribute for unique identification."
   ]
  },
  {
   "cell_type": "code",
   "execution_count": 75,
   "metadata": {},
   "outputs": [
    {
     "name": "stdout",
     "output_type": "stream",
     "text": [
      "1\n"
     ]
    }
   ],
   "source": [
    "test_term.origin_name = \"GDC\"\n",
    "\n",
    "entity_count = mdbn.get_entity_count(test_term)\n",
    "\n",
    "print(entity_count[0])"
   ]
  },
  {
   "cell_type": "markdown",
   "metadata": {},
   "source": [
    "Nice, so now we know a term with the value \"Cancer\" and the origin_name \"GDC\" exists in the database."
   ]
  },
  {
   "cell_type": "markdown",
   "metadata": {},
   "source": [
    "### make_nano"
   ]
  },
  {
   "cell_type": "markdown",
   "metadata": {},
   "source": [
    "As previously mentioned, each entity in the database needs a unique nanoid to act as an identifier.\n",
    "\n",
    "Nanoids are 6 character strings made up of letters from the English alphabet and the numbers 0-9, and can be generated with the following function:"
   ]
  },
  {
   "cell_type": "code",
   "execution_count": 62,
   "metadata": {},
   "outputs": [
    {
     "name": "stdout",
     "output_type": "stream",
     "text": [
      "2FdsZc\n"
     ]
    }
   ],
   "source": [
    "print(mdbn.make_nano())"
   ]
  },
  {
   "cell_type": "markdown",
   "metadata": {},
   "source": [
    "### get_entity_nano"
   ]
  },
  {
   "cell_type": "markdown",
   "metadata": {},
   "source": [
    "This function returns a list of entity nanoids matching the given entity's attributes."
   ]
  },
  {
   "cell_type": "code",
   "execution_count": 78,
   "metadata": {},
   "outputs": [
    {
     "name": "stdout",
     "output_type": "stream",
     "text": [
      "['Mg4qVS']\n"
     ]
    }
   ],
   "source": [
    "print(mdbn.get_entity_nano(test_term))"
   ]
  },
  {
   "cell_type": "markdown",
   "metadata": {},
   "source": [
    "As previously mentioned, some entity types need additional information to be uniquely identified.\n",
    "\n",
    "The extra_handle_1 & extra_handle_2 parameters are used to hold this information for now and can be set in a few different ways."
   ]
  },
  {
   "cell_type": "code",
   "execution_count": 91,
   "metadata": {},
   "outputs": [
    {
     "name": "stdout",
     "output_type": "stream",
     "text": [
      "['m51zMt']\n"
     ]
    }
   ],
   "source": [
    "# for edge nodes, use extra_handle_1 to designate the src\n",
    "# handle for which that edge \"has_src\" and extra_handle 2\n",
    "# for the dst handle for which that edge \"has_dst\" \n",
    "test_edge = Edge({\n",
    "    \"handle\": \"describes\",\n",
    "    \"model\": \"GDC\"\n",
    "})\n",
    "\n",
    "test_node_src = Node({\"handle\": \"treatment\", \"model\": \"GDC\"})\n",
    "test_node_dst = Node({\"handle\": \"diagnosis\", \"model\": \"GDC\"})\n",
    "\n",
    "test_edge.src = test_node_src\n",
    "test_edge.dst = test_node_dst\n",
    "\n",
    "print(mdbn.get_entity_nano(\n",
    "    entity=test_edge,\n",
    "    # using handle of src attribute of test_edge #type: ignore\n",
    "    extra_handle_1=test_edge.src.handle, #type: ignore\n",
    "    #type: ignore # using handle of src node itself\n",
    "    extra_handle_2=test_node_dst.handle)) #type: ignore"
   ]
  },
  {
   "cell_type": "code",
   "execution_count": 93,
   "metadata": {},
   "outputs": [
    {
     "name": "stdout",
     "output_type": "stream",
     "text": [
      "['KEMRe0']\n"
     ]
    }
   ],
   "source": [
    "# for property nodes, use extra_handle_1 to designate \n",
    "# the node handle that \"has_property\" for that property\n",
    "test_prop = Property({\n",
    "    \"handle\": \"treatment_type\",\n",
    "    \"model\": \"GDC\"\n",
    "})\n",
    "\n",
    "print(mdbn.get_entity_nano(\n",
    "    entity=test_prop,\n",
    "    extra_handle_1=\"treatment\")) # using string value of node handle"
   ]
  },
  {
   "cell_type": "markdown",
   "metadata": {},
   "source": [
    "### get_or_make_nano"
   ]
  },
  {
   "cell_type": "markdown",
   "metadata": {},
   "source": [
    "This function combines the two nanoid functions above. It returns a nanoid if the given entity exists uniquely or generates a new one if the entity doesn't exist.\n",
    "\n",
    "This function also uses the extra_handle_1 & extra_handle_2 parameters to uniquely identify property and edge entities."
   ]
  },
  {
   "cell_type": "code",
   "execution_count": 100,
   "metadata": {},
   "outputs": [
    {
     "data": {
      "text/plain": [
       "('Mg4qVS', '46pxeV')"
      ]
     },
     "execution_count": 100,
     "metadata": {},
     "output_type": "execute_result"
    }
   ],
   "source": [
    "real_term = Term({\n",
    "    \"value\": \"Cancer\",\n",
    "    \"origin_name\": \"GDC\"\n",
    "})\n",
    "\n",
    "fake_term = Term({\n",
    "    \"value\": \"foo\",\n",
    "    \"origin_name\": \"bar\"\n",
    "})\n",
    "\n",
    "mdbn.get_or_make_nano(real_term), mdbn.get_or_make_nano(fake_term)"
   ]
  },
  {
   "cell_type": "markdown",
   "metadata": {},
   "source": [
    "If we run the same function again on these node entities, the real_node should return the same nanoid and the fake should generate a new one (since it doesn't exist in the MDB)"
   ]
  },
  {
   "cell_type": "code",
   "execution_count": 101,
   "metadata": {},
   "outputs": [
    {
     "data": {
      "text/plain": [
       "('Mg4qVS', 'W7Wtqv')"
      ]
     },
     "execution_count": 101,
     "metadata": {},
     "output_type": "execute_result"
    }
   ],
   "source": [
    "mdbn.get_or_make_nano(real_term), mdbn.get_or_make_nano(fake_term)"
   ]
  },
  {
   "cell_type": "markdown",
   "metadata": {},
   "source": [
    "### create_entity"
   ]
  },
  {
   "cell_type": "markdown",
   "metadata": {},
   "source": [
    "This function actually creates the given entity in the database. \n",
    "\n",
    "As previously mentioned, entities MUST have a nanoid before being added to the database. The recommended way to do this is with the get_or_make_nano function described above.\n",
    "\n",
    "If the entity already exists in the database, does nothing."
   ]
  },
  {
   "cell_type": "code",
   "execution_count": 121,
   "metadata": {},
   "outputs": [
    {
     "data": {
      "text/plain": [
       "0"
      ]
     },
     "execution_count": 121,
     "metadata": {},
     "output_type": "execute_result"
    }
   ],
   "source": [
    "test_node = Node({\n",
    "    \"handle\": \"ResearchSubject\",\n",
    "    \"model\": \"NDC\"\n",
    "})\n",
    "test_node.nanoid = mdbn.get_or_make_nano(test_node)\n",
    "\n",
    "# entity count should initially be 0\n",
    "mdbn.get_entity_count(test_node)[0]"
   ]
  },
  {
   "cell_type": "code",
   "execution_count": 122,
   "metadata": {},
   "outputs": [
    {
     "name": "stdout",
     "output_type": "stream",
     "text": [
      "Creating new node node with properties: {handle: 'ResearchSubject', model: 'NDC', nanoid: 'wqSKUm'}\n"
     ]
    },
    {
     "data": {
      "text/plain": [
       "[]"
      ]
     },
     "execution_count": 122,
     "metadata": {},
     "output_type": "execute_result"
    }
   ],
   "source": [
    "# create the entity\n",
    "mdbn.create_entity(test_node)"
   ]
  },
  {
   "cell_type": "code",
   "execution_count": 123,
   "metadata": {},
   "outputs": [
    {
     "data": {
      "text/plain": [
       "1"
      ]
     },
     "execution_count": 123,
     "metadata": {},
     "output_type": "execute_result"
    }
   ],
   "source": [
    "# entity count should now be 1\n",
    "mdbn.get_entity_count(test_node)[0]"
   ]
  },
  {
   "cell_type": "markdown",
   "metadata": {},
   "source": [
    "### detach_delete_entity"
   ]
  },
  {
   "cell_type": "markdown",
   "metadata": {},
   "source": [
    "This function removes the given entity from the database. Be careful with this if using in a production environment."
   ]
  },
  {
   "cell_type": "code",
   "execution_count": 124,
   "metadata": {},
   "outputs": [
    {
     "name": "stdout",
     "output_type": "stream",
     "text": [
      "Removing node node with with properties: {handle: 'ResearchSubject', model: 'NDC', nanoid: 'wqSKUm'}\n"
     ]
    },
    {
     "data": {
      "text/plain": [
       "[]"
      ]
     },
     "execution_count": 124,
     "metadata": {},
     "output_type": "execute_result"
    }
   ],
   "source": [
    "# delete the entity\n",
    "mdbn.detach_delete_entity(test_node)"
   ]
  },
  {
   "cell_type": "code",
   "execution_count": 125,
   "metadata": {},
   "outputs": [
    {
     "data": {
      "text/plain": [
       "0"
      ]
     },
     "execution_count": 125,
     "metadata": {},
     "output_type": "execute_result"
    }
   ],
   "source": [
    "# entity count should now be 0 again\n",
    "mdbn.get_entity_count(test_node)[0]"
   ]
  },
  {
   "cell_type": "markdown",
   "metadata": {},
   "source": [
    "### create_relationship"
   ]
  },
  {
   "cell_type": "markdown",
   "metadata": {},
   "source": [
    "This function creates a relationship of the given type (\"relationship\" parameter of function) directed from a src_entity to a dst_entity.\n",
    "\n",
    "As with the create_entity function, if the relationship already exists between the given entities, does nothing."
   ]
  },
  {
   "cell_type": "code",
   "execution_count": 130,
   "metadata": {},
   "outputs": [
    {
     "name": "stdout",
     "output_type": "stream",
     "text": [
      "Ensuring has_property relationship exists between src node with properties: {handle: 'clinical', model: 'GDC'} to dst property with properties: {handle: 'vital_status', model: 'GDC'}\n"
     ]
    },
    {
     "data": {
      "text/plain": [
       "[]"
      ]
     },
     "execution_count": 130,
     "metadata": {},
     "output_type": "execute_result"
    }
   ],
   "source": [
    "test_src_node = Node({\n",
    "    \"handle\": \"clinical\",\n",
    "    \"model\": \"GDC\"\n",
    "})\n",
    "\n",
    "test_dst_prop = Property({\n",
    "    \"handle\": \"vital_status\",\n",
    "    \"model\": \"GDC\"\n",
    "})\n",
    "\n",
    "mdbn.create_relationship(\n",
    "    src_entity=test_src_node,\n",
    "    dst_entity=test_dst_prop,\n",
    "    relationship=\"has_property\")"
   ]
  },
  {
   "cell_type": "markdown",
   "metadata": {},
   "source": [
    "### get_concepts"
   ]
  },
  {
   "cell_type": "markdown",
   "metadata": {},
   "source": [
    "This function returns a list of concepts associated with a given entity.\n",
    "\n",
    "The list shouldn't be longer than 1 item long (if more, is probably an opportunity for [linking concepts](#linking-concepts))."
   ]
  },
  {
   "cell_type": "code",
   "execution_count": 140,
   "metadata": {},
   "outputs": [
    {
     "data": {
      "text/plain": [
       "['4jtzA3']"
      ]
     },
     "execution_count": 140,
     "metadata": {},
     "output_type": "execute_result"
    }
   ],
   "source": [
    "test_term = Term({\n",
    "    \"value\": \"Lung\",\n",
    "    \"origin_name\": \"NCIt\"\n",
    "})\n",
    "\n",
    "mdbn.get_concepts(test_term)"
   ]
  },
  {
   "cell_type": "markdown",
   "metadata": {},
   "source": [
    "### get_entity_attrs"
   ]
  },
  {
   "cell_type": "markdown",
   "metadata": {},
   "source": [
    "This function returns a collection of attributes associated with the given entity. The output_str parameter (default True) indicates whether to return the attributes as a string formatted for use in Neo4J Cypher queries or as a dictionary for use as bento_meta entity attributes.\n",
    "\n",
    "Also useful for remembering the attributes that have been set for an entity."
   ]
  },
  {
   "cell_type": "code",
   "execution_count": 141,
   "metadata": {},
   "outputs": [
    {
     "data": {
      "text/plain": [
       "\"{value: 'Lung', origin_name: 'NCIt'}\""
      ]
     },
     "execution_count": 141,
     "metadata": {},
     "output_type": "execute_result"
    }
   ],
   "source": [
    "# default string format\n",
    "mdbn.get_entity_attrs(test_term)"
   ]
  },
  {
   "cell_type": "code",
   "execution_count": 144,
   "metadata": {},
   "outputs": [
    {
     "data": {
      "text/plain": [
       "{'value': 'Lung', 'origin_name': 'NCIt', 'nanoid': 'cCdN9n'}"
      ]
     },
     "execution_count": 144,
     "metadata": {},
     "output_type": "execute_result"
    }
   ],
   "source": [
    "# add a property to see the difference\n",
    "test_term.nanoid = mdbn.get_or_make_nano(test_term)\n",
    "\n",
    "# dict format\n",
    "mdbn.get_entity_attrs(test_term, output_str=False)"
   ]
  },
  {
   "cell_type": "markdown",
   "metadata": {},
   "source": [
    "### get_term_nanos & get_predicate_nanos"
   ]
  },
  {
   "cell_type": "markdown",
   "metadata": {},
   "source": [
    "These functions return lists of nanoids for all terms & predicates (respectively) representing the given concept."
   ]
  },
  {
   "cell_type": "code",
   "execution_count": 152,
   "metadata": {},
   "outputs": [
    {
     "data": {
      "text/plain": [
       "['cCdN9n', 'dyBbzh']"
      ]
     },
     "execution_count": 152,
     "metadata": {},
     "output_type": "execute_result"
    }
   ],
   "source": [
    "# generate test concept using a nanoid for a known term\n",
    "test_term = Term({\n",
    "    \"value\": \"Lung\",\n",
    "    \"origin_name\": \"GDC\"\n",
    "})\n",
    "\n",
    "test_concept = Concept()\n",
    "test_concept.nanoid = mdbn.get_concepts(test_term)[0]\n",
    "\n",
    "# get nanoids of all terms associated with test_concept\n",
    "mdbn.get_term_nanos(test_concept)"
   ]
  },
  {
   "cell_type": "code",
   "execution_count": 151,
   "metadata": {},
   "outputs": [
    {
     "data": {
      "text/plain": [
       "['C7iTgM']"
      ]
     },
     "execution_count": 151,
     "metadata": {},
     "output_type": "execute_result"
    }
   ],
   "source": [
    "# get nanoids of all predicates associated with test_concept\n",
    "mdbn.get_predicate_nanos(test_concept)"
   ]
  },
  {
   "cell_type": "markdown",
   "metadata": {},
   "source": [
    "## Linking Synonyms via Concept\n"
   ]
  },
  {
   "cell_type": "markdown",
   "metadata": {},
   "source": [
    "### link_synonyms"
   ]
  },
  {
   "cell_type": "markdown",
   "metadata": {},
   "source": [
    "This function takes two entities that are synonymous (as determined by the user/SME) and ensures that they are linked in the MDB via a Concept via a 'represents' Neo4J relationship (for Terms) or a 'has_concept' relationship for others.\n",
    "\n",
    "If one or both doesn't exist in the MDB and add_missing_ent is True they will be added."
   ]
  },
  {
   "cell_type": "code",
   "execution_count": null,
   "metadata": {},
   "outputs": [
    {
     "name": "stdout",
     "output_type": "stream",
     "text": [
      "Both terms are already connected via Concept pSXy2q\n"
     ]
    }
   ],
   "source": [
    "# both terms exist & connected via concept\n",
    "test_term_1 = Term()\n",
    "test_term_1.value = \"Epithelioma, benign\"\n",
    "test_term_1.origin_name = \"GDC\"\n",
    "test_term_1.nanoid = mdbn.get_or_make_nano(test_term_1)\n",
    "\n",
    "test_term_2 = Term()\n",
    "test_term_2.value = \"Epithelial tumor, benign\"\n",
    "test_term_2.origin_name = \"GDC\"\n",
    "test_term_2.nanoid = mdbn.get_or_make_nano(test_term_2)\n",
    "\n",
    "mdbn.link_synonyms(test_term_1, test_term_2, add_missing_ent=True)"
   ]
  },
  {
   "cell_type": "code",
   "execution_count": 165,
   "metadata": {},
   "outputs": [
    {
     "name": "stdout",
     "output_type": "stream",
     "text": [
      "Creating new concept node with properties: {nanoid: 'uPhyMk'}\n",
      "Ensuring represents relationship exists between src term with properties: {value: 'Cancer', nanoid: 'anmyEP', origin_name: 'BentoTailorX'} to dst concept with properties: {nanoid: 'uPhyMk'}\n",
      "Ensuring represents relationship exists between src term with properties: {value: 'Cancer', nanoid: 'tKVteT', origin_name: 'GDC'} to dst concept with properties: {nanoid: 'uPhyMk'}\n"
     ]
    }
   ],
   "source": [
    "# both terms exist but neither have concept representing them\n",
    "test_term_1 = Term()\n",
    "test_term_1.value = \"Cancer\"\n",
    "test_term_1.origin_name = \"BentoTailorX\"\n",
    "test_term_1.nanoid = mdbn.get_or_make_nano(test_term_1)\n",
    "\n",
    "test_term_2 = Term()\n",
    "test_term_2.value = \"Cancer\"\n",
    "test_term_2.origin_name = \"GDC\"\n",
    "test_term_2.nanoid = mdbn.get_or_make_nano(test_term_2)\n",
    "\n",
    "mdbn.link_synonyms(test_term_1, test_term_2, add_missing_ent=True)"
   ]
  },
  {
   "cell_type": "code",
   "execution_count": 166,
   "metadata": {},
   "outputs": [
    {
     "name": "stdout",
     "output_type": "stream",
     "text": [
      "Creating new term node with properties: {value: 'Alveolar adenocarcinoma', nanoid: 'kGDUya', origin_name: 'NDC'}\n",
      "Ensuring represents relationship exists between src term with properties: {value: 'Minimally Invasive Lung Adenocarcinoma', nanoid: '9G8qkD', origin_name: 'NCIt'} to dst concept with properties: {nanoid: '0c271a'}\n",
      "Ensuring represents relationship exists between src term with properties: {value: 'Alveolar adenocarcinoma', nanoid: 'kGDUya', origin_name: 'NDC'} to dst concept with properties: {nanoid: '0c271a'}\n"
     ]
    }
   ],
   "source": [
    "# one term exists & already has concept\n",
    "test_term_1 = Term()\n",
    "test_term_1.value = \"Minimally Invasive Lung Adenocarcinoma\"\n",
    "test_term_1.origin_name = \"NCIt\"\n",
    "test_term_1.nanoid = mdbn.get_or_make_nano(test_term_1)\n",
    "\n",
    "test_term_2 = Term()\n",
    "test_term_2.value = \"Alveolar adenocarcinoma\"\n",
    "test_term_2.origin_name = \"NDC\"\n",
    "test_term_2.nanoid = mdbn.get_or_make_nano(test_term_2)\n",
    "\n",
    "mdbn.link_synonyms(test_term_1, test_term_2, add_missing_ent=True)"
   ]
  },
  {
   "cell_type": "code",
   "execution_count": null,
   "metadata": {},
   "outputs": [
    {
     "name": "stdout",
     "output_type": "stream",
     "text": [
      "Creating new term node with properties: {value: 'Undifferentiated Carcinoma', origin_name: 'NDC'}\n",
      "Creating new concept node with properties: {nanoid: 'SZs2Th'}\n",
      "Creating represents relationship between term with properties: {value: 'Carcinoma, anaplastic, NOS', origin_name: 'BentoTailorX'} and Concept with {nanoid: 'SZs2Th'}\n",
      "Creating represents relationship between term with properties: {value: 'Undifferentiated Carcinoma', origin_name: 'NDC'} and Concept with {nanoid: 'SZs2Th'}\n"
     ]
    }
   ],
   "source": [
    "# one term exists & doesn't have concept yet\n",
    "test_term_1 = Term()\n",
    "test_term_1.value = \"Carcinoma, anaplastic, NOS\"\n",
    "test_term_1.origin_name = \"BentoTailorX\"\n",
    "test_term_1.nanoid = mdbn.get_or_make_nano(test_term_1)\n",
    "\n",
    "test_term_2 = Term()\n",
    "test_term_2.value = \"Undifferentiated Carcinoma\"\n",
    "test_term_2.origin_name = \"NDC\"\n",
    "test_term_2.nanoid = mdbn.get_or_make_nano(test_term_2)\n",
    "\n",
    "mdbn.link_synonyms(test_term_1, test_term_2, add_missing_ent=True)"
   ]
  },
  {
   "cell_type": "code",
   "execution_count": null,
   "metadata": {},
   "outputs": [
    {
     "name": "stdout",
     "output_type": "stream",
     "text": [
      "Creating new term node with properties: {value: 'Epithelioma, malignant', nanoid: 'xSAWgU', origin_name: 'NDC'}\n",
      "Creating new term node with properties: {value: 'Carcinoma', nanoid: '7WZ7gd', origin_name: 'NDC'}\n",
      "Creating new concept node with properties: {nanoid: '0QKDxb'}\n",
      "Creating represents relationship from src term with properties: {value: 'Epithelioma, malignant', nanoid: 'xSAWgU', origin_name: 'NDC'} to dst term with properties: {nanoid: '0QKDxb'}\n",
      "Creating represents relationship from src term with properties: {value: 'Carcinoma', nanoid: '7WZ7gd', origin_name: 'NDC'} to dst term with properties: {nanoid: '0QKDxb'}\n"
     ]
    }
   ],
   "source": [
    "# neither term exists\n",
    "test_term_1 = Term()\n",
    "test_term_1.value = \"Epithelioma, malignant\"\n",
    "test_term_1.origin_name = \"NDC\"\n",
    "test_term_1.nanoid = mdbn.get_or_make_nano(test_term_1)\n",
    "\n",
    "test_term_2 = Term()\n",
    "test_term_2.value = \"Carcinoma\"\n",
    "test_term_2.origin_name = \"NDC\"\n",
    "test_term_2.nanoid = mdbn.get_or_make_nano(test_term_2)\n",
    "\n",
    "mdbn.link_synonyms(test_term_1, test_term_2, add_missing_ent=True)"
   ]
  },
  {
   "cell_type": "markdown",
   "metadata": {},
   "source": [
    "Let's also link some properties - this represents inter-model mappings.\n",
    "\n",
    "- the CDA property with the handle \"identifier\" of the node with the handle \"File\"\n",
    "- the GDC property with the handle \"file_id\" of the node with the handle \"file\"\n",
    "- the PDC property with the handle \"diagnosis_id\" of the node with the handle \"diagnosis\""
   ]
  },
  {
   "cell_type": "code",
   "execution_count": 170,
   "metadata": {},
   "outputs": [
    {
     "name": "stdout",
     "output_type": "stream",
     "text": [
      "Ensuring has_concept relationship exists between src property with properties: {handle: 'identifier', model: 'CDA', nanoid: 'MjBkRF'} to dst concept with properties: {nanoid: '0j7zCi'}\n",
      "Ensuring has_concept relationship exists between src property with properties: {handle: 'diagnosis_id', model: 'PDC', nanoid: 'Yu5TGE'} to dst concept with properties: {nanoid: '0j7zCi'}\n"
     ]
    }
   ],
   "source": [
    "test_prop_1 = Property()\n",
    "test_prop_1.handle = \"identifier\"\n",
    "test_prop_1.model = \"CDA\"\n",
    "test_prop_1.nanoid = mdbn.get_or_make_nano(test_prop_1, \"File\")\n",
    "\n",
    "test_prop_2 = Property()\n",
    "test_prop_2.handle = \"diagnosis_id\"\n",
    "test_prop_2.model = \"PDC\"\n",
    "test_prop_2.nanoid = mdbn.get_or_make_nano(test_prop_2, \"diagnosis\")\n",
    "\n",
    "mdbn.link_synonyms(test_prop_1, test_prop_2, add_missing_ent=True)"
   ]
  },
  {
   "cell_type": "markdown",
   "metadata": {},
   "source": [
    "## Linking Concepts\n"
   ]
  },
  {
   "cell_type": "markdown",
   "metadata": {},
   "source": [
    "When two existing Concept nodes are deemed synonymous, there are two primary ways to approach linking them together. The first way to link the synonymous Concepts would be via a Predicate node with the an \"exactMatch\" handle. This method maintains the exisiting Concept & Term structure while adding to it, allowing queries already in use to continue to work. \n",
    "\n",
    "The second way is simply merging the two so they are represented by the same Concept node. With this approach, the Terms linked to each Concept would then be linked to the new merged Concept instead. They could be merged under one of the exisiting Concepts or a new Concept could be created and the old two removed. This method would invalidate existing queries using relevant Concepts & Terms."
   ]
  },
  {
   "cell_type": "markdown",
   "metadata": {},
   "source": [
    "### link_concepts_to_predicate"
   ]
  },
  {
   "cell_type": "markdown",
   "metadata": {},
   "source": [
    "This function takes two Concept entities and ensures they are linked via the given predicate handle."
   ]
  },
  {
   "cell_type": "code",
   "execution_count": 7,
   "metadata": {},
   "outputs": [
    {
     "name": "stdout",
     "output_type": "stream",
     "text": [
      "Creating new predicate node with properties: {handle: 'broader', nanoid: 'XffiEi'}\n",
      "Ensuring has_subject relationship exists between src predicate with properties: {handle: 'broader', nanoid: 'XffiEi'} to dst concept with properties: {nanoid: 'Egtdgp'}\n",
      "Ensuring has_object relationship exists between src predicate with properties: {handle: 'broader', nanoid: 'XffiEi'} to dst concept with properties: {nanoid: 'mGYuf2'}\n",
      "Creating new predicate node with properties: {handle: 'narrower', nanoid: 'QSKHFH'}\n",
      "Ensuring has_subject relationship exists between src predicate with properties: {handle: 'narrower', nanoid: 'QSKHFH'} to dst concept with properties: {nanoid: 'mGYuf2'}\n",
      "Ensuring has_object relationship exists between src predicate with properties: {handle: 'narrower', nanoid: 'QSKHFH'} to dst concept with properties: {nanoid: 'Egtdgp'}\n"
     ]
    }
   ],
   "source": [
    "c_concept = Concept({\"nanoid\": \"Egtdgp\"})\n",
    "lc_concept = Concept({\"nanoid\": \"mGYuf2\"})\n",
    "\n",
    "mdbn.link_concepts_to_predicate(c_concept, lc_concept, \"broader\")\n",
    "mdbn.link_concepts_to_predicate(lc_concept, c_concept, \"narrower\")"
   ]
  },
  {
   "cell_type": "code",
   "execution_count": 174,
   "metadata": {},
   "outputs": [
    {
     "name": "stdout",
     "output_type": "stream",
     "text": [
      "Creating new predicate node with properties: {handle: 'exactMatch', nanoid: 'hPigoR'}\n",
      "Ensuring has_subject relationship exists between src predicate with properties: {handle: 'exactMatch', nanoid: 'hPigoR'} to dst concept with properties: {nanoid: '4jtzA3'}\n",
      "Ensuring has_object relationship exists between src predicate with properties: {handle: 'exactMatch', nanoid: 'hPigoR'} to dst concept with properties: {nanoid: 'n3udfp'}\n"
     ]
    }
   ],
   "source": [
    "# these Concepts both represent Terms with value: 'Lung' in the MDB.\n",
    "test_concept_1 = Concept({\"nanoid\": \"4jtzA3\"})\n",
    "test_concept_2 = Concept({\"nanoid\": \"n3udfp\"})\n",
    "\n",
    "mdbn.link_concepts_to_predicate(\n",
    "    test_concept_1,\n",
    "    test_concept_2,\n",
    "    predicate_handle=\"exactMatch\")"
   ]
  },
  {
   "cell_type": "markdown",
   "metadata": {},
   "source": [
    "### merge_two_concepts"
   ]
  },
  {
   "cell_type": "code",
   "execution_count": 179,
   "metadata": {},
   "outputs": [
    {
     "name": "stdout",
     "output_type": "stream",
     "text": [
      "Removing concept node with with properties: {nanoid: 'vHb6hz'}\n",
      "Ensuring represents relationship exists between src term with properties: {nanoid: 'e5zCQJ'} to dst concept with properties: {nanoid: 'oXDdoU'}\n",
      "Ensuring has_subject relationship exists between src predicate with properties: {nanoid: 'GFpCnh'} to dst concept with properties: {nanoid: 'oXDdoU'}\n"
     ]
    }
   ],
   "source": [
    "# merge Concepts into one\n",
    "test_concept_1 = Concept({\"nanoid\": \"oXDdoU\"})\n",
    "test_concept_2 = Concept({\"nanoid\": \"vHb6hz\"})\n",
    "\n",
    "mdbn.merge_two_concepts(test_concept_1, test_concept_2)"
   ]
  },
  {
   "cell_type": "markdown",
   "metadata": {},
   "source": [
    "## Finding potentially synonymous Terms "
   ]
  },
  {
   "cell_type": "markdown",
   "metadata": {},
   "source": [
    "### get_term_synonyms"
   ]
  },
  {
   "cell_type": "markdown",
   "metadata": {},
   "source": [
    "This function returns a list of dictionaries representing Term nodes synonymous to given Term."
   ]
  },
  {
   "cell_type": "code",
   "execution_count": 183,
   "metadata": {},
   "outputs": [
    {
     "name": "stderr",
     "output_type": "stream",
     "text": [
      "c:\\ProgramData\\Anaconda3\\envs\\HIDS_Capstone\\lib\\site-packages\\mdb_tools\\mdb_tools.py:498: UserWarning: [W008] Evaluating Doc.similarity based on empty vectors.\n",
      "  similarity_score = term_1.similarity(term_2)\n"
     ]
    },
    {
     "name": "stdout",
     "output_type": "stream",
     "text": [
      "[{'value': 'Melanoma', 'origin_name': 'GDC', 'nanoid': '1FQA8k', 'similarity': 1.0, 'valid_synonym': 0}, {'value': 'Melanoma', 'origin_name': 'BentoTailorX', 'nanoid': '04jXAr', 'similarity': 1.0, 'valid_synonym': 0}, {'value': 'Melanoma', 'origin_name': 'ICDC', 'nanoid': 'FJhZkb', 'similarity': 1.0, 'valid_synonym': 0}, {'value': 'Melanoma', 'origin_name': 'NCIt', 'nanoid': '7VjG2K', 'similarity': 1.0, 'valid_synonym': 0}, {'value': 'Glioma', 'origin_name': 'NCIt', 'nanoid': 'S1BAsU', 'similarity': 0.9999999420005758, 'valid_synonym': 0}, {'value': 'Mesothelioma', 'origin_name': 'GDC', 'nanoid': '9UYCxx', 'similarity': 0.9999999420005758, 'valid_synonym': 0}, {'value': 'Mesothelioma', 'origin_name': 'BentoTailorX', 'nanoid': 'TNmFoz', 'similarity': 0.9999999420005758, 'valid_synonym': 0}, {'value': 'Glioma', 'origin_name': 'ICDC', 'nanoid': '3mnea2', 'similarity': 0.9999999420005758, 'valid_synonym': 0}, {'value': 'Mesothelioma', 'origin_name': 'NCIt', 'nanoid': 'pEFc19', 'similarity': 0.9999999420005758, 'valid_synonym': 0}, {'value': 'Low-CSD Melanoma', 'origin_name': 'NCIt', 'nanoid': 'NDqFct', 'similarity': 0.9999999420005758, 'valid_synonym': 0}, {'value': 'Malignant Glioma', 'origin_name': 'NCIt', 'nanoid': '7V0onU', 'similarity': 0.850616622974472, 'valid_synonym': 0}, {'value': 'Malignant Mesothelioma', 'origin_name': 'NCIt', 'nanoid': '8a4PZw', 'similarity': 0.850616622974472, 'valid_synonym': 0}, {'value': 'Mixed Glioma', 'origin_name': 'NCIt', 'nanoid': 'f46wJs', 'similarity': 0.8234367253355912, 'valid_synonym': 0}, {'value': 'Glioma, malignant', 'origin_name': 'BentoTailorX', 'nanoid': '1DrKuR', 'similarity': 0.8062874908254641, 'valid_synonym': 0}, {'value': 'Glioma, malignant', 'origin_name': 'GDC', 'nanoid': 'yAAuHS', 'similarity': 0.8062874908254641, 'valid_synonym': 0}, {'value': 'Mesothelioma, malignant', 'origin_name': 'GDC', 'nanoid': 'qAwv7Y', 'similarity': 0.8062874908254641, 'valid_synonym': 0}, {'value': 'Amelanotic Melanoma', 'origin_name': 'NCIt', 'nanoid': 'hbrr1z', 'similarity': 0.8058917478183785, 'valid_synonym': 0}, {'value': 'Uveal Melanoma', 'origin_name': 'BentoTailorX', 'nanoid': 'd24W9y', 'similarity': 0.8058917478183785, 'valid_synonym': 0}, {'value': 'Regressing Melanoma', 'origin_name': 'NCIt', 'nanoid': 'vb7jTD', 'similarity': 0.8026452223867003, 'valid_synonym': 0}]\n"
     ]
    }
   ],
   "source": [
    "test_term = Term({\n",
    "    \"value\": \"Melanoma\",\n",
    "    \"origin_name\": \"GDC\"\n",
    "})\n",
    "\n",
    "terms_to_csv = mdbn.get_term_synonyms(test_term)\n",
    "print(terms_to_csv)"
   ]
  },
  {
   "cell_type": "markdown",
   "metadata": {},
   "source": [
    "### potential_synonyms_to_csv"
   ]
  },
  {
   "cell_type": "markdown",
   "metadata": {},
   "source": [
    "This function takes the output of get_term_synonyms() and writes them as a CSV to the specified filepath.\n",
    "\n",
    "Terms are sorted in descending order based on their similarity score. The valid_synonym field (initially 0) can be set to 1 if a term is a valid synonym of the first Term. This indiates for the next function whether the terms should be linked via a concept."
   ]
  },
  {
   "cell_type": "code",
   "execution_count": 184,
   "metadata": {},
   "outputs": [],
   "source": [
    "file_name = \"potential_synonyms_melanoma.csv\"\n",
    "file_path = \"C:/Users/nelso/OneDrive - Georgetown University/School Stuff/Capstone/Test/\" + file_name\n",
    "\n",
    "mdbn.potential_synonyms_to_csv(terms_to_csv, file_path)"
   ]
  },
  {
   "cell_type": "markdown",
   "metadata": {},
   "source": [
    "### link_term_synonyms_csv"
   ]
  },
  {
   "cell_type": "markdown",
   "metadata": {},
   "source": [
    "This function takes the CSV from potential_synonyms_to_csv() and links terms marked as a valid_synonym of the given term via a concept."
   ]
  },
  {
   "cell_type": "code",
   "execution_count": 185,
   "metadata": {},
   "outputs": [],
   "source": [
    "test_term = Term({\n",
    "    \"value\": \"Melanoma\",\n",
    "    \"origin_name\": \"GDC\"\n",
    "})\n",
    "\n",
    "csv_path = \"C:/Users/nelso/OneDrive - Georgetown University/School Stuff/Capstone/Test/potential_synonyms_melanoma.csv\"\n",
    "\n",
    "mdbn.link_term_synonyms_csv(test_term, csv_path)"
   ]
  },
  {
   "cell_type": "markdown",
   "metadata": {},
   "source": [
    "# Scripts to add/update CDA mappings in the MDB"
   ]
  },
  {
   "cell_type": "markdown",
   "metadata": {},
   "source": [
    "These scripts were developed to reformat the [CDA mappings](https://cda.readthedocs.io/en/latest/Schema/overview_mapping/) and add them to the MDB as concepts between Property Neo4J nodes, adding nodes as needed for entities not already in the MDB.\n",
    "\n",
    "These examples show how the command line scripts can be used to update the MDB with these mappings. I've demonstrated them in the notebook here, but they are built for use in the terminal and will be much easier to read and use there. "
   ]
  },
  {
   "cell_type": "markdown",
   "metadata": {},
   "source": [
    "### Initial CDA Mappings in Excel"
   ]
  },
  {
   "cell_type": "markdown",
   "metadata": {},
   "source": [
    "Let's see what a sheet in the inital CDA mappings looks like. There are six total sheets:\n",
    "- subject mapping\n",
    "- researchsubject mapping\n",
    "- diagnosis mapping\n",
    "- treatment mapping\n",
    "- specimen mapping\n",
    "- file mapping"
   ]
  },
  {
   "cell_type": "code",
   "execution_count": 10,
   "metadata": {},
   "outputs": [
    {
     "data": {
      "text/html": [
       "<div>\n",
       "<style scoped>\n",
       "    .dataframe tbody tr th:only-of-type {\n",
       "        vertical-align: middle;\n",
       "    }\n",
       "\n",
       "    .dataframe tbody tr th {\n",
       "        vertical-align: top;\n",
       "    }\n",
       "\n",
       "    .dataframe thead th {\n",
       "        text-align: right;\n",
       "    }\n",
       "</style>\n",
       "<table border=\"1\" class=\"dataframe\">\n",
       "  <thead>\n",
       "    <tr style=\"text-align: right;\">\n",
       "      <th></th>\n",
       "      <th>field</th>\n",
       "      <th>GDC</th>\n",
       "      <th>PDC</th>\n",
       "      <th>IDC</th>\n",
       "    </tr>\n",
       "  </thead>\n",
       "  <tbody>\n",
       "    <tr>\n",
       "      <th>0</th>\n",
       "      <td>id</td>\n",
       "      <td>files.cases.submitter_id</td>\n",
       "      <td>files.cases.case_submitter_id</td>\n",
       "      <td>files.PatientID</td>\n",
       "    </tr>\n",
       "    <tr>\n",
       "      <th>1</th>\n",
       "      <td>identifier.system</td>\n",
       "      <td>GDC</td>\n",
       "      <td>PDC</td>\n",
       "      <td>IDC</td>\n",
       "    </tr>\n",
       "    <tr>\n",
       "      <th>2</th>\n",
       "      <td>identifier.value</td>\n",
       "      <td>files.cases.submitter_id</td>\n",
       "      <td>files.cases.case_submitter_id</td>\n",
       "      <td>files.PatientID</td>\n",
       "    </tr>\n",
       "    <tr>\n",
       "      <th>3</th>\n",
       "      <td>species</td>\n",
       "      <td>Homo sapiens</td>\n",
       "      <td>files.cases.taxon</td>\n",
       "      <td>files.tcia_species</td>\n",
       "    </tr>\n",
       "    <tr>\n",
       "      <th>4</th>\n",
       "      <td>sex</td>\n",
       "      <td>files.cases.demographic.gender</td>\n",
       "      <td>files.cases.demographics.gender</td>\n",
       "      <td>NOT CURRENTLY MAPPED</td>\n",
       "    </tr>\n",
       "    <tr>\n",
       "      <th>5</th>\n",
       "      <td>race</td>\n",
       "      <td>files.cases.demographic.race</td>\n",
       "      <td>files.cases.demographics.race</td>\n",
       "      <td>NOT CURRENTLY MAPPED</td>\n",
       "    </tr>\n",
       "    <tr>\n",
       "      <th>6</th>\n",
       "      <td>ethnicity</td>\n",
       "      <td>files.cases.demographic.ethnicity</td>\n",
       "      <td>files.cases.demographics.ethnicity</td>\n",
       "      <td>NOT CURRENTLY MAPPED</td>\n",
       "    </tr>\n",
       "    <tr>\n",
       "      <th>7</th>\n",
       "      <td>days_to_birth</td>\n",
       "      <td>files.cases.demographic.days_to_birth</td>\n",
       "      <td>files.cases.demographics.days_to_birth</td>\n",
       "      <td>NOT CURRENTLY MAPPED</td>\n",
       "    </tr>\n",
       "    <tr>\n",
       "      <th>8</th>\n",
       "      <td>subject_associated_project</td>\n",
       "      <td>files.cases.project.project_id</td>\n",
       "      <td>files.cases.project_submitter_id</td>\n",
       "      <td>files.collection_id</td>\n",
       "    </tr>\n",
       "    <tr>\n",
       "      <th>9</th>\n",
       "      <td>vital_status</td>\n",
       "      <td>files.cases.demographic.vital_status</td>\n",
       "      <td>cases.demographics.vital_status</td>\n",
       "      <td>NOT CURRENTLY MAPPED</td>\n",
       "    </tr>\n",
       "    <tr>\n",
       "      <th>10</th>\n",
       "      <td>days_to_death</td>\n",
       "      <td>files.cases.demographic.days_to_death</td>\n",
       "      <td>files.cases.demographics.days_to_death</td>\n",
       "      <td>NOT CURRENTLY MAPPED</td>\n",
       "    </tr>\n",
       "    <tr>\n",
       "      <th>11</th>\n",
       "      <td>cause_of_death</td>\n",
       "      <td>files.cases.demographic.cause_of_death</td>\n",
       "      <td>files.cases.demographics.cause_of_death</td>\n",
       "      <td>NOT CURRENTLY MAPPED</td>\n",
       "    </tr>\n",
       "  </tbody>\n",
       "</table>\n",
       "</div>"
      ],
      "text/plain": [
       "                         field                                     GDC  \\\n",
       "0                           id                files.cases.submitter_id   \n",
       "1            identifier.system                                     GDC   \n",
       "2             identifier.value                files.cases.submitter_id   \n",
       "3                      species                            Homo sapiens   \n",
       "4                          sex          files.cases.demographic.gender   \n",
       "5                         race            files.cases.demographic.race   \n",
       "6                    ethnicity       files.cases.demographic.ethnicity   \n",
       "7                days_to_birth   files.cases.demographic.days_to_birth   \n",
       "8   subject_associated_project          files.cases.project.project_id   \n",
       "9                 vital_status    files.cases.demographic.vital_status   \n",
       "10               days_to_death   files.cases.demographic.days_to_death   \n",
       "11              cause_of_death  files.cases.demographic.cause_of_death   \n",
       "\n",
       "                                        PDC                   IDC  \n",
       "0             files.cases.case_submitter_id       files.PatientID  \n",
       "1                                       PDC                   IDC  \n",
       "2             files.cases.case_submitter_id       files.PatientID  \n",
       "3                         files.cases.taxon    files.tcia_species  \n",
       "4           files.cases.demographics.gender  NOT CURRENTLY MAPPED  \n",
       "5             files.cases.demographics.race  NOT CURRENTLY MAPPED  \n",
       "6        files.cases.demographics.ethnicity  NOT CURRENTLY MAPPED  \n",
       "7    files.cases.demographics.days_to_birth  NOT CURRENTLY MAPPED  \n",
       "8          files.cases.project_submitter_id   files.collection_id  \n",
       "9           cases.demographics.vital_status  NOT CURRENTLY MAPPED  \n",
       "10   files.cases.demographics.days_to_death  NOT CURRENTLY MAPPED  \n",
       "11  files.cases.demographics.cause_of_death  NOT CURRENTLY MAPPED  "
      ]
     },
     "execution_count": 10,
     "metadata": {},
     "output_type": "execute_result"
    }
   ],
   "source": [
    "# this file connects to tables in CDA mapping documentation spreadsheet\n",
    "# each sheet within the file contains the mappings for a CDA endpoint\n",
    "# sheet names: subject mapping, researchsubject mapping, diagnosis mapping,\n",
    "    # treatment mapping, specimen mapping, file mapping\n",
    "RAW_CDA_MAP_EXCEL = \"C:/Users/nelso/Documents/GitHub/HIDS-Capstone/data/CDA_mappings_20220721.xlsx\"\n",
    "pd.read_excel(RAW_CDA_MAP_EXCEL, sheet_name=\"subject mapping\")"
   ]
  },
  {
   "cell_type": "markdown",
   "metadata": {},
   "source": [
    "### Cleaning CDA Mappings to CSV"
   ]
  },
  {
   "cell_type": "markdown",
   "metadata": {},
   "source": [
    "Let's apply the command line script to clean these into a format where each line contains the information to uniquely identify two entities that can be considered synonymous concepts (representing these cross-model mappings)\n",
    "\n",
    "Typing just \"clean-cda\" can be used in the terminal, but within the notebook we need to specify the file with the script."
   ]
  },
  {
   "cell_type": "code",
   "execution_count": 16,
   "metadata": {},
   "outputs": [
    {
     "name": "stdout",
     "output_type": "stream",
     "text": [
      "Cleaned CDA file now at C:\\Users\\nelso\\Documents\\GitHub\\HIDS-Capstone\\data\\CDA_mappings_20220721_clean.csv\n",
      "Other CDA file now at C:\\Users\\nelso\\Documents\\GitHub\\HIDS-Capstone\\data\\CDA_mappings_20220721_other.csv\n"
     ]
    }
   ],
   "source": [
    "# run function to clean CDA mapping Excel file\n",
    "!python (\"C:\\Users\\nelso\\Documents\\GitHub\\HIDS-Capstone\\src\\mdb_tools\\scripts\\clean_cda_map_excel.py\"--input_filepath=\"C:\\Users\\nelso\\Documents\\GitHub\\HIDS-Capstone\\data\\CDA_mappings_20220721.xlsx\""
   ]
  },
  {
   "cell_type": "code",
   "execution_count": 17,
   "metadata": {},
   "outputs": [
    {
     "data": {
      "text/html": [
       "<div>\n",
       "<style scoped>\n",
       "    .dataframe tbody tr th:only-of-type {\n",
       "        vertical-align: middle;\n",
       "    }\n",
       "\n",
       "    .dataframe tbody tr th {\n",
       "        vertical-align: top;\n",
       "    }\n",
       "\n",
       "    .dataframe thead th {\n",
       "        text-align: right;\n",
       "    }\n",
       "</style>\n",
       "<table border=\"1\" class=\"dataframe\">\n",
       "  <thead>\n",
       "    <tr style=\"text-align: right;\">\n",
       "      <th></th>\n",
       "      <th>ent_1_model</th>\n",
       "      <th>ent_1_handle</th>\n",
       "      <th>ent_1_extra_handles</th>\n",
       "      <th>ent_2_model</th>\n",
       "      <th>ent_2_handle</th>\n",
       "      <th>ent_2_extra_handles</th>\n",
       "    </tr>\n",
       "  </thead>\n",
       "  <tbody>\n",
       "    <tr>\n",
       "      <th>0</th>\n",
       "      <td>CDA</td>\n",
       "      <td>id</td>\n",
       "      <td>['Subject']</td>\n",
       "      <td>GDC</td>\n",
       "      <td>submitter_id</td>\n",
       "      <td>['case']</td>\n",
       "    </tr>\n",
       "    <tr>\n",
       "      <th>1</th>\n",
       "      <td>CDA</td>\n",
       "      <td>identifier</td>\n",
       "      <td>['Subject']</td>\n",
       "      <td>GDC</td>\n",
       "      <td>submitter_id</td>\n",
       "      <td>['case']</td>\n",
       "    </tr>\n",
       "    <tr>\n",
       "      <th>2</th>\n",
       "      <td>CDA</td>\n",
       "      <td>sex</td>\n",
       "      <td>['Subject']</td>\n",
       "      <td>GDC</td>\n",
       "      <td>gender</td>\n",
       "      <td>['demographic']</td>\n",
       "    </tr>\n",
       "    <tr>\n",
       "      <th>3</th>\n",
       "      <td>CDA</td>\n",
       "      <td>race</td>\n",
       "      <td>['Subject']</td>\n",
       "      <td>GDC</td>\n",
       "      <td>race</td>\n",
       "      <td>['demographic']</td>\n",
       "    </tr>\n",
       "    <tr>\n",
       "      <th>4</th>\n",
       "      <td>CDA</td>\n",
       "      <td>ethnicity</td>\n",
       "      <td>['Subject']</td>\n",
       "      <td>GDC</td>\n",
       "      <td>ethnicity</td>\n",
       "      <td>['demographic']</td>\n",
       "    </tr>\n",
       "    <tr>\n",
       "      <th>...</th>\n",
       "      <td>...</td>\n",
       "      <td>...</td>\n",
       "      <td>...</td>\n",
       "      <td>...</td>\n",
       "      <td>...</td>\n",
       "      <td>...</td>\n",
       "    </tr>\n",
       "    <tr>\n",
       "      <th>113</th>\n",
       "      <td>CDA</td>\n",
       "      <td>label</td>\n",
       "      <td>['File']</td>\n",
       "      <td>IDC</td>\n",
       "      <td>gcs_url</td>\n",
       "      <td>['file']</td>\n",
       "    </tr>\n",
       "    <tr>\n",
       "      <th>114</th>\n",
       "      <td>CDA</td>\n",
       "      <td>associated_project</td>\n",
       "      <td>['File']</td>\n",
       "      <td>IDC</td>\n",
       "      <td>collection_id</td>\n",
       "      <td>['file']</td>\n",
       "    </tr>\n",
       "    <tr>\n",
       "      <th>115</th>\n",
       "      <td>CDA</td>\n",
       "      <td>drs_uri</td>\n",
       "      <td>['File']</td>\n",
       "      <td>IDC</td>\n",
       "      <td>crdc_instance_uuid</td>\n",
       "      <td>['file']</td>\n",
       "    </tr>\n",
       "    <tr>\n",
       "      <th>116</th>\n",
       "      <td>CDA</td>\n",
       "      <td>imaging_modality</td>\n",
       "      <td>['File']</td>\n",
       "      <td>IDC</td>\n",
       "      <td>Modality</td>\n",
       "      <td>['file']</td>\n",
       "    </tr>\n",
       "    <tr>\n",
       "      <th>117</th>\n",
       "      <td>CDA</td>\n",
       "      <td>imaging_series</td>\n",
       "      <td>['File']</td>\n",
       "      <td>IDC</td>\n",
       "      <td>crdc_series_uuid</td>\n",
       "      <td>['file']</td>\n",
       "    </tr>\n",
       "  </tbody>\n",
       "</table>\n",
       "<p>118 rows × 6 columns</p>\n",
       "</div>"
      ],
      "text/plain": [
       "    ent_1_model        ent_1_handle ent_1_extra_handles ent_2_model  \\\n",
       "0           CDA                  id         ['Subject']         GDC   \n",
       "1           CDA          identifier         ['Subject']         GDC   \n",
       "2           CDA                 sex         ['Subject']         GDC   \n",
       "3           CDA                race         ['Subject']         GDC   \n",
       "4           CDA           ethnicity         ['Subject']         GDC   \n",
       "..          ...                 ...                 ...         ...   \n",
       "113         CDA               label            ['File']         IDC   \n",
       "114         CDA  associated_project            ['File']         IDC   \n",
       "115         CDA             drs_uri            ['File']         IDC   \n",
       "116         CDA    imaging_modality            ['File']         IDC   \n",
       "117         CDA      imaging_series            ['File']         IDC   \n",
       "\n",
       "           ent_2_handle ent_2_extra_handles  \n",
       "0          submitter_id            ['case']  \n",
       "1          submitter_id            ['case']  \n",
       "2                gender     ['demographic']  \n",
       "3                  race     ['demographic']  \n",
       "4             ethnicity     ['demographic']  \n",
       "..                  ...                 ...  \n",
       "113             gcs_url            ['file']  \n",
       "114       collection_id            ['file']  \n",
       "115  crdc_instance_uuid            ['file']  \n",
       "116            Modality            ['file']  \n",
       "117    crdc_series_uuid            ['file']  \n",
       "\n",
       "[118 rows x 6 columns]"
      ]
     },
     "execution_count": 17,
     "metadata": {},
     "output_type": "execute_result"
    }
   ],
   "source": [
    "# check out df of cleaned CDA mappings (two synonymous entities per line)\n",
    "CLEAN_CDA_MAP_CSV = \"C:/Users/nelso/Documents/GitHub/HIDS-Capstone/data/CDA_mappings_20220721_clean.csv\"\n",
    "pd.read_csv(CLEAN_CDA_MAP_CSV)"
   ]
  },
  {
   "cell_type": "markdown",
   "metadata": {},
   "source": [
    "### Linking Mappings as Synonymous Property Entities"
   ]
  },
  {
   "cell_type": "markdown",
   "metadata": {},
   "source": [
    "Now we can use the clean CSV to link each of these entities via a concept to their synonym(s).\n",
    "\n",
    "Again, the terminal command \"link-ents\" alone can be used for this, but here in this notebook we have to provide full file paths to the script and all of the parameters at once."
   ]
  },
  {
   "cell_type": "code",
   "execution_count": 19,
   "metadata": {},
   "outputs": [
    {
     "name": "stdout",
     "output_type": "stream",
     "text": [
      "Property entity with properties: {handle: 'id', model: 'CDA', nanoid: 'RqrWbb'} already exists in the database.\n",
      "Property entity with properties: {handle: 'submitter_id', model: 'GDC', nanoid: '2uPJme'} already exists in the database.\n",
      "Node entity with properties: {handle: 'Subject', model: 'CDA', nanoid: '3FYakr'} already exists in the database.\n",
      "Node entity with properties: {handle: 'case', model: 'GDC', nanoid: 'ehMeUy'} already exists in the database.\n",
      "Ensuring has_property relationship exists between src node with properties: {handle: 'Subject', model: 'CDA', nanoid: '3FYakr'} to dst property with properties: {handle: 'id', model: 'CDA', nanoid: 'RqrWbb'}\n",
      "Ensuring has_property relationship exists between src node with properties: {handle: 'case', model: 'GDC', nanoid: 'ehMeUy'} to dst property with properties: {handle: 'submitter_id', model: 'GDC', nanoid: '2uPJme'}\n",
      "Both entities are already connected via Concept RmXiVN\n",
      "Property entity with properties: {handle: 'identifier', model: 'CDA', nanoid: '7FgM8t'} already exists in the database.\n",
      "Property entity with properties: {handle: 'submitter_id', model: 'GDC', nanoid: '2uPJme'} already exists in the database.\n",
      "Node entity with properties: {handle: 'Subject', model: 'CDA', nanoid: '3FYakr'} already exists in the database.\n",
      "Node entity with properties: {handle: 'case', model: 'GDC', nanoid: 'ehMeUy'} already exists in the database.\n",
      "Ensuring has_property relationship exists between src node with properties: {handle: 'Subject', model: 'CDA', nanoid: '3FYakr'} to dst property with properties: {handle: 'identifier', model: 'CDA', nanoid: '7FgM8t'}\n",
      "Ensuring has_property relationship exists between src node with properties: {handle: 'case', model: 'GDC', nanoid: 'ehMeUy'} to dst property with properties: {handle: 'submitter_id', model: 'GDC', nanoid: '2uPJme'}\n",
      "Both entities are already connected via Concept RmXiVN\n",
      "Property entity with properties: {handle: 'sex', model: 'CDA', nanoid: 'cXipn7'} already exists in the database.\n",
      "Property entity with properties: {handle: 'gender', model: 'GDC', nanoid: 'g91fKD'} already exists in the database.\n",
      "Node entity with properties: {handle: 'Subject', model: 'CDA', nanoid: '3FYakr'} already exists in the database.\n",
      "Node entity with properties: {handle: 'demographic', model: 'GDC', nanoid: 'tVc6xK'} already exists in the database.\n",
      "Ensuring has_property relationship exists between src node with properties: {handle: 'Subject', model: 'CDA', nanoid: '3FYakr'} to dst property with properties: {handle: 'sex', model: 'CDA', nanoid: 'cXipn7'}\n",
      "Ensuring has_property relationship exists between src node with properties: {handle: 'demographic', model: 'GDC', nanoid: 'tVc6xK'} to dst property with properties: {handle: 'gender', model: 'GDC', nanoid: 'g91fKD'}\n",
      "Both entities are already connected via Concept C3jrdu\n",
      "Property entity with properties: {handle: 'race', model: 'CDA', nanoid: 'JP7jSP'} already exists in the database.\n",
      "Property entity with properties: {handle: 'race', model: 'GDC', nanoid: 'pGuE9s'} already exists in the database.\n",
      "Node entity with properties: {handle: 'Subject', model: 'CDA', nanoid: '3FYakr'} already exists in the database.\n",
      "Node entity with properties: {handle: 'demographic', model: 'GDC', nanoid: 'tVc6xK'} already exists in the database.\n",
      "Ensuring has_property relationship exists between src node with properties: {handle: 'Subject', model: 'CDA', nanoid: '3FYakr'} to dst property with properties: {handle: 'race', model: 'CDA', nanoid: 'JP7jSP'}\n",
      "Ensuring has_property relationship exists between src node with properties: {handle: 'demographic', model: 'GDC', nanoid: 'tVc6xK'} to dst property with properties: {handle: 'race', model: 'GDC', nanoid: 'pGuE9s'}\n",
      "Both entities are already connected via Concept HaEx01\n",
      "Property entity with properties: {handle: 'ethnicity', model: 'CDA', nanoid: 'YYevkF'} already exists in the database.\n",
      "Property entity with properties: {handle: 'ethnicity', model: 'GDC', nanoid: 'QNfJqb'} already exists in the database.\n",
      "Node entity with properties: {handle: 'Subject', model: 'CDA', nanoid: '3FYakr'} already exists in the database.\n",
      "Node entity with properties: {handle: 'demographic', model: 'GDC', nanoid: 'tVc6xK'} already exists in the database.\n",
      "Ensuring has_property relationship exists between src node with properties: {handle: 'Subject', model: 'CDA', nanoid: '3FYakr'} to dst property with properties: {handle: 'ethnicity', model: 'CDA', nanoid: 'YYevkF'}\n",
      "Ensuring has_property relationship exists between src node with properties: {handle: 'demographic', model: 'GDC', nanoid: 'tVc6xK'} to dst property with properties: {handle: 'ethnicity', model: 'GDC', nanoid: 'QNfJqb'}\n",
      "Both entities are already connected via Concept KcoiBC\n",
      "Property entity with properties: {handle: 'days_to_birth', model: 'CDA', nanoid: 'gHEcfQ'} already exists in the database.\n",
      "Property entity with properties: {handle: 'days_to_birth', model: 'GDC', nanoid: 'NVVTWV'} already exists in the database.\n",
      "Node entity with properties: {handle: 'Subject', model: 'CDA', nanoid: '3FYakr'} already exists in the database.\n",
      "Node entity with properties: {handle: 'demographic', model: 'GDC', nanoid: 'tVc6xK'} already exists in the database.\n",
      "Ensuring has_property relationship exists between src node with properties: {handle: 'Subject', model: 'CDA', nanoid: '3FYakr'} to dst property with properties: {handle: 'days_to_birth', model: 'CDA', nanoid: 'gHEcfQ'}\n",
      "Ensuring has_property relationship exists between src node with properties: {handle: 'demographic', model: 'GDC', nanoid: 'tVc6xK'} to dst property with properties: {handle: 'days_to_birth', model: 'GDC', nanoid: 'NVVTWV'}\n",
      "Both entities are already connected via Concept Zc4xeQ\n",
      "Property entity with properties: {handle: 'subject_associated_project', model: 'CDA', nanoid: 'z6jtcx'} already exists in the database.\n",
      "Property entity with properties: {handle: 'project_id', model: 'GDC', nanoid: 'm6B8u6'} already exists in the database.\n",
      "Node entity with properties: {handle: 'Subject', model: 'CDA', nanoid: '3FYakr'} already exists in the database.\n",
      "Node entity with properties: {handle: 'project', model: 'GDC', nanoid: 'MzqVRa'} already exists in the database.\n",
      "Ensuring has_property relationship exists between src node with properties: {handle: 'Subject', model: 'CDA', nanoid: '3FYakr'} to dst property with properties: {handle: 'subject_associated_project', model: 'CDA', nanoid: 'z6jtcx'}\n",
      "Ensuring has_property relationship exists between src node with properties: {handle: 'project', model: 'GDC', nanoid: 'MzqVRa'} to dst property with properties: {handle: 'project_id', model: 'GDC', nanoid: 'm6B8u6'}\n",
      "Both entities are already connected via Concept Mcqnte\n",
      "Property entity with properties: {handle: 'vital_status', model: 'CDA', nanoid: '3UFXnF'} already exists in the database.\n",
      "Property entity with properties: {handle: 'vital_status', model: 'GDC', nanoid: 'dKQn1V'} already exists in the database.\n",
      "Node entity with properties: {handle: 'Subject', model: 'CDA', nanoid: '3FYakr'} already exists in the database.\n",
      "Node entity with properties: {handle: 'demographic', model: 'GDC', nanoid: 'tVc6xK'} already exists in the database.\n",
      "Ensuring has_property relationship exists between src node with properties: {handle: 'Subject', model: 'CDA', nanoid: '3FYakr'} to dst property with properties: {handle: 'vital_status', model: 'CDA', nanoid: '3UFXnF'}\n",
      "Ensuring has_property relationship exists between src node with properties: {handle: 'demographic', model: 'GDC', nanoid: 'tVc6xK'} to dst property with properties: {handle: 'vital_status', model: 'GDC', nanoid: 'dKQn1V'}\n",
      "Both entities are already connected via Concept dBHhna\n",
      "Property entity with properties: {handle: 'days_to_death', model: 'CDA', nanoid: '7X4PHn'} already exists in the database.\n",
      "Property entity with properties: {handle: 'days_to_death', model: 'GDC', nanoid: '3Bt2JJ'} already exists in the database.\n",
      "Node entity with properties: {handle: 'Subject', model: 'CDA', nanoid: '3FYakr'} already exists in the database.\n",
      "Node entity with properties: {handle: 'demographic', model: 'GDC', nanoid: 'tVc6xK'} already exists in the database.\n",
      "Ensuring has_property relationship exists between src node with properties: {handle: 'Subject', model: 'CDA', nanoid: '3FYakr'} to dst property with properties: {handle: 'days_to_death', model: 'CDA', nanoid: '7X4PHn'}\n",
      "Ensuring has_property relationship exists between src node with properties: {handle: 'demographic', model: 'GDC', nanoid: 'tVc6xK'} to dst property with properties: {handle: 'days_to_death', model: 'GDC', nanoid: '3Bt2JJ'}\n",
      "Both entities are already connected via Concept PoyHb6\n",
      "Property entity with properties: {handle: 'cause_of_death', model: 'CDA', nanoid: 'qHEZ0w'} already exists in the database.\n",
      "Property entity with properties: {handle: 'cause_of_death', model: 'GDC', nanoid: '4CbTWz'} already exists in the database.\n",
      "Node entity with properties: {handle: 'Subject', model: 'CDA', nanoid: '3FYakr'} already exists in the database.\n",
      "Node entity with properties: {handle: 'demographic', model: 'GDC', nanoid: 'tVc6xK'} already exists in the database.\n",
      "Ensuring has_property relationship exists between src node with properties: {handle: 'Subject', model: 'CDA', nanoid: '3FYakr'} to dst property with properties: {handle: 'cause_of_death', model: 'CDA', nanoid: 'qHEZ0w'}\n",
      "Ensuring has_property relationship exists between src node with properties: {handle: 'demographic', model: 'GDC', nanoid: 'tVc6xK'} to dst property with properties: {handle: 'cause_of_death', model: 'GDC', nanoid: '4CbTWz'}\n",
      "Both entities are already connected via Concept bnjjJE\n",
      "Property entity with properties: {handle: 'id', model: 'CDA', nanoid: 'RqrWbb'} already exists in the database.\n",
      "Property entity with properties: {handle: 'case_submitter_id', model: 'PDC', nanoid: 'i4ia88'} already exists in the database.\n",
      "Node entity with properties: {handle: 'Subject', model: 'CDA', nanoid: '3FYakr'} already exists in the database.\n",
      "Node entity with properties: {handle: 'case', model: 'PDC', nanoid: '7oXU6m'} already exists in the database.\n",
      "Ensuring has_property relationship exists between src node with properties: {handle: 'Subject', model: 'CDA', nanoid: '3FYakr'} to dst property with properties: {handle: 'id', model: 'CDA', nanoid: 'RqrWbb'}\n",
      "Ensuring has_property relationship exists between src node with properties: {handle: 'case', model: 'PDC', nanoid: '7oXU6m'} to dst property with properties: {handle: 'case_submitter_id', model: 'PDC', nanoid: 'i4ia88'}\n",
      "Both entities are already connected via Concept RmXiVN\n",
      "Property entity with properties: {handle: 'identifier', model: 'CDA', nanoid: '7FgM8t'} already exists in the database.\n",
      "Property entity with properties: {handle: 'case_submitter_id', model: 'PDC', nanoid: 'i4ia88'} already exists in the database.\n",
      "Node entity with properties: {handle: 'Subject', model: 'CDA', nanoid: '3FYakr'} already exists in the database.\n",
      "Node entity with properties: {handle: 'case', model: 'PDC', nanoid: '7oXU6m'} already exists in the database.\n",
      "Ensuring has_property relationship exists between src node with properties: {handle: 'Subject', model: 'CDA', nanoid: '3FYakr'} to dst property with properties: {handle: 'identifier', model: 'CDA', nanoid: '7FgM8t'}\n",
      "Ensuring has_property relationship exists between src node with properties: {handle: 'case', model: 'PDC', nanoid: '7oXU6m'} to dst property with properties: {handle: 'case_submitter_id', model: 'PDC', nanoid: 'i4ia88'}\n",
      "Both entities are already connected via Concept RmXiVN\n",
      "Property entity with properties: {handle: 'species', model: 'CDA', nanoid: 'VnsYHm'} already exists in the database.\n",
      "Property entity with properties: {handle: 'taxon', model: 'PDC', nanoid: 'SEpKyW'} already exists in the database.\n",
      "Node entity with properties: {handle: 'Subject', model: 'CDA', nanoid: '3FYakr'} already exists in the database.\n",
      "Node entity with properties: {handle: 'case', model: 'PDC', nanoid: '7oXU6m'} already exists in the database.\n",
      "Ensuring has_property relationship exists between src node with properties: {handle: 'Subject', model: 'CDA', nanoid: '3FYakr'} to dst property with properties: {handle: 'species', model: 'CDA', nanoid: 'VnsYHm'}\n",
      "Ensuring has_property relationship exists between src node with properties: {handle: 'case', model: 'PDC', nanoid: '7oXU6m'} to dst property with properties: {handle: 'taxon', model: 'PDC', nanoid: 'SEpKyW'}\n",
      "Both entities are already connected via Concept JNcAeu\n",
      "Property entity with properties: {handle: 'sex', model: 'CDA', nanoid: 'cXipn7'} already exists in the database.\n",
      "Property entity with properties: {handle: 'gender', model: 'PDC', nanoid: '3mJ8qJ'} already exists in the database.\n",
      "Node entity with properties: {handle: 'Subject', model: 'CDA', nanoid: '3FYakr'} already exists in the database.\n",
      "Node entity with properties: {handle: 'demographic', model: 'PDC', nanoid: 'TcQBrp'} already exists in the database.\n",
      "Ensuring has_property relationship exists between src node with properties: {handle: 'Subject', model: 'CDA', nanoid: '3FYakr'} to dst property with properties: {handle: 'sex', model: 'CDA', nanoid: 'cXipn7'}\n",
      "Ensuring has_property relationship exists between src node with properties: {handle: 'demographic', model: 'PDC', nanoid: 'TcQBrp'} to dst property with properties: {handle: 'gender', model: 'PDC', nanoid: '3mJ8qJ'}\n",
      "Both entities are already connected via Concept C3jrdu\n",
      "Property entity with properties: {handle: 'race', model: 'CDA', nanoid: 'JP7jSP'} already exists in the database.\n",
      "Property entity with properties: {handle: 'race', model: 'PDC', nanoid: 'tWpCMw'} already exists in the database.\n",
      "Node entity with properties: {handle: 'Subject', model: 'CDA', nanoid: '3FYakr'} already exists in the database.\n",
      "Node entity with properties: {handle: 'demographic', model: 'PDC', nanoid: 'TcQBrp'} already exists in the database.\n",
      "Ensuring has_property relationship exists between src node with properties: {handle: 'Subject', model: 'CDA', nanoid: '3FYakr'} to dst property with properties: {handle: 'race', model: 'CDA', nanoid: 'JP7jSP'}\n",
      "Ensuring has_property relationship exists between src node with properties: {handle: 'demographic', model: 'PDC', nanoid: 'TcQBrp'} to dst property with properties: {handle: 'race', model: 'PDC', nanoid: 'tWpCMw'}\n",
      "Both entities are already connected via Concept HaEx01\n",
      "Property entity with properties: {handle: 'ethnicity', model: 'CDA', nanoid: 'YYevkF'} already exists in the database.\n",
      "Property entity with properties: {handle: 'ethnicity', model: 'PDC', nanoid: '1V0HqT'} already exists in the database.\n",
      "Node entity with properties: {handle: 'Subject', model: 'CDA', nanoid: '3FYakr'} already exists in the database.\n",
      "Node entity with properties: {handle: 'demographic', model: 'PDC', nanoid: 'TcQBrp'} already exists in the database.\n",
      "Ensuring has_property relationship exists between src node with properties: {handle: 'Subject', model: 'CDA', nanoid: '3FYakr'} to dst property with properties: {handle: 'ethnicity', model: 'CDA', nanoid: 'YYevkF'}\n",
      "Ensuring has_property relationship exists between src node with properties: {handle: 'demographic', model: 'PDC', nanoid: 'TcQBrp'} to dst property with properties: {handle: 'ethnicity', model: 'PDC', nanoid: '1V0HqT'}\n",
      "Both entities are already connected via Concept KcoiBC\n",
      "Property entity with properties: {handle: 'days_to_birth', model: 'CDA', nanoid: 'gHEcfQ'} already exists in the database.\n",
      "Property entity with properties: {handle: 'days_to_birth', model: 'PDC', nanoid: 'zBnUYy'} already exists in the database.\n",
      "Node entity with properties: {handle: 'Subject', model: 'CDA', nanoid: '3FYakr'} already exists in the database.\n",
      "Node entity with properties: {handle: 'demographic', model: 'PDC', nanoid: 'TcQBrp'} already exists in the database.\n",
      "Ensuring has_property relationship exists between src node with properties: {handle: 'Subject', model: 'CDA', nanoid: '3FYakr'} to dst property with properties: {handle: 'days_to_birth', model: 'CDA', nanoid: 'gHEcfQ'}\n",
      "Ensuring has_property relationship exists between src node with properties: {handle: 'demographic', model: 'PDC', nanoid: 'TcQBrp'} to dst property with properties: {handle: 'days_to_birth', model: 'PDC', nanoid: 'zBnUYy'}\n",
      "Both entities are already connected via Concept Zc4xeQ\n",
      "Property entity with properties: {handle: 'subject_associated_project', model: 'CDA', nanoid: 'z6jtcx'} already exists in the database.\n",
      "Property entity with properties: {handle: 'project_submitter_id', model: 'PDC', nanoid: 'ixChuw'} already exists in the database.\n",
      "Node entity with properties: {handle: 'Subject', model: 'CDA', nanoid: '3FYakr'} already exists in the database.\n",
      "Node entity with properties: {handle: 'case', model: 'PDC', nanoid: '7oXU6m'} already exists in the database.\n",
      "Ensuring has_property relationship exists between src node with properties: {handle: 'Subject', model: 'CDA', nanoid: '3FYakr'} to dst property with properties: {handle: 'subject_associated_project', model: 'CDA', nanoid: 'z6jtcx'}\n",
      "Ensuring has_property relationship exists between src node with properties: {handle: 'case', model: 'PDC', nanoid: '7oXU6m'} to dst property with properties: {handle: 'project_submitter_id', model: 'PDC', nanoid: 'ixChuw'}\n",
      "Both entities are already connected via Concept Mcqnte\n",
      "Property entity with properties: {handle: 'vital_status', model: 'CDA', nanoid: '3UFXnF'} already exists in the database.\n",
      "Property entity with properties: {handle: 'vital_status', model: 'PDC', nanoid: 'HFDjTy'} already exists in the database.\n",
      "Node entity with properties: {handle: 'Subject', model: 'CDA', nanoid: '3FYakr'} already exists in the database.\n",
      "Node entity with properties: {handle: 'demographic', model: 'PDC', nanoid: 'TcQBrp'} already exists in the database.\n",
      "Ensuring has_property relationship exists between src node with properties: {handle: 'Subject', model: 'CDA', nanoid: '3FYakr'} to dst property with properties: {handle: 'vital_status', model: 'CDA', nanoid: '3UFXnF'}\n",
      "Ensuring has_property relationship exists between src node with properties: {handle: 'demographic', model: 'PDC', nanoid: 'TcQBrp'} to dst property with properties: {handle: 'vital_status', model: 'PDC', nanoid: 'HFDjTy'}\n",
      "Both entities are already connected via Concept dBHhna\n",
      "Property entity with properties: {handle: 'days_to_death', model: 'CDA', nanoid: '7X4PHn'} already exists in the database.\n",
      "Property entity with properties: {handle: 'days_to_death', model: 'PDC', nanoid: 'KQW5jW'} already exists in the database.\n",
      "Node entity with properties: {handle: 'Subject', model: 'CDA', nanoid: '3FYakr'} already exists in the database.\n",
      "Node entity with properties: {handle: 'demographic', model: 'PDC', nanoid: 'TcQBrp'} already exists in the database.\n",
      "Ensuring has_property relationship exists between src node with properties: {handle: 'Subject', model: 'CDA', nanoid: '3FYakr'} to dst property with properties: {handle: 'days_to_death', model: 'CDA', nanoid: '7X4PHn'}\n",
      "Ensuring has_property relationship exists between src node with properties: {handle: 'demographic', model: 'PDC', nanoid: 'TcQBrp'} to dst property with properties: {handle: 'days_to_death', model: 'PDC', nanoid: 'KQW5jW'}\n",
      "Both entities are already connected via Concept PoyHb6\n",
      "Property entity with properties: {handle: 'cause_of_death', model: 'CDA', nanoid: 'qHEZ0w'} already exists in the database.\n",
      "Property entity with properties: {handle: 'cause_of_death', model: 'PDC', nanoid: 'rKWM37'} already exists in the database.\n",
      "Node entity with properties: {handle: 'Subject', model: 'CDA', nanoid: '3FYakr'} already exists in the database.\n",
      "Node entity with properties: {handle: 'demographic', model: 'PDC', nanoid: 'TcQBrp'} already exists in the database.\n",
      "Ensuring has_property relationship exists between src node with properties: {handle: 'Subject', model: 'CDA', nanoid: '3FYakr'} to dst property with properties: {handle: 'cause_of_death', model: 'CDA', nanoid: 'qHEZ0w'}\n",
      "Ensuring has_property relationship exists between src node with properties: {handle: 'demographic', model: 'PDC', nanoid: 'TcQBrp'} to dst property with properties: {handle: 'cause_of_death', model: 'PDC', nanoid: 'rKWM37'}\n",
      "Both entities are already connected via Concept bnjjJE\n",
      "Property entity with properties: {handle: 'id', model: 'CDA', nanoid: 'RqrWbb'} already exists in the database.\n",
      "Property entity with properties: {handle: 'PatientID', model: 'IDC', nanoid: 'CkdQEi'} already exists in the database.\n",
      "Node entity with properties: {handle: 'Subject', model: 'CDA', nanoid: '3FYakr'} already exists in the database.\n",
      "Node entity with properties: {handle: 'file', model: 'IDC', nanoid: 'BieV3M'} already exists in the database.\n",
      "Ensuring has_property relationship exists between src node with properties: {handle: 'Subject', model: 'CDA', nanoid: '3FYakr'} to dst property with properties: {handle: 'id', model: 'CDA', nanoid: 'RqrWbb'}\n",
      "Ensuring has_property relationship exists between src node with properties: {handle: 'file', model: 'IDC', nanoid: 'BieV3M'} to dst property with properties: {handle: 'PatientID', model: 'IDC', nanoid: 'CkdQEi'}\n",
      "Both entities are already connected via Concept RmXiVN\n",
      "Property entity with properties: {handle: 'identifier', model: 'CDA', nanoid: '7FgM8t'} already exists in the database.\n",
      "Property entity with properties: {handle: 'PatientID', model: 'IDC', nanoid: 'CkdQEi'} already exists in the database.\n",
      "Node entity with properties: {handle: 'Subject', model: 'CDA', nanoid: '3FYakr'} already exists in the database.\n",
      "Node entity with properties: {handle: 'file', model: 'IDC', nanoid: 'BieV3M'} already exists in the database.\n",
      "Ensuring has_property relationship exists between src node with properties: {handle: 'Subject', model: 'CDA', nanoid: '3FYakr'} to dst property with properties: {handle: 'identifier', model: 'CDA', nanoid: '7FgM8t'}\n",
      "Ensuring has_property relationship exists between src node with properties: {handle: 'file', model: 'IDC', nanoid: 'BieV3M'} to dst property with properties: {handle: 'PatientID', model: 'IDC', nanoid: 'CkdQEi'}\n",
      "Both entities are already connected via Concept RmXiVN\n",
      "Property entity with properties: {handle: 'species', model: 'CDA', nanoid: 'VnsYHm'} already exists in the database.\n",
      "Property entity with properties: {handle: 'tcia_species', model: 'IDC', nanoid: 'hPTVYZ'} already exists in the database.\n",
      "Node entity with properties: {handle: 'Subject', model: 'CDA', nanoid: '3FYakr'} already exists in the database.\n",
      "Node entity with properties: {handle: 'file', model: 'IDC', nanoid: 'BieV3M'} already exists in the database.\n",
      "Ensuring has_property relationship exists between src node with properties: {handle: 'Subject', model: 'CDA', nanoid: '3FYakr'} to dst property with properties: {handle: 'species', model: 'CDA', nanoid: 'VnsYHm'}\n",
      "Ensuring has_property relationship exists between src node with properties: {handle: 'file', model: 'IDC', nanoid: 'BieV3M'} to dst property with properties: {handle: 'tcia_species', model: 'IDC', nanoid: 'hPTVYZ'}\n",
      "Both entities are already connected via Concept JNcAeu\n",
      "Property entity with properties: {handle: 'subject_associated_project', model: 'CDA', nanoid: 'z6jtcx'} already exists in the database.\n",
      "Property entity with properties: {handle: 'collection_id', model: 'IDC', nanoid: '9WZg5X'} already exists in the database.\n",
      "Node entity with properties: {handle: 'Subject', model: 'CDA', nanoid: '3FYakr'} already exists in the database.\n",
      "Node entity with properties: {handle: 'file', model: 'IDC', nanoid: 'BieV3M'} already exists in the database.\n",
      "Ensuring has_property relationship exists between src node with properties: {handle: 'Subject', model: 'CDA', nanoid: '3FYakr'} to dst property with properties: {handle: 'subject_associated_project', model: 'CDA', nanoid: 'z6jtcx'}\n",
      "Ensuring has_property relationship exists between src node with properties: {handle: 'file', model: 'IDC', nanoid: 'BieV3M'} to dst property with properties: {handle: 'collection_id', model: 'IDC', nanoid: '9WZg5X'}\n",
      "Both entities are already connected via Concept Mcqnte\n",
      "Property entity with properties: {handle: 'id', model: 'CDA', nanoid: '74iyiW'} already exists in the database.\n",
      "Property entity with properties: {handle: 'case_id', model: 'GDC', nanoid: '7Ej208'} already exists in the database.\n",
      "Node entity with properties: {handle: 'ResearchSubject', model: 'CDA', nanoid: 'jETWhc'} already exists in the database.\n",
      "Node entity with properties: {handle: 'case', model: 'GDC', nanoid: 'ehMeUy'} already exists in the database.\n",
      "Ensuring has_property relationship exists between src node with properties: {handle: 'ResearchSubject', model: 'CDA', nanoid: 'jETWhc'} to dst property with properties: {handle: 'id', model: 'CDA', nanoid: '74iyiW'}\n",
      "Ensuring has_property relationship exists between src node with properties: {handle: 'case', model: 'GDC', nanoid: 'ehMeUy'} to dst property with properties: {handle: 'case_id', model: 'GDC', nanoid: '7Ej208'}\n",
      "Both entities are already connected via Concept jksr6Q\n",
      "Property entity with properties: {handle: 'identifier', model: 'CDA', nanoid: '71zGsT'} already exists in the database.\n",
      "Property entity with properties: {handle: 'case_id', model: 'GDC', nanoid: '7Ej208'} already exists in the database.\n",
      "Node entity with properties: {handle: 'ResearchSubject', model: 'CDA', nanoid: 'jETWhc'} already exists in the database.\n",
      "Node entity with properties: {handle: 'case', model: 'GDC', nanoid: 'ehMeUy'} already exists in the database.\n",
      "Ensuring has_property relationship exists between src node with properties: {handle: 'ResearchSubject', model: 'CDA', nanoid: 'jETWhc'} to dst property with properties: {handle: 'identifier', model: 'CDA', nanoid: '71zGsT'}\n",
      "Ensuring has_property relationship exists between src node with properties: {handle: 'case', model: 'GDC', nanoid: 'ehMeUy'} to dst property with properties: {handle: 'case_id', model: 'GDC', nanoid: '7Ej208'}\n",
      "Both entities are already connected via Concept jksr6Q\n",
      "Property entity with properties: {handle: 'member_of_research_project', model: 'CDA', nanoid: '6y18mo'} already exists in the database.\n",
      "Property entity with properties: {handle: 'project_id', model: 'GDC', nanoid: 'm6B8u6'} already exists in the database.\n",
      "Node entity with properties: {handle: 'ResearchSubject', model: 'CDA', nanoid: 'jETWhc'} already exists in the database.\n",
      "Node entity with properties: {handle: 'project', model: 'GDC', nanoid: 'MzqVRa'} already exists in the database.\n",
      "Ensuring has_property relationship exists between src node with properties: {handle: 'ResearchSubject', model: 'CDA', nanoid: 'jETWhc'} to dst property with properties: {handle: 'member_of_research_project', model: 'CDA', nanoid: '6y18mo'}\n",
      "Ensuring has_property relationship exists between src node with properties: {handle: 'project', model: 'GDC', nanoid: 'MzqVRa'} to dst property with properties: {handle: 'project_id', model: 'GDC', nanoid: 'm6B8u6'}\n",
      "Both entities are already connected via Concept Mcqnte\n",
      "Property entity with properties: {handle: 'primary_diagnosis_condition', model: 'CDA', nanoid: 'QFUYcW'} already exists in the database.\n",
      "Property entity with properties: {handle: 'disease_type', model: 'GDC', nanoid: 'QUdn6X'} already exists in the database.\n",
      "Node entity with properties: {handle: 'ResearchSubject', model: 'CDA', nanoid: 'jETWhc'} already exists in the database.\n",
      "Node entity with properties: {handle: 'case', model: 'GDC', nanoid: 'ehMeUy'} already exists in the database.\n",
      "Ensuring has_property relationship exists between src node with properties: {handle: 'ResearchSubject', model: 'CDA', nanoid: 'jETWhc'} to dst property with properties: {handle: 'primary_diagnosis_condition', model: 'CDA', nanoid: 'QFUYcW'}\n",
      "Ensuring has_property relationship exists between src node with properties: {handle: 'case', model: 'GDC', nanoid: 'ehMeUy'} to dst property with properties: {handle: 'disease_type', model: 'GDC', nanoid: 'QUdn6X'}\n",
      "Both entities are already connected via Concept GRxW5h\n",
      "Property entity with properties: {handle: 'primary_diagnosis_site', model: 'CDA', nanoid: 'dsw79x'} already exists in the database.\n",
      "Property entity with properties: {handle: 'primary_site', model: 'GDC', nanoid: 'jTAAoD'} already exists in the database.\n",
      "Node entity with properties: {handle: 'ResearchSubject', model: 'CDA', nanoid: 'jETWhc'} already exists in the database.\n",
      "Node entity with properties: {handle: 'case', model: 'GDC', nanoid: 'ehMeUy'} already exists in the database.\n",
      "Ensuring has_property relationship exists between src node with properties: {handle: 'ResearchSubject', model: 'CDA', nanoid: 'jETWhc'} to dst property with properties: {handle: 'primary_diagnosis_site', model: 'CDA', nanoid: 'dsw79x'}\n",
      "Ensuring has_property relationship exists between src node with properties: {handle: 'case', model: 'GDC', nanoid: 'ehMeUy'} to dst property with properties: {handle: 'primary_site', model: 'GDC', nanoid: 'jTAAoD'}\n",
      "Both entities are already connected via Concept eYgzVV\n",
      "Property entity with properties: {handle: 'id', model: 'CDA', nanoid: '74iyiW'} already exists in the database.\n",
      "Property entity with properties: {handle: 'case_id', model: 'PDC', nanoid: 'XpN7RW'} already exists in the database.\n",
      "Node entity with properties: {handle: 'ResearchSubject', model: 'CDA', nanoid: 'jETWhc'} already exists in the database.\n",
      "Node entity with properties: {handle: 'case', model: 'PDC', nanoid: '7oXU6m'} already exists in the database.\n",
      "Ensuring has_property relationship exists between src node with properties: {handle: 'ResearchSubject', model: 'CDA', nanoid: 'jETWhc'} to dst property with properties: {handle: 'id', model: 'CDA', nanoid: '74iyiW'}\n",
      "Ensuring has_property relationship exists between src node with properties: {handle: 'case', model: 'PDC', nanoid: '7oXU6m'} to dst property with properties: {handle: 'case_id', model: 'PDC', nanoid: 'XpN7RW'}\n",
      "Both entities are already connected via Concept jksr6Q\n",
      "Property entity with properties: {handle: 'identifier', model: 'CDA', nanoid: '71zGsT'} already exists in the database.\n",
      "Property entity with properties: {handle: 'case_id', model: 'PDC', nanoid: 'XpN7RW'} already exists in the database.\n",
      "Node entity with properties: {handle: 'ResearchSubject', model: 'CDA', nanoid: 'jETWhc'} already exists in the database.\n",
      "Node entity with properties: {handle: 'case', model: 'PDC', nanoid: '7oXU6m'} already exists in the database.\n",
      "Ensuring has_property relationship exists between src node with properties: {handle: 'ResearchSubject', model: 'CDA', nanoid: 'jETWhc'} to dst property with properties: {handle: 'identifier', model: 'CDA', nanoid: '71zGsT'}\n",
      "Ensuring has_property relationship exists between src node with properties: {handle: 'case', model: 'PDC', nanoid: '7oXU6m'} to dst property with properties: {handle: 'case_id', model: 'PDC', nanoid: 'XpN7RW'}\n",
      "Both entities are already connected via Concept jksr6Q\n",
      "Property entity with properties: {handle: 'member_of_research_project', model: 'CDA', nanoid: '6y18mo'} already exists in the database.\n",
      "Property entity with properties: {handle: 'project_submitter_id', model: 'PDC', nanoid: 'ixChuw'} already exists in the database.\n",
      "Node entity with properties: {handle: 'ResearchSubject', model: 'CDA', nanoid: 'jETWhc'} already exists in the database.\n",
      "Node entity with properties: {handle: 'case', model: 'PDC', nanoid: '7oXU6m'} already exists in the database.\n",
      "Ensuring has_property relationship exists between src node with properties: {handle: 'ResearchSubject', model: 'CDA', nanoid: 'jETWhc'} to dst property with properties: {handle: 'member_of_research_project', model: 'CDA', nanoid: '6y18mo'}\n",
      "Ensuring has_property relationship exists between src node with properties: {handle: 'case', model: 'PDC', nanoid: '7oXU6m'} to dst property with properties: {handle: 'project_submitter_id', model: 'PDC', nanoid: 'ixChuw'}\n",
      "Both entities are already connected via Concept Mcqnte\n",
      "Property entity with properties: {handle: 'primary_diagnosis_condition', model: 'CDA', nanoid: 'QFUYcW'} already exists in the database.\n",
      "Property entity with properties: {handle: 'disease_type', model: 'PDC', nanoid: 'UEnMij'} already exists in the database.\n",
      "Node entity with properties: {handle: 'ResearchSubject', model: 'CDA', nanoid: 'jETWhc'} already exists in the database.\n",
      "Node entity with properties: {handle: 'case', model: 'PDC', nanoid: '7oXU6m'} already exists in the database.\n",
      "Ensuring has_property relationship exists between src node with properties: {handle: 'ResearchSubject', model: 'CDA', nanoid: 'jETWhc'} to dst property with properties: {handle: 'primary_diagnosis_condition', model: 'CDA', nanoid: 'QFUYcW'}\n",
      "Ensuring has_property relationship exists between src node with properties: {handle: 'case', model: 'PDC', nanoid: '7oXU6m'} to dst property with properties: {handle: 'disease_type', model: 'PDC', nanoid: 'UEnMij'}\n",
      "Both entities are already connected via Concept GRxW5h\n",
      "Property entity with properties: {handle: 'primary_diagnosis_site', model: 'CDA', nanoid: 'dsw79x'} already exists in the database.\n",
      "Property entity with properties: {handle: 'primary_site', model: 'PDC', nanoid: '7H5Xqw'} already exists in the database.\n",
      "Node entity with properties: {handle: 'ResearchSubject', model: 'CDA', nanoid: 'jETWhc'} already exists in the database.\n",
      "Node entity with properties: {handle: 'case', model: 'PDC', nanoid: '7oXU6m'} already exists in the database.\n",
      "Ensuring has_property relationship exists between src node with properties: {handle: 'ResearchSubject', model: 'CDA', nanoid: 'jETWhc'} to dst property with properties: {handle: 'primary_diagnosis_site', model: 'CDA', nanoid: 'dsw79x'}\n",
      "Ensuring has_property relationship exists between src node with properties: {handle: 'case', model: 'PDC', nanoid: '7oXU6m'} to dst property with properties: {handle: 'primary_site', model: 'PDC', nanoid: '7H5Xqw'}\n",
      "Both entities are already connected via Concept eYgzVV\n",
      "Property entity with properties: {handle: 'id', model: 'CDA', nanoid: '74iyiW'} already exists in the database.\n",
      "Property entity with properties: {handle: 'PatientID', model: 'IDC', nanoid: 'CkdQEi'} already exists in the database.\n",
      "Node entity with properties: {handle: 'ResearchSubject', model: 'CDA', nanoid: 'jETWhc'} already exists in the database.\n",
      "Node entity with properties: {handle: 'file', model: 'IDC', nanoid: 'BieV3M'} already exists in the database.\n",
      "Ensuring has_property relationship exists between src node with properties: {handle: 'ResearchSubject', model: 'CDA', nanoid: 'jETWhc'} to dst property with properties: {handle: 'id', model: 'CDA', nanoid: '74iyiW'}\n",
      "Ensuring has_property relationship exists between src node with properties: {handle: 'file', model: 'IDC', nanoid: 'BieV3M'} to dst property with properties: {handle: 'PatientID', model: 'IDC', nanoid: 'CkdQEi'}\n",
      "Both entities are already connected via Concept jksr6Q\n",
      "Property entity with properties: {handle: 'identifier', model: 'CDA', nanoid: '71zGsT'} already exists in the database.\n",
      "Property entity with properties: {handle: 'PatientID', model: 'IDC', nanoid: 'CkdQEi'} already exists in the database.\n",
      "Node entity with properties: {handle: 'ResearchSubject', model: 'CDA', nanoid: 'jETWhc'} already exists in the database.\n",
      "Node entity with properties: {handle: 'file', model: 'IDC', nanoid: 'BieV3M'} already exists in the database.\n",
      "Ensuring has_property relationship exists between src node with properties: {handle: 'ResearchSubject', model: 'CDA', nanoid: 'jETWhc'} to dst property with properties: {handle: 'identifier', model: 'CDA', nanoid: '71zGsT'}\n",
      "Ensuring has_property relationship exists between src node with properties: {handle: 'file', model: 'IDC', nanoid: 'BieV3M'} to dst property with properties: {handle: 'PatientID', model: 'IDC', nanoid: 'CkdQEi'}\n",
      "Both entities are already connected via Concept jksr6Q\n",
      "Property entity with properties: {handle: 'member_of_research_project', model: 'CDA', nanoid: '6y18mo'} already exists in the database.\n",
      "Property entity with properties: {handle: 'collection_id', model: 'IDC', nanoid: '9WZg5X'} already exists in the database.\n",
      "Node entity with properties: {handle: 'ResearchSubject', model: 'CDA', nanoid: 'jETWhc'} already exists in the database.\n",
      "Node entity with properties: {handle: 'file', model: 'IDC', nanoid: 'BieV3M'} already exists in the database.\n",
      "Ensuring has_property relationship exists between src node with properties: {handle: 'ResearchSubject', model: 'CDA', nanoid: 'jETWhc'} to dst property with properties: {handle: 'member_of_research_project', model: 'CDA', nanoid: '6y18mo'}\n",
      "Ensuring has_property relationship exists between src node with properties: {handle: 'file', model: 'IDC', nanoid: 'BieV3M'} to dst property with properties: {handle: 'collection_id', model: 'IDC', nanoid: '9WZg5X'}\n",
      "Both entities are already connected via Concept Mcqnte\n",
      "Property entity with properties: {handle: 'primary_diagnosis_site', model: 'CDA', nanoid: 'dsw79x'} already exists in the database.\n",
      "Property entity with properties: {handle: 'tcia_tumorLocation', model: 'IDC', nanoid: 'Z8SeY9'} already exists in the database.\n",
      "Node entity with properties: {handle: 'ResearchSubject', model: 'CDA', nanoid: 'jETWhc'} already exists in the database.\n",
      "Node entity with properties: {handle: 'file', model: 'IDC', nanoid: 'BieV3M'} already exists in the database.\n",
      "Ensuring has_property relationship exists between src node with properties: {handle: 'ResearchSubject', model: 'CDA', nanoid: 'jETWhc'} to dst property with properties: {handle: 'primary_diagnosis_site', model: 'CDA', nanoid: 'dsw79x'}\n",
      "Ensuring has_property relationship exists between src node with properties: {handle: 'file', model: 'IDC', nanoid: 'BieV3M'} to dst property with properties: {handle: 'tcia_tumorLocation', model: 'IDC', nanoid: 'Z8SeY9'}\n",
      "Both entities are already connected via Concept eYgzVV\n",
      "Property entity with properties: {handle: 'id', model: 'CDA', nanoid: 'shxj6m'} already exists in the database.\n",
      "Property entity with properties: {handle: 'diagnosis_id', model: 'GDC', nanoid: 'v9URCm'} already exists in the database.\n",
      "Node entity with properties: {handle: 'Diagnosis', model: 'CDA', nanoid: 'eHcQjN'} already exists in the database.\n",
      "Node entity with properties: {handle: 'diagnosis', model: 'GDC', nanoid: 'm9Erxe'} already exists in the database.\n",
      "Ensuring has_property relationship exists between src node with properties: {handle: 'Diagnosis', model: 'CDA', nanoid: 'eHcQjN'} to dst property with properties: {handle: 'id', model: 'CDA', nanoid: 'shxj6m'}\n",
      "Ensuring has_property relationship exists between src node with properties: {handle: 'diagnosis', model: 'GDC', nanoid: 'm9Erxe'} to dst property with properties: {handle: 'diagnosis_id', model: 'GDC', nanoid: 'v9URCm'}\n",
      "Both entities are already connected via Concept Cob2kH\n",
      "Property entity with properties: {handle: 'identifier', model: 'CDA', nanoid: 'U3hdex'} already exists in the database.\n",
      "Property entity with properties: {handle: 'diagnosis_id', model: 'GDC', nanoid: 'v9URCm'} already exists in the database.\n",
      "Node entity with properties: {handle: 'Diagnosis', model: 'CDA', nanoid: 'eHcQjN'} already exists in the database.\n",
      "Node entity with properties: {handle: 'diagnosis', model: 'GDC', nanoid: 'm9Erxe'} already exists in the database.\n",
      "Ensuring has_property relationship exists between src node with properties: {handle: 'Diagnosis', model: 'CDA', nanoid: 'eHcQjN'} to dst property with properties: {handle: 'identifier', model: 'CDA', nanoid: 'U3hdex'}\n",
      "Ensuring has_property relationship exists between src node with properties: {handle: 'diagnosis', model: 'GDC', nanoid: 'm9Erxe'} to dst property with properties: {handle: 'diagnosis_id', model: 'GDC', nanoid: 'v9URCm'}\n",
      "Both entities are already connected via Concept Cob2kH\n",
      "Property entity with properties: {handle: 'primary_diagnosis', model: 'CDA', nanoid: 'q7zDAR'} already exists in the database.\n",
      "Property entity with properties: {handle: 'primary_diagnosis', model: 'GDC', nanoid: 'igRiqC'} already exists in the database.\n",
      "Node entity with properties: {handle: 'Diagnosis', model: 'CDA', nanoid: 'eHcQjN'} already exists in the database.\n",
      "Node entity with properties: {handle: 'diagnosis', model: 'GDC', nanoid: 'm9Erxe'} already exists in the database.\n",
      "Ensuring has_property relationship exists between src node with properties: {handle: 'Diagnosis', model: 'CDA', nanoid: 'eHcQjN'} to dst property with properties: {handle: 'primary_diagnosis', model: 'CDA', nanoid: 'q7zDAR'}\n",
      "Ensuring has_property relationship exists between src node with properties: {handle: 'diagnosis', model: 'GDC', nanoid: 'm9Erxe'} to dst property with properties: {handle: 'primary_diagnosis', model: 'GDC', nanoid: 'igRiqC'}\n",
      "Both entities are already connected via Concept RmWrZn\n",
      "Property entity with properties: {handle: 'age_at_diagnosis', model: 'CDA', nanoid: 'PeJCfN'} already exists in the database.\n",
      "Property entity with properties: {handle: 'age_at_diagnosis', model: 'GDC', nanoid: 'dc05Ui'} already exists in the database.\n",
      "Node entity with properties: {handle: 'Diagnosis', model: 'CDA', nanoid: 'eHcQjN'} already exists in the database.\n",
      "Node entity with properties: {handle: 'diagnosis', model: 'GDC', nanoid: 'm9Erxe'} already exists in the database.\n",
      "Ensuring has_property relationship exists between src node with properties: {handle: 'Diagnosis', model: 'CDA', nanoid: 'eHcQjN'} to dst property with properties: {handle: 'age_at_diagnosis', model: 'CDA', nanoid: 'PeJCfN'}\n",
      "Ensuring has_property relationship exists between src node with properties: {handle: 'diagnosis', model: 'GDC', nanoid: 'm9Erxe'} to dst property with properties: {handle: 'age_at_diagnosis', model: 'GDC', nanoid: 'dc05Ui'}\n",
      "Both entities are already connected via Concept JjUvmz\n",
      "Property entity with properties: {handle: 'morphology', model: 'CDA', nanoid: 'coJAZR'} already exists in the database.\n",
      "Property entity with properties: {handle: 'morphology', model: 'GDC', nanoid: 'NJPyU6'} already exists in the database.\n",
      "Node entity with properties: {handle: 'Diagnosis', model: 'CDA', nanoid: 'eHcQjN'} already exists in the database.\n",
      "Node entity with properties: {handle: 'diagnosis', model: 'GDC', nanoid: 'm9Erxe'} already exists in the database.\n",
      "Ensuring has_property relationship exists between src node with properties: {handle: 'Diagnosis', model: 'CDA', nanoid: 'eHcQjN'} to dst property with properties: {handle: 'morphology', model: 'CDA', nanoid: 'coJAZR'}\n",
      "Ensuring has_property relationship exists between src node with properties: {handle: 'diagnosis', model: 'GDC', nanoid: 'm9Erxe'} to dst property with properties: {handle: 'morphology', model: 'GDC', nanoid: 'NJPyU6'}\n",
      "Both entities are already connected via Concept 0kuRMJ\n",
      "Property entity with properties: {handle: 'stage', model: 'CDA', nanoid: 'yk1sCV'} already exists in the database.\n",
      "Property entity with properties: {handle: 'tumor_stage', model: 'GDC', nanoid: '1K0Txk'} already exists in the database.\n",
      "Node entity with properties: {handle: 'Diagnosis', model: 'CDA', nanoid: 'eHcQjN'} already exists in the database.\n",
      "Node entity with properties: {handle: 'diagnosis', model: 'GDC', nanoid: 'm9Erxe'} already exists in the database.\n",
      "Ensuring has_property relationship exists between src node with properties: {handle: 'Diagnosis', model: 'CDA', nanoid: 'eHcQjN'} to dst property with properties: {handle: 'stage', model: 'CDA', nanoid: 'yk1sCV'}\n",
      "Ensuring has_property relationship exists between src node with properties: {handle: 'diagnosis', model: 'GDC', nanoid: 'm9Erxe'} to dst property with properties: {handle: 'tumor_stage', model: 'GDC', nanoid: '1K0Txk'}\n",
      "Both entities are already connected via Concept Kk3n1a\n",
      "Property entity with properties: {handle: 'grade', model: 'CDA', nanoid: 'WQSaGv'} already exists in the database.\n",
      "Property entity with properties: {handle: 'tumor_grade', model: 'GDC', nanoid: '12YJip'} already exists in the database.\n",
      "Node entity with properties: {handle: 'Diagnosis', model: 'CDA', nanoid: 'eHcQjN'} already exists in the database.\n",
      "Node entity with properties: {handle: 'diagnosis', model: 'GDC', nanoid: 'm9Erxe'} already exists in the database.\n",
      "Ensuring has_property relationship exists between src node with properties: {handle: 'Diagnosis', model: 'CDA', nanoid: 'eHcQjN'} to dst property with properties: {handle: 'grade', model: 'CDA', nanoid: 'WQSaGv'}\n",
      "Ensuring has_property relationship exists between src node with properties: {handle: 'diagnosis', model: 'GDC', nanoid: 'm9Erxe'} to dst property with properties: {handle: 'tumor_grade', model: 'GDC', nanoid: '12YJip'}\n",
      "Both entities are already connected via Concept kBqcQM\n",
      "Property entity with properties: {handle: 'method_of_diagnosis', model: 'CDA', nanoid: '2MruqJ'} already exists in the database.\n",
      "Property entity with properties: {handle: 'method_of_diagnosis', model: 'GDC', nanoid: 'JqhE6B'} already exists in the database.\n",
      "Node entity with properties: {handle: 'Diagnosis', model: 'CDA', nanoid: 'eHcQjN'} already exists in the database.\n",
      "Node entity with properties: {handle: 'diagnosis', model: 'GDC', nanoid: 'm9Erxe'} already exists in the database.\n",
      "Ensuring has_property relationship exists between src node with properties: {handle: 'Diagnosis', model: 'CDA', nanoid: 'eHcQjN'} to dst property with properties: {handle: 'method_of_diagnosis', model: 'CDA', nanoid: '2MruqJ'}\n",
      "Ensuring has_property relationship exists between src node with properties: {handle: 'diagnosis', model: 'GDC', nanoid: 'm9Erxe'} to dst property with properties: {handle: 'method_of_diagnosis', model: 'GDC', nanoid: 'JqhE6B'}\n",
      "Both entities are already connected via Concept 3xhfZy\n",
      "Property entity with properties: {handle: 'id', model: 'CDA', nanoid: 'shxj6m'} already exists in the database.\n",
      "Property entity with properties: {handle: 'diagnosis_id', model: 'PDC', nanoid: 'Yu5TGE'} already exists in the database.\n",
      "Node entity with properties: {handle: 'Diagnosis', model: 'CDA', nanoid: 'eHcQjN'} already exists in the database.\n",
      "Node entity with properties: {handle: 'diagnosis', model: 'PDC', nanoid: 'GsGdn3'} already exists in the database.\n",
      "Ensuring has_property relationship exists between src node with properties: {handle: 'Diagnosis', model: 'CDA', nanoid: 'eHcQjN'} to dst property with properties: {handle: 'id', model: 'CDA', nanoid: 'shxj6m'}\n",
      "Ensuring has_property relationship exists between src node with properties: {handle: 'diagnosis', model: 'PDC', nanoid: 'GsGdn3'} to dst property with properties: {handle: 'diagnosis_id', model: 'PDC', nanoid: 'Yu5TGE'}\n",
      "Both entities are already connected via Concept Cob2kH\n",
      "Property entity with properties: {handle: 'identifier', model: 'CDA', nanoid: 'U3hdex'} already exists in the database.\n",
      "Property entity with properties: {handle: 'diagnosis_id', model: 'PDC', nanoid: 'Yu5TGE'} already exists in the database.\n",
      "Node entity with properties: {handle: 'Diagnosis', model: 'CDA', nanoid: 'eHcQjN'} already exists in the database.\n",
      "Node entity with properties: {handle: 'diagnosis', model: 'PDC', nanoid: 'GsGdn3'} already exists in the database.\n",
      "Ensuring has_property relationship exists between src node with properties: {handle: 'Diagnosis', model: 'CDA', nanoid: 'eHcQjN'} to dst property with properties: {handle: 'identifier', model: 'CDA', nanoid: 'U3hdex'}\n",
      "Ensuring has_property relationship exists between src node with properties: {handle: 'diagnosis', model: 'PDC', nanoid: 'GsGdn3'} to dst property with properties: {handle: 'diagnosis_id', model: 'PDC', nanoid: 'Yu5TGE'}\n",
      "Both entities are already connected via Concept Cob2kH\n",
      "Property entity with properties: {handle: 'primary_diagnosis', model: 'CDA', nanoid: 'q7zDAR'} already exists in the database.\n",
      "Property entity with properties: {handle: 'primary_diagnosis', model: 'PDC', nanoid: '04nWmv'} already exists in the database.\n",
      "Node entity with properties: {handle: 'Diagnosis', model: 'CDA', nanoid: 'eHcQjN'} already exists in the database.\n",
      "Node entity with properties: {handle: 'diagnosis', model: 'PDC', nanoid: 'GsGdn3'} already exists in the database.\n",
      "Ensuring has_property relationship exists between src node with properties: {handle: 'Diagnosis', model: 'CDA', nanoid: 'eHcQjN'} to dst property with properties: {handle: 'primary_diagnosis', model: 'CDA', nanoid: 'q7zDAR'}\n",
      "Ensuring has_property relationship exists between src node with properties: {handle: 'diagnosis', model: 'PDC', nanoid: 'GsGdn3'} to dst property with properties: {handle: 'primary_diagnosis', model: 'PDC', nanoid: '04nWmv'}\n",
      "Both entities are already connected via Concept RmWrZn\n",
      "Property entity with properties: {handle: 'age_at_diagnosis', model: 'CDA', nanoid: 'PeJCfN'} already exists in the database.\n",
      "Property entity with properties: {handle: 'age_at_diagnosis', model: 'PDC', nanoid: '67cC6s'} already exists in the database.\n",
      "Node entity with properties: {handle: 'Diagnosis', model: 'CDA', nanoid: 'eHcQjN'} already exists in the database.\n",
      "Node entity with properties: {handle: 'diagnosis', model: 'PDC', nanoid: 'GsGdn3'} already exists in the database.\n",
      "Ensuring has_property relationship exists between src node with properties: {handle: 'Diagnosis', model: 'CDA', nanoid: 'eHcQjN'} to dst property with properties: {handle: 'age_at_diagnosis', model: 'CDA', nanoid: 'PeJCfN'}\n",
      "Ensuring has_property relationship exists between src node with properties: {handle: 'diagnosis', model: 'PDC', nanoid: 'GsGdn3'} to dst property with properties: {handle: 'age_at_diagnosis', model: 'PDC', nanoid: '67cC6s'}\n",
      "Both entities are already connected via Concept JjUvmz\n",
      "Property entity with properties: {handle: 'morphology', model: 'CDA', nanoid: 'coJAZR'} already exists in the database.\n",
      "Property entity with properties: {handle: 'morphology', model: 'PDC', nanoid: '6r60K9'} already exists in the database.\n",
      "Node entity with properties: {handle: 'Diagnosis', model: 'CDA', nanoid: 'eHcQjN'} already exists in the database.\n",
      "Node entity with properties: {handle: 'diagnosis', model: 'PDC', nanoid: 'GsGdn3'} already exists in the database.\n",
      "Ensuring has_property relationship exists between src node with properties: {handle: 'Diagnosis', model: 'CDA', nanoid: 'eHcQjN'} to dst property with properties: {handle: 'morphology', model: 'CDA', nanoid: 'coJAZR'}\n",
      "Ensuring has_property relationship exists between src node with properties: {handle: 'diagnosis', model: 'PDC', nanoid: 'GsGdn3'} to dst property with properties: {handle: 'morphology', model: 'PDC', nanoid: '6r60K9'}\n",
      "Both entities are already connected via Concept 0kuRMJ\n",
      "Property entity with properties: {handle: 'stage', model: 'CDA', nanoid: 'yk1sCV'} already exists in the database.\n",
      "Property entity with properties: {handle: 'tumor_stage', model: 'PDC', nanoid: '79dy7w'} already exists in the database.\n",
      "Node entity with properties: {handle: 'Diagnosis', model: 'CDA', nanoid: 'eHcQjN'} already exists in the database.\n",
      "Node entity with properties: {handle: 'diagnosis', model: 'PDC', nanoid: 'GsGdn3'} already exists in the database.\n",
      "Ensuring has_property relationship exists between src node with properties: {handle: 'Diagnosis', model: 'CDA', nanoid: 'eHcQjN'} to dst property with properties: {handle: 'stage', model: 'CDA', nanoid: 'yk1sCV'}\n",
      "Ensuring has_property relationship exists between src node with properties: {handle: 'diagnosis', model: 'PDC', nanoid: 'GsGdn3'} to dst property with properties: {handle: 'tumor_stage', model: 'PDC', nanoid: '79dy7w'}\n",
      "Both entities are already connected via Concept Kk3n1a\n",
      "Property entity with properties: {handle: 'grade', model: 'CDA', nanoid: 'WQSaGv'} already exists in the database.\n",
      "Property entity with properties: {handle: 'tumor_grade', model: 'PDC', nanoid: 'wKdNy4'} already exists in the database.\n",
      "Node entity with properties: {handle: 'Diagnosis', model: 'CDA', nanoid: 'eHcQjN'} already exists in the database.\n",
      "Node entity with properties: {handle: 'diagnosis', model: 'PDC', nanoid: 'GsGdn3'} already exists in the database.\n",
      "Ensuring has_property relationship exists between src node with properties: {handle: 'Diagnosis', model: 'CDA', nanoid: 'eHcQjN'} to dst property with properties: {handle: 'grade', model: 'CDA', nanoid: 'WQSaGv'}\n",
      "Ensuring has_property relationship exists between src node with properties: {handle: 'diagnosis', model: 'PDC', nanoid: 'GsGdn3'} to dst property with properties: {handle: 'tumor_grade', model: 'PDC', nanoid: 'wKdNy4'}\n",
      "Both entities are already connected via Concept kBqcQM\n",
      "Property entity with properties: {handle: 'method_of_diagnosis', model: 'CDA', nanoid: '2MruqJ'} already exists in the database.\n",
      "Property entity with properties: {handle: 'method_of_diagnosis', model: 'PDC', nanoid: '9zEDpR'} already exists in the database.\n",
      "Node entity with properties: {handle: 'Diagnosis', model: 'CDA', nanoid: 'eHcQjN'} already exists in the database.\n",
      "Node entity with properties: {handle: 'diagnosis', model: 'PDC', nanoid: 'GsGdn3'} already exists in the database.\n",
      "Ensuring has_property relationship exists between src node with properties: {handle: 'Diagnosis', model: 'CDA', nanoid: 'eHcQjN'} to dst property with properties: {handle: 'method_of_diagnosis', model: 'CDA', nanoid: '2MruqJ'}\n",
      "Ensuring has_property relationship exists between src node with properties: {handle: 'diagnosis', model: 'PDC', nanoid: 'GsGdn3'} to dst property with properties: {handle: 'method_of_diagnosis', model: 'PDC', nanoid: '9zEDpR'}\n",
      "Both entities are already connected via Concept 3xhfZy\n",
      "Property entity with properties: {handle: 'id', model: 'CDA', nanoid: 'CQi0dK'} already exists in the database.\n",
      "Property entity with properties: {handle: 'treatment_id', model: 'GDC', nanoid: '2vdJry'} already exists in the database.\n",
      "Node entity with properties: {handle: 'Treatment', model: 'CDA', nanoid: 'RrDWHh'} already exists in the database.\n",
      "Node entity with properties: {handle: 'treatment', model: 'GDC', nanoid: 'qZZYvu'} already exists in the database.\n",
      "Ensuring has_property relationship exists between src node with properties: {handle: 'Treatment', model: 'CDA', nanoid: 'RrDWHh'} to dst property with properties: {handle: 'id', model: 'CDA', nanoid: 'CQi0dK'}\n",
      "Ensuring has_property relationship exists between src node with properties: {handle: 'treatment', model: 'GDC', nanoid: 'qZZYvu'} to dst property with properties: {handle: 'treatment_id', model: 'GDC', nanoid: '2vdJry'}\n",
      "Both entities are already connected via Concept unvxX1\n",
      "Property entity with properties: {handle: 'identifier', model: 'CDA', nanoid: '8zDB1p'} already exists in the database.\n",
      "Property entity with properties: {handle: 'treatment_id', model: 'GDC', nanoid: '2vdJry'} already exists in the database.\n",
      "Node entity with properties: {handle: 'Treatment', model: 'CDA', nanoid: 'RrDWHh'} already exists in the database.\n",
      "Node entity with properties: {handle: 'treatment', model: 'GDC', nanoid: 'qZZYvu'} already exists in the database.\n",
      "Ensuring has_property relationship exists between src node with properties: {handle: 'Treatment', model: 'CDA', nanoid: 'RrDWHh'} to dst property with properties: {handle: 'identifier', model: 'CDA', nanoid: '8zDB1p'}\n",
      "Ensuring has_property relationship exists between src node with properties: {handle: 'treatment', model: 'GDC', nanoid: 'qZZYvu'} to dst property with properties: {handle: 'treatment_id', model: 'GDC', nanoid: '2vdJry'}\n",
      "Both entities are already connected via Concept unvxX1\n",
      "Property entity with properties: {handle: 'treatment_type', model: 'CDA', nanoid: '2w7Hzi'} already exists in the database.\n",
      "Property entity with properties: {handle: 'treatment_type', model: 'GDC', nanoid: 'P9QtMP'} already exists in the database.\n",
      "Node entity with properties: {handle: 'Treatment', model: 'CDA', nanoid: 'RrDWHh'} already exists in the database.\n",
      "Node entity with properties: {handle: 'treatment', model: 'GDC', nanoid: 'qZZYvu'} already exists in the database.\n",
      "Ensuring has_property relationship exists between src node with properties: {handle: 'Treatment', model: 'CDA', nanoid: 'RrDWHh'} to dst property with properties: {handle: 'treatment_type', model: 'CDA', nanoid: '2w7Hzi'}\n",
      "Ensuring has_property relationship exists between src node with properties: {handle: 'treatment', model: 'GDC', nanoid: 'qZZYvu'} to dst property with properties: {handle: 'treatment_type', model: 'GDC', nanoid: 'P9QtMP'}\n",
      "Both entities are already connected via Concept MntAN6\n",
      "Property entity with properties: {handle: 'treatment_outcome', model: 'CDA', nanoid: 'i2yAzU'} already exists in the database.\n",
      "Property entity with properties: {handle: 'treatment_outcome', model: 'GDC', nanoid: 'Hd0ANN'} already exists in the database.\n",
      "Node entity with properties: {handle: 'Treatment', model: 'CDA', nanoid: 'RrDWHh'} already exists in the database.\n",
      "Node entity with properties: {handle: 'treatment', model: 'GDC', nanoid: 'qZZYvu'} already exists in the database.\n",
      "Ensuring has_property relationship exists between src node with properties: {handle: 'Treatment', model: 'CDA', nanoid: 'RrDWHh'} to dst property with properties: {handle: 'treatment_outcome', model: 'CDA', nanoid: 'i2yAzU'}\n",
      "Ensuring has_property relationship exists between src node with properties: {handle: 'treatment', model: 'GDC', nanoid: 'qZZYvu'} to dst property with properties: {handle: 'treatment_outcome', model: 'GDC', nanoid: 'Hd0ANN'}\n",
      "Both entities are already connected via Concept F8EnCc\n",
      "Property entity with properties: {handle: 'days_to_treatment_start', model: 'CDA', nanoid: 'HHRb6o'} already exists in the database.\n",
      "Property entity with properties: {handle: 'days_to_treatment_start', model: 'GDC', nanoid: 'ZGPvyD'} already exists in the database.\n",
      "Node entity with properties: {handle: 'Treatment', model: 'CDA', nanoid: 'RrDWHh'} already exists in the database.\n",
      "Node entity with properties: {handle: 'treatment', model: 'GDC', nanoid: 'qZZYvu'} already exists in the database.\n",
      "Ensuring has_property relationship exists between src node with properties: {handle: 'Treatment', model: 'CDA', nanoid: 'RrDWHh'} to dst property with properties: {handle: 'days_to_treatment_start', model: 'CDA', nanoid: 'HHRb6o'}\n",
      "Ensuring has_property relationship exists between src node with properties: {handle: 'treatment', model: 'GDC', nanoid: 'qZZYvu'} to dst property with properties: {handle: 'days_to_treatment_start', model: 'GDC', nanoid: 'ZGPvyD'}\n",
      "Both entities are already connected via Concept G4Qbvg\n",
      "Property entity with properties: {handle: 'days_to_treatment_end', model: 'CDA', nanoid: 'YR3cKz'} already exists in the database.\n",
      "Property entity with properties: {handle: 'days_to_treatment_end', model: 'GDC', nanoid: 'nhd5T9'} already exists in the database.\n",
      "Node entity with properties: {handle: 'Treatment', model: 'CDA', nanoid: 'RrDWHh'} already exists in the database.\n",
      "Node entity with properties: {handle: 'treatment', model: 'GDC', nanoid: 'qZZYvu'} already exists in the database.\n",
      "Ensuring has_property relationship exists between src node with properties: {handle: 'Treatment', model: 'CDA', nanoid: 'RrDWHh'} to dst property with properties: {handle: 'days_to_treatment_end', model: 'CDA', nanoid: 'YR3cKz'}\n",
      "Ensuring has_property relationship exists between src node with properties: {handle: 'treatment', model: 'GDC', nanoid: 'qZZYvu'} to dst property with properties: {handle: 'days_to_treatment_end', model: 'GDC', nanoid: 'nhd5T9'}\n",
      "Both entities are already connected via Concept fzVrfP\n",
      "Property entity with properties: {handle: 'therapeutic_agent', model: 'CDA', nanoid: 'S0AKQX'} already exists in the database.\n",
      "Property entity with properties: {handle: 'therapeutic_agents', model: 'GDC', nanoid: 'nrCvuM'} already exists in the database.\n",
      "Node entity with properties: {handle: 'Treatment', model: 'CDA', nanoid: 'RrDWHh'} already exists in the database.\n",
      "Node entity with properties: {handle: 'treatment', model: 'GDC', nanoid: 'qZZYvu'} already exists in the database.\n",
      "Ensuring has_property relationship exists between src node with properties: {handle: 'Treatment', model: 'CDA', nanoid: 'RrDWHh'} to dst property with properties: {handle: 'therapeutic_agent', model: 'CDA', nanoid: 'S0AKQX'}\n",
      "Ensuring has_property relationship exists between src node with properties: {handle: 'treatment', model: 'GDC', nanoid: 'qZZYvu'} to dst property with properties: {handle: 'therapeutic_agents', model: 'GDC', nanoid: 'nrCvuM'}\n",
      "Both entities are already connected via Concept 8vbumU\n",
      "Property entity with properties: {handle: 'treatment_anatomic_site', model: 'CDA', nanoid: 'GZ0YAi'} already exists in the database.\n",
      "Property entity with properties: {handle: 'treatment_anatomic_site', model: 'GDC', nanoid: 'MEmio2'} already exists in the database.\n",
      "Node entity with properties: {handle: 'Treatment', model: 'CDA', nanoid: 'RrDWHh'} already exists in the database.\n",
      "Node entity with properties: {handle: 'treatment', model: 'GDC', nanoid: 'qZZYvu'} already exists in the database.\n",
      "Ensuring has_property relationship exists between src node with properties: {handle: 'Treatment', model: 'CDA', nanoid: 'RrDWHh'} to dst property with properties: {handle: 'treatment_anatomic_site', model: 'CDA', nanoid: 'GZ0YAi'}\n",
      "Ensuring has_property relationship exists between src node with properties: {handle: 'treatment', model: 'GDC', nanoid: 'qZZYvu'} to dst property with properties: {handle: 'treatment_anatomic_site', model: 'GDC', nanoid: 'MEmio2'}\n",
      "Both entities are already connected via Concept vWAicc\n",
      "Property entity with properties: {handle: 'treatment_effect', model: 'CDA', nanoid: 'qYtAKu'} already exists in the database.\n",
      "Property entity with properties: {handle: 'treatment_effect', model: 'GDC', nanoid: '2Hm9G1'} already exists in the database.\n",
      "Node entity with properties: {handle: 'Treatment', model: 'CDA', nanoid: 'RrDWHh'} already exists in the database.\n",
      "Node entity with properties: {handle: 'treatment', model: 'GDC', nanoid: 'qZZYvu'} already exists in the database.\n",
      "Ensuring has_property relationship exists between src node with properties: {handle: 'Treatment', model: 'CDA', nanoid: 'RrDWHh'} to dst property with properties: {handle: 'treatment_effect', model: 'CDA', nanoid: 'qYtAKu'}\n",
      "Ensuring has_property relationship exists between src node with properties: {handle: 'treatment', model: 'GDC', nanoid: 'qZZYvu'} to dst property with properties: {handle: 'treatment_effect', model: 'GDC', nanoid: '2Hm9G1'}\n",
      "Both entities are already connected via Concept hcnziX\n",
      "Property entity with properties: {handle: 'treatment_end_reason', model: 'CDA', nanoid: 'QB4Fvp'} already exists in the database.\n",
      "Property entity with properties: {handle: 'reason_treatment_ended', model: 'GDC', nanoid: '1605Zk'} already exists in the database.\n",
      "Node entity with properties: {handle: 'Treatment', model: 'CDA', nanoid: 'RrDWHh'} already exists in the database.\n",
      "Node entity with properties: {handle: 'treatment', model: 'GDC', nanoid: 'qZZYvu'} already exists in the database.\n",
      "Ensuring has_property relationship exists between src node with properties: {handle: 'Treatment', model: 'CDA', nanoid: 'RrDWHh'} to dst property with properties: {handle: 'treatment_end_reason', model: 'CDA', nanoid: 'QB4Fvp'}\n",
      "Ensuring has_property relationship exists between src node with properties: {handle: 'treatment', model: 'GDC', nanoid: 'qZZYvu'} to dst property with properties: {handle: 'reason_treatment_ended', model: 'GDC', nanoid: '1605Zk'}\n",
      "Both entities are already connected via Concept Cfw4oC\n",
      "Property entity with properties: {handle: 'number_of_cycles', model: 'CDA', nanoid: '6WDGyT'} already exists in the database.\n",
      "Property entity with properties: {handle: 'number_of_cycles', model: 'GDC', nanoid: 'QpEDs2'} already exists in the database.\n",
      "Node entity with properties: {handle: 'Treatment', model: 'CDA', nanoid: 'RrDWHh'} already exists in the database.\n",
      "Node entity with properties: {handle: 'treatment', model: 'GDC', nanoid: 'qZZYvu'} already exists in the database.\n",
      "Ensuring has_property relationship exists between src node with properties: {handle: 'Treatment', model: 'CDA', nanoid: 'RrDWHh'} to dst property with properties: {handle: 'number_of_cycles', model: 'CDA', nanoid: '6WDGyT'}\n",
      "Ensuring has_property relationship exists between src node with properties: {handle: 'treatment', model: 'GDC', nanoid: 'qZZYvu'} to dst property with properties: {handle: 'number_of_cycles', model: 'GDC', nanoid: 'QpEDs2'}\n",
      "Both entities are already connected via Concept BErXMz\n",
      "Property entity with properties: {handle: 'id', model: 'CDA', nanoid: 'CQi0dK'} already exists in the database.\n",
      "Property entity with properties: {handle: 'treatment_id', model: 'PDC', nanoid: 'byPaBG'} already exists in the database.\n",
      "Node entity with properties: {handle: 'Treatment', model: 'CDA', nanoid: 'RrDWHh'} already exists in the database.\n",
      "Node entity with properties: {handle: 'treatment', model: 'PDC', nanoid: 'aVRss4'} already exists in the database.\n",
      "Ensuring has_property relationship exists between src node with properties: {handle: 'Treatment', model: 'CDA', nanoid: 'RrDWHh'} to dst property with properties: {handle: 'id', model: 'CDA', nanoid: 'CQi0dK'}\n",
      "Ensuring has_property relationship exists between src node with properties: {handle: 'treatment', model: 'PDC', nanoid: 'aVRss4'} to dst property with properties: {handle: 'treatment_id', model: 'PDC', nanoid: 'byPaBG'}\n",
      "Both entities are already connected via Concept unvxX1\n",
      "Property entity with properties: {handle: 'identifier', model: 'CDA', nanoid: '8zDB1p'} already exists in the database.\n",
      "Property entity with properties: {handle: 'treatment_id', model: 'PDC', nanoid: 'byPaBG'} already exists in the database.\n",
      "Node entity with properties: {handle: 'Treatment', model: 'CDA', nanoid: 'RrDWHh'} already exists in the database.\n",
      "Node entity with properties: {handle: 'treatment', model: 'PDC', nanoid: 'aVRss4'} already exists in the database.\n",
      "Ensuring has_property relationship exists between src node with properties: {handle: 'Treatment', model: 'CDA', nanoid: 'RrDWHh'} to dst property with properties: {handle: 'identifier', model: 'CDA', nanoid: '8zDB1p'}\n",
      "Ensuring has_property relationship exists between src node with properties: {handle: 'treatment', model: 'PDC', nanoid: 'aVRss4'} to dst property with properties: {handle: 'treatment_id', model: 'PDC', nanoid: 'byPaBG'}\n",
      "Both entities are already connected via Concept unvxX1\n",
      "Property entity with properties: {handle: 'treatment_type', model: 'CDA', nanoid: '2w7Hzi'} already exists in the database.\n",
      "Property entity with properties: {handle: 'treatment_type', model: 'PDC', nanoid: 'stbvBp'} already exists in the database.\n",
      "Node entity with properties: {handle: 'Treatment', model: 'CDA', nanoid: 'RrDWHh'} already exists in the database.\n",
      "Node entity with properties: {handle: 'treatment', model: 'PDC', nanoid: 'aVRss4'} already exists in the database.\n",
      "Ensuring has_property relationship exists between src node with properties: {handle: 'Treatment', model: 'CDA', nanoid: 'RrDWHh'} to dst property with properties: {handle: 'treatment_type', model: 'CDA', nanoid: '2w7Hzi'}\n",
      "Ensuring has_property relationship exists between src node with properties: {handle: 'treatment', model: 'PDC', nanoid: 'aVRss4'} to dst property with properties: {handle: 'treatment_type', model: 'PDC', nanoid: 'stbvBp'}\n",
      "Both entities are already connected via Concept MntAN6\n",
      "Property entity with properties: {handle: 'treatment_outcome', model: 'CDA', nanoid: 'i2yAzU'} already exists in the database.\n",
      "Property entity with properties: {handle: 'treatment_outcome', model: 'PDC', nanoid: 'okXCev'} already exists in the database.\n",
      "Node entity with properties: {handle: 'Treatment', model: 'CDA', nanoid: 'RrDWHh'} already exists in the database.\n",
      "Node entity with properties: {handle: 'treatment', model: 'PDC', nanoid: 'aVRss4'} already exists in the database.\n",
      "Ensuring has_property relationship exists between src node with properties: {handle: 'Treatment', model: 'CDA', nanoid: 'RrDWHh'} to dst property with properties: {handle: 'treatment_outcome', model: 'CDA', nanoid: 'i2yAzU'}\n",
      "Ensuring has_property relationship exists between src node with properties: {handle: 'treatment', model: 'PDC', nanoid: 'aVRss4'} to dst property with properties: {handle: 'treatment_outcome', model: 'PDC', nanoid: 'okXCev'}\n",
      "Both entities are already connected via Concept F8EnCc\n",
      "Property entity with properties: {handle: 'days_to_treatment_start', model: 'CDA', nanoid: 'HHRb6o'} already exists in the database.\n",
      "Property entity with properties: {handle: 'days_to_treatment_start', model: 'PDC', nanoid: 'tPPnmJ'} already exists in the database.\n",
      "Node entity with properties: {handle: 'Treatment', model: 'CDA', nanoid: 'RrDWHh'} already exists in the database.\n",
      "Node entity with properties: {handle: 'treatment', model: 'PDC', nanoid: 'aVRss4'} already exists in the database.\n",
      "Ensuring has_property relationship exists between src node with properties: {handle: 'Treatment', model: 'CDA', nanoid: 'RrDWHh'} to dst property with properties: {handle: 'days_to_treatment_start', model: 'CDA', nanoid: 'HHRb6o'}\n",
      "Ensuring has_property relationship exists between src node with properties: {handle: 'treatment', model: 'PDC', nanoid: 'aVRss4'} to dst property with properties: {handle: 'days_to_treatment_start', model: 'PDC', nanoid: 'tPPnmJ'}\n",
      "Both entities are already connected via Concept G4Qbvg\n",
      "Property entity with properties: {handle: 'days_to_treatment_end', model: 'CDA', nanoid: 'YR3cKz'} already exists in the database.\n",
      "Property entity with properties: {handle: 'days_to_treatment_end', model: 'PDC', nanoid: 'FEyb8E'} already exists in the database.\n",
      "Node entity with properties: {handle: 'Treatment', model: 'CDA', nanoid: 'RrDWHh'} already exists in the database.\n",
      "Node entity with properties: {handle: 'treatment', model: 'PDC', nanoid: 'aVRss4'} already exists in the database.\n",
      "Ensuring has_property relationship exists between src node with properties: {handle: 'Treatment', model: 'CDA', nanoid: 'RrDWHh'} to dst property with properties: {handle: 'days_to_treatment_end', model: 'CDA', nanoid: 'YR3cKz'}\n",
      "Ensuring has_property relationship exists between src node with properties: {handle: 'treatment', model: 'PDC', nanoid: 'aVRss4'} to dst property with properties: {handle: 'days_to_treatment_end', model: 'PDC', nanoid: 'FEyb8E'}\n",
      "Both entities are already connected via Concept fzVrfP\n",
      "Property entity with properties: {handle: 'therapeutic_agent', model: 'CDA', nanoid: 'S0AKQX'} already exists in the database.\n",
      "Property entity with properties: {handle: 'therapeutic_agents', model: 'PDC', nanoid: 'pUgnoa'} already exists in the database.\n",
      "Node entity with properties: {handle: 'Treatment', model: 'CDA', nanoid: 'RrDWHh'} already exists in the database.\n",
      "Node entity with properties: {handle: 'treatment', model: 'PDC', nanoid: 'aVRss4'} already exists in the database.\n",
      "Ensuring has_property relationship exists between src node with properties: {handle: 'Treatment', model: 'CDA', nanoid: 'RrDWHh'} to dst property with properties: {handle: 'therapeutic_agent', model: 'CDA', nanoid: 'S0AKQX'}\n",
      "Ensuring has_property relationship exists between src node with properties: {handle: 'treatment', model: 'PDC', nanoid: 'aVRss4'} to dst property with properties: {handle: 'therapeutic_agents', model: 'PDC', nanoid: 'pUgnoa'}\n",
      "Both entities are already connected via Concept 8vbumU\n",
      "Property entity with properties: {handle: 'treatment_anatomic_site', model: 'CDA', nanoid: 'GZ0YAi'} already exists in the database.\n",
      "Property entity with properties: {handle: 'treatment_anatomic_site', model: 'PDC', nanoid: 'WBZ2V5'} already exists in the database.\n",
      "Node entity with properties: {handle: 'Treatment', model: 'CDA', nanoid: 'RrDWHh'} already exists in the database.\n",
      "Node entity with properties: {handle: 'treatment', model: 'PDC', nanoid: 'aVRss4'} already exists in the database.\n",
      "Ensuring has_property relationship exists between src node with properties: {handle: 'Treatment', model: 'CDA', nanoid: 'RrDWHh'} to dst property with properties: {handle: 'treatment_anatomic_site', model: 'CDA', nanoid: 'GZ0YAi'}\n",
      "Ensuring has_property relationship exists between src node with properties: {handle: 'treatment', model: 'PDC', nanoid: 'aVRss4'} to dst property with properties: {handle: 'treatment_anatomic_site', model: 'PDC', nanoid: 'WBZ2V5'}\n",
      "Both entities are already connected via Concept vWAicc\n",
      "Property entity with properties: {handle: 'treatment_effect', model: 'CDA', nanoid: 'qYtAKu'} already exists in the database.\n",
      "Property entity with properties: {handle: 'treatment_effect', model: 'PDC', nanoid: 'TDrqNG'} already exists in the database.\n",
      "Node entity with properties: {handle: 'Treatment', model: 'CDA', nanoid: 'RrDWHh'} already exists in the database.\n",
      "Node entity with properties: {handle: 'treatment', model: 'PDC', nanoid: 'aVRss4'} already exists in the database.\n",
      "Ensuring has_property relationship exists between src node with properties: {handle: 'Treatment', model: 'CDA', nanoid: 'RrDWHh'} to dst property with properties: {handle: 'treatment_effect', model: 'CDA', nanoid: 'qYtAKu'}\n",
      "Ensuring has_property relationship exists between src node with properties: {handle: 'treatment', model: 'PDC', nanoid: 'aVRss4'} to dst property with properties: {handle: 'treatment_effect', model: 'PDC', nanoid: 'TDrqNG'}\n",
      "Both entities are already connected via Concept hcnziX\n",
      "Property entity with properties: {handle: 'treatment_end_reason', model: 'CDA', nanoid: 'QB4Fvp'} already exists in the database.\n",
      "Property entity with properties: {handle: 'reason_treatment_ended', model: 'PDC', nanoid: 'MFJFng'} already exists in the database.\n",
      "Node entity with properties: {handle: 'Treatment', model: 'CDA', nanoid: 'RrDWHh'} already exists in the database.\n",
      "Node entity with properties: {handle: 'treatment', model: 'PDC', nanoid: 'aVRss4'} already exists in the database.\n",
      "Ensuring has_property relationship exists between src node with properties: {handle: 'Treatment', model: 'CDA', nanoid: 'RrDWHh'} to dst property with properties: {handle: 'treatment_end_reason', model: 'CDA', nanoid: 'QB4Fvp'}\n",
      "Ensuring has_property relationship exists between src node with properties: {handle: 'treatment', model: 'PDC', nanoid: 'aVRss4'} to dst property with properties: {handle: 'reason_treatment_ended', model: 'PDC', nanoid: 'MFJFng'}\n",
      "Both entities are already connected via Concept Cfw4oC\n",
      "Property entity with properties: {handle: 'number_of_cycles', model: 'CDA', nanoid: '6WDGyT'} already exists in the database.\n",
      "Property entity with properties: {handle: 'number_of_cycles', model: 'PDC', nanoid: 'hCqvpF'} already exists in the database.\n",
      "Node entity with properties: {handle: 'Treatment', model: 'CDA', nanoid: 'RrDWHh'} already exists in the database.\n",
      "Node entity with properties: {handle: 'treatment', model: 'PDC', nanoid: 'aVRss4'} already exists in the database.\n",
      "Ensuring has_property relationship exists between src node with properties: {handle: 'Treatment', model: 'CDA', nanoid: 'RrDWHh'} to dst property with properties: {handle: 'number_of_cycles', model: 'CDA', nanoid: '6WDGyT'}\n",
      "Ensuring has_property relationship exists between src node with properties: {handle: 'treatment', model: 'PDC', nanoid: 'aVRss4'} to dst property with properties: {handle: 'number_of_cycles', model: 'PDC', nanoid: 'hCqvpF'}\n",
      "Both entities are already connected via Concept BErXMz\n",
      "Property entity with properties: {handle: 'associated_project', model: 'CDA', nanoid: 'xmQA43'} already exists in the database.\n",
      "Property entity with properties: {handle: 'project_id', model: 'GDC', nanoid: 'm6B8u6'} already exists in the database.\n",
      "Node entity with properties: {handle: 'Specimen', model: 'CDA', nanoid: 'SSey1u'} already exists in the database.\n",
      "Node entity with properties: {handle: 'project', model: 'GDC', nanoid: 'MzqVRa'} already exists in the database.\n",
      "Ensuring has_property relationship exists between src node with properties: {handle: 'Specimen', model: 'CDA', nanoid: 'SSey1u'} to dst property with properties: {handle: 'associated_project', model: 'CDA', nanoid: 'xmQA43'}\n",
      "Ensuring has_property relationship exists between src node with properties: {handle: 'project', model: 'GDC', nanoid: 'MzqVRa'} to dst property with properties: {handle: 'project_id', model: 'GDC', nanoid: 'm6B8u6'}\n",
      "Both entities are already connected via Concept Mcqnte\n",
      "Property entity with properties: {handle: 'days_to_collection', model: 'CDA', nanoid: 'NWHWf1'} already exists in the database.\n",
      "Property entity with properties: {handle: 'days_to_sample_procurement', model: 'GDC', nanoid: 'oxKpZe'} already exists in the database.\n",
      "Node entity with properties: {handle: 'Specimen', model: 'CDA', nanoid: 'SSey1u'} already exists in the database.\n",
      "Node entity with properties: {handle: 'sample', model: 'GDC', nanoid: 'T9tbE1'} already exists in the database.\n",
      "Ensuring has_property relationship exists between src node with properties: {handle: 'Specimen', model: 'CDA', nanoid: 'SSey1u'} to dst property with properties: {handle: 'days_to_collection', model: 'CDA', nanoid: 'NWHWf1'}\n",
      "Ensuring has_property relationship exists between src node with properties: {handle: 'sample', model: 'GDC', nanoid: 'T9tbE1'} to dst property with properties: {handle: 'days_to_sample_procurement', model: 'GDC', nanoid: 'oxKpZe'}\n",
      "Both entities are already connected via Concept uvBG6A\n",
      "Property entity with properties: {handle: 'primary_disease_type', model: 'CDA', nanoid: '5jzFhq'} already exists in the database.\n",
      "Property entity with properties: {handle: 'disease_type', model: 'GDC', nanoid: 'QUdn6X'} already exists in the database.\n",
      "Node entity with properties: {handle: 'Specimen', model: 'CDA', nanoid: 'SSey1u'} already exists in the database.\n",
      "Node entity with properties: {handle: 'case', model: 'GDC', nanoid: 'ehMeUy'} already exists in the database.\n",
      "Ensuring has_property relationship exists between src node with properties: {handle: 'Specimen', model: 'CDA', nanoid: 'SSey1u'} to dst property with properties: {handle: 'primary_disease_type', model: 'CDA', nanoid: '5jzFhq'}\n",
      "Ensuring has_property relationship exists between src node with properties: {handle: 'case', model: 'GDC', nanoid: 'ehMeUy'} to dst property with properties: {handle: 'disease_type', model: 'GDC', nanoid: 'QUdn6X'}\n",
      "Both entities are already connected via Concept GRxW5h\n",
      "Property entity with properties: {handle: 'anatomical_site', model: 'CDA', nanoid: 'groNbv'} already exists in the database.\n",
      "Property entity with properties: {handle: 'biospecimen_anatomic_site', model: 'GDC', nanoid: 'Ra3y3b'} already exists in the database.\n",
      "Node entity with properties: {handle: 'Specimen', model: 'CDA', nanoid: 'SSey1u'} already exists in the database.\n",
      "Node entity with properties: {handle: 'sample', model: 'GDC', nanoid: 'T9tbE1'} already exists in the database.\n",
      "Ensuring has_property relationship exists between src node with properties: {handle: 'Specimen', model: 'CDA', nanoid: 'SSey1u'} to dst property with properties: {handle: 'anatomical_site', model: 'CDA', nanoid: 'groNbv'}\n",
      "Ensuring has_property relationship exists between src node with properties: {handle: 'sample', model: 'GDC', nanoid: 'T9tbE1'} to dst property with properties: {handle: 'biospecimen_anatomic_site', model: 'GDC', nanoid: 'Ra3y3b'}\n",
      "Both entities are already connected via Concept FU7w7u\n",
      "Property entity with properties: {handle: 'source_material_type', model: 'CDA', nanoid: 'Bq8HFr'} already exists in the database.\n",
      "Property entity with properties: {handle: 'sample_type', model: 'GDC', nanoid: 'kQvkrJ'} already exists in the database.\n",
      "Node entity with properties: {handle: 'Specimen', model: 'CDA', nanoid: 'SSey1u'} already exists in the database.\n",
      "Node entity with properties: {handle: 'sample', model: 'GDC', nanoid: 'T9tbE1'} already exists in the database.\n",
      "Ensuring has_property relationship exists between src node with properties: {handle: 'Specimen', model: 'CDA', nanoid: 'SSey1u'} to dst property with properties: {handle: 'source_material_type', model: 'CDA', nanoid: 'Bq8HFr'}\n",
      "Ensuring has_property relationship exists between src node with properties: {handle: 'sample', model: 'GDC', nanoid: 'T9tbE1'} to dst property with properties: {handle: 'sample_type', model: 'GDC', nanoid: 'kQvkrJ'}\n",
      "Both entities are already connected via Concept ukbq42\n",
      "Property entity with properties: {handle: 'derived_from_subject', model: 'CDA', nanoid: '7hVEyU'} already exists in the database.\n",
      "Property entity with properties: {handle: 'submitter_id', model: 'GDC', nanoid: '2uPJme'} already exists in the database.\n",
      "Node entity with properties: {handle: 'Specimen', model: 'CDA', nanoid: 'SSey1u'} already exists in the database.\n",
      "Node entity with properties: {handle: 'case', model: 'GDC', nanoid: 'ehMeUy'} already exists in the database.\n",
      "Ensuring has_property relationship exists between src node with properties: {handle: 'Specimen', model: 'CDA', nanoid: 'SSey1u'} to dst property with properties: {handle: 'derived_from_subject', model: 'CDA', nanoid: '7hVEyU'}\n",
      "Ensuring has_property relationship exists between src node with properties: {handle: 'case', model: 'GDC', nanoid: 'ehMeUy'} to dst property with properties: {handle: 'submitter_id', model: 'GDC', nanoid: '2uPJme'}\n",
      "Both entities are already connected via Concept RmXiVN\n",
      "Property entity with properties: {handle: 'associated_project', model: 'CDA', nanoid: 'xmQA43'} already exists in the database.\n",
      "Property entity with properties: {handle: 'project_submitter_id', model: 'PDC', nanoid: 'ixChuw'} already exists in the database.\n",
      "Node entity with properties: {handle: 'Specimen', model: 'CDA', nanoid: 'SSey1u'} already exists in the database.\n",
      "Node entity with properties: {handle: 'case', model: 'PDC', nanoid: '7oXU6m'} already exists in the database.\n",
      "Ensuring has_property relationship exists between src node with properties: {handle: 'Specimen', model: 'CDA', nanoid: 'SSey1u'} to dst property with properties: {handle: 'associated_project', model: 'CDA', nanoid: 'xmQA43'}\n",
      "Ensuring has_property relationship exists between src node with properties: {handle: 'case', model: 'PDC', nanoid: '7oXU6m'} to dst property with properties: {handle: 'project_submitter_id', model: 'PDC', nanoid: 'ixChuw'}\n",
      "Both entities are already connected via Concept Mcqnte\n",
      "Property entity with properties: {handle: 'days_to_collection', model: 'CDA', nanoid: 'NWHWf1'} already exists in the database.\n",
      "Property entity with properties: {handle: 'days_to_sample_procurement', model: 'PDC', nanoid: '9vfhH4'} already exists in the database.\n",
      "Node entity with properties: {handle: 'Specimen', model: 'CDA', nanoid: 'SSey1u'} already exists in the database.\n",
      "Node entity with properties: {handle: 'sample', model: 'PDC', nanoid: 'ozhDb8'} already exists in the database.\n",
      "Ensuring has_property relationship exists between src node with properties: {handle: 'Specimen', model: 'CDA', nanoid: 'SSey1u'} to dst property with properties: {handle: 'days_to_collection', model: 'CDA', nanoid: 'NWHWf1'}\n",
      "Ensuring has_property relationship exists between src node with properties: {handle: 'sample', model: 'PDC', nanoid: 'ozhDb8'} to dst property with properties: {handle: 'days_to_sample_procurement', model: 'PDC', nanoid: '9vfhH4'}\n",
      "Both entities are already connected via Concept uvBG6A\n",
      "Property entity with properties: {handle: 'primary_disease_type', model: 'CDA', nanoid: '5jzFhq'} already exists in the database.\n",
      "Property entity with properties: {handle: 'disease_type', model: 'PDC', nanoid: 'UEnMij'} already exists in the database.\n",
      "Node entity with properties: {handle: 'Specimen', model: 'CDA', nanoid: 'SSey1u'} already exists in the database.\n",
      "Node entity with properties: {handle: 'case', model: 'PDC', nanoid: '7oXU6m'} already exists in the database.\n",
      "Ensuring has_property relationship exists between src node with properties: {handle: 'Specimen', model: 'CDA', nanoid: 'SSey1u'} to dst property with properties: {handle: 'primary_disease_type', model: 'CDA', nanoid: '5jzFhq'}\n",
      "Ensuring has_property relationship exists between src node with properties: {handle: 'case', model: 'PDC', nanoid: '7oXU6m'} to dst property with properties: {handle: 'disease_type', model: 'PDC', nanoid: 'UEnMij'}\n",
      "Both entities are already connected via Concept GRxW5h\n",
      "Property entity with properties: {handle: 'anatomical_site', model: 'CDA', nanoid: 'groNbv'} already exists in the database.\n",
      "Property entity with properties: {handle: 'biospecimen_anatomic_site', model: 'PDC', nanoid: '1Y0acp'} already exists in the database.\n",
      "Node entity with properties: {handle: 'Specimen', model: 'CDA', nanoid: 'SSey1u'} already exists in the database.\n",
      "Node entity with properties: {handle: 'sample', model: 'PDC', nanoid: 'ozhDb8'} already exists in the database.\n",
      "Ensuring has_property relationship exists between src node with properties: {handle: 'Specimen', model: 'CDA', nanoid: 'SSey1u'} to dst property with properties: {handle: 'anatomical_site', model: 'CDA', nanoid: 'groNbv'}\n",
      "Ensuring has_property relationship exists between src node with properties: {handle: 'sample', model: 'PDC', nanoid: 'ozhDb8'} to dst property with properties: {handle: 'biospecimen_anatomic_site', model: 'PDC', nanoid: '1Y0acp'}\n",
      "Both entities are already connected via Concept FU7w7u\n",
      "Property entity with properties: {handle: 'source_material_type', model: 'CDA', nanoid: 'Bq8HFr'} already exists in the database.\n",
      "Property entity with properties: {handle: 'sample_type', model: 'PDC', nanoid: 'jjwPsq'} already exists in the database.\n",
      "Node entity with properties: {handle: 'Specimen', model: 'CDA', nanoid: 'SSey1u'} already exists in the database.\n",
      "Node entity with properties: {handle: 'sample', model: 'PDC', nanoid: 'ozhDb8'} already exists in the database.\n",
      "Ensuring has_property relationship exists between src node with properties: {handle: 'Specimen', model: 'CDA', nanoid: 'SSey1u'} to dst property with properties: {handle: 'source_material_type', model: 'CDA', nanoid: 'Bq8HFr'}\n",
      "Ensuring has_property relationship exists between src node with properties: {handle: 'sample', model: 'PDC', nanoid: 'ozhDb8'} to dst property with properties: {handle: 'sample_type', model: 'PDC', nanoid: 'jjwPsq'}\n",
      "Both entities are already connected via Concept ukbq42\n",
      "Property entity with properties: {handle: 'derived_from_subject', model: 'CDA', nanoid: '7hVEyU'} already exists in the database.\n",
      "Property entity with properties: {handle: 'case_submitter_id', model: 'PDC', nanoid: 'i4ia88'} already exists in the database.\n",
      "Node entity with properties: {handle: 'Specimen', model: 'CDA', nanoid: 'SSey1u'} already exists in the database.\n",
      "Node entity with properties: {handle: 'case', model: 'PDC', nanoid: '7oXU6m'} already exists in the database.\n",
      "Ensuring has_property relationship exists between src node with properties: {handle: 'Specimen', model: 'CDA', nanoid: 'SSey1u'} to dst property with properties: {handle: 'derived_from_subject', model: 'CDA', nanoid: '7hVEyU'}\n",
      "Ensuring has_property relationship exists between src node with properties: {handle: 'case', model: 'PDC', nanoid: '7oXU6m'} to dst property with properties: {handle: 'case_submitter_id', model: 'PDC', nanoid: 'i4ia88'}\n",
      "Both entities are already connected via Concept RmXiVN\n",
      "Property entity with properties: {handle: 'id', model: 'CDA', nanoid: 'D8qXyH'} already exists in the database.\n",
      "Property entity with properties: {handle: 'file_id', model: 'GDC', nanoid: 'rVxB0N'} already exists in the database.\n",
      "Node entity with properties: {handle: 'File', model: 'CDA', nanoid: 'fMCEZR'} already exists in the database.\n",
      "Node entity with properties: {handle: 'file', model: 'GDC', nanoid: 'm46sVy'} already exists in the database.\n",
      "Ensuring has_property relationship exists between src node with properties: {handle: 'File', model: 'CDA', nanoid: 'fMCEZR'} to dst property with properties: {handle: 'id', model: 'CDA', nanoid: 'D8qXyH'}\n",
      "Ensuring has_property relationship exists between src node with properties: {handle: 'file', model: 'GDC', nanoid: 'm46sVy'} to dst property with properties: {handle: 'file_id', model: 'GDC', nanoid: 'rVxB0N'}\n",
      "Both entities are already connected via Concept 0j7zCi\n",
      "Property entity with properties: {handle: 'identifier', model: 'CDA', nanoid: 'MjBkRF'} already exists in the database.\n",
      "Property entity with properties: {handle: 'file_id', model: 'GDC', nanoid: 'rVxB0N'} already exists in the database.\n",
      "Node entity with properties: {handle: 'File', model: 'CDA', nanoid: 'fMCEZR'} already exists in the database.\n",
      "Node entity with properties: {handle: 'file', model: 'GDC', nanoid: 'm46sVy'} already exists in the database.\n",
      "Ensuring has_property relationship exists between src node with properties: {handle: 'File', model: 'CDA', nanoid: 'fMCEZR'} to dst property with properties: {handle: 'identifier', model: 'CDA', nanoid: 'MjBkRF'}\n",
      "Ensuring has_property relationship exists between src node with properties: {handle: 'file', model: 'GDC', nanoid: 'm46sVy'} to dst property with properties: {handle: 'file_id', model: 'GDC', nanoid: 'rVxB0N'}\n",
      "Both entities are already connected via Concept 0j7zCi\n",
      "Property entity with properties: {handle: 'label', model: 'CDA', nanoid: 'zrddFk'} already exists in the database.\n",
      "Property entity with properties: {handle: 'file_name', model: 'GDC', nanoid: 'v3HYCa'} already exists in the database.\n",
      "Node entity with properties: {handle: 'File', model: 'CDA', nanoid: 'fMCEZR'} already exists in the database.\n",
      "Node entity with properties: {handle: 'file', model: 'GDC', nanoid: 'm46sVy'} already exists in the database.\n",
      "Ensuring has_property relationship exists between src node with properties: {handle: 'File', model: 'CDA', nanoid: 'fMCEZR'} to dst property with properties: {handle: 'label', model: 'CDA', nanoid: 'zrddFk'}\n",
      "Ensuring has_property relationship exists between src node with properties: {handle: 'file', model: 'GDC', nanoid: 'm46sVy'} to dst property with properties: {handle: 'file_name', model: 'GDC', nanoid: 'v3HYCa'}\n",
      "Both entities are already connected via Concept RCJsyA\n",
      "Property entity with properties: {handle: 'data_category', model: 'CDA', nanoid: 'Yx01NF'} already exists in the database.\n",
      "Property entity with properties: {handle: 'data_category', model: 'GDC', nanoid: '8wCntZ'} already exists in the database.\n",
      "Node entity with properties: {handle: 'File', model: 'CDA', nanoid: 'fMCEZR'} already exists in the database.\n",
      "Node entity with properties: {handle: 'file', model: 'GDC', nanoid: 'm46sVy'} already exists in the database.\n",
      "Ensuring has_property relationship exists between src node with properties: {handle: 'File', model: 'CDA', nanoid: 'fMCEZR'} to dst property with properties: {handle: 'data_category', model: 'CDA', nanoid: 'Yx01NF'}\n",
      "Ensuring has_property relationship exists between src node with properties: {handle: 'file', model: 'GDC', nanoid: 'm46sVy'} to dst property with properties: {handle: 'data_category', model: 'GDC', nanoid: '8wCntZ'}\n",
      "Both entities are already connected via Concept TdPpyg\n",
      "Property entity with properties: {handle: 'data_type', model: 'CDA', nanoid: 'jbP9qP'} already exists in the database.\n",
      "Property entity with properties: {handle: 'data_type', model: 'GDC', nanoid: 'vGvpAf'} already exists in the database.\n",
      "Node entity with properties: {handle: 'File', model: 'CDA', nanoid: 'fMCEZR'} already exists in the database.\n",
      "Node entity with properties: {handle: 'file', model: 'GDC', nanoid: 'm46sVy'} already exists in the database.\n",
      "Ensuring has_property relationship exists between src node with properties: {handle: 'File', model: 'CDA', nanoid: 'fMCEZR'} to dst property with properties: {handle: 'data_type', model: 'CDA', nanoid: 'jbP9qP'}\n",
      "Ensuring has_property relationship exists between src node with properties: {handle: 'file', model: 'GDC', nanoid: 'm46sVy'} to dst property with properties: {handle: 'data_type', model: 'GDC', nanoid: 'vGvpAf'}\n",
      "Both entities are already connected via Concept WoUFtG\n",
      "Property entity with properties: {handle: 'file_format', model: 'CDA', nanoid: 'sYJApr'} already exists in the database.\n",
      "Property entity with properties: {handle: 'data_format', model: 'GDC', nanoid: 'FCAZ3V'} already exists in the database.\n",
      "Node entity with properties: {handle: 'File', model: 'CDA', nanoid: 'fMCEZR'} already exists in the database.\n",
      "Node entity with properties: {handle: 'file', model: 'GDC', nanoid: 'm46sVy'} already exists in the database.\n",
      "Ensuring has_property relationship exists between src node with properties: {handle: 'File', model: 'CDA', nanoid: 'fMCEZR'} to dst property with properties: {handle: 'file_format', model: 'CDA', nanoid: 'sYJApr'}\n",
      "Ensuring has_property relationship exists between src node with properties: {handle: 'file', model: 'GDC', nanoid: 'm46sVy'} to dst property with properties: {handle: 'data_format', model: 'GDC', nanoid: 'FCAZ3V'}\n",
      "Both entities are already connected via Concept bM8BrR\n",
      "Property entity with properties: {handle: 'associated_project', model: 'CDA', nanoid: 'Xcy7i7'} already exists in the database.\n",
      "Property entity with properties: {handle: 'project_id', model: 'GDC', nanoid: 'm6B8u6'} already exists in the database.\n",
      "Node entity with properties: {handle: 'File', model: 'CDA', nanoid: 'fMCEZR'} already exists in the database.\n",
      "Node entity with properties: {handle: 'project', model: 'GDC', nanoid: 'MzqVRa'} already exists in the database.\n",
      "Ensuring has_property relationship exists between src node with properties: {handle: 'File', model: 'CDA', nanoid: 'fMCEZR'} to dst property with properties: {handle: 'associated_project', model: 'CDA', nanoid: 'Xcy7i7'}\n",
      "Ensuring has_property relationship exists between src node with properties: {handle: 'project', model: 'GDC', nanoid: 'MzqVRa'} to dst property with properties: {handle: 'project_id', model: 'GDC', nanoid: 'm6B8u6'}\n",
      "Both entities are already connected via Concept Mcqnte\n",
      "Property entity with properties: {handle: 'drs_uri', model: 'CDA', nanoid: '46GyvG'} already exists in the database.\n",
      "Property entity with properties: {handle: 'file_id', model: 'GDC', nanoid: 'rVxB0N'} already exists in the database.\n",
      "Node entity with properties: {handle: 'File', model: 'CDA', nanoid: 'fMCEZR'} already exists in the database.\n",
      "Node entity with properties: {handle: 'file', model: 'GDC', nanoid: 'm46sVy'} already exists in the database.\n",
      "Ensuring has_property relationship exists between src node with properties: {handle: 'File', model: 'CDA', nanoid: 'fMCEZR'} to dst property with properties: {handle: 'drs_uri', model: 'CDA', nanoid: '46GyvG'}\n",
      "Ensuring has_property relationship exists between src node with properties: {handle: 'file', model: 'GDC', nanoid: 'm46sVy'} to dst property with properties: {handle: 'file_id', model: 'GDC', nanoid: 'rVxB0N'}\n",
      "Both entities are already connected via Concept 0j7zCi\n",
      "Property entity with properties: {handle: 'byte_size', model: 'CDA', nanoid: 'CVxoXC'} already exists in the database.\n",
      "Property entity with properties: {handle: 'file_size', model: 'GDC', nanoid: 'pr72Xm'} already exists in the database.\n",
      "Node entity with properties: {handle: 'File', model: 'CDA', nanoid: 'fMCEZR'} already exists in the database.\n",
      "Node entity with properties: {handle: 'file', model: 'GDC', nanoid: 'm46sVy'} already exists in the database.\n",
      "Ensuring has_property relationship exists between src node with properties: {handle: 'File', model: 'CDA', nanoid: 'fMCEZR'} to dst property with properties: {handle: 'byte_size', model: 'CDA', nanoid: 'CVxoXC'}\n",
      "Ensuring has_property relationship exists between src node with properties: {handle: 'file', model: 'GDC', nanoid: 'm46sVy'} to dst property with properties: {handle: 'file_size', model: 'GDC', nanoid: 'pr72Xm'}\n",
      "Both entities are already connected via Concept nAigEG\n",
      "Property entity with properties: {handle: 'checksum', model: 'CDA', nanoid: 'Nr3uu1'} already exists in the database.\n",
      "Property entity with properties: {handle: 'md5sum', model: 'GDC', nanoid: 'DToxKq'} already exists in the database.\n",
      "Node entity with properties: {handle: 'File', model: 'CDA', nanoid: 'fMCEZR'} already exists in the database.\n",
      "Node entity with properties: {handle: 'file', model: 'GDC', nanoid: 'm46sVy'} already exists in the database.\n",
      "Ensuring has_property relationship exists between src node with properties: {handle: 'File', model: 'CDA', nanoid: 'fMCEZR'} to dst property with properties: {handle: 'checksum', model: 'CDA', nanoid: 'Nr3uu1'}\n",
      "Ensuring has_property relationship exists between src node with properties: {handle: 'file', model: 'GDC', nanoid: 'm46sVy'} to dst property with properties: {handle: 'md5sum', model: 'GDC', nanoid: 'DToxKq'}\n",
      "Both entities are already connected via Concept 54RCRD\n",
      "Property entity with properties: {handle: 'dbgap_accession_number', model: 'CDA', nanoid: 'eTmE7a'} already exists in the database.\n",
      "Property entity with properties: {handle: 'dbgap_accession_number', model: 'GDC', nanoid: '8YxXNT'} already exists in the database.\n",
      "Node entity with properties: {handle: 'File', model: 'CDA', nanoid: 'fMCEZR'} already exists in the database.\n",
      "Node entity with properties: {handle: 'project', model: 'GDC', nanoid: 'MzqVRa'} already exists in the database.\n",
      "Ensuring has_property relationship exists between src node with properties: {handle: 'File', model: 'CDA', nanoid: 'fMCEZR'} to dst property with properties: {handle: 'dbgap_accession_number', model: 'CDA', nanoid: 'eTmE7a'}\n",
      "Ensuring has_property relationship exists between src node with properties: {handle: 'project', model: 'GDC', nanoid: 'MzqVRa'} to dst property with properties: {handle: 'dbgap_accession_number', model: 'GDC', nanoid: '8YxXNT'}\n",
      "Both entities are already connected via Concept Un5B3U\n",
      "Property entity with properties: {handle: 'id', model: 'CDA', nanoid: 'D8qXyH'} already exists in the database.\n",
      "Property entity with properties: {handle: 'file_id', model: 'PDC', nanoid: '9X93Bx'} already exists in the database.\n",
      "Node entity with properties: {handle: 'File', model: 'CDA', nanoid: 'fMCEZR'} already exists in the database.\n",
      "Node entity with properties: {handle: 'file', model: 'PDC', nanoid: 'h3DU2a'} already exists in the database.\n",
      "Ensuring has_property relationship exists between src node with properties: {handle: 'File', model: 'CDA', nanoid: 'fMCEZR'} to dst property with properties: {handle: 'id', model: 'CDA', nanoid: 'D8qXyH'}\n",
      "Ensuring has_property relationship exists between src node with properties: {handle: 'file', model: 'PDC', nanoid: 'h3DU2a'} to dst property with properties: {handle: 'file_id', model: 'PDC', nanoid: '9X93Bx'}\n",
      "Both entities are already connected via Concept 0j7zCi\n",
      "Property entity with properties: {handle: 'identifier', model: 'CDA', nanoid: 'MjBkRF'} already exists in the database.\n",
      "Property entity with properties: {handle: 'file_id', model: 'PDC', nanoid: '9X93Bx'} already exists in the database.\n",
      "Node entity with properties: {handle: 'File', model: 'CDA', nanoid: 'fMCEZR'} already exists in the database.\n",
      "Node entity with properties: {handle: 'file', model: 'PDC', nanoid: 'h3DU2a'} already exists in the database.\n",
      "Ensuring has_property relationship exists between src node with properties: {handle: 'File', model: 'CDA', nanoid: 'fMCEZR'} to dst property with properties: {handle: 'identifier', model: 'CDA', nanoid: 'MjBkRF'}\n",
      "Ensuring has_property relationship exists between src node with properties: {handle: 'file', model: 'PDC', nanoid: 'h3DU2a'} to dst property with properties: {handle: 'file_id', model: 'PDC', nanoid: '9X93Bx'}\n",
      "Both entities are already connected via Concept 0j7zCi\n",
      "Property entity with properties: {handle: 'label', model: 'CDA', nanoid: 'zrddFk'} already exists in the database.\n",
      "Property entity with properties: {handle: 'file_name', model: 'PDC', nanoid: 'TcNK9h'} already exists in the database.\n",
      "Node entity with properties: {handle: 'File', model: 'CDA', nanoid: 'fMCEZR'} already exists in the database.\n",
      "Node entity with properties: {handle: 'file', model: 'PDC', nanoid: 'h3DU2a'} already exists in the database.\n",
      "Ensuring has_property relationship exists between src node with properties: {handle: 'File', model: 'CDA', nanoid: 'fMCEZR'} to dst property with properties: {handle: 'label', model: 'CDA', nanoid: 'zrddFk'}\n",
      "Ensuring has_property relationship exists between src node with properties: {handle: 'file', model: 'PDC', nanoid: 'h3DU2a'} to dst property with properties: {handle: 'file_name', model: 'PDC', nanoid: 'TcNK9h'}\n",
      "Both entities are already connected via Concept RCJsyA\n",
      "Property entity with properties: {handle: 'data_category', model: 'CDA', nanoid: 'Yx01NF'} already exists in the database.\n",
      "Property entity with properties: {handle: 'data_category', model: 'PDC', nanoid: 'ynY0T8'} already exists in the database.\n",
      "Node entity with properties: {handle: 'File', model: 'CDA', nanoid: 'fMCEZR'} already exists in the database.\n",
      "Node entity with properties: {handle: 'file', model: 'PDC', nanoid: 'h3DU2a'} already exists in the database.\n",
      "Ensuring has_property relationship exists between src node with properties: {handle: 'File', model: 'CDA', nanoid: 'fMCEZR'} to dst property with properties: {handle: 'data_category', model: 'CDA', nanoid: 'Yx01NF'}\n",
      "Ensuring has_property relationship exists between src node with properties: {handle: 'file', model: 'PDC', nanoid: 'h3DU2a'} to dst property with properties: {handle: 'data_category', model: 'PDC', nanoid: 'ynY0T8'}\n",
      "Both entities are already connected via Concept TdPpyg\n",
      "Property entity with properties: {handle: 'data_type', model: 'CDA', nanoid: 'jbP9qP'} already exists in the database.\n",
      "Property entity with properties: {handle: 'file_type', model: 'PDC', nanoid: 'axMw9a'} already exists in the database.\n",
      "Node entity with properties: {handle: 'File', model: 'CDA', nanoid: 'fMCEZR'} already exists in the database.\n",
      "Node entity with properties: {handle: 'file', model: 'PDC', nanoid: 'h3DU2a'} already exists in the database.\n",
      "Ensuring has_property relationship exists between src node with properties: {handle: 'File', model: 'CDA', nanoid: 'fMCEZR'} to dst property with properties: {handle: 'data_type', model: 'CDA', nanoid: 'jbP9qP'}\n",
      "Ensuring has_property relationship exists between src node with properties: {handle: 'file', model: 'PDC', nanoid: 'h3DU2a'} to dst property with properties: {handle: 'file_type', model: 'PDC', nanoid: 'axMw9a'}\n",
      "Both entities are already connected via Concept WoUFtG\n",
      "Property entity with properties: {handle: 'file_format', model: 'CDA', nanoid: 'sYJApr'} already exists in the database.\n",
      "Property entity with properties: {handle: 'file_format', model: 'PDC', nanoid: 'VsH5c5'} already exists in the database.\n",
      "Node entity with properties: {handle: 'File', model: 'CDA', nanoid: 'fMCEZR'} already exists in the database.\n",
      "Node entity with properties: {handle: 'file', model: 'PDC', nanoid: 'h3DU2a'} already exists in the database.\n",
      "Ensuring has_property relationship exists between src node with properties: {handle: 'File', model: 'CDA', nanoid: 'fMCEZR'} to dst property with properties: {handle: 'file_format', model: 'CDA', nanoid: 'sYJApr'}\n",
      "Ensuring has_property relationship exists between src node with properties: {handle: 'file', model: 'PDC', nanoid: 'h3DU2a'} to dst property with properties: {handle: 'file_format', model: 'PDC', nanoid: 'VsH5c5'}\n",
      "Both entities are already connected via Concept bM8BrR\n",
      "Property entity with properties: {handle: 'associated_project', model: 'CDA', nanoid: 'Xcy7i7'} already exists in the database.\n",
      "Property entity with properties: {handle: 'project_submitter_id', model: 'PDC', nanoid: 'VA6WFC'} already exists in the database.\n",
      "Node entity with properties: {handle: 'File', model: 'CDA', nanoid: 'fMCEZR'} already exists in the database.\n",
      "Node entity with properties: {handle: 'file', model: 'PDC', nanoid: 'h3DU2a'} already exists in the database.\n",
      "Ensuring has_property relationship exists between src node with properties: {handle: 'File', model: 'CDA', nanoid: 'fMCEZR'} to dst property with properties: {handle: 'associated_project', model: 'CDA', nanoid: 'Xcy7i7'}\n",
      "Ensuring has_property relationship exists between src node with properties: {handle: 'file', model: 'PDC', nanoid: 'h3DU2a'} to dst property with properties: {handle: 'project_submitter_id', model: 'PDC', nanoid: 'VA6WFC'}\n",
      "Both entities are already connected via Concept Mcqnte\n",
      "Property entity with properties: {handle: 'drs_uri', model: 'CDA', nanoid: '46GyvG'} already exists in the database.\n",
      "Property entity with properties: {handle: 'file_id', model: 'PDC', nanoid: '9X93Bx'} already exists in the database.\n",
      "Node entity with properties: {handle: 'File', model: 'CDA', nanoid: 'fMCEZR'} already exists in the database.\n",
      "Node entity with properties: {handle: 'file', model: 'PDC', nanoid: 'h3DU2a'} already exists in the database.\n",
      "Ensuring has_property relationship exists between src node with properties: {handle: 'File', model: 'CDA', nanoid: 'fMCEZR'} to dst property with properties: {handle: 'drs_uri', model: 'CDA', nanoid: '46GyvG'}\n",
      "Ensuring has_property relationship exists between src node with properties: {handle: 'file', model: 'PDC', nanoid: 'h3DU2a'} to dst property with properties: {handle: 'file_id', model: 'PDC', nanoid: '9X93Bx'}\n",
      "Both entities are already connected via Concept 0j7zCi\n",
      "Property entity with properties: {handle: 'byte_size', model: 'CDA', nanoid: 'CVxoXC'} already exists in the database.\n",
      "Property entity with properties: {handle: 'file_size', model: 'PDC', nanoid: 'KSjzwh'} already exists in the database.\n",
      "Node entity with properties: {handle: 'File', model: 'CDA', nanoid: 'fMCEZR'} already exists in the database.\n",
      "Node entity with properties: {handle: 'file', model: 'PDC', nanoid: 'h3DU2a'} already exists in the database.\n",
      "Ensuring has_property relationship exists between src node with properties: {handle: 'File', model: 'CDA', nanoid: 'fMCEZR'} to dst property with properties: {handle: 'byte_size', model: 'CDA', nanoid: 'CVxoXC'}\n",
      "Ensuring has_property relationship exists between src node with properties: {handle: 'file', model: 'PDC', nanoid: 'h3DU2a'} to dst property with properties: {handle: 'file_size', model: 'PDC', nanoid: 'KSjzwh'}\n",
      "Both entities are already connected via Concept nAigEG\n",
      "Property entity with properties: {handle: 'checksum', model: 'CDA', nanoid: 'Nr3uu1'} already exists in the database.\n",
      "Property entity with properties: {handle: 'md5sum', model: 'PDC', nanoid: 'pbW8Gz'} already exists in the database.\n",
      "Node entity with properties: {handle: 'File', model: 'CDA', nanoid: 'fMCEZR'} already exists in the database.\n",
      "Node entity with properties: {handle: 'file', model: 'PDC', nanoid: 'h3DU2a'} already exists in the database.\n",
      "Ensuring has_property relationship exists between src node with properties: {handle: 'File', model: 'CDA', nanoid: 'fMCEZR'} to dst property with properties: {handle: 'checksum', model: 'CDA', nanoid: 'Nr3uu1'}\n",
      "Ensuring has_property relationship exists between src node with properties: {handle: 'file', model: 'PDC', nanoid: 'h3DU2a'} to dst property with properties: {handle: 'md5sum', model: 'PDC', nanoid: 'pbW8Gz'}\n",
      "Both entities are already connected via Concept 54RCRD\n",
      "Property entity with properties: {handle: 'dbgap_accession_number', model: 'CDA', nanoid: 'eTmE7a'} already exists in the database.\n",
      "Property entity with properties: {handle: 'dbgap_control_number', model: 'PDC', nanoid: '1mBve5'} already exists in the database.\n",
      "Node entity with properties: {handle: 'File', model: 'CDA', nanoid: 'fMCEZR'} already exists in the database.\n",
      "Node entity with properties: {handle: 'file', model: 'PDC', nanoid: 'h3DU2a'} already exists in the database.\n",
      "Ensuring has_property relationship exists between src node with properties: {handle: 'File', model: 'CDA', nanoid: 'fMCEZR'} to dst property with properties: {handle: 'dbgap_accession_number', model: 'CDA', nanoid: 'eTmE7a'}\n",
      "Ensuring has_property relationship exists between src node with properties: {handle: 'file', model: 'PDC', nanoid: 'h3DU2a'} to dst property with properties: {handle: 'dbgap_control_number', model: 'PDC', nanoid: '1mBve5'}\n",
      "Both entities are already connected via Concept Un5B3U\n",
      "Property entity with properties: {handle: 'id', model: 'CDA', nanoid: 'D8qXyH'} already exists in the database.\n",
      "Property entity with properties: {handle: 'crdc_instance_uuid', model: 'IDC', nanoid: '6NsMjT'} already exists in the database.\n",
      "Node entity with properties: {handle: 'File', model: 'CDA', nanoid: 'fMCEZR'} already exists in the database.\n",
      "Node entity with properties: {handle: 'file', model: 'IDC', nanoid: 'BieV3M'} already exists in the database.\n",
      "Ensuring has_property relationship exists between src node with properties: {handle: 'File', model: 'CDA', nanoid: 'fMCEZR'} to dst property with properties: {handle: 'id', model: 'CDA', nanoid: 'D8qXyH'}\n",
      "Ensuring has_property relationship exists between src node with properties: {handle: 'file', model: 'IDC', nanoid: 'BieV3M'} to dst property with properties: {handle: 'crdc_instance_uuid', model: 'IDC', nanoid: '6NsMjT'}\n",
      "Both entities are already connected via Concept 0j7zCi\n",
      "Property entity with properties: {handle: 'identifier', model: 'CDA', nanoid: 'MjBkRF'} already exists in the database.\n",
      "Property entity with properties: {handle: 'crdc_instance_uuid', model: 'IDC', nanoid: '6NsMjT'} already exists in the database.\n",
      "Node entity with properties: {handle: 'File', model: 'CDA', nanoid: 'fMCEZR'} already exists in the database.\n",
      "Node entity with properties: {handle: 'file', model: 'IDC', nanoid: 'BieV3M'} already exists in the database.\n",
      "Ensuring has_property relationship exists between src node with properties: {handle: 'File', model: 'CDA', nanoid: 'fMCEZR'} to dst property with properties: {handle: 'identifier', model: 'CDA', nanoid: 'MjBkRF'}\n",
      "Ensuring has_property relationship exists between src node with properties: {handle: 'file', model: 'IDC', nanoid: 'BieV3M'} to dst property with properties: {handle: 'crdc_instance_uuid', model: 'IDC', nanoid: '6NsMjT'}\n",
      "Both entities are already connected via Concept 0j7zCi\n",
      "Property entity with properties: {handle: 'label', model: 'CDA', nanoid: 'zrddFk'} already exists in the database.\n",
      "Property entity with properties: {handle: 'gcs_url', model: 'IDC', nanoid: 'ZNFbJn'} already exists in the database.\n",
      "Node entity with properties: {handle: 'File', model: 'CDA', nanoid: 'fMCEZR'} already exists in the database.\n",
      "Node entity with properties: {handle: 'file', model: 'IDC', nanoid: 'BieV3M'} already exists in the database.\n",
      "Ensuring has_property relationship exists between src node with properties: {handle: 'File', model: 'CDA', nanoid: 'fMCEZR'} to dst property with properties: {handle: 'label', model: 'CDA', nanoid: 'zrddFk'}\n",
      "Ensuring has_property relationship exists between src node with properties: {handle: 'file', model: 'IDC', nanoid: 'BieV3M'} to dst property with properties: {handle: 'gcs_url', model: 'IDC', nanoid: 'ZNFbJn'}\n",
      "Both entities are already connected via Concept RCJsyA\n",
      "Property entity with properties: {handle: 'associated_project', model: 'CDA', nanoid: 'Xcy7i7'} already exists in the database.\n",
      "Property entity with properties: {handle: 'collection_id', model: 'IDC', nanoid: '9WZg5X'} already exists in the database.\n",
      "Node entity with properties: {handle: 'File', model: 'CDA', nanoid: 'fMCEZR'} already exists in the database.\n",
      "Node entity with properties: {handle: 'file', model: 'IDC', nanoid: 'BieV3M'} already exists in the database.\n",
      "Ensuring has_property relationship exists between src node with properties: {handle: 'File', model: 'CDA', nanoid: 'fMCEZR'} to dst property with properties: {handle: 'associated_project', model: 'CDA', nanoid: 'Xcy7i7'}\n",
      "Ensuring has_property relationship exists between src node with properties: {handle: 'file', model: 'IDC', nanoid: 'BieV3M'} to dst property with properties: {handle: 'collection_id', model: 'IDC', nanoid: '9WZg5X'}\n",
      "Both entities are already connected via Concept Mcqnte\n",
      "Property entity with properties: {handle: 'drs_uri', model: 'CDA', nanoid: '46GyvG'} already exists in the database.\n",
      "Property entity with properties: {handle: 'crdc_instance_uuid', model: 'IDC', nanoid: '6NsMjT'} already exists in the database.\n",
      "Node entity with properties: {handle: 'File', model: 'CDA', nanoid: 'fMCEZR'} already exists in the database.\n",
      "Node entity with properties: {handle: 'file', model: 'IDC', nanoid: 'BieV3M'} already exists in the database.\n",
      "Ensuring has_property relationship exists between src node with properties: {handle: 'File', model: 'CDA', nanoid: 'fMCEZR'} to dst property with properties: {handle: 'drs_uri', model: 'CDA', nanoid: '46GyvG'}\n",
      "Ensuring has_property relationship exists between src node with properties: {handle: 'file', model: 'IDC', nanoid: 'BieV3M'} to dst property with properties: {handle: 'crdc_instance_uuid', model: 'IDC', nanoid: '6NsMjT'}\n",
      "Both entities are already connected via Concept 0j7zCi\n",
      "Property entity with properties: {handle: 'imaging_modality', model: 'CDA', nanoid: '5n3v3S'} already exists in the database.\n",
      "Property entity with properties: {handle: 'Modality', model: 'IDC', nanoid: 'vzj4R9'} already exists in the database.\n",
      "Node entity with properties: {handle: 'File', model: 'CDA', nanoid: 'fMCEZR'} already exists in the database.\n",
      "Node entity with properties: {handle: 'file', model: 'IDC', nanoid: 'BieV3M'} already exists in the database.\n",
      "Ensuring has_property relationship exists between src node with properties: {handle: 'File', model: 'CDA', nanoid: 'fMCEZR'} to dst property with properties: {handle: 'imaging_modality', model: 'CDA', nanoid: '5n3v3S'}\n",
      "Ensuring has_property relationship exists between src node with properties: {handle: 'file', model: 'IDC', nanoid: 'BieV3M'} to dst property with properties: {handle: 'Modality', model: 'IDC', nanoid: 'vzj4R9'}\n",
      "Both entities are already connected via Concept rV9qpC\n",
      "Property entity with properties: {handle: 'imaging_series', model: 'CDA', nanoid: 'V6S3Zh'} already exists in the database.\n",
      "Property entity with properties: {handle: 'crdc_series_uuid', model: 'IDC', nanoid: 'BvQG2f'} already exists in the database.\n",
      "Node entity with properties: {handle: 'File', model: 'CDA', nanoid: 'fMCEZR'} already exists in the database.\n",
      "Node entity with properties: {handle: 'file', model: 'IDC', nanoid: 'BieV3M'} already exists in the database.\n",
      "Ensuring has_property relationship exists between src node with properties: {handle: 'File', model: 'CDA', nanoid: 'fMCEZR'} to dst property with properties: {handle: 'imaging_series', model: 'CDA', nanoid: 'V6S3Zh'}\n",
      "Ensuring has_property relationship exists between src node with properties: {handle: 'file', model: 'IDC', nanoid: 'BieV3M'} to dst property with properties: {handle: 'crdc_series_uuid', model: 'IDC', nanoid: 'BvQG2f'}\n",
      "Both entities are already connected via Concept MdaUcV\n"
     ]
    }
   ],
   "source": [
    "!python \"C:\\Users\\nelso\\Documents\\GitHub\\HIDS-Capstone\\src\\mdb_tools\\scripts\\link_synonym_ents_csv.py\" --csv_filepath=\"C:\\Users\\nelso\\Documents\\GitHub\\HIDS-Capstone\\data\\CDA_mappings_20220721_clean.csv\" --mdb_uri=\"bolt://localhost:7687\" --mdb_user=\"neo4j\" --mdb_pass=\"noble-use-dairy\" --entity_type=\"property\" --add_missing_ent=\"True\""
   ]
  }
 ],
 "metadata": {
  "kernelspec": {
   "display_name": "Python 3.9.12 ('HIDS_Capstone')",
   "language": "python",
   "name": "python3"
  },
  "language_info": {
   "codemirror_mode": {
    "name": "ipython",
    "version": 3
   },
   "file_extension": ".py",
   "mimetype": "text/x-python",
   "name": "python",
   "nbconvert_exporter": "python",
   "pygments_lexer": "ipython3",
   "version": "3.9.12"
  },
  "orig_nbformat": 4,
  "vscode": {
   "interpreter": {
    "hash": "24bde3e8e56409237732496eb336b8081f14b31df1642fcb4e390fe4f4a787e4"
   }
  }
 },
 "nbformat": 4,
 "nbformat_minor": 2
}
