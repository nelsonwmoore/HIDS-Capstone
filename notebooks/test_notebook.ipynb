{
 "cells": [
  {
   "cell_type": "markdown",
   "metadata": {},
   "source": [
    "# bento-meta cypher"
   ]
  },
  {
   "cell_type": "markdown",
   "metadata": {},
   "source": [
    "## entities"
   ]
  },
  {
   "cell_type": "markdown",
   "metadata": {},
   "source": [
    "### node"
   ]
  },
  {
   "cell_type": "code",
   "execution_count": 1,
   "metadata": {},
   "outputs": [],
   "source": [
    "from bento_meta.util.cypher.entities import (\n",
    "    N, N0, R, R0, P, T, G,\n",
    "    _pattern, _as, _condition, _return,\n",
    "    _plain, _anon, _var, _plain_var\n",
    "    )\n",
    "from bento_meta.util.cypher.functions import (\n",
    "    Func, count, exists, group, And, Or, Not,\n",
    ")\n",
    "from bento_meta.util.cypher.clauses import (\n",
    "    Clause, Match, Where, Return, Set, Create, Merge,\n",
    "    OnMatchSet, OnCreateSet, Remove, Statement,\n",
    ")"
   ]
  },
  {
   "cell_type": "code",
   "execution_count": 2,
   "metadata": {},
   "outputs": [],
   "source": [
    "# N() entity is node\n",
    "n = N(label=\"node\", props={\"model\": \"ICDC\", \"handle\": \"diagnosis\"})"
   ]
  },
  {
   "cell_type": "code",
   "execution_count": 3,
   "metadata": {},
   "outputs": [],
   "source": [
    "# label for each new instantiation of an entity counts up unless _reset_counter() called\n",
    "n._reset_counter()"
   ]
  },
  {
   "cell_type": "code",
   "execution_count": 4,
   "metadata": {},
   "outputs": [
    {
     "data": {
      "text/plain": [
       "\"(n0:node {model:'ICDC',handle:'diagnosis'})\""
      ]
     },
     "execution_count": 4,
     "metadata": {},
     "output_type": "execute_result"
    }
   ],
   "source": [
    "# pattern() renders entity as a match pattern\n",
    "n.pattern()"
   ]
  },
  {
   "cell_type": "code",
   "execution_count": 5,
   "metadata": {},
   "outputs": [
    {
     "data": {
      "text/plain": [
       "[\"n0.model = 'ICDC'\", \"n0.handle = 'diagnosis'\"]"
      ]
     },
     "execution_count": 5,
     "metadata": {},
     "output_type": "execute_result"
    }
   ],
   "source": [
    "# condition() renders entity as a condition (e.g. for WHERE clause)\n",
    "n.condition()"
   ]
  },
  {
   "cell_type": "code",
   "execution_count": 6,
   "metadata": {},
   "outputs": [
    {
     "data": {
      "text/plain": [
       "'node'"
      ]
     },
     "execution_count": 6,
     "metadata": {},
     "output_type": "execute_result"
    }
   ],
   "source": [
    "# label has entity label\n",
    "n.label"
   ]
  },
  {
   "cell_type": "code",
   "execution_count": 7,
   "metadata": {},
   "outputs": [
    {
     "data": {
      "text/plain": [
       "'n0'"
      ]
     },
     "execution_count": 7,
     "metadata": {},
     "output_type": "execute_result"
    }
   ],
   "source": [
    "# Return() \"renders entity as a return value\", maybe Neo4j variable assigned to entity?\n",
    "n.Return()"
   ]
  },
  {
   "cell_type": "code",
   "execution_count": 8,
   "metadata": {},
   "outputs": [
    {
     "data": {
      "text/plain": [
       "\"(n0:node {model:'ICDC',handle:'diagnosis',nanoid:'mnmzW6'})\""
      ]
     },
     "execution_count": 8,
     "metadata": {},
     "output_type": "execute_result"
    }
   ],
   "source": [
    "# _add_props() can add properties to a node or relationship entity\n",
    "n._add_props({\"nanoid\": \"mnmzW6\"})\n",
    "n.pattern()"
   ]
  },
  {
   "cell_type": "code",
   "execution_count": 9,
   "metadata": {},
   "outputs": [],
   "source": [
    "# As param lets a node be aliased?\n",
    "x = N(label=\"thing\", As=\"dude\")"
   ]
  },
  {
   "cell_type": "code",
   "execution_count": 10,
   "metadata": {},
   "outputs": [
    {
     "data": {
      "text/plain": [
       "'thing'"
      ]
     },
     "execution_count": 10,
     "metadata": {},
     "output_type": "execute_result"
    }
   ],
   "source": [
    "x.label"
   ]
  },
  {
   "cell_type": "code",
   "execution_count": 11,
   "metadata": {},
   "outputs": [
    {
     "data": {
      "text/plain": [
       "'dude'"
      ]
     },
     "execution_count": 11,
     "metadata": {},
     "output_type": "execute_result"
    }
   ],
   "source": [
    "x.As"
   ]
  },
  {
   "cell_type": "code",
   "execution_count": 12,
   "metadata": {},
   "outputs": [
    {
     "data": {
      "text/plain": [
       "'n0 as dude'"
      ]
     },
     "execution_count": 12,
     "metadata": {},
     "output_type": "execute_result"
    }
   ],
   "source": [
    "x.Return()"
   ]
  },
  {
   "cell_type": "code",
   "execution_count": 13,
   "metadata": {},
   "outputs": [
    {
     "data": {
      "text/plain": [
       "'()'"
      ]
     },
     "execution_count": 13,
     "metadata": {},
     "output_type": "execute_result"
    }
   ],
   "source": [
    "# anonymous node (R0 also exists); probably used for just matching a pattern where you don't care \n",
    "# which node/relationship something is connected to as long as it is connected\n",
    "N0().pattern()"
   ]
  },
  {
   "cell_type": "markdown",
   "metadata": {},
   "source": [
    "### relationship"
   ]
  },
  {
   "cell_type": "code",
   "execution_count": 14,
   "metadata": {},
   "outputs": [],
   "source": [
    "# R() entity is relationship/edge (not relationship node, but actual relationship in Neo4 (I think))\n",
    "r = R(Type=\"has_property\")"
   ]
  },
  {
   "cell_type": "code",
   "execution_count": 15,
   "metadata": {},
   "outputs": [
    {
     "data": {
      "text/plain": [
       "'-[r0:has_property]-'"
      ]
     },
     "execution_count": 15,
     "metadata": {},
     "output_type": "execute_result"
    }
   ],
   "source": [
    "r.pattern()"
   ]
  },
  {
   "cell_type": "code",
   "execution_count": 16,
   "metadata": {},
   "outputs": [
    {
     "data": {
      "text/plain": [
       "[]"
      ]
     },
     "execution_count": 16,
     "metadata": {},
     "output_type": "execute_result"
    }
   ],
   "source": [
    "r.condition()"
   ]
  },
  {
   "cell_type": "code",
   "execution_count": 17,
   "metadata": {},
   "outputs": [
    {
     "data": {
      "text/plain": [
       "'has_property'"
      ]
     },
     "execution_count": 17,
     "metadata": {},
     "output_type": "execute_result"
    }
   ],
   "source": [
    "r.Type"
   ]
  },
  {
   "cell_type": "code",
   "execution_count": 18,
   "metadata": {},
   "outputs": [
    {
     "data": {
      "text/plain": [
       "'r0'"
      ]
     },
     "execution_count": 18,
     "metadata": {},
     "output_type": "execute_result"
    }
   ],
   "source": [
    "r.Return()"
   ]
  },
  {
   "cell_type": "code",
   "execution_count": 19,
   "metadata": {},
   "outputs": [
    {
     "data": {
      "text/plain": [
       "'--'"
      ]
     },
     "execution_count": 19,
     "metadata": {},
     "output_type": "execute_result"
    }
   ],
   "source": [
    "R0().pattern()"
   ]
  },
  {
   "cell_type": "markdown",
   "metadata": {},
   "source": [
    "### property"
   ]
  },
  {
   "cell_type": "code",
   "execution_count": 20,
   "metadata": {},
   "outputs": [],
   "source": [
    "# P() represent properties of a node and can be used to hold (just one?) handle/value pair repping a property\n",
    "p = P(handle=\"handle\", value=\"stage_of_disease\")"
   ]
  },
  {
   "cell_type": "code",
   "execution_count": 21,
   "metadata": {},
   "outputs": [
    {
     "data": {
      "text/plain": [
       "\"handle:'stage_of_disease'\""
      ]
     },
     "execution_count": 21,
     "metadata": {},
     "output_type": "execute_result"
    }
   ],
   "source": [
    "p.pattern()"
   ]
  },
  {
   "cell_type": "code",
   "execution_count": 22,
   "metadata": {},
   "outputs": [
    {
     "name": "stdout",
     "output_type": "stream",
     "text": [
      "None None None\n"
     ]
    }
   ],
   "source": [
    "# these all return None since p.entity is None?\n",
    "print(p.entity, p.condition(), p.Return())"
   ]
  },
  {
   "cell_type": "code",
   "execution_count": 23,
   "metadata": {},
   "outputs": [],
   "source": [
    "m = N(label=\"property\", props=p)"
   ]
  },
  {
   "cell_type": "code",
   "execution_count": 24,
   "metadata": {},
   "outputs": [],
   "source": [
    "q = P(\"model\", \"ICDC\")\n",
    "l = P(\"nanoid\", \"xaF4my\")"
   ]
  },
  {
   "cell_type": "code",
   "execution_count": 25,
   "metadata": {},
   "outputs": [
    {
     "data": {
      "text/plain": [
       "True"
      ]
     },
     "execution_count": 25,
     "metadata": {},
     "output_type": "execute_result"
    }
   ],
   "source": [
    "m._add_props([q, l])"
   ]
  },
  {
   "cell_type": "code",
   "execution_count": 26,
   "metadata": {},
   "outputs": [
    {
     "data": {
      "text/plain": [
       "\"(n2:property {handle:'stage_of_disease',model:'ICDC',nanoid:'xaF4my'})\""
      ]
     },
     "execution_count": 26,
     "metadata": {},
     "output_type": "execute_result"
    }
   ],
   "source": [
    "m.pattern()"
   ]
  },
  {
   "cell_type": "markdown",
   "metadata": {},
   "source": [
    "### triple"
   ]
  },
  {
   "cell_type": "code",
   "execution_count": 27,
   "metadata": {},
   "outputs": [],
   "source": [
    "# R.relate() returns a triple relating two nodes by a relationship\n",
    "t = r.relate(n, m)"
   ]
  },
  {
   "cell_type": "code",
   "execution_count": 28,
   "metadata": {},
   "outputs": [
    {
     "name": "stdout",
     "output_type": "stream",
     "text": [
      "(n0:node {model:'ICDC',handle:'diagnosis',nanoid:'mnmzW6'})-[r0:has_property]->(n2:property {handle:'stage_of_disease',model:'ICDC',nanoid:'xaF4my'})\n",
      "(n0:node {model:'ICDC',handle:'diagnosis',nanoid:'mnmzW6'})-[r0:has_property]->(n2:property {handle:'stage_of_disease',model:'ICDC',nanoid:'xaF4my'})\n"
     ]
    }
   ],
   "source": [
    "# pattern() & condition() give same result for T() triple\n",
    "print(t.pattern())\n",
    "print(t.condition())"
   ]
  },
  {
   "cell_type": "code",
   "execution_count": 29,
   "metadata": {},
   "outputs": [],
   "source": [
    "# can also relate_to() from a N() node rather than from the R() relationship\n",
    "t2 = n.relate_to(r, m)"
   ]
  },
  {
   "cell_type": "code",
   "execution_count": 30,
   "metadata": {},
   "outputs": [
    {
     "data": {
      "text/plain": [
       "\"(n0:node {model:'ICDC',handle:'diagnosis',nanoid:'mnmzW6'})-[r0:has_property]->(n2:property {handle:'stage_of_disease',model:'ICDC',nanoid:'xaF4my'})\""
      ]
     },
     "execution_count": 30,
     "metadata": {},
     "output_type": "execute_result"
    }
   ],
   "source": [
    "t2.pattern()"
   ]
  },
  {
   "cell_type": "markdown",
   "metadata": {},
   "source": [
    "### paths"
   ]
  },
  {
   "cell_type": "code",
   "execution_count": 31,
   "metadata": {},
   "outputs": [],
   "source": [
    "# setup for paths\n",
    "nodes = [N(label=\"case\"), N(label=\"sample\"), N(label=\"aliquot\"),\n",
    "            N(label=\"file\")]\n",
    "edges = [R(Type=\"of_case\"), R(Type=\"of_sample\"), R(Type=\"of_aliquot\")]\n",
    "\n",
    "t1 = edges[0].relate(nodes[1], nodes[0])  # (sample)-[:of_case]->(case)\n",
    "t2 = edges[1].relate(nodes[2], nodes[1])  # (aliquot)-[:of_sample]->(sample)\n",
    "t3 = edges[2].relate(nodes[3], nodes[2])  # (file)-[:of_aliquot]->(aliquot)"
   ]
  },
  {
   "cell_type": "code",
   "execution_count": 32,
   "metadata": {},
   "outputs": [
    {
     "data": {
      "text/plain": [
       "'(n4:sample)-[r2:of_case]->(n3:case)'"
      ]
     },
     "execution_count": 32,
     "metadata": {},
     "output_type": "execute_result"
    }
   ],
   "source": [
    "# G() represents a path, or an ordered set of partially overlapping triples\n",
    "pth0 = G(nodes[1], edges[0], nodes[0])\n",
    "pth0.pattern()"
   ]
  },
  {
   "cell_type": "code",
   "execution_count": 33,
   "metadata": {},
   "outputs": [
    {
     "data": {
      "text/plain": [
       "'(n4:sample)-[r2:of_case]->(n3:case)'"
      ]
     },
     "execution_count": 33,
     "metadata": {},
     "output_type": "execute_result"
    }
   ],
   "source": [
    "pth1 = G(t1)\n",
    "pth1.pattern()"
   ]
  },
  {
   "cell_type": "code",
   "execution_count": 34,
   "metadata": {},
   "outputs": [
    {
     "data": {
      "text/plain": [
       "'(n5:aliquot)-[r3:of_sample]->(n4:sample)-[r2:of_case]->(n3:case)'"
      ]
     },
     "execution_count": 34,
     "metadata": {},
     "output_type": "execute_result"
    }
   ],
   "source": [
    "pth2 = G(t1, t2)\n",
    "pth2.pattern()"
   ]
  },
  {
   "cell_type": "code",
   "execution_count": 35,
   "metadata": {},
   "outputs": [
    {
     "data": {
      "text/plain": [
       "'(n5:aliquot)-[r3:of_sample]->(n4:sample)-[r2:of_case]->(n3:case)'"
      ]
     },
     "execution_count": 35,
     "metadata": {},
     "output_type": "execute_result"
    }
   ],
   "source": [
    "pth3 = G(t2, t1)\n",
    "pth3.pattern()"
   ]
  },
  {
   "cell_type": "code",
   "execution_count": 36,
   "metadata": {},
   "outputs": [
    {
     "data": {
      "text/plain": [
       "'(n6:file)-[r4:of_aliquot]->(n5:aliquot)-[r3:of_sample]->(n4:sample)-[r2:of_case]->(n3:case)'"
      ]
     },
     "execution_count": 36,
     "metadata": {},
     "output_type": "execute_result"
    }
   ],
   "source": [
    "pth4 = G(t3, pth3) # switching these args around doesn't work though?\n",
    "pth4.pattern()"
   ]
  },
  {
   "cell_type": "code",
   "execution_count": 37,
   "metadata": {},
   "outputs": [
    {
     "data": {
      "text/plain": [
       "'(n6:file)-[r4:of_aliquot]->(n5:aliquot)-[r3:of_sample]->(n4:sample)-[r2:of_case]->(n3:case)'"
      ]
     },
     "execution_count": 37,
     "metadata": {},
     "output_type": "execute_result"
    }
   ],
   "source": [
    "pth5 = G(t1, t2, t3)\n",
    "pth5.pattern()"
   ]
  },
  {
   "cell_type": "code",
   "execution_count": 38,
   "metadata": {},
   "outputs": [
    {
     "name": "stdout",
     "output_type": "stream",
     "text": [
      "(n6:file)\n",
      "(n3:case)\n",
      "(n5:aliquot)\n",
      "(n4:sample)\n"
     ]
    }
   ],
   "source": [
    "for x in pth5.nodes():\n",
    "    print(x.pattern())"
   ]
  },
  {
   "cell_type": "code",
   "execution_count": 39,
   "metadata": {},
   "outputs": [
    {
     "name": "stdout",
     "output_type": "stream",
     "text": [
      "-[r3:of_sample]-\n",
      "-[r4:of_aliquot]-\n",
      "-[r2:of_case]-\n"
     ]
    }
   ],
   "source": [
    "for x in pth5.edges():\n",
    "    print(x.pattern())"
   ]
  },
  {
   "cell_type": "markdown",
   "metadata": {},
   "source": [
    "### modifiers"
   ]
  },
  {
   "cell_type": "code",
   "execution_count": 40,
   "metadata": {},
   "outputs": [
    {
     "name": "stdout",
     "output_type": "stream",
     "text": [
      "n0\n",
      "n0 as alias_n\n"
     ]
    }
   ],
   "source": [
    "# _as returns copy of ent with As alias set\n",
    "print(n.Return()) \n",
    "print(_as(n, \"alias_n\").Return())"
   ]
  },
  {
   "cell_type": "code",
   "execution_count": 41,
   "metadata": {},
   "outputs": [
    {
     "name": "stdout",
     "output_type": "stream",
     "text": [
      "(n0:node {model:'ICDC',handle:'diagnosis',nanoid:'mnmzW6'})\n",
      "(n0:node)\n"
     ]
    }
   ],
   "source": [
    "# _plain returns ent w/o properties\n",
    "print(n.pattern())\n",
    "print(_plain(n).pattern())"
   ]
  },
  {
   "cell_type": "code",
   "execution_count": 42,
   "metadata": {},
   "outputs": [
    {
     "name": "stdout",
     "output_type": "stream",
     "text": [
      "(n0:node {model:'ICDC',handle:'diagnosis',nanoid:'mnmzW6'})\n",
      "(n0 {model:'ICDC',handle:'diagnosis',nanoid:'mnmzW6'})\n"
     ]
    }
   ],
   "source": [
    "# _var returns ent w/o label or type\n",
    "print(n.pattern())\n",
    "print( _var(n).pattern())"
   ]
  },
  {
   "cell_type": "code",
   "execution_count": 43,
   "metadata": {},
   "outputs": [
    {
     "name": "stdout",
     "output_type": "stream",
     "text": [
      "(n0:node {model:'ICDC',handle:'diagnosis',nanoid:'mnmzW6'})\n",
      "(n0)\n"
     ]
    }
   ],
   "source": [
    "# _plain_var returns ent w/o label or properties\n",
    "print(n.pattern())\n",
    "print( _plain_var(n).pattern())"
   ]
  },
  {
   "cell_type": "markdown",
   "metadata": {},
   "source": [
    "## Clauses"
   ]
  },
  {
   "cell_type": "code",
   "execution_count": 44,
   "metadata": {},
   "outputs": [
    {
     "name": "stdout",
     "output_type": "stream",
     "text": [
      "MATCH (n0:node {model:'ICDC',handle:'diagnosis',nanoid:'mnmzW6'})-[r0:has_property]->(n2:property {handle:'stage_of_disease',model:'ICDC',nanoid:'xaF4my'})\n",
      "MATCH (n0:node {model:'ICDC',handle:'diagnosis',nanoid:'mnmzW6'})\n",
      "MATCH (n0:node {model:'ICDC',handle:'diagnosis',nanoid:'mnmzW6'}), (n2:property {handle:'stage_of_disease',model:'ICDC',nanoid:'xaF4my'})\n"
     ]
    }
   ],
   "source": [
    "# Match() represents a cypher match clause\n",
    "print(str(Match(t)))\n",
    "print(str(Match(n)))\n",
    "print(str(Match(n, m)))"
   ]
  },
  {
   "cell_type": "code",
   "execution_count": 45,
   "metadata": {},
   "outputs": [
    {
     "name": "stdout",
     "output_type": "stream",
     "text": [
      "WHERE n0.model = 'ICDC' AND n0.handle = 'diagnosis' AND n0.nanoid = 'mnmzW6' AND n2.handle = 'stage_of_disease' AND n2.model = 'ICDC' AND n2.nanoid = 'xaF4my'\n",
      "WHERE n0.model = 'ICDC' AND n0.handle = 'diagnosis' AND n0.nanoid = 'mnmzW6'\n"
     ]
    }
   ],
   "source": [
    "# Where() represents a cypher where clause, args are \n",
    "print(str(Where(*t.nodes())))\n",
    "print(str(Where(n)))\n",
    "\n",
    "# With(), Create(), Merge(), Remove() are similar"
   ]
  },
  {
   "cell_type": "code",
   "execution_count": 46,
   "metadata": {},
   "outputs": [
    {
     "name": "stdout",
     "output_type": "stream",
     "text": [
      "SET n0.model = 'ICDC', n0.handle = 'diagnosis', n0.nanoid = 'mnmzW6'\n"
     ]
    }
   ],
   "source": [
    "# Set() creates a SET clause, only property args matter for this\n",
    "print(str(Set(*n.props.values())))"
   ]
  },
  {
   "cell_type": "code",
   "execution_count": 47,
   "metadata": {},
   "outputs": [
    {
     "name": "stdout",
     "output_type": "stream",
     "text": [
      "ON CREATE SET n0.model = 'ICDC', n0.handle = 'diagnosis', n0.nanoid = 'mnmzW6'\n",
      "ON MATCH SET n0.model = 'ICDC', n0.handle = 'diagnosis', n0.nanoid = 'mnmzW6'\n"
     ]
    }
   ],
   "source": [
    "# OnCreateSet() and OnMatchSet() similar\n",
    "print(str(OnCreateSet(*n.props.values())))\n",
    "print(str(OnMatchSet(*n.props.values())))"
   ]
  },
  {
   "cell_type": "code",
   "execution_count": 51,
   "metadata": {},
   "outputs": [
    {
     "data": {
      "text/plain": [
       "\"MATCH (n0)-[r0:has_property]->(n2) WHERE exists(n2.handle) AND n0.model = 'ICDC' AND n0.handle = 'diagnosis' AND n0.nanoid = 'mnmzW6' RETURN count(n0)\""
      ]
     },
     "execution_count": 51,
     "metadata": {},
     "output_type": "execute_result"
    }
   ],
   "source": [
    "# Statement() used to create a Neo4j statement w/ clauses & strings in order\n",
    "str(\n",
    "    Statement(\n",
    "        Match(_var(_plain(t))),\n",
    "        Where(exists(m.props['handle']), n),\n",
    "        Return(count(n))\n",
    "        )\n",
    "    )"
   ]
  },
  {
   "cell_type": "code",
   "execution_count": 52,
   "metadata": {},
   "outputs": [
    {
     "data": {
      "text/plain": [
       "\"MATCH (n0)-[r0:has_property]->(n2) WHERE (exists(n2.handle) AND n0.model = 'ICDC') AND NOT n0.handle = 'diagnosis' RETURN n2.handle LIMIT 10\""
      ]
     },
     "execution_count": 52,
     "metadata": {},
     "output_type": "execute_result"
    }
   ],
   "source": [
    "str(\n",
    "    Statement(\n",
    "        Match(_var(_plain(t))),\n",
    "        Where(group(And(exists(m.props['handle']), n.props['model'])),\n",
    "            Not(n.props['handle'])),\n",
    "        Return(p),\n",
    "        'LIMIT 10'\n",
    "        )\n",
    "    )"
   ]
  },
  {
   "cell_type": "code",
   "execution_count": 54,
   "metadata": {},
   "outputs": [
    {
     "data": {
      "text/plain": [
       "\"CREATE (n0:node) SET n0.model = 'ICDC', n0.handle = 'diagnosis', n0.nanoid = 'mnmzW6' RETURN n0\""
      ]
     },
     "execution_count": 54,
     "metadata": {},
     "output_type": "execute_result"
    }
   ],
   "source": [
    "str(\n",
    "    Statement(\n",
    "        Create(_plain(n)),\n",
    "        Set(*n.props.values()),\n",
    "        Return(n)\n",
    "        )\n",
    "    )"
   ]
  },
  {
   "cell_type": "markdown",
   "metadata": {},
   "source": [
    "## functions"
   ]
  },
  {
   "cell_type": "markdown",
   "metadata": {},
   "source": [
    "functions include:\n",
    "- exists()\n",
    "- count()\n",
    "- labels()\n",
    "- Not()\n",
    "- And()\n",
    "- Or()\n",
    "- group()\n",
    "- is_null()\n",
    "- is_not_null()"
   ]
  },
  {
   "cell_type": "markdown",
   "metadata": {},
   "source": [
    "This could replace some of the cypher pattern/clause generation in MDB tools ()\n",
    "\n",
    "Could potentially be integrated w/ bento-meta entities (which have some overlap with N()?)"
   ]
  },
  {
   "cell_type": "markdown",
   "metadata": {},
   "source": [
    "DSS mapping"
   ]
  },
  {
   "cell_type": "code",
   "execution_count": 1,
   "metadata": {},
   "outputs": [],
   "source": [
    "from pathlib import Path\n",
    "import numpy as np\n",
    "import pandas as pd"
   ]
  },
  {
   "cell_type": "code",
   "execution_count": 2,
   "metadata": {},
   "outputs": [
    {
     "name": "stderr",
     "output_type": "stream",
     "text": [
      "c:\\ProgramData\\Anaconda3\\envs\\HIDS_Capstone\\lib\\site-packages\\openpyxl\\worksheet\\_reader.py:312: UserWarning: Data Validation extension is not supported and will be removed\n",
      "  warn(msg)\n"
     ]
    }
   ],
   "source": [
    "RAW_DSS_MAP_EXCEL = \"C:/Users/nelso/Documents/GitHub/HIDS-Capstone/data/CRDC DST Cross-Model Mapping.xlsx\"\n",
    "df = pd.read_excel(RAW_DSS_MAP_EXCEL, sheet_name=\"CRDC DST Cross-Model Mapping\", header=2, nrows=1529, usecols=[\"DST Data Element Name\", \"Compiled Data Element Names\"])"
   ]
  },
  {
   "cell_type": "code",
   "execution_count": 19,
   "metadata": {},
   "outputs": [],
   "source": [
    "df_dst = pd.DataFrame(np.repeat(\"DST\", len(df)))\n",
    "df_dst = pd.concat([df_dst, df[\"DST Data Element Name\"].str.split(\" \", 1, expand=True)], axis=1)\n",
    "df_dst.columns = [\"ent_1_model\", \"ent_1_extra_handles\", \"ent_1_handle\"]\n",
    "df_dst = df_dst[[\"ent_1_model\", \"ent_1_handle\", \"ent_1_extra_handles\"]]\n",
    "df_dst[\"ent_1_extra_handles\"] = [[l] for l in df_dst[\"ent_1_extra_handles\"]]"
   ]
  },
  {
   "cell_type": "code",
   "execution_count": 20,
   "metadata": {},
   "outputs": [
    {
     "data": {
      "text/html": [
       "<div>\n",
       "<style scoped>\n",
       "    .dataframe tbody tr th:only-of-type {\n",
       "        vertical-align: middle;\n",
       "    }\n",
       "\n",
       "    .dataframe tbody tr th {\n",
       "        vertical-align: top;\n",
       "    }\n",
       "\n",
       "    .dataframe thead th {\n",
       "        text-align: right;\n",
       "    }\n",
       "</style>\n",
       "<table border=\"1\" class=\"dataframe\">\n",
       "  <thead>\n",
       "    <tr style=\"text-align: right;\">\n",
       "      <th></th>\n",
       "      <th>ent_1_model</th>\n",
       "      <th>ent_1_handle</th>\n",
       "      <th>ent_1_extra_handles</th>\n",
       "    </tr>\n",
       "  </thead>\n",
       "  <tbody>\n",
       "    <tr>\n",
       "      <th>0</th>\n",
       "      <td>DST</td>\n",
       "      <td>Identifier</td>\n",
       "      <td>[Subject]</td>\n",
       "    </tr>\n",
       "    <tr>\n",
       "      <th>1</th>\n",
       "      <td>DST</td>\n",
       "      <td>Type</td>\n",
       "      <td>[Specimen]</td>\n",
       "    </tr>\n",
       "    <tr>\n",
       "      <th>2</th>\n",
       "      <td>DST</td>\n",
       "      <td>Ethnicity*</td>\n",
       "      <td>[Subject]</td>\n",
       "    </tr>\n",
       "    <tr>\n",
       "      <th>3</th>\n",
       "      <td>DST</td>\n",
       "      <td>Race</td>\n",
       "      <td>[Subject]</td>\n",
       "    </tr>\n",
       "    <tr>\n",
       "      <th>4</th>\n",
       "      <td>DST</td>\n",
       "      <td>NaN</td>\n",
       "      <td>[nan]</td>\n",
       "    </tr>\n",
       "    <tr>\n",
       "      <th>...</th>\n",
       "      <td>...</td>\n",
       "      <td>...</td>\n",
       "      <td>...</td>\n",
       "    </tr>\n",
       "    <tr>\n",
       "      <th>1524</th>\n",
       "      <td>DST</td>\n",
       "      <td>Grade</td>\n",
       "      <td>[Tumor]</td>\n",
       "    </tr>\n",
       "    <tr>\n",
       "      <th>1525</th>\n",
       "      <td>DST</td>\n",
       "      <td>Grade</td>\n",
       "      <td>[Tumor]</td>\n",
       "    </tr>\n",
       "    <tr>\n",
       "      <th>1526</th>\n",
       "      <td>DST</td>\n",
       "      <td>NaN</td>\n",
       "      <td>[nan]</td>\n",
       "    </tr>\n",
       "    <tr>\n",
       "      <th>1527</th>\n",
       "      <td>DST</td>\n",
       "      <td>Clinical Stage</td>\n",
       "      <td>[Disease]</td>\n",
       "    </tr>\n",
       "    <tr>\n",
       "      <th>1528</th>\n",
       "      <td>DST</td>\n",
       "      <td>Type</td>\n",
       "      <td>[Exposure]</td>\n",
       "    </tr>\n",
       "  </tbody>\n",
       "</table>\n",
       "<p>1529 rows × 3 columns</p>\n",
       "</div>"
      ],
      "text/plain": [
       "     ent_1_model    ent_1_handle ent_1_extra_handles\n",
       "0            DST      Identifier           [Subject]\n",
       "1            DST            Type          [Specimen]\n",
       "2            DST      Ethnicity*           [Subject]\n",
       "3            DST            Race           [Subject]\n",
       "4            DST             NaN               [nan]\n",
       "...          ...             ...                 ...\n",
       "1524         DST           Grade             [Tumor]\n",
       "1525         DST           Grade             [Tumor]\n",
       "1526         DST             NaN               [nan]\n",
       "1527         DST  Clinical Stage           [Disease]\n",
       "1528         DST            Type          [Exposure]\n",
       "\n",
       "[1529 rows x 3 columns]"
      ]
     },
     "execution_count": 20,
     "metadata": {},
     "output_type": "execute_result"
    }
   ],
   "source": [
    "df_dst"
   ]
  },
  {
   "cell_type": "code",
   "execution_count": 88,
   "metadata": {},
   "outputs": [],
   "source": [
    "df_models = df[\"Compiled Data Element Names\"].str.strip().str.split('\\n', expand=True).add_prefix(\"Model_Data_Element_Name_\")"
   ]
  },
  {
   "cell_type": "code",
   "execution_count": 90,
   "metadata": {},
   "outputs": [],
   "source": [
    "df_dst_models = df_dst.join(df_models)"
   ]
  },
  {
   "cell_type": "code",
   "execution_count": 91,
   "metadata": {},
   "outputs": [
    {
     "ename": "TypeError",
     "evalue": "unhashable type: 'numpy.ndarray'",
     "output_type": "error",
     "traceback": [
      "\u001b[1;31m---------------------------------------------------------------------------\u001b[0m",
      "\u001b[1;31mTypeError\u001b[0m                                 Traceback (most recent call last)",
      "\u001b[1;32mc:\\Users\\nelso\\Documents\\GitHub\\HIDS-Capstone\\notebooks\\test_notebook.ipynb Cell 69\u001b[0m in \u001b[0;36m<cell line: 1>\u001b[1;34m()\u001b[0m\n\u001b[1;32m----> <a href='vscode-notebook-cell:/c%3A/Users/nelso/Documents/GitHub/HIDS-Capstone/notebooks/test_notebook.ipynb#Y131sZmlsZQ%3D%3D?line=0'>1</a>\u001b[0m df_dst_models \u001b[39m=\u001b[39m df_dst_models\u001b[39m.\u001b[39;49minsert(\u001b[39m0\u001b[39;49m, np\u001b[39m.\u001b[39;49mrepeat(\u001b[39m\"\u001b[39;49m\u001b[39mDST\u001b[39;49m\u001b[39m\"\u001b[39;49m, \u001b[39mlen\u001b[39;49m(df_dst_models)), \u001b[39mTrue\u001b[39;49;00m)\n",
      "File \u001b[1;32mc:\\ProgramData\\Anaconda3\\envs\\HIDS_Capstone\\lib\\site-packages\\pandas\\core\\frame.py:4438\u001b[0m, in \u001b[0;36mDataFrame.insert\u001b[1;34m(self, loc, column, value, allow_duplicates)\u001b[0m\n\u001b[0;32m   4433\u001b[0m \u001b[39mif\u001b[39;00m allow_duplicates \u001b[39mand\u001b[39;00m \u001b[39mnot\u001b[39;00m \u001b[39mself\u001b[39m\u001b[39m.\u001b[39mflags\u001b[39m.\u001b[39mallows_duplicate_labels:\n\u001b[0;32m   4434\u001b[0m     \u001b[39mraise\u001b[39;00m \u001b[39mValueError\u001b[39;00m(\n\u001b[0;32m   4435\u001b[0m         \u001b[39m\"\u001b[39m\u001b[39mCannot specify \u001b[39m\u001b[39m'\u001b[39m\u001b[39mallow_duplicates=True\u001b[39m\u001b[39m'\u001b[39m\u001b[39m when \u001b[39m\u001b[39m\"\u001b[39m\n\u001b[0;32m   4436\u001b[0m         \u001b[39m\"\u001b[39m\u001b[39m'\u001b[39m\u001b[39mself.flags.allows_duplicate_labels\u001b[39m\u001b[39m'\u001b[39m\u001b[39m is False.\u001b[39m\u001b[39m\"\u001b[39m\n\u001b[0;32m   4437\u001b[0m     )\n\u001b[1;32m-> 4438\u001b[0m \u001b[39mif\u001b[39;00m \u001b[39mnot\u001b[39;00m allow_duplicates \u001b[39mand\u001b[39;00m column \u001b[39min\u001b[39;49;00m \u001b[39mself\u001b[39;49m\u001b[39m.\u001b[39;49mcolumns:\n\u001b[0;32m   4439\u001b[0m     \u001b[39m# Should this be a different kind of error??\u001b[39;00m\n\u001b[0;32m   4440\u001b[0m     \u001b[39mraise\u001b[39;00m \u001b[39mValueError\u001b[39;00m(\u001b[39mf\u001b[39m\u001b[39m\"\u001b[39m\u001b[39mcannot insert \u001b[39m\u001b[39m{\u001b[39;00mcolumn\u001b[39m}\u001b[39;00m\u001b[39m, already exists\u001b[39m\u001b[39m\"\u001b[39m)\n\u001b[0;32m   4441\u001b[0m \u001b[39mif\u001b[39;00m \u001b[39mnot\u001b[39;00m \u001b[39misinstance\u001b[39m(loc, \u001b[39mint\u001b[39m):\n",
      "File \u001b[1;32mc:\\ProgramData\\Anaconda3\\envs\\HIDS_Capstone\\lib\\site-packages\\pandas\\core\\indexes\\base.py:5008\u001b[0m, in \u001b[0;36mIndex.__contains__\u001b[1;34m(self, key)\u001b[0m\n\u001b[0;32m   4973\u001b[0m \u001b[39mdef\u001b[39;00m \u001b[39m__contains__\u001b[39m(\u001b[39mself\u001b[39m, key: Any) \u001b[39m-\u001b[39m\u001b[39m>\u001b[39m \u001b[39mbool\u001b[39m:\n\u001b[0;32m   4974\u001b[0m     \u001b[39m\"\"\"\u001b[39;00m\n\u001b[0;32m   4975\u001b[0m \u001b[39m    Return a boolean indicating whether the provided key is in the index.\u001b[39;00m\n\u001b[0;32m   4976\u001b[0m \n\u001b[1;32m   (...)\u001b[0m\n\u001b[0;32m   5006\u001b[0m \u001b[39m    False\u001b[39;00m\n\u001b[0;32m   5007\u001b[0m \u001b[39m    \"\"\"\u001b[39;00m\n\u001b[1;32m-> 5008\u001b[0m     \u001b[39mhash\u001b[39;49m(key)\n\u001b[0;32m   5009\u001b[0m     \u001b[39mtry\u001b[39;00m:\n\u001b[0;32m   5010\u001b[0m         \u001b[39mreturn\u001b[39;00m key \u001b[39min\u001b[39;00m \u001b[39mself\u001b[39m\u001b[39m.\u001b[39m_engine\n",
      "\u001b[1;31mTypeError\u001b[0m: unhashable type: 'numpy.ndarray'"
     ]
    }
   ],
   "source": [
    "df_dst_models = df_dst_models.insert(0, np.repeat(\"DST\", len(df_dst_models)), )"
   ]
  },
  {
   "cell_type": "code",
   "execution_count": 92,
   "metadata": {},
   "outputs": [
    {
     "data": {
      "text/html": [
       "<div>\n",
       "<style scoped>\n",
       "    .dataframe tbody tr th:only-of-type {\n",
       "        vertical-align: middle;\n",
       "    }\n",
       "\n",
       "    .dataframe tbody tr th {\n",
       "        vertical-align: top;\n",
       "    }\n",
       "\n",
       "    .dataframe thead th {\n",
       "        text-align: right;\n",
       "    }\n",
       "</style>\n",
       "<table border=\"1\" class=\"dataframe\">\n",
       "  <thead>\n",
       "    <tr style=\"text-align: right;\">\n",
       "      <th></th>\n",
       "      <th>0</th>\n",
       "      <th>DST_Data_Element_Name_0</th>\n",
       "      <th>DST_Data_Element_Name_1</th>\n",
       "      <th>Model_Data_Element_Name_0</th>\n",
       "      <th>Model_Data_Element_Name_1</th>\n",
       "      <th>Model_Data_Element_Name_2</th>\n",
       "      <th>Model_Data_Element_Name_3</th>\n",
       "      <th>Model_Data_Element_Name_4</th>\n",
       "      <th>Model_Data_Element_Name_5</th>\n",
       "      <th>Model_Data_Element_Name_6</th>\n",
       "      <th>Model_Data_Element_Name_7</th>\n",
       "      <th>Model_Data_Element_Name_8</th>\n",
       "      <th>Model_Data_Element_Name_9</th>\n",
       "    </tr>\n",
       "  </thead>\n",
       "  <tbody>\n",
       "    <tr>\n",
       "      <th>0</th>\n",
       "      <td>DST</td>\n",
       "      <td>Subject</td>\n",
       "      <td>Identifier</td>\n",
       "      <td>CTDC.case.case_id</td>\n",
       "      <td>GDC.Case.id</td>\n",
       "      <td>ICDC.case.case_id</td>\n",
       "      <td>IDC.DICOM.Patient Module.Patient ID</td>\n",
       "      <td>PDC.Case.case_id</td>\n",
       "      <td>CDS.Participant.subject_id</td>\n",
       "      <td>CDA.Patient.dct:identifier</td>\n",
       "      <td></td>\n",
       "      <td>C2M2.biosample.local_id</td>\n",
       "      <td>mCODE.Cancer Patient Profile.Identifier</td>\n",
       "    </tr>\n",
       "    <tr>\n",
       "      <th>1</th>\n",
       "      <td>DST</td>\n",
       "      <td>Specimen</td>\n",
       "      <td>Type</td>\n",
       "      <td>GDC.Sample.sample_type</td>\n",
       "      <td>ICDC.sample.physical_sample_type</td>\n",
       "      <td>PDC.Sample.sample_type</td>\n",
       "      <td>CDS.Sample Information.sample_type</td>\n",
       "      <td>CDA.Specimen.source_material_type</td>\n",
       "      <td>HTAN.Molecular Test.biospecimen_type</td>\n",
       "      <td>C2M2.biosample.assay_type</td>\n",
       "      <td>mCODE.Genomic Specimen Profile.Type</td>\n",
       "      <td>None</td>\n",
       "      <td>None</td>\n",
       "    </tr>\n",
       "    <tr>\n",
       "      <th>2</th>\n",
       "      <td>DST</td>\n",
       "      <td>Subject</td>\n",
       "      <td>Ethnicity*</td>\n",
       "      <td>CTDC.case.ethnicity</td>\n",
       "      <td>GDC.Demographic.ethnicity</td>\n",
       "      <td>IDC.DICOM.Patient Module.Patient's Ethnic Group</td>\n",
       "      <td>PDC.Demographic.ethnicity</td>\n",
       "      <td>CDS.Participant.ethnicity</td>\n",
       "      <td>CDA.Patient.ethnicity</td>\n",
       "      <td>HTAN.Demographics.Ethnicity</td>\n",
       "      <td>C2M2.subject.ethnicity</td>\n",
       "      <td>None</td>\n",
       "      <td>None</td>\n",
       "    </tr>\n",
       "    <tr>\n",
       "      <th>3</th>\n",
       "      <td>DST</td>\n",
       "      <td>Subject</td>\n",
       "      <td>Race</td>\n",
       "      <td>CTDC.case.race</td>\n",
       "      <td>GDC.Demographic.race</td>\n",
       "      <td>PDC.Demographic.race</td>\n",
       "      <td>CDS.Participant.race</td>\n",
       "      <td>CDA.Patient.race</td>\n",
       "      <td>HTAN.Demographics.Race</td>\n",
       "      <td>C2M2.subject_race.race</td>\n",
       "      <td>None</td>\n",
       "      <td>None</td>\n",
       "      <td>None</td>\n",
       "    </tr>\n",
       "    <tr>\n",
       "      <th>4</th>\n",
       "      <td>DST</td>\n",
       "      <td>NaN</td>\n",
       "      <td>NaN</td>\n",
       "      <td>GDC.Diagnosis.site_of_resection_or_biopsy</td>\n",
       "      <td>IDC.TCIA.tcia_tumorLocation</td>\n",
       "      <td>PDC.Diagnosis.site_of_resection_or_biopsy</td>\n",
       "      <td>CDS.Additional Diagnosis Information.site_of_r...</td>\n",
       "      <td>HTAN.Diagnosis.site_of_resection_or_biopsy</td>\n",
       "      <td>None</td>\n",
       "      <td>None</td>\n",
       "      <td>None</td>\n",
       "      <td>None</td>\n",
       "      <td>None</td>\n",
       "    </tr>\n",
       "    <tr>\n",
       "      <th>...</th>\n",
       "      <td>...</td>\n",
       "      <td>...</td>\n",
       "      <td>...</td>\n",
       "      <td>...</td>\n",
       "      <td>...</td>\n",
       "      <td>...</td>\n",
       "      <td>...</td>\n",
       "      <td>...</td>\n",
       "      <td>...</td>\n",
       "      <td>...</td>\n",
       "      <td>...</td>\n",
       "      <td>...</td>\n",
       "      <td>...</td>\n",
       "    </tr>\n",
       "    <tr>\n",
       "      <th>1524</th>\n",
       "      <td>DST</td>\n",
       "      <td>Tumor</td>\n",
       "      <td>Grade</td>\n",
       "      <td>PDC.Diagnosis.who_nte_grade</td>\n",
       "      <td>None</td>\n",
       "      <td>None</td>\n",
       "      <td>None</td>\n",
       "      <td>None</td>\n",
       "      <td>None</td>\n",
       "      <td>None</td>\n",
       "      <td>None</td>\n",
       "      <td>None</td>\n",
       "      <td>None</td>\n",
       "    </tr>\n",
       "    <tr>\n",
       "      <th>1525</th>\n",
       "      <td>DST</td>\n",
       "      <td>Tumor</td>\n",
       "      <td>Grade</td>\n",
       "      <td>PDC.Diagnosis.gleason_grade_tertiary</td>\n",
       "      <td>None</td>\n",
       "      <td>None</td>\n",
       "      <td>None</td>\n",
       "      <td>None</td>\n",
       "      <td>None</td>\n",
       "      <td>None</td>\n",
       "      <td>None</td>\n",
       "      <td>None</td>\n",
       "      <td>None</td>\n",
       "    </tr>\n",
       "    <tr>\n",
       "      <th>1526</th>\n",
       "      <td>DST</td>\n",
       "      <td>NaN</td>\n",
       "      <td>NaN</td>\n",
       "      <td>GDC.Diagnosis.tumor_depth</td>\n",
       "      <td>PDC.Diagnosis.tumor_depth</td>\n",
       "      <td>None</td>\n",
       "      <td>None</td>\n",
       "      <td>None</td>\n",
       "      <td>None</td>\n",
       "      <td>None</td>\n",
       "      <td>None</td>\n",
       "      <td>None</td>\n",
       "      <td>None</td>\n",
       "    </tr>\n",
       "    <tr>\n",
       "      <th>1527</th>\n",
       "      <td>DST</td>\n",
       "      <td>Disease</td>\n",
       "      <td>Clinical Stage</td>\n",
       "      <td>PDC.Diagnosis.figo_staging_edition_year</td>\n",
       "      <td>None</td>\n",
       "      <td>None</td>\n",
       "      <td>None</td>\n",
       "      <td>None</td>\n",
       "      <td>None</td>\n",
       "      <td>None</td>\n",
       "      <td>None</td>\n",
       "      <td>None</td>\n",
       "      <td>None</td>\n",
       "    </tr>\n",
       "    <tr>\n",
       "      <th>1528</th>\n",
       "      <td>DST</td>\n",
       "      <td>Exposure</td>\n",
       "      <td>Type</td>\n",
       "      <td>PDC.Exposure.exposure_type</td>\n",
       "      <td>None</td>\n",
       "      <td>None</td>\n",
       "      <td>None</td>\n",
       "      <td>None</td>\n",
       "      <td>None</td>\n",
       "      <td>None</td>\n",
       "      <td>None</td>\n",
       "      <td>None</td>\n",
       "      <td>None</td>\n",
       "    </tr>\n",
       "  </tbody>\n",
       "</table>\n",
       "<p>1529 rows × 13 columns</p>\n",
       "</div>"
      ],
      "text/plain": [
       "        0 DST_Data_Element_Name_0 DST_Data_Element_Name_1  \\\n",
       "0     DST                 Subject              Identifier   \n",
       "1     DST                Specimen                    Type   \n",
       "2     DST                 Subject              Ethnicity*   \n",
       "3     DST                 Subject                    Race   \n",
       "4     DST                     NaN                     NaN   \n",
       "...   ...                     ...                     ...   \n",
       "1524  DST                   Tumor                   Grade   \n",
       "1525  DST                   Tumor                   Grade   \n",
       "1526  DST                     NaN                     NaN   \n",
       "1527  DST                 Disease          Clinical Stage   \n",
       "1528  DST                Exposure                    Type   \n",
       "\n",
       "                      Model_Data_Element_Name_0  \\\n",
       "0                             CTDC.case.case_id   \n",
       "1                        GDC.Sample.sample_type   \n",
       "2                           CTDC.case.ethnicity   \n",
       "3                                CTDC.case.race   \n",
       "4     GDC.Diagnosis.site_of_resection_or_biopsy   \n",
       "...                                         ...   \n",
       "1524                PDC.Diagnosis.who_nte_grade   \n",
       "1525       PDC.Diagnosis.gleason_grade_tertiary   \n",
       "1526                  GDC.Diagnosis.tumor_depth   \n",
       "1527    PDC.Diagnosis.figo_staging_edition_year   \n",
       "1528                 PDC.Exposure.exposure_type   \n",
       "\n",
       "              Model_Data_Element_Name_1  \\\n",
       "0                           GDC.Case.id   \n",
       "1     ICDC.sample.physical_sample_type    \n",
       "2             GDC.Demographic.ethnicity   \n",
       "3                  GDC.Demographic.race   \n",
       "4           IDC.TCIA.tcia_tumorLocation   \n",
       "...                                 ...   \n",
       "1524                               None   \n",
       "1525                               None   \n",
       "1526          PDC.Diagnosis.tumor_depth   \n",
       "1527                               None   \n",
       "1528                               None   \n",
       "\n",
       "                            Model_Data_Element_Name_2  \\\n",
       "0                                   ICDC.case.case_id   \n",
       "1                              PDC.Sample.sample_type   \n",
       "2     IDC.DICOM.Patient Module.Patient's Ethnic Group   \n",
       "3                                PDC.Demographic.race   \n",
       "4           PDC.Diagnosis.site_of_resection_or_biopsy   \n",
       "...                                               ...   \n",
       "1524                                             None   \n",
       "1525                                             None   \n",
       "1526                                             None   \n",
       "1527                                             None   \n",
       "1528                                             None   \n",
       "\n",
       "                              Model_Data_Element_Name_3  \\\n",
       "0                   IDC.DICOM.Patient Module.Patient ID   \n",
       "1                    CDS.Sample Information.sample_type   \n",
       "2                             PDC.Demographic.ethnicity   \n",
       "3                                  CDS.Participant.race   \n",
       "4     CDS.Additional Diagnosis Information.site_of_r...   \n",
       "...                                                 ...   \n",
       "1524                                               None   \n",
       "1525                                               None   \n",
       "1526                                               None   \n",
       "1527                                               None   \n",
       "1528                                               None   \n",
       "\n",
       "                       Model_Data_Element_Name_4  \\\n",
       "0                               PDC.Case.case_id   \n",
       "1              CDA.Specimen.source_material_type   \n",
       "2                      CDS.Participant.ethnicity   \n",
       "3                               CDA.Patient.race   \n",
       "4     HTAN.Diagnosis.site_of_resection_or_biopsy   \n",
       "...                                          ...   \n",
       "1524                                        None   \n",
       "1525                                        None   \n",
       "1526                                        None   \n",
       "1527                                        None   \n",
       "1528                                        None   \n",
       "\n",
       "                 Model_Data_Element_Name_5    Model_Data_Element_Name_6  \\\n",
       "0               CDS.Participant.subject_id   CDA.Patient.dct:identifier   \n",
       "1     HTAN.Molecular Test.biospecimen_type    C2M2.biosample.assay_type   \n",
       "2                    CDA.Patient.ethnicity  HTAN.Demographics.Ethnicity   \n",
       "3                   HTAN.Demographics.Race       C2M2.subject_race.race   \n",
       "4                                     None                         None   \n",
       "...                                    ...                          ...   \n",
       "1524                                  None                         None   \n",
       "1525                                  None                         None   \n",
       "1526                                  None                         None   \n",
       "1527                                  None                         None   \n",
       "1528                                  None                         None   \n",
       "\n",
       "                Model_Data_Element_Name_7 Model_Data_Element_Name_8  \\\n",
       "0                                           C2M2.biosample.local_id   \n",
       "1     mCODE.Genomic Specimen Profile.Type                      None   \n",
       "2                  C2M2.subject.ethnicity                      None   \n",
       "3                                    None                      None   \n",
       "4                                    None                      None   \n",
       "...                                   ...                       ...   \n",
       "1524                                 None                      None   \n",
       "1525                                 None                      None   \n",
       "1526                                 None                      None   \n",
       "1527                                 None                      None   \n",
       "1528                                 None                      None   \n",
       "\n",
       "                    Model_Data_Element_Name_9  \n",
       "0     mCODE.Cancer Patient Profile.Identifier  \n",
       "1                                        None  \n",
       "2                                        None  \n",
       "3                                        None  \n",
       "4                                        None  \n",
       "...                                       ...  \n",
       "1524                                     None  \n",
       "1525                                     None  \n",
       "1526                                     None  \n",
       "1527                                     None  \n",
       "1528                                     None  \n",
       "\n",
       "[1529 rows x 13 columns]"
      ]
     },
     "execution_count": 92,
     "metadata": {},
     "output_type": "execute_result"
    }
   ],
   "source": [
    "pd.DataFrame(np.repeat(\"DST\", len(df_dst_models))).join(df_dst_models)"
   ]
  }
 ],
 "metadata": {
  "kernelspec": {
   "display_name": "Python 3.9.12 ('HIDS_Capstone')",
   "language": "python",
   "name": "python3"
  },
  "language_info": {
   "codemirror_mode": {
    "name": "ipython",
    "version": 3
   },
   "file_extension": ".py",
   "mimetype": "text/x-python",
   "name": "python",
   "nbconvert_exporter": "python",
   "pygments_lexer": "ipython3",
   "version": "3.9.12"
  },
  "orig_nbformat": 4,
  "vscode": {
   "interpreter": {
    "hash": "24bde3e8e56409237732496eb336b8081f14b31df1642fcb4e390fe4f4a787e4"
   }
  }
 },
 "nbformat": 4,
 "nbformat_minor": 2
}
