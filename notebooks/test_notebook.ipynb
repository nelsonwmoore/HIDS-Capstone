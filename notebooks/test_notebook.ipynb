{
 "cells": [
  {
   "cell_type": "markdown",
   "metadata": {},
   "source": [
    "# bento-meta cypher"
   ]
  },
  {
   "cell_type": "markdown",
   "metadata": {},
   "source": [
    "## entities"
   ]
  },
  {
   "cell_type": "markdown",
   "metadata": {},
   "source": [
    "### node"
   ]
  },
  {
   "cell_type": "code",
   "execution_count": 86,
   "metadata": {},
   "outputs": [],
   "source": [
    "from bento_meta.util.cypher.entities import (\n",
    "    N, N0, R, R0, P, T, G,\n",
    "    _pattern, _as, _condition, _return,\n",
    "    _plain, _anon, _var, _plain_var\n",
    "    )\n",
    "from bento_meta.util.cypher.functions import (\n",
    "    Func, count, exists, group, And, Or, Not,\n",
    ")\n",
    "from bento_meta.util.cypher.clauses import (\n",
    "    Clause, Match, Where, Return, Set, Create, Merge,\n",
    "    OnMatchSet, OnCreateSet, Remove, Statement,\n",
    ")"
   ]
  },
  {
   "cell_type": "code",
   "execution_count": 87,
   "metadata": {},
   "outputs": [],
   "source": [
    "# N() entity is node\n",
    "n = N(label=\"node\", props={\"model\": \"ICDC\", \"handle\": \"diagnosis\"})"
   ]
  },
  {
   "cell_type": "code",
   "execution_count": 88,
   "metadata": {},
   "outputs": [],
   "source": [
    "# label for each new instantiation of an entity counts up unless _reset_counter() called\n",
    "n._reset_counter()"
   ]
  },
  {
   "cell_type": "code",
   "execution_count": 89,
   "metadata": {},
   "outputs": [
    {
     "data": {
      "text/plain": [
       "\"(n0:node {model:'ICDC',handle:'diagnosis'})\""
      ]
     },
     "execution_count": 89,
     "metadata": {},
     "output_type": "execute_result"
    }
   ],
   "source": [
    "# pattern() renders entity as a match pattern\n",
    "n.pattern()"
   ]
  },
  {
   "cell_type": "code",
   "execution_count": 90,
   "metadata": {},
   "outputs": [
    {
     "data": {
      "text/plain": [
       "[\"n0.model = 'ICDC'\", \"n0.handle = 'diagnosis'\"]"
      ]
     },
     "execution_count": 90,
     "metadata": {},
     "output_type": "execute_result"
    }
   ],
   "source": [
    "# condition() renders entity as a condition (e.g. for WHERE clause)\n",
    "n.condition()"
   ]
  },
  {
   "cell_type": "code",
   "execution_count": 91,
   "metadata": {},
   "outputs": [
    {
     "data": {
      "text/plain": [
       "'node'"
      ]
     },
     "execution_count": 91,
     "metadata": {},
     "output_type": "execute_result"
    }
   ],
   "source": [
    "# label has entity label\n",
    "n.label"
   ]
  },
  {
   "cell_type": "code",
   "execution_count": 92,
   "metadata": {},
   "outputs": [
    {
     "data": {
      "text/plain": [
       "'n0'"
      ]
     },
     "execution_count": 92,
     "metadata": {},
     "output_type": "execute_result"
    }
   ],
   "source": [
    "# Return() \"renders entity as a return value\", maybe Neo4j variable assigned to entity?\n",
    "n.Return()"
   ]
  },
  {
   "cell_type": "code",
   "execution_count": 93,
   "metadata": {},
   "outputs": [
    {
     "data": {
      "text/plain": [
       "\"(n0:node {model:'ICDC',handle:'diagnosis',nanoid:'mnmzW6'})\""
      ]
     },
     "execution_count": 93,
     "metadata": {},
     "output_type": "execute_result"
    }
   ],
   "source": [
    "# _add_props() can add properties to a node or relationship entity\n",
    "n._add_props({\"nanoid\": \"mnmzW6\"})\n",
    "n.pattern()"
   ]
  },
  {
   "cell_type": "code",
   "execution_count": 94,
   "metadata": {},
   "outputs": [],
   "source": [
    "# As param lets a node be aliased?\n",
    "x = N(label=\"thing\", As=\"dude\")"
   ]
  },
  {
   "cell_type": "code",
   "execution_count": 95,
   "metadata": {},
   "outputs": [
    {
     "data": {
      "text/plain": [
       "'thing'"
      ]
     },
     "execution_count": 95,
     "metadata": {},
     "output_type": "execute_result"
    }
   ],
   "source": [
    "x.label"
   ]
  },
  {
   "cell_type": "code",
   "execution_count": 96,
   "metadata": {},
   "outputs": [
    {
     "data": {
      "text/plain": [
       "'dude'"
      ]
     },
     "execution_count": 96,
     "metadata": {},
     "output_type": "execute_result"
    }
   ],
   "source": [
    "x.As"
   ]
  },
  {
   "cell_type": "code",
   "execution_count": 97,
   "metadata": {},
   "outputs": [
    {
     "data": {
      "text/plain": [
       "'n0 as dude'"
      ]
     },
     "execution_count": 97,
     "metadata": {},
     "output_type": "execute_result"
    }
   ],
   "source": [
    "x.Return()"
   ]
  },
  {
   "cell_type": "code",
   "execution_count": 98,
   "metadata": {},
   "outputs": [
    {
     "data": {
      "text/plain": [
       "'()'"
      ]
     },
     "execution_count": 98,
     "metadata": {},
     "output_type": "execute_result"
    }
   ],
   "source": [
    "# anonymous node (R0 also exists); probably used for just matching a pattern where you don't care \n",
    "# which node/relationship something is connected to as long as it is connected\n",
    "N0().pattern()"
   ]
  },
  {
   "cell_type": "markdown",
   "metadata": {},
   "source": [
    "### relationship"
   ]
  },
  {
   "cell_type": "code",
   "execution_count": 99,
   "metadata": {},
   "outputs": [],
   "source": [
    "# R() entity is relationship/edge (not relationship node, but actual relationship in Neo4 (I think))\n",
    "r = R(Type=\"has_property\")"
   ]
  },
  {
   "cell_type": "code",
   "execution_count": 100,
   "metadata": {},
   "outputs": [
    {
     "data": {
      "text/plain": [
       "'-[r0:has_property]-'"
      ]
     },
     "execution_count": 100,
     "metadata": {},
     "output_type": "execute_result"
    }
   ],
   "source": [
    "r.pattern()"
   ]
  },
  {
   "cell_type": "code",
   "execution_count": 101,
   "metadata": {},
   "outputs": [
    {
     "data": {
      "text/plain": [
       "[]"
      ]
     },
     "execution_count": 101,
     "metadata": {},
     "output_type": "execute_result"
    }
   ],
   "source": [
    "r.condition()"
   ]
  },
  {
   "cell_type": "code",
   "execution_count": 102,
   "metadata": {},
   "outputs": [
    {
     "data": {
      "text/plain": [
       "'has_property'"
      ]
     },
     "execution_count": 102,
     "metadata": {},
     "output_type": "execute_result"
    }
   ],
   "source": [
    "r.Type"
   ]
  },
  {
   "cell_type": "code",
   "execution_count": 103,
   "metadata": {},
   "outputs": [
    {
     "data": {
      "text/plain": [
       "'r0'"
      ]
     },
     "execution_count": 103,
     "metadata": {},
     "output_type": "execute_result"
    }
   ],
   "source": [
    "r.Return()"
   ]
  },
  {
   "cell_type": "code",
   "execution_count": 104,
   "metadata": {},
   "outputs": [
    {
     "data": {
      "text/plain": [
       "'--'"
      ]
     },
     "execution_count": 104,
     "metadata": {},
     "output_type": "execute_result"
    }
   ],
   "source": [
    "R0().pattern()"
   ]
  },
  {
   "cell_type": "markdown",
   "metadata": {},
   "source": [
    "### property"
   ]
  },
  {
   "cell_type": "code",
   "execution_count": 105,
   "metadata": {},
   "outputs": [],
   "source": [
    "# P() represent properties of a node and can be used to hold (just one?) handle/value pair repping a property\n",
    "p = P(handle=\"handle\", value=\"stage_of_disease\")"
   ]
  },
  {
   "cell_type": "code",
   "execution_count": 106,
   "metadata": {},
   "outputs": [
    {
     "data": {
      "text/plain": [
       "\"handle:'stage_of_disease'\""
      ]
     },
     "execution_count": 106,
     "metadata": {},
     "output_type": "execute_result"
    }
   ],
   "source": [
    "p.pattern()"
   ]
  },
  {
   "cell_type": "code",
   "execution_count": 107,
   "metadata": {},
   "outputs": [
    {
     "name": "stdout",
     "output_type": "stream",
     "text": [
      "None None None\n"
     ]
    }
   ],
   "source": [
    "# these all return None since p.entity is None?\n",
    "print(p.entity, p.condition(), p.Return())"
   ]
  },
  {
   "cell_type": "code",
   "execution_count": 108,
   "metadata": {},
   "outputs": [],
   "source": [
    "m = N(label=\"property\", props=p)"
   ]
  },
  {
   "cell_type": "code",
   "execution_count": 109,
   "metadata": {},
   "outputs": [],
   "source": [
    "q = P(\"model\", \"ICDC\")\n",
    "l = P(\"nanoid\", \"xaF4my\")"
   ]
  },
  {
   "cell_type": "code",
   "execution_count": 110,
   "metadata": {},
   "outputs": [
    {
     "data": {
      "text/plain": [
       "True"
      ]
     },
     "execution_count": 110,
     "metadata": {},
     "output_type": "execute_result"
    }
   ],
   "source": [
    "m._add_props([q, l])"
   ]
  },
  {
   "cell_type": "code",
   "execution_count": 111,
   "metadata": {},
   "outputs": [
    {
     "data": {
      "text/plain": [
       "\"(n2:property {handle:'stage_of_disease',model:'ICDC',nanoid:'xaF4my'})\""
      ]
     },
     "execution_count": 111,
     "metadata": {},
     "output_type": "execute_result"
    }
   ],
   "source": [
    "m.pattern()"
   ]
  },
  {
   "cell_type": "markdown",
   "metadata": {},
   "source": [
    "### triple"
   ]
  },
  {
   "cell_type": "code",
   "execution_count": 112,
   "metadata": {},
   "outputs": [],
   "source": [
    "# R.relate() returns a triple relating two nodes by a relationship\n",
    "t = r.relate(n, m)"
   ]
  },
  {
   "cell_type": "code",
   "execution_count": 113,
   "metadata": {},
   "outputs": [
    {
     "name": "stdout",
     "output_type": "stream",
     "text": [
      "(n0:node {model:'ICDC',handle:'diagnosis',nanoid:'mnmzW6'})-[r0:has_property]->(n2:property {handle:'stage_of_disease',model:'ICDC',nanoid:'xaF4my'})\n",
      "(n0:node {model:'ICDC',handle:'diagnosis',nanoid:'mnmzW6'})-[r0:has_property]->(n2:property {handle:'stage_of_disease',model:'ICDC',nanoid:'xaF4my'})\n"
     ]
    }
   ],
   "source": [
    "# pattern() & condition() give same result for T() triple\n",
    "print(t.pattern())\n",
    "print(t.condition())"
   ]
  },
  {
   "cell_type": "code",
   "execution_count": 114,
   "metadata": {},
   "outputs": [],
   "source": [
    "# can also relate_to() from a N() node rather than from the R() relationship\n",
    "t2 = n.relate_to(r, m)"
   ]
  },
  {
   "cell_type": "code",
   "execution_count": 115,
   "metadata": {},
   "outputs": [
    {
     "data": {
      "text/plain": [
       "\"(n0:node {model:'ICDC',handle:'diagnosis',nanoid:'mnmzW6'})-[r0:has_property]->(n2:property {handle:'stage_of_disease',model:'ICDC',nanoid:'xaF4my'})\""
      ]
     },
     "execution_count": 115,
     "metadata": {},
     "output_type": "execute_result"
    }
   ],
   "source": [
    "t2.pattern()"
   ]
  },
  {
   "cell_type": "markdown",
   "metadata": {},
   "source": [
    "### paths"
   ]
  },
  {
   "cell_type": "code",
   "execution_count": 116,
   "metadata": {},
   "outputs": [],
   "source": [
    "# setup for paths\n",
    "nodes = [N(label=\"case\"), N(label=\"sample\"), N(label=\"aliquot\"),\n",
    "            N(label=\"file\")]\n",
    "edges = [R(Type=\"of_case\"), R(Type=\"of_sample\"), R(Type=\"of_aliquot\")]\n",
    "\n",
    "t1 = edges[0].relate(nodes[1], nodes[0])  # (sample)-[:of_case]->(case)\n",
    "t2 = edges[1].relate(nodes[2], nodes[1])  # (aliquot)-[:of_sample]->(sample)\n",
    "t3 = edges[2].relate(nodes[3], nodes[2])  # (file)-[:of_aliquot]->(aliquot)"
   ]
  },
  {
   "cell_type": "code",
   "execution_count": 117,
   "metadata": {},
   "outputs": [
    {
     "data": {
      "text/plain": [
       "'(n4:sample)-[r2:of_case]->(n3:case)'"
      ]
     },
     "execution_count": 117,
     "metadata": {},
     "output_type": "execute_result"
    }
   ],
   "source": [
    "# G() represents a path, or an ordered set of partially overlapping triples\n",
    "pth0 = G(nodes[1], edges[0], nodes[0])\n",
    "pth0.pattern()"
   ]
  },
  {
   "cell_type": "code",
   "execution_count": 118,
   "metadata": {},
   "outputs": [
    {
     "data": {
      "text/plain": [
       "'(n4:sample)-[r2:of_case]->(n3:case)'"
      ]
     },
     "execution_count": 118,
     "metadata": {},
     "output_type": "execute_result"
    }
   ],
   "source": [
    "pth1 = G(t1)\n",
    "pth1.pattern()"
   ]
  },
  {
   "cell_type": "code",
   "execution_count": 119,
   "metadata": {},
   "outputs": [
    {
     "data": {
      "text/plain": [
       "'(n5:aliquot)-[r3:of_sample]->(n4:sample)-[r2:of_case]->(n3:case)'"
      ]
     },
     "execution_count": 119,
     "metadata": {},
     "output_type": "execute_result"
    }
   ],
   "source": [
    "pth2 = G(t1, t2)\n",
    "pth2.pattern()"
   ]
  },
  {
   "cell_type": "code",
   "execution_count": 120,
   "metadata": {},
   "outputs": [
    {
     "data": {
      "text/plain": [
       "'(n5:aliquot)-[r3:of_sample]->(n4:sample)-[r2:of_case]->(n3:case)'"
      ]
     },
     "execution_count": 120,
     "metadata": {},
     "output_type": "execute_result"
    }
   ],
   "source": [
    "pth3 = G(t2, t1)\n",
    "pth3.pattern()"
   ]
  },
  {
   "cell_type": "code",
   "execution_count": 121,
   "metadata": {},
   "outputs": [
    {
     "data": {
      "text/plain": [
       "'(n6:file)-[r4:of_aliquot]->(n5:aliquot)-[r3:of_sample]->(n4:sample)-[r2:of_case]->(n3:case)'"
      ]
     },
     "execution_count": 121,
     "metadata": {},
     "output_type": "execute_result"
    }
   ],
   "source": [
    "pth4 = G(t3, pth3) # switching these args around doesn't work though?\n",
    "pth4.pattern()"
   ]
  },
  {
   "cell_type": "code",
   "execution_count": 122,
   "metadata": {},
   "outputs": [
    {
     "data": {
      "text/plain": [
       "'(n6:file)-[r4:of_aliquot]->(n5:aliquot)-[r3:of_sample]->(n4:sample)-[r2:of_case]->(n3:case)'"
      ]
     },
     "execution_count": 122,
     "metadata": {},
     "output_type": "execute_result"
    }
   ],
   "source": [
    "pth5 = G(t1, t2, t3)\n",
    "pth5.pattern()"
   ]
  },
  {
   "cell_type": "code",
   "execution_count": 123,
   "metadata": {},
   "outputs": [
    {
     "name": "stdout",
     "output_type": "stream",
     "text": [
      "(n5:aliquot)\n",
      "(n3:case)\n",
      "(n6:file)\n",
      "(n4:sample)\n"
     ]
    }
   ],
   "source": [
    "for x in pth5.nodes():\n",
    "    print(x.pattern())"
   ]
  },
  {
   "cell_type": "code",
   "execution_count": 124,
   "metadata": {},
   "outputs": [
    {
     "name": "stdout",
     "output_type": "stream",
     "text": [
      "-[r3:of_sample]-\n",
      "-[r2:of_case]-\n",
      "-[r4:of_aliquot]-\n"
     ]
    }
   ],
   "source": [
    "for x in pth5.edges():\n",
    "    print(x.pattern())"
   ]
  },
  {
   "cell_type": "markdown",
   "metadata": {},
   "source": [
    "### modifiers"
   ]
  },
  {
   "cell_type": "code",
   "execution_count": 125,
   "metadata": {},
   "outputs": [
    {
     "name": "stdout",
     "output_type": "stream",
     "text": [
      "n0\n",
      "n0 as alias_n\n"
     ]
    }
   ],
   "source": [
    "# _as returns copy of ent with As alias set\n",
    "print(n.Return()) \n",
    "print(_as(n, \"alias_n\").Return())"
   ]
  },
  {
   "cell_type": "code",
   "execution_count": 126,
   "metadata": {},
   "outputs": [
    {
     "name": "stdout",
     "output_type": "stream",
     "text": [
      "(n0:node {model:'ICDC',handle:'diagnosis',nanoid:'mnmzW6'})\n",
      "(n0:node)\n"
     ]
    }
   ],
   "source": [
    "# _plain returns ent w/o properties\n",
    "print(n.pattern())\n",
    "print(_plain(n).pattern())"
   ]
  },
  {
   "cell_type": "code",
   "execution_count": 127,
   "metadata": {},
   "outputs": [
    {
     "name": "stdout",
     "output_type": "stream",
     "text": [
      "(n0:node {model:'ICDC',handle:'diagnosis',nanoid:'mnmzW6'})\n",
      "(n0 {model:'ICDC',handle:'diagnosis',nanoid:'mnmzW6'})\n"
     ]
    }
   ],
   "source": [
    "# _var returns ent w/o label or type\n",
    "print(n.pattern())\n",
    "print( _var(n).pattern())"
   ]
  },
  {
   "cell_type": "code",
   "execution_count": 128,
   "metadata": {},
   "outputs": [
    {
     "name": "stdout",
     "output_type": "stream",
     "text": [
      "(n0:node {model:'ICDC',handle:'diagnosis',nanoid:'mnmzW6'})\n",
      "(n0)\n"
     ]
    }
   ],
   "source": [
    "# _plain_var returns ent w/o label or properties\n",
    "print(n.pattern())\n",
    "print( _plain_var(n).pattern())"
   ]
  },
  {
   "cell_type": "markdown",
   "metadata": {},
   "source": [
    "## Clauses"
   ]
  },
  {
   "cell_type": "code",
   "execution_count": 129,
   "metadata": {},
   "outputs": [
    {
     "name": "stdout",
     "output_type": "stream",
     "text": [
      "MATCH (n0:node {model:'ICDC',handle:'diagnosis',nanoid:'mnmzW6'})-[r0:has_property]->(n2:property {handle:'stage_of_disease',model:'ICDC',nanoid:'xaF4my'})\n",
      "MATCH (n0:node {model:'ICDC',handle:'diagnosis',nanoid:'mnmzW6'})\n",
      "MATCH (n0:node {model:'ICDC',handle:'diagnosis',nanoid:'mnmzW6'}), (n2:property {handle:'stage_of_disease',model:'ICDC',nanoid:'xaF4my'})\n"
     ]
    }
   ],
   "source": [
    "# Match() represents a cypher match clause\n",
    "print(str(Match(t)))\n",
    "print(str(Match(n)))\n",
    "print(str(Match(n, m)))"
   ]
  },
  {
   "cell_type": "code",
   "execution_count": 130,
   "metadata": {},
   "outputs": [
    {
     "name": "stdout",
     "output_type": "stream",
     "text": [
      "WHERE n0.model = 'ICDC' AND n0.handle = 'diagnosis' AND n0.nanoid = 'mnmzW6' AND n2.handle = 'stage_of_disease' AND n2.model = 'ICDC' AND n2.nanoid = 'xaF4my'\n",
      "WHERE n0.model = 'ICDC' AND n0.handle = 'diagnosis' AND n0.nanoid = 'mnmzW6'\n"
     ]
    }
   ],
   "source": [
    "# Where() represents a cypher where clause, args are \n",
    "print(str(Where(*t.nodes())))\n",
    "print(str(Where(n)))\n",
    "\n",
    "# With(), Create(), Merge(), Remove() are similar"
   ]
  },
  {
   "cell_type": "code",
   "execution_count": 131,
   "metadata": {},
   "outputs": [
    {
     "name": "stdout",
     "output_type": "stream",
     "text": [
      "SET n0.model = 'ICDC', n0.handle = 'diagnosis', n0.nanoid = 'mnmzW6'\n"
     ]
    }
   ],
   "source": [
    "# Set() creates a SET clause, only property args matter for this\n",
    "print(str(Set(*n.props.values())))"
   ]
  },
  {
   "cell_type": "code",
   "execution_count": 132,
   "metadata": {},
   "outputs": [
    {
     "name": "stdout",
     "output_type": "stream",
     "text": [
      "ON CREATE SET n0.model = 'ICDC', n0.handle = 'diagnosis', n0.nanoid = 'mnmzW6'\n",
      "ON MATCH SET n0.model = 'ICDC', n0.handle = 'diagnosis', n0.nanoid = 'mnmzW6'\n"
     ]
    }
   ],
   "source": [
    "# OnCreateSet() and OnMatchSet() similar\n",
    "print(str(OnCreateSet(*n.props.values())))\n",
    "print(str(OnMatchSet(*n.props.values())))"
   ]
  },
  {
   "cell_type": "code",
   "execution_count": 133,
   "metadata": {},
   "outputs": [
    {
     "data": {
      "text/plain": [
       "\"MATCH (n0)-[r0:has_property]->(n2) WHERE exists(n2.handle) AND n0.model = 'ICDC' AND n0.handle = 'diagnosis' AND n0.nanoid = 'mnmzW6' RETURN count(n0)\""
      ]
     },
     "execution_count": 133,
     "metadata": {},
     "output_type": "execute_result"
    }
   ],
   "source": [
    "# Statement() used to create a Neo4j statement w/ clauses & strings in order\n",
    "str(\n",
    "    Statement(\n",
    "        Match(_var(_plain(t))),\n",
    "        Where(exists(m.props['handle']), n),\n",
    "        Return(count(n))\n",
    "        )\n",
    "    )"
   ]
  },
  {
   "cell_type": "code",
   "execution_count": 134,
   "metadata": {},
   "outputs": [
    {
     "data": {
      "text/plain": [
       "\"MATCH (n0)-[r0:has_property]->(n2) WHERE (exists(n2.handle) AND n0.model = 'ICDC') AND NOT n0.handle = 'diagnosis' RETURN n2.handle LIMIT 10\""
      ]
     },
     "execution_count": 134,
     "metadata": {},
     "output_type": "execute_result"
    }
   ],
   "source": [
    "str(\n",
    "    Statement(\n",
    "        Match(_var(_plain(t))),\n",
    "        Where(group(And(exists(m.props['handle']), n.props['model'])),\n",
    "            Not(n.props['handle'])),\n",
    "        Return(p),\n",
    "        'LIMIT 10'\n",
    "        )\n",
    "    )"
   ]
  },
  {
   "cell_type": "code",
   "execution_count": 135,
   "metadata": {},
   "outputs": [
    {
     "data": {
      "text/plain": [
       "\"CREATE (n0:node) SET n0.model = 'ICDC', n0.handle = 'diagnosis', n0.nanoid = 'mnmzW6' RETURN n0\""
      ]
     },
     "execution_count": 135,
     "metadata": {},
     "output_type": "execute_result"
    }
   ],
   "source": [
    "str(\n",
    "    Statement(\n",
    "        Create(_plain(n)),\n",
    "        Set(*n.props.values()),\n",
    "        Return(n)\n",
    "        )\n",
    "    )"
   ]
  },
  {
   "cell_type": "markdown",
   "metadata": {},
   "source": [
    "## functions"
   ]
  },
  {
   "cell_type": "markdown",
   "metadata": {},
   "source": [
    "functions include:\n",
    "- exists()\n",
    "- count()\n",
    "- labels()\n",
    "- Not()\n",
    "- And()\n",
    "- Or()\n",
    "- group()\n",
    "- is_null()\n",
    "- is_not_null()"
   ]
  },
  {
   "cell_type": "markdown",
   "metadata": {},
   "source": [
    "This could replace some of the cypher pattern/clause generation in MDB tools ()\n",
    "\n",
    "Could potentially be integrated w/ bento-meta entities (which have some overlap with N()?)"
   ]
  },
  {
   "cell_type": "markdown",
   "metadata": {},
   "source": [
    "# DSS mapping"
   ]
  },
  {
   "cell_type": "code",
   "execution_count": 223,
   "metadata": {},
   "outputs": [],
   "source": [
    "from pathlib import Path\n",
    "import numpy as np\n",
    "import pandas as pd\n",
    "import re as re"
   ]
  },
  {
   "cell_type": "code",
   "execution_count": 166,
   "metadata": {},
   "outputs": [
    {
     "name": "stderr",
     "output_type": "stream",
     "text": [
      "c:\\Users\\Nelson\\anaconda3\\lib\\site-packages\\openpyxl\\worksheet\\_reader.py:312: UserWarning: Data Validation extension is not supported and will be removed\n",
      "  warn(msg)\n"
     ]
    }
   ],
   "source": [
    "RAW_DSS_MAP_EXCEL = \"C:/Users/nelson/Documents/GitHub/HIDS-Capstone/data/CRDC DST Cross-Model Mapping.xlsx\"\n",
    "df = pd.read_excel(RAW_DSS_MAP_EXCEL, sheet_name=\"CRDC DST Cross-Model Mapping\", header=2, nrows=1529, usecols=[\"DST Data Element Name\", \"Compiled Data Element Names\"])"
   ]
  },
  {
   "cell_type": "code",
   "execution_count": 167,
   "metadata": {},
   "outputs": [],
   "source": [
    "# model for dst nodes\n",
    "df_dst = pd.DataFrame(np.repeat(\"DST\", len(df)))\n",
    "\n",
    "# \n",
    "df_dst = pd.concat([df_dst, df[\"DST Data Element Name\"].str.split(\" \", 1, expand=True)], axis=1)\n",
    "df_dst.columns = [\"ent_1_model\", \"ent_1_extra_handles\", \"ent_1_handle\"]\n",
    "df_dst = df_dst[[\"ent_1_model\", \"ent_1_handle\", \"ent_1_extra_handles\"]]\n",
    "# df_dst[\"ent_1_extra_handles\"] = [[l] for l in df_dst[\"ent_1_extra_handles\"]] # listify extra handles"
   ]
  },
  {
   "cell_type": "code",
   "execution_count": 184,
   "metadata": {},
   "outputs": [
    {
     "data": {
      "text/html": [
       "<div>\n",
       "<style scoped>\n",
       "    .dataframe tbody tr th:only-of-type {\n",
       "        vertical-align: middle;\n",
       "    }\n",
       "\n",
       "    .dataframe tbody tr th {\n",
       "        vertical-align: top;\n",
       "    }\n",
       "\n",
       "    .dataframe thead th {\n",
       "        text-align: right;\n",
       "    }\n",
       "</style>\n",
       "<table border=\"1\" class=\"dataframe\">\n",
       "  <thead>\n",
       "    <tr style=\"text-align: right;\">\n",
       "      <th></th>\n",
       "      <th>ent_1_model</th>\n",
       "      <th>ent_1_handle</th>\n",
       "      <th>ent_1_extra_handles</th>\n",
       "    </tr>\n",
       "  </thead>\n",
       "  <tbody>\n",
       "    <tr>\n",
       "      <th>0</th>\n",
       "      <td>DST</td>\n",
       "      <td>Identifier</td>\n",
       "      <td>Subject</td>\n",
       "    </tr>\n",
       "    <tr>\n",
       "      <th>1</th>\n",
       "      <td>DST</td>\n",
       "      <td>Type</td>\n",
       "      <td>Specimen</td>\n",
       "    </tr>\n",
       "    <tr>\n",
       "      <th>2</th>\n",
       "      <td>DST</td>\n",
       "      <td>Ethnicity*</td>\n",
       "      <td>Subject</td>\n",
       "    </tr>\n",
       "    <tr>\n",
       "      <th>3</th>\n",
       "      <td>DST</td>\n",
       "      <td>Race</td>\n",
       "      <td>Subject</td>\n",
       "    </tr>\n",
       "    <tr>\n",
       "      <th>4</th>\n",
       "      <td>DST</td>\n",
       "      <td>NaN</td>\n",
       "      <td>NaN</td>\n",
       "    </tr>\n",
       "    <tr>\n",
       "      <th>...</th>\n",
       "      <td>...</td>\n",
       "      <td>...</td>\n",
       "      <td>...</td>\n",
       "    </tr>\n",
       "    <tr>\n",
       "      <th>1524</th>\n",
       "      <td>DST</td>\n",
       "      <td>Grade</td>\n",
       "      <td>Tumor</td>\n",
       "    </tr>\n",
       "    <tr>\n",
       "      <th>1525</th>\n",
       "      <td>DST</td>\n",
       "      <td>Grade</td>\n",
       "      <td>Tumor</td>\n",
       "    </tr>\n",
       "    <tr>\n",
       "      <th>1526</th>\n",
       "      <td>DST</td>\n",
       "      <td>NaN</td>\n",
       "      <td>NaN</td>\n",
       "    </tr>\n",
       "    <tr>\n",
       "      <th>1527</th>\n",
       "      <td>DST</td>\n",
       "      <td>Clinical Stage</td>\n",
       "      <td>Disease</td>\n",
       "    </tr>\n",
       "    <tr>\n",
       "      <th>1528</th>\n",
       "      <td>DST</td>\n",
       "      <td>Type</td>\n",
       "      <td>Exposure</td>\n",
       "    </tr>\n",
       "  </tbody>\n",
       "</table>\n",
       "<p>1529 rows × 3 columns</p>\n",
       "</div>"
      ],
      "text/plain": [
       "     ent_1_model    ent_1_handle ent_1_extra_handles\n",
       "0            DST      Identifier             Subject\n",
       "1            DST            Type            Specimen\n",
       "2            DST      Ethnicity*             Subject\n",
       "3            DST            Race             Subject\n",
       "4            DST             NaN                 NaN\n",
       "...          ...             ...                 ...\n",
       "1524         DST           Grade               Tumor\n",
       "1525         DST           Grade               Tumor\n",
       "1526         DST             NaN                 NaN\n",
       "1527         DST  Clinical Stage             Disease\n",
       "1528         DST            Type            Exposure\n",
       "\n",
       "[1529 rows x 3 columns]"
      ]
     },
     "execution_count": 184,
     "metadata": {},
     "output_type": "execute_result"
    }
   ],
   "source": [
    "df_dst"
   ]
  },
  {
   "cell_type": "code",
   "execution_count": 178,
   "metadata": {},
   "outputs": [
    {
     "data": {
      "text/html": [
       "<div>\n",
       "<style scoped>\n",
       "    .dataframe tbody tr th:only-of-type {\n",
       "        vertical-align: middle;\n",
       "    }\n",
       "\n",
       "    .dataframe tbody tr th {\n",
       "        vertical-align: top;\n",
       "    }\n",
       "\n",
       "    .dataframe thead th {\n",
       "        text-align: right;\n",
       "    }\n",
       "</style>\n",
       "<table border=\"1\" class=\"dataframe\">\n",
       "  <thead>\n",
       "    <tr style=\"text-align: right;\">\n",
       "      <th></th>\n",
       "      <th>Model_Data_Element_Name_0</th>\n",
       "      <th>Model_Data_Element_Name_1</th>\n",
       "      <th>Model_Data_Element_Name_2</th>\n",
       "      <th>Model_Data_Element_Name_3</th>\n",
       "      <th>Model_Data_Element_Name_4</th>\n",
       "      <th>Model_Data_Element_Name_5</th>\n",
       "      <th>Model_Data_Element_Name_6</th>\n",
       "      <th>Model_Data_Element_Name_7</th>\n",
       "      <th>Model_Data_Element_Name_8</th>\n",
       "      <th>Model_Data_Element_Name_9</th>\n",
       "    </tr>\n",
       "  </thead>\n",
       "  <tbody>\n",
       "    <tr>\n",
       "      <th>0</th>\n",
       "      <td>CTDC.case.case_id</td>\n",
       "      <td>GDC.Case.id</td>\n",
       "      <td>ICDC.case.case_id</td>\n",
       "      <td>IDC.DICOM.Patient Module.Patient ID</td>\n",
       "      <td>PDC.Case.case_id</td>\n",
       "      <td>CDS.Participant.subject_id</td>\n",
       "      <td>CDA.Patient.dct:identifier</td>\n",
       "      <td></td>\n",
       "      <td>C2M2.biosample.local_id</td>\n",
       "      <td>mCODE.Cancer Patient Profile.Identifier</td>\n",
       "    </tr>\n",
       "    <tr>\n",
       "      <th>1</th>\n",
       "      <td>GDC.Sample.sample_type</td>\n",
       "      <td>ICDC.sample.physical_sample_type</td>\n",
       "      <td>PDC.Sample.sample_type</td>\n",
       "      <td>CDS.Sample Information.sample_type</td>\n",
       "      <td>CDA.Specimen.source_material_type</td>\n",
       "      <td>HTAN.Molecular Test.biospecimen_type</td>\n",
       "      <td>C2M2.biosample.assay_type</td>\n",
       "      <td>mCODE.Genomic Specimen Profile.Type</td>\n",
       "      <td>None</td>\n",
       "      <td>None</td>\n",
       "    </tr>\n",
       "    <tr>\n",
       "      <th>2</th>\n",
       "      <td>CTDC.case.ethnicity</td>\n",
       "      <td>GDC.Demographic.ethnicity</td>\n",
       "      <td>IDC.DICOM.Patient Module.Patient's Ethnic Group</td>\n",
       "      <td>PDC.Demographic.ethnicity</td>\n",
       "      <td>CDS.Participant.ethnicity</td>\n",
       "      <td>CDA.Patient.ethnicity</td>\n",
       "      <td>HTAN.Demographics.Ethnicity</td>\n",
       "      <td>C2M2.subject.ethnicity</td>\n",
       "      <td>None</td>\n",
       "      <td>None</td>\n",
       "    </tr>\n",
       "    <tr>\n",
       "      <th>3</th>\n",
       "      <td>CTDC.case.race</td>\n",
       "      <td>GDC.Demographic.race</td>\n",
       "      <td>PDC.Demographic.race</td>\n",
       "      <td>CDS.Participant.race</td>\n",
       "      <td>CDA.Patient.race</td>\n",
       "      <td>HTAN.Demographics.Race</td>\n",
       "      <td>C2M2.subject_race.race</td>\n",
       "      <td>None</td>\n",
       "      <td>None</td>\n",
       "      <td>None</td>\n",
       "    </tr>\n",
       "    <tr>\n",
       "      <th>4</th>\n",
       "      <td>GDC.Diagnosis.site_of_resection_or_biopsy</td>\n",
       "      <td>IDC.TCIA.tcia_tumorLocation</td>\n",
       "      <td>PDC.Diagnosis.site_of_resection_or_biopsy</td>\n",
       "      <td>CDS.Additional Diagnosis Information.site_of_r...</td>\n",
       "      <td>HTAN.Diagnosis.site_of_resection_or_biopsy</td>\n",
       "      <td>None</td>\n",
       "      <td>None</td>\n",
       "      <td>None</td>\n",
       "      <td>None</td>\n",
       "      <td>None</td>\n",
       "    </tr>\n",
       "    <tr>\n",
       "      <th>...</th>\n",
       "      <td>...</td>\n",
       "      <td>...</td>\n",
       "      <td>...</td>\n",
       "      <td>...</td>\n",
       "      <td>...</td>\n",
       "      <td>...</td>\n",
       "      <td>...</td>\n",
       "      <td>...</td>\n",
       "      <td>...</td>\n",
       "      <td>...</td>\n",
       "    </tr>\n",
       "    <tr>\n",
       "      <th>1524</th>\n",
       "      <td>PDC.Diagnosis.who_nte_grade</td>\n",
       "      <td>None</td>\n",
       "      <td>None</td>\n",
       "      <td>None</td>\n",
       "      <td>None</td>\n",
       "      <td>None</td>\n",
       "      <td>None</td>\n",
       "      <td>None</td>\n",
       "      <td>None</td>\n",
       "      <td>None</td>\n",
       "    </tr>\n",
       "    <tr>\n",
       "      <th>1525</th>\n",
       "      <td>PDC.Diagnosis.gleason_grade_tertiary</td>\n",
       "      <td>None</td>\n",
       "      <td>None</td>\n",
       "      <td>None</td>\n",
       "      <td>None</td>\n",
       "      <td>None</td>\n",
       "      <td>None</td>\n",
       "      <td>None</td>\n",
       "      <td>None</td>\n",
       "      <td>None</td>\n",
       "    </tr>\n",
       "    <tr>\n",
       "      <th>1526</th>\n",
       "      <td>GDC.Diagnosis.tumor_depth</td>\n",
       "      <td>PDC.Diagnosis.tumor_depth</td>\n",
       "      <td>None</td>\n",
       "      <td>None</td>\n",
       "      <td>None</td>\n",
       "      <td>None</td>\n",
       "      <td>None</td>\n",
       "      <td>None</td>\n",
       "      <td>None</td>\n",
       "      <td>None</td>\n",
       "    </tr>\n",
       "    <tr>\n",
       "      <th>1527</th>\n",
       "      <td>PDC.Diagnosis.figo_staging_edition_year</td>\n",
       "      <td>None</td>\n",
       "      <td>None</td>\n",
       "      <td>None</td>\n",
       "      <td>None</td>\n",
       "      <td>None</td>\n",
       "      <td>None</td>\n",
       "      <td>None</td>\n",
       "      <td>None</td>\n",
       "      <td>None</td>\n",
       "    </tr>\n",
       "    <tr>\n",
       "      <th>1528</th>\n",
       "      <td>PDC.Exposure.exposure_type</td>\n",
       "      <td>None</td>\n",
       "      <td>None</td>\n",
       "      <td>None</td>\n",
       "      <td>None</td>\n",
       "      <td>None</td>\n",
       "      <td>None</td>\n",
       "      <td>None</td>\n",
       "      <td>None</td>\n",
       "      <td>None</td>\n",
       "    </tr>\n",
       "  </tbody>\n",
       "</table>\n",
       "<p>1529 rows × 10 columns</p>\n",
       "</div>"
      ],
      "text/plain": [
       "                      Model_Data_Element_Name_0  \\\n",
       "0                             CTDC.case.case_id   \n",
       "1                        GDC.Sample.sample_type   \n",
       "2                           CTDC.case.ethnicity   \n",
       "3                                CTDC.case.race   \n",
       "4     GDC.Diagnosis.site_of_resection_or_biopsy   \n",
       "...                                         ...   \n",
       "1524                PDC.Diagnosis.who_nte_grade   \n",
       "1525       PDC.Diagnosis.gleason_grade_tertiary   \n",
       "1526                  GDC.Diagnosis.tumor_depth   \n",
       "1527    PDC.Diagnosis.figo_staging_edition_year   \n",
       "1528                 PDC.Exposure.exposure_type   \n",
       "\n",
       "              Model_Data_Element_Name_1  \\\n",
       "0                           GDC.Case.id   \n",
       "1     ICDC.sample.physical_sample_type    \n",
       "2             GDC.Demographic.ethnicity   \n",
       "3                  GDC.Demographic.race   \n",
       "4           IDC.TCIA.tcia_tumorLocation   \n",
       "...                                 ...   \n",
       "1524                               None   \n",
       "1525                               None   \n",
       "1526          PDC.Diagnosis.tumor_depth   \n",
       "1527                               None   \n",
       "1528                               None   \n",
       "\n",
       "                            Model_Data_Element_Name_2  \\\n",
       "0                                   ICDC.case.case_id   \n",
       "1                              PDC.Sample.sample_type   \n",
       "2     IDC.DICOM.Patient Module.Patient's Ethnic Group   \n",
       "3                                PDC.Demographic.race   \n",
       "4           PDC.Diagnosis.site_of_resection_or_biopsy   \n",
       "...                                               ...   \n",
       "1524                                             None   \n",
       "1525                                             None   \n",
       "1526                                             None   \n",
       "1527                                             None   \n",
       "1528                                             None   \n",
       "\n",
       "                              Model_Data_Element_Name_3  \\\n",
       "0                   IDC.DICOM.Patient Module.Patient ID   \n",
       "1                    CDS.Sample Information.sample_type   \n",
       "2                             PDC.Demographic.ethnicity   \n",
       "3                                  CDS.Participant.race   \n",
       "4     CDS.Additional Diagnosis Information.site_of_r...   \n",
       "...                                                 ...   \n",
       "1524                                               None   \n",
       "1525                                               None   \n",
       "1526                                               None   \n",
       "1527                                               None   \n",
       "1528                                               None   \n",
       "\n",
       "                       Model_Data_Element_Name_4  \\\n",
       "0                               PDC.Case.case_id   \n",
       "1              CDA.Specimen.source_material_type   \n",
       "2                      CDS.Participant.ethnicity   \n",
       "3                               CDA.Patient.race   \n",
       "4     HTAN.Diagnosis.site_of_resection_or_biopsy   \n",
       "...                                          ...   \n",
       "1524                                        None   \n",
       "1525                                        None   \n",
       "1526                                        None   \n",
       "1527                                        None   \n",
       "1528                                        None   \n",
       "\n",
       "                 Model_Data_Element_Name_5    Model_Data_Element_Name_6  \\\n",
       "0               CDS.Participant.subject_id   CDA.Patient.dct:identifier   \n",
       "1     HTAN.Molecular Test.biospecimen_type    C2M2.biosample.assay_type   \n",
       "2                    CDA.Patient.ethnicity  HTAN.Demographics.Ethnicity   \n",
       "3                   HTAN.Demographics.Race       C2M2.subject_race.race   \n",
       "4                                     None                         None   \n",
       "...                                    ...                          ...   \n",
       "1524                                  None                         None   \n",
       "1525                                  None                         None   \n",
       "1526                                  None                         None   \n",
       "1527                                  None                         None   \n",
       "1528                                  None                         None   \n",
       "\n",
       "                Model_Data_Element_Name_7 Model_Data_Element_Name_8  \\\n",
       "0                                           C2M2.biosample.local_id   \n",
       "1     mCODE.Genomic Specimen Profile.Type                      None   \n",
       "2                  C2M2.subject.ethnicity                      None   \n",
       "3                                    None                      None   \n",
       "4                                    None                      None   \n",
       "...                                   ...                       ...   \n",
       "1524                                 None                      None   \n",
       "1525                                 None                      None   \n",
       "1526                                 None                      None   \n",
       "1527                                 None                      None   \n",
       "1528                                 None                      None   \n",
       "\n",
       "                    Model_Data_Element_Name_9  \n",
       "0     mCODE.Cancer Patient Profile.Identifier  \n",
       "1                                        None  \n",
       "2                                        None  \n",
       "3                                        None  \n",
       "4                                        None  \n",
       "...                                       ...  \n",
       "1524                                     None  \n",
       "1525                                     None  \n",
       "1526                                     None  \n",
       "1527                                     None  \n",
       "1528                                     None  \n",
       "\n",
       "[1529 rows x 10 columns]"
      ]
     },
     "execution_count": 178,
     "metadata": {},
     "output_type": "execute_result"
    }
   ],
   "source": [
    "df_models = df[\"Compiled Data Element Names\"].str.strip().str.split('\\n', expand=True).add_prefix(\"Model_Data_Element_Name_\")\n",
    "df_models"
   ]
  },
  {
   "cell_type": "code",
   "execution_count": 188,
   "metadata": {},
   "outputs": [
    {
     "data": {
      "text/html": [
       "<div>\n",
       "<style scoped>\n",
       "    .dataframe tbody tr th:only-of-type {\n",
       "        vertical-align: middle;\n",
       "    }\n",
       "\n",
       "    .dataframe tbody tr th {\n",
       "        vertical-align: top;\n",
       "    }\n",
       "\n",
       "    .dataframe thead th {\n",
       "        text-align: right;\n",
       "    }\n",
       "</style>\n",
       "<table border=\"1\" class=\"dataframe\">\n",
       "  <thead>\n",
       "    <tr style=\"text-align: right;\">\n",
       "      <th></th>\n",
       "      <th>ent_1_model</th>\n",
       "      <th>ent_1_handle</th>\n",
       "      <th>ent_1_extra_handles</th>\n",
       "      <th>Model_Data_Element_Name_0</th>\n",
       "      <th>Model_Data_Element_Name_1</th>\n",
       "      <th>Model_Data_Element_Name_2</th>\n",
       "      <th>Model_Data_Element_Name_3</th>\n",
       "      <th>Model_Data_Element_Name_4</th>\n",
       "      <th>Model_Data_Element_Name_5</th>\n",
       "      <th>Model_Data_Element_Name_6</th>\n",
       "      <th>Model_Data_Element_Name_7</th>\n",
       "      <th>Model_Data_Element_Name_8</th>\n",
       "      <th>Model_Data_Element_Name_9</th>\n",
       "    </tr>\n",
       "  </thead>\n",
       "  <tbody>\n",
       "    <tr>\n",
       "      <th>0</th>\n",
       "      <td>DST</td>\n",
       "      <td>Identifier</td>\n",
       "      <td>Subject</td>\n",
       "      <td>CTDC.case.case_id</td>\n",
       "      <td>GDC.Case.id</td>\n",
       "      <td>ICDC.case.case_id</td>\n",
       "      <td>IDC.DICOM.Patient Module.Patient ID</td>\n",
       "      <td>PDC.Case.case_id</td>\n",
       "      <td>CDS.Participant.subject_id</td>\n",
       "      <td>CDA.Patient.dct:identifier</td>\n",
       "      <td></td>\n",
       "      <td>C2M2.biosample.local_id</td>\n",
       "      <td>mCODE.Cancer Patient Profile.Identifier</td>\n",
       "    </tr>\n",
       "    <tr>\n",
       "      <th>1</th>\n",
       "      <td>DST</td>\n",
       "      <td>Type</td>\n",
       "      <td>Specimen</td>\n",
       "      <td>GDC.Sample.sample_type</td>\n",
       "      <td>ICDC.sample.physical_sample_type</td>\n",
       "      <td>PDC.Sample.sample_type</td>\n",
       "      <td>CDS.Sample Information.sample_type</td>\n",
       "      <td>CDA.Specimen.source_material_type</td>\n",
       "      <td>HTAN.Molecular Test.biospecimen_type</td>\n",
       "      <td>C2M2.biosample.assay_type</td>\n",
       "      <td>mCODE.Genomic Specimen Profile.Type</td>\n",
       "      <td>None</td>\n",
       "      <td>None</td>\n",
       "    </tr>\n",
       "    <tr>\n",
       "      <th>2</th>\n",
       "      <td>DST</td>\n",
       "      <td>Ethnicity*</td>\n",
       "      <td>Subject</td>\n",
       "      <td>CTDC.case.ethnicity</td>\n",
       "      <td>GDC.Demographic.ethnicity</td>\n",
       "      <td>IDC.DICOM.Patient Module.Patient's Ethnic Group</td>\n",
       "      <td>PDC.Demographic.ethnicity</td>\n",
       "      <td>CDS.Participant.ethnicity</td>\n",
       "      <td>CDA.Patient.ethnicity</td>\n",
       "      <td>HTAN.Demographics.Ethnicity</td>\n",
       "      <td>C2M2.subject.ethnicity</td>\n",
       "      <td>None</td>\n",
       "      <td>None</td>\n",
       "    </tr>\n",
       "    <tr>\n",
       "      <th>3</th>\n",
       "      <td>DST</td>\n",
       "      <td>Race</td>\n",
       "      <td>Subject</td>\n",
       "      <td>CTDC.case.race</td>\n",
       "      <td>GDC.Demographic.race</td>\n",
       "      <td>PDC.Demographic.race</td>\n",
       "      <td>CDS.Participant.race</td>\n",
       "      <td>CDA.Patient.race</td>\n",
       "      <td>HTAN.Demographics.Race</td>\n",
       "      <td>C2M2.subject_race.race</td>\n",
       "      <td>None</td>\n",
       "      <td>None</td>\n",
       "      <td>None</td>\n",
       "    </tr>\n",
       "    <tr>\n",
       "      <th>4</th>\n",
       "      <td>DST</td>\n",
       "      <td>NaN</td>\n",
       "      <td>NaN</td>\n",
       "      <td>GDC.Diagnosis.site_of_resection_or_biopsy</td>\n",
       "      <td>IDC.TCIA.tcia_tumorLocation</td>\n",
       "      <td>PDC.Diagnosis.site_of_resection_or_biopsy</td>\n",
       "      <td>CDS.Additional Diagnosis Information.site_of_r...</td>\n",
       "      <td>HTAN.Diagnosis.site_of_resection_or_biopsy</td>\n",
       "      <td>None</td>\n",
       "      <td>None</td>\n",
       "      <td>None</td>\n",
       "      <td>None</td>\n",
       "      <td>None</td>\n",
       "    </tr>\n",
       "    <tr>\n",
       "      <th>...</th>\n",
       "      <td>...</td>\n",
       "      <td>...</td>\n",
       "      <td>...</td>\n",
       "      <td>...</td>\n",
       "      <td>...</td>\n",
       "      <td>...</td>\n",
       "      <td>...</td>\n",
       "      <td>...</td>\n",
       "      <td>...</td>\n",
       "      <td>...</td>\n",
       "      <td>...</td>\n",
       "      <td>...</td>\n",
       "      <td>...</td>\n",
       "    </tr>\n",
       "    <tr>\n",
       "      <th>1524</th>\n",
       "      <td>DST</td>\n",
       "      <td>Grade</td>\n",
       "      <td>Tumor</td>\n",
       "      <td>PDC.Diagnosis.who_nte_grade</td>\n",
       "      <td>None</td>\n",
       "      <td>None</td>\n",
       "      <td>None</td>\n",
       "      <td>None</td>\n",
       "      <td>None</td>\n",
       "      <td>None</td>\n",
       "      <td>None</td>\n",
       "      <td>None</td>\n",
       "      <td>None</td>\n",
       "    </tr>\n",
       "    <tr>\n",
       "      <th>1525</th>\n",
       "      <td>DST</td>\n",
       "      <td>Grade</td>\n",
       "      <td>Tumor</td>\n",
       "      <td>PDC.Diagnosis.gleason_grade_tertiary</td>\n",
       "      <td>None</td>\n",
       "      <td>None</td>\n",
       "      <td>None</td>\n",
       "      <td>None</td>\n",
       "      <td>None</td>\n",
       "      <td>None</td>\n",
       "      <td>None</td>\n",
       "      <td>None</td>\n",
       "      <td>None</td>\n",
       "    </tr>\n",
       "    <tr>\n",
       "      <th>1526</th>\n",
       "      <td>DST</td>\n",
       "      <td>NaN</td>\n",
       "      <td>NaN</td>\n",
       "      <td>GDC.Diagnosis.tumor_depth</td>\n",
       "      <td>PDC.Diagnosis.tumor_depth</td>\n",
       "      <td>None</td>\n",
       "      <td>None</td>\n",
       "      <td>None</td>\n",
       "      <td>None</td>\n",
       "      <td>None</td>\n",
       "      <td>None</td>\n",
       "      <td>None</td>\n",
       "      <td>None</td>\n",
       "    </tr>\n",
       "    <tr>\n",
       "      <th>1527</th>\n",
       "      <td>DST</td>\n",
       "      <td>Clinical Stage</td>\n",
       "      <td>Disease</td>\n",
       "      <td>PDC.Diagnosis.figo_staging_edition_year</td>\n",
       "      <td>None</td>\n",
       "      <td>None</td>\n",
       "      <td>None</td>\n",
       "      <td>None</td>\n",
       "      <td>None</td>\n",
       "      <td>None</td>\n",
       "      <td>None</td>\n",
       "      <td>None</td>\n",
       "      <td>None</td>\n",
       "    </tr>\n",
       "    <tr>\n",
       "      <th>1528</th>\n",
       "      <td>DST</td>\n",
       "      <td>Type</td>\n",
       "      <td>Exposure</td>\n",
       "      <td>PDC.Exposure.exposure_type</td>\n",
       "      <td>None</td>\n",
       "      <td>None</td>\n",
       "      <td>None</td>\n",
       "      <td>None</td>\n",
       "      <td>None</td>\n",
       "      <td>None</td>\n",
       "      <td>None</td>\n",
       "      <td>None</td>\n",
       "      <td>None</td>\n",
       "    </tr>\n",
       "  </tbody>\n",
       "</table>\n",
       "<p>1529 rows × 13 columns</p>\n",
       "</div>"
      ],
      "text/plain": [
       "     ent_1_model    ent_1_handle ent_1_extra_handles  \\\n",
       "0            DST      Identifier             Subject   \n",
       "1            DST            Type            Specimen   \n",
       "2            DST      Ethnicity*             Subject   \n",
       "3            DST            Race             Subject   \n",
       "4            DST             NaN                 NaN   \n",
       "...          ...             ...                 ...   \n",
       "1524         DST           Grade               Tumor   \n",
       "1525         DST           Grade               Tumor   \n",
       "1526         DST             NaN                 NaN   \n",
       "1527         DST  Clinical Stage             Disease   \n",
       "1528         DST            Type            Exposure   \n",
       "\n",
       "                      Model_Data_Element_Name_0  \\\n",
       "0                             CTDC.case.case_id   \n",
       "1                        GDC.Sample.sample_type   \n",
       "2                           CTDC.case.ethnicity   \n",
       "3                                CTDC.case.race   \n",
       "4     GDC.Diagnosis.site_of_resection_or_biopsy   \n",
       "...                                         ...   \n",
       "1524                PDC.Diagnosis.who_nte_grade   \n",
       "1525       PDC.Diagnosis.gleason_grade_tertiary   \n",
       "1526                  GDC.Diagnosis.tumor_depth   \n",
       "1527    PDC.Diagnosis.figo_staging_edition_year   \n",
       "1528                 PDC.Exposure.exposure_type   \n",
       "\n",
       "              Model_Data_Element_Name_1  \\\n",
       "0                           GDC.Case.id   \n",
       "1     ICDC.sample.physical_sample_type    \n",
       "2             GDC.Demographic.ethnicity   \n",
       "3                  GDC.Demographic.race   \n",
       "4           IDC.TCIA.tcia_tumorLocation   \n",
       "...                                 ...   \n",
       "1524                               None   \n",
       "1525                               None   \n",
       "1526          PDC.Diagnosis.tumor_depth   \n",
       "1527                               None   \n",
       "1528                               None   \n",
       "\n",
       "                            Model_Data_Element_Name_2  \\\n",
       "0                                   ICDC.case.case_id   \n",
       "1                              PDC.Sample.sample_type   \n",
       "2     IDC.DICOM.Patient Module.Patient's Ethnic Group   \n",
       "3                                PDC.Demographic.race   \n",
       "4           PDC.Diagnosis.site_of_resection_or_biopsy   \n",
       "...                                               ...   \n",
       "1524                                             None   \n",
       "1525                                             None   \n",
       "1526                                             None   \n",
       "1527                                             None   \n",
       "1528                                             None   \n",
       "\n",
       "                              Model_Data_Element_Name_3  \\\n",
       "0                   IDC.DICOM.Patient Module.Patient ID   \n",
       "1                    CDS.Sample Information.sample_type   \n",
       "2                             PDC.Demographic.ethnicity   \n",
       "3                                  CDS.Participant.race   \n",
       "4     CDS.Additional Diagnosis Information.site_of_r...   \n",
       "...                                                 ...   \n",
       "1524                                               None   \n",
       "1525                                               None   \n",
       "1526                                               None   \n",
       "1527                                               None   \n",
       "1528                                               None   \n",
       "\n",
       "                       Model_Data_Element_Name_4  \\\n",
       "0                               PDC.Case.case_id   \n",
       "1              CDA.Specimen.source_material_type   \n",
       "2                      CDS.Participant.ethnicity   \n",
       "3                               CDA.Patient.race   \n",
       "4     HTAN.Diagnosis.site_of_resection_or_biopsy   \n",
       "...                                          ...   \n",
       "1524                                        None   \n",
       "1525                                        None   \n",
       "1526                                        None   \n",
       "1527                                        None   \n",
       "1528                                        None   \n",
       "\n",
       "                 Model_Data_Element_Name_5    Model_Data_Element_Name_6  \\\n",
       "0               CDS.Participant.subject_id   CDA.Patient.dct:identifier   \n",
       "1     HTAN.Molecular Test.biospecimen_type    C2M2.biosample.assay_type   \n",
       "2                    CDA.Patient.ethnicity  HTAN.Demographics.Ethnicity   \n",
       "3                   HTAN.Demographics.Race       C2M2.subject_race.race   \n",
       "4                                     None                         None   \n",
       "...                                    ...                          ...   \n",
       "1524                                  None                         None   \n",
       "1525                                  None                         None   \n",
       "1526                                  None                         None   \n",
       "1527                                  None                         None   \n",
       "1528                                  None                         None   \n",
       "\n",
       "                Model_Data_Element_Name_7 Model_Data_Element_Name_8  \\\n",
       "0                                           C2M2.biosample.local_id   \n",
       "1     mCODE.Genomic Specimen Profile.Type                      None   \n",
       "2                  C2M2.subject.ethnicity                      None   \n",
       "3                                    None                      None   \n",
       "4                                    None                      None   \n",
       "...                                   ...                       ...   \n",
       "1524                                 None                      None   \n",
       "1525                                 None                      None   \n",
       "1526                                 None                      None   \n",
       "1527                                 None                      None   \n",
       "1528                                 None                      None   \n",
       "\n",
       "                    Model_Data_Element_Name_9  \n",
       "0     mCODE.Cancer Patient Profile.Identifier  \n",
       "1                                        None  \n",
       "2                                        None  \n",
       "3                                        None  \n",
       "4                                        None  \n",
       "...                                       ...  \n",
       "1524                                     None  \n",
       "1525                                     None  \n",
       "1526                                     None  \n",
       "1527                                     None  \n",
       "1528                                     None  \n",
       "\n",
       "[1529 rows x 13 columns]"
      ]
     },
     "execution_count": 188,
     "metadata": {},
     "output_type": "execute_result"
    }
   ],
   "source": [
    "df_dst.join(df_models)"
   ]
  },
  {
   "cell_type": "code",
   "execution_count": 192,
   "metadata": {},
   "outputs": [
    {
     "name": "stdout",
     "output_type": "stream",
     "text": [
      "1522 1522\n"
     ]
    }
   ],
   "source": [
    "# check for duplicates in whole df\n",
    "df_both = df_dst.join(df_models)\n",
    "df_both.drop_duplicates(keep=\"first\", inplace=True)\n",
    "df_dst = df_both[[\"ent_1_model\", \"ent_1_handle\", \"ent_1_extra_handles\"]]\n",
    "df_models = df_both.drop([\"ent_1_model\", \"ent_1_handle\", \"ent_1_extra_handles\"], axis=1)\n",
    "print(len(df_dst), len(df_models))"
   ]
  },
  {
   "cell_type": "code",
   "execution_count": 193,
   "metadata": {},
   "outputs": [
    {
     "data": {
      "text/plain": [
       "Model_Data_Element_Name_0    1520\n",
       "Model_Data_Element_Name_1     394\n",
       "Model_Data_Element_Name_2     243\n",
       "Model_Data_Element_Name_3      66\n",
       "Model_Data_Element_Name_4      32\n",
       "Model_Data_Element_Name_5      18\n",
       "Model_Data_Element_Name_6      10\n",
       "Model_Data_Element_Name_7       4\n",
       "Model_Data_Element_Name_8       2\n",
       "Model_Data_Element_Name_9       1\n",
       "dtype: int64"
      ]
     },
     "execution_count": 193,
     "metadata": {},
     "output_type": "execute_result"
    }
   ],
   "source": [
    "df_models.count()"
   ]
  },
  {
   "cell_type": "code",
   "execution_count": 194,
   "metadata": {},
   "outputs": [
    {
     "name": "stdout",
     "output_type": "stream",
     "text": [
      "0 10\n",
      "48 9\n"
     ]
    }
   ],
   "source": [
    "for i, x in enumerate(df_models.count(axis=1)):\n",
    "    if x >= 9:\n",
    "        print(i, x)"
   ]
  },
  {
   "cell_type": "code",
   "execution_count": 195,
   "metadata": {},
   "outputs": [
    {
     "data": {
      "text/html": [
       "<div>\n",
       "<style scoped>\n",
       "    .dataframe tbody tr th:only-of-type {\n",
       "        vertical-align: middle;\n",
       "    }\n",
       "\n",
       "    .dataframe tbody tr th {\n",
       "        vertical-align: top;\n",
       "    }\n",
       "\n",
       "    .dataframe thead th {\n",
       "        text-align: right;\n",
       "    }\n",
       "</style>\n",
       "<table border=\"1\" class=\"dataframe\">\n",
       "  <thead>\n",
       "    <tr style=\"text-align: right;\">\n",
       "      <th></th>\n",
       "      <th>Model_Data_Element_Name_0</th>\n",
       "      <th>Model_Data_Element_Name_1</th>\n",
       "      <th>Model_Data_Element_Name_2</th>\n",
       "      <th>Model_Data_Element_Name_3</th>\n",
       "      <th>Model_Data_Element_Name_4</th>\n",
       "      <th>Model_Data_Element_Name_5</th>\n",
       "      <th>Model_Data_Element_Name_6</th>\n",
       "      <th>Model_Data_Element_Name_7</th>\n",
       "      <th>Model_Data_Element_Name_8</th>\n",
       "      <th>Model_Data_Element_Name_9</th>\n",
       "    </tr>\n",
       "  </thead>\n",
       "  <tbody>\n",
       "    <tr>\n",
       "      <th>48</th>\n",
       "      <td>GDC.Sample.biospecimen_anatomic_site</td>\n",
       "      <td>ICDC.sample.sample_site</td>\n",
       "      <td>IDC.DICOM.General Series Module.BodyPartExamined</td>\n",
       "      <td>PDC.Sample.biospecimen_anatomic_site</td>\n",
       "      <td>CDS.Additional Sample Information.sample_anato...</td>\n",
       "      <td>CDA.Specimen.anatomical_site</td>\n",
       "      <td></td>\n",
       "      <td>C2M2.biosample.anatomy</td>\n",
       "      <td>mCODE.Genomic Specimen Profile.Collection &gt; Bo...</td>\n",
       "      <td>None</td>\n",
       "    </tr>\n",
       "  </tbody>\n",
       "</table>\n",
       "</div>"
      ],
      "text/plain": [
       "               Model_Data_Element_Name_0 Model_Data_Element_Name_1  \\\n",
       "48  GDC.Sample.biospecimen_anatomic_site   ICDC.sample.sample_site   \n",
       "\n",
       "                           Model_Data_Element_Name_2  \\\n",
       "48  IDC.DICOM.General Series Module.BodyPartExamined   \n",
       "\n",
       "               Model_Data_Element_Name_3  \\\n",
       "48  PDC.Sample.biospecimen_anatomic_site   \n",
       "\n",
       "                            Model_Data_Element_Name_4  \\\n",
       "48  CDS.Additional Sample Information.sample_anato...   \n",
       "\n",
       "       Model_Data_Element_Name_5 Model_Data_Element_Name_6  \\\n",
       "48  CDA.Specimen.anatomical_site                             \n",
       "\n",
       "   Model_Data_Element_Name_7  \\\n",
       "48    C2M2.biosample.anatomy   \n",
       "\n",
       "                            Model_Data_Element_Name_8  \\\n",
       "48  mCODE.Genomic Specimen Profile.Collection > Bo...   \n",
       "\n",
       "   Model_Data_Element_Name_9  \n",
       "48                      None  "
      ]
     },
     "execution_count": 195,
     "metadata": {},
     "output_type": "execute_result"
    }
   ],
   "source": [
    "df_models.iloc[[48]]"
   ]
  },
  {
   "cell_type": "code",
   "execution_count": 196,
   "metadata": {},
   "outputs": [],
   "source": [
    "df_models_stack = pd.DataFrame(df_models.stack())"
   ]
  },
  {
   "cell_type": "code",
   "execution_count": 197,
   "metadata": {},
   "outputs": [
    {
     "data": {
      "text/plain": [
       "2290"
      ]
     },
     "execution_count": 197,
     "metadata": {},
     "output_type": "execute_result"
    }
   ],
   "source": [
    "len(df_models_stack)"
   ]
  },
  {
   "cell_type": "code",
   "execution_count": 198,
   "metadata": {},
   "outputs": [],
   "source": [
    "df_models_stack = df_models_stack.droplevel(-1)"
   ]
  },
  {
   "cell_type": "code",
   "execution_count": 199,
   "metadata": {},
   "outputs": [
    {
     "data": {
      "text/html": [
       "<div>\n",
       "<style scoped>\n",
       "    .dataframe tbody tr th:only-of-type {\n",
       "        vertical-align: middle;\n",
       "    }\n",
       "\n",
       "    .dataframe tbody tr th {\n",
       "        vertical-align: top;\n",
       "    }\n",
       "\n",
       "    .dataframe thead th {\n",
       "        text-align: right;\n",
       "    }\n",
       "</style>\n",
       "<table border=\"1\" class=\"dataframe\">\n",
       "  <thead>\n",
       "    <tr style=\"text-align: right;\">\n",
       "      <th></th>\n",
       "      <th>0</th>\n",
       "    </tr>\n",
       "  </thead>\n",
       "  <tbody>\n",
       "    <tr>\n",
       "      <th>0</th>\n",
       "      <td>CTDC.case.case_id</td>\n",
       "    </tr>\n",
       "    <tr>\n",
       "      <th>0</th>\n",
       "      <td>GDC.Case.id</td>\n",
       "    </tr>\n",
       "    <tr>\n",
       "      <th>0</th>\n",
       "      <td>ICDC.case.case_id</td>\n",
       "    </tr>\n",
       "    <tr>\n",
       "      <th>0</th>\n",
       "      <td>IDC.DICOM.Patient Module.Patient ID</td>\n",
       "    </tr>\n",
       "    <tr>\n",
       "      <th>0</th>\n",
       "      <td>PDC.Case.case_id</td>\n",
       "    </tr>\n",
       "    <tr>\n",
       "      <th>0</th>\n",
       "      <td>CDS.Participant.subject_id</td>\n",
       "    </tr>\n",
       "    <tr>\n",
       "      <th>0</th>\n",
       "      <td>CDA.Patient.dct:identifier</td>\n",
       "    </tr>\n",
       "    <tr>\n",
       "      <th>0</th>\n",
       "      <td></td>\n",
       "    </tr>\n",
       "    <tr>\n",
       "      <th>0</th>\n",
       "      <td>C2M2.biosample.local_id</td>\n",
       "    </tr>\n",
       "    <tr>\n",
       "      <th>0</th>\n",
       "      <td>mCODE.Cancer Patient Profile.Identifier</td>\n",
       "    </tr>\n",
       "  </tbody>\n",
       "</table>\n",
       "</div>"
      ],
      "text/plain": [
       "                                         0\n",
       "0                        CTDC.case.case_id\n",
       "0                              GDC.Case.id\n",
       "0                        ICDC.case.case_id\n",
       "0      IDC.DICOM.Patient Module.Patient ID\n",
       "0                         PDC.Case.case_id\n",
       "0               CDS.Participant.subject_id\n",
       "0               CDA.Patient.dct:identifier\n",
       "0                                         \n",
       "0                  C2M2.biosample.local_id\n",
       "0  mCODE.Cancer Patient Profile.Identifier"
      ]
     },
     "execution_count": 199,
     "metadata": {},
     "output_type": "execute_result"
    }
   ],
   "source": [
    "df_models_stack.head(10)"
   ]
  },
  {
   "cell_type": "code",
   "execution_count": 200,
   "metadata": {},
   "outputs": [],
   "source": [
    "df_models_stack[0].replace(u\"\\xa0\", np.nan, inplace=True)\n",
    "df_models_stack[0].replace(u\"\", np.nan, inplace=True)"
   ]
  },
  {
   "cell_type": "code",
   "execution_count": 201,
   "metadata": {},
   "outputs": [
    {
     "data": {
      "text/html": [
       "<div>\n",
       "<style scoped>\n",
       "    .dataframe tbody tr th:only-of-type {\n",
       "        vertical-align: middle;\n",
       "    }\n",
       "\n",
       "    .dataframe tbody tr th {\n",
       "        vertical-align: top;\n",
       "    }\n",
       "\n",
       "    .dataframe thead th {\n",
       "        text-align: right;\n",
       "    }\n",
       "</style>\n",
       "<table border=\"1\" class=\"dataframe\">\n",
       "  <thead>\n",
       "    <tr style=\"text-align: right;\">\n",
       "      <th></th>\n",
       "      <th>0</th>\n",
       "    </tr>\n",
       "  </thead>\n",
       "  <tbody>\n",
       "    <tr>\n",
       "      <th>0</th>\n",
       "      <td>CTDC.case.case_id</td>\n",
       "    </tr>\n",
       "    <tr>\n",
       "      <th>0</th>\n",
       "      <td>GDC.Case.id</td>\n",
       "    </tr>\n",
       "    <tr>\n",
       "      <th>0</th>\n",
       "      <td>ICDC.case.case_id</td>\n",
       "    </tr>\n",
       "    <tr>\n",
       "      <th>0</th>\n",
       "      <td>IDC.DICOM.Patient Module.Patient ID</td>\n",
       "    </tr>\n",
       "    <tr>\n",
       "      <th>0</th>\n",
       "      <td>PDC.Case.case_id</td>\n",
       "    </tr>\n",
       "    <tr>\n",
       "      <th>0</th>\n",
       "      <td>CDS.Participant.subject_id</td>\n",
       "    </tr>\n",
       "    <tr>\n",
       "      <th>0</th>\n",
       "      <td>CDA.Patient.dct:identifier</td>\n",
       "    </tr>\n",
       "    <tr>\n",
       "      <th>0</th>\n",
       "      <td>NaN</td>\n",
       "    </tr>\n",
       "    <tr>\n",
       "      <th>0</th>\n",
       "      <td>C2M2.biosample.local_id</td>\n",
       "    </tr>\n",
       "    <tr>\n",
       "      <th>0</th>\n",
       "      <td>mCODE.Cancer Patient Profile.Identifier</td>\n",
       "    </tr>\n",
       "  </tbody>\n",
       "</table>\n",
       "</div>"
      ],
      "text/plain": [
       "                                         0\n",
       "0                        CTDC.case.case_id\n",
       "0                              GDC.Case.id\n",
       "0                        ICDC.case.case_id\n",
       "0      IDC.DICOM.Patient Module.Patient ID\n",
       "0                         PDC.Case.case_id\n",
       "0               CDS.Participant.subject_id\n",
       "0               CDA.Patient.dct:identifier\n",
       "0                                      NaN\n",
       "0                  C2M2.biosample.local_id\n",
       "0  mCODE.Cancer Patient Profile.Identifier"
      ]
     },
     "execution_count": 201,
     "metadata": {},
     "output_type": "execute_result"
    }
   ],
   "source": [
    "df_models_stack.head(10)"
   ]
  },
  {
   "cell_type": "code",
   "execution_count": 202,
   "metadata": {},
   "outputs": [],
   "source": [
    "df_models_stack.dropna(subset=[0], inplace=True)"
   ]
  },
  {
   "cell_type": "code",
   "execution_count": 203,
   "metadata": {},
   "outputs": [
    {
     "data": {
      "text/html": [
       "<div>\n",
       "<style scoped>\n",
       "    .dataframe tbody tr th:only-of-type {\n",
       "        vertical-align: middle;\n",
       "    }\n",
       "\n",
       "    .dataframe tbody tr th {\n",
       "        vertical-align: top;\n",
       "    }\n",
       "\n",
       "    .dataframe thead th {\n",
       "        text-align: right;\n",
       "    }\n",
       "</style>\n",
       "<table border=\"1\" class=\"dataframe\">\n",
       "  <thead>\n",
       "    <tr style=\"text-align: right;\">\n",
       "      <th></th>\n",
       "      <th>0</th>\n",
       "    </tr>\n",
       "  </thead>\n",
       "  <tbody>\n",
       "    <tr>\n",
       "      <th>0</th>\n",
       "      <td>CTDC.case.case_id</td>\n",
       "    </tr>\n",
       "    <tr>\n",
       "      <th>0</th>\n",
       "      <td>GDC.Case.id</td>\n",
       "    </tr>\n",
       "    <tr>\n",
       "      <th>0</th>\n",
       "      <td>ICDC.case.case_id</td>\n",
       "    </tr>\n",
       "    <tr>\n",
       "      <th>0</th>\n",
       "      <td>IDC.DICOM.Patient Module.Patient ID</td>\n",
       "    </tr>\n",
       "    <tr>\n",
       "      <th>0</th>\n",
       "      <td>PDC.Case.case_id</td>\n",
       "    </tr>\n",
       "    <tr>\n",
       "      <th>0</th>\n",
       "      <td>CDS.Participant.subject_id</td>\n",
       "    </tr>\n",
       "    <tr>\n",
       "      <th>0</th>\n",
       "      <td>CDA.Patient.dct:identifier</td>\n",
       "    </tr>\n",
       "    <tr>\n",
       "      <th>0</th>\n",
       "      <td>C2M2.biosample.local_id</td>\n",
       "    </tr>\n",
       "    <tr>\n",
       "      <th>0</th>\n",
       "      <td>mCODE.Cancer Patient Profile.Identifier</td>\n",
       "    </tr>\n",
       "    <tr>\n",
       "      <th>1</th>\n",
       "      <td>GDC.Sample.sample_type</td>\n",
       "    </tr>\n",
       "  </tbody>\n",
       "</table>\n",
       "</div>"
      ],
      "text/plain": [
       "                                         0\n",
       "0                        CTDC.case.case_id\n",
       "0                              GDC.Case.id\n",
       "0                        ICDC.case.case_id\n",
       "0      IDC.DICOM.Patient Module.Patient ID\n",
       "0                         PDC.Case.case_id\n",
       "0               CDS.Participant.subject_id\n",
       "0               CDA.Patient.dct:identifier\n",
       "0                  C2M2.biosample.local_id\n",
       "0  mCODE.Cancer Patient Profile.Identifier\n",
       "1                   GDC.Sample.sample_type"
      ]
     },
     "execution_count": 203,
     "metadata": {},
     "output_type": "execute_result"
    }
   ],
   "source": [
    "df_models_stack.head(10)"
   ]
  },
  {
   "cell_type": "code",
   "execution_count": 204,
   "metadata": {},
   "outputs": [
    {
     "data": {
      "text/plain": [
       "2257"
      ]
     },
     "execution_count": 204,
     "metadata": {},
     "output_type": "execute_result"
    }
   ],
   "source": [
    "len(df_models_stack)"
   ]
  },
  {
   "cell_type": "code",
   "execution_count": 205,
   "metadata": {},
   "outputs": [],
   "source": [
    "df_models_split = df_models_stack[0].str.split(\".\", expand=True)"
   ]
  },
  {
   "cell_type": "code",
   "execution_count": 206,
   "metadata": {},
   "outputs": [
    {
     "data": {
      "text/plain": [
       "0    2257\n",
       "1    2257\n",
       "2    2227\n",
       "3      15\n",
       "dtype: int64"
      ]
     },
     "execution_count": 206,
     "metadata": {},
     "output_type": "execute_result"
    }
   ],
   "source": [
    "df_models_split.count()"
   ]
  },
  {
   "cell_type": "code",
   "execution_count": 207,
   "metadata": {},
   "outputs": [
    {
     "data": {
      "text/html": [
       "<div>\n",
       "<style scoped>\n",
       "    .dataframe tbody tr th:only-of-type {\n",
       "        vertical-align: middle;\n",
       "    }\n",
       "\n",
       "    .dataframe tbody tr th {\n",
       "        vertical-align: top;\n",
       "    }\n",
       "\n",
       "    .dataframe thead th {\n",
       "        text-align: right;\n",
       "    }\n",
       "</style>\n",
       "<table border=\"1\" class=\"dataframe\">\n",
       "  <thead>\n",
       "    <tr style=\"text-align: right;\">\n",
       "      <th></th>\n",
       "      <th>0</th>\n",
       "      <th>1</th>\n",
       "      <th>2</th>\n",
       "      <th>3</th>\n",
       "    </tr>\n",
       "  </thead>\n",
       "  <tbody>\n",
       "    <tr>\n",
       "      <th>0</th>\n",
       "      <td>IDC</td>\n",
       "      <td>DICOM</td>\n",
       "      <td>Patient Module</td>\n",
       "      <td>Patient ID</td>\n",
       "    </tr>\n",
       "    <tr>\n",
       "      <th>2</th>\n",
       "      <td>IDC</td>\n",
       "      <td>DICOM</td>\n",
       "      <td>Patient Module</td>\n",
       "      <td>Patient's Ethnic Group</td>\n",
       "    </tr>\n",
       "    <tr>\n",
       "      <th>10</th>\n",
       "      <td>IDC</td>\n",
       "      <td>DICOM</td>\n",
       "      <td>Patient Module</td>\n",
       "      <td>Patient's Ethnic Group</td>\n",
       "    </tr>\n",
       "    <tr>\n",
       "      <th>29</th>\n",
       "      <td>IDC</td>\n",
       "      <td>DICOM</td>\n",
       "      <td>Patient Module</td>\n",
       "      <td>Patient's Sex</td>\n",
       "    </tr>\n",
       "    <tr>\n",
       "      <th>48</th>\n",
       "      <td>IDC</td>\n",
       "      <td>DICOM</td>\n",
       "      <td>General Series Module</td>\n",
       "      <td>BodyPartExamined</td>\n",
       "    </tr>\n",
       "    <tr>\n",
       "      <th>271</th>\n",
       "      <td>IDC</td>\n",
       "      <td>DICOM</td>\n",
       "      <td>Patient Study Module</td>\n",
       "      <td>Patient Age</td>\n",
       "    </tr>\n",
       "    <tr>\n",
       "      <th>517</th>\n",
       "      <td>IDC</td>\n",
       "      <td>DICOM</td>\n",
       "      <td>Patient Study Module</td>\n",
       "      <td>Patient's Size</td>\n",
       "    </tr>\n",
       "    <tr>\n",
       "      <th>518</th>\n",
       "      <td>IDC</td>\n",
       "      <td>DICOM</td>\n",
       "      <td>Patient Study Module</td>\n",
       "      <td>Patient's Weight</td>\n",
       "    </tr>\n",
       "    <tr>\n",
       "      <th>519</th>\n",
       "      <td>IDC</td>\n",
       "      <td>DICOM</td>\n",
       "      <td>General Series Module</td>\n",
       "      <td>StudyDate</td>\n",
       "    </tr>\n",
       "    <tr>\n",
       "      <th>571</th>\n",
       "      <td>GDC</td>\n",
       "      <td>SlideImage</td>\n",
       "      <td>ref:GDC</td>\n",
       "      <td>data_file_properties</td>\n",
       "    </tr>\n",
       "    <tr>\n",
       "      <th>668</th>\n",
       "      <td>GDC</td>\n",
       "      <td>ClinicalSupplement</td>\n",
       "      <td>ref:GDC</td>\n",
       "      <td>data_file_properties</td>\n",
       "    </tr>\n",
       "    <tr>\n",
       "      <th>736</th>\n",
       "      <td>GDC</td>\n",
       "      <td>ExperimentMetadata</td>\n",
       "      <td>ref:GDC</td>\n",
       "      <td>data_file_properties</td>\n",
       "    </tr>\n",
       "    <tr>\n",
       "      <th>824</th>\n",
       "      <td>GDC</td>\n",
       "      <td>PathologyReport</td>\n",
       "      <td>ref:GDC</td>\n",
       "      <td>data_file_properties</td>\n",
       "    </tr>\n",
       "    <tr>\n",
       "      <th>894</th>\n",
       "      <td>GDC</td>\n",
       "      <td>ProteinExpression</td>\n",
       "      <td>ref:GDC</td>\n",
       "      <td>data_file_properties</td>\n",
       "    </tr>\n",
       "    <tr>\n",
       "      <th>940</th>\n",
       "      <td>GDC</td>\n",
       "      <td>RunMetadata</td>\n",
       "      <td>ref:GDC</td>\n",
       "      <td>data_file_properties</td>\n",
       "    </tr>\n",
       "  </tbody>\n",
       "</table>\n",
       "</div>"
      ],
      "text/plain": [
       "       0                   1                      2                       3\n",
       "0    IDC               DICOM         Patient Module              Patient ID\n",
       "2    IDC               DICOM         Patient Module  Patient's Ethnic Group\n",
       "10   IDC               DICOM         Patient Module  Patient's Ethnic Group\n",
       "29   IDC               DICOM         Patient Module           Patient's Sex\n",
       "48   IDC               DICOM  General Series Module        BodyPartExamined\n",
       "271  IDC               DICOM   Patient Study Module             Patient Age\n",
       "517  IDC               DICOM   Patient Study Module          Patient's Size\n",
       "518  IDC               DICOM   Patient Study Module        Patient's Weight\n",
       "519  IDC               DICOM  General Series Module               StudyDate\n",
       "571  GDC          SlideImage                ref:GDC    data_file_properties\n",
       "668  GDC  ClinicalSupplement                ref:GDC    data_file_properties\n",
       "736  GDC  ExperimentMetadata                ref:GDC    data_file_properties\n",
       "824  GDC     PathologyReport                ref:GDC    data_file_properties\n",
       "894  GDC   ProteinExpression                ref:GDC    data_file_properties\n",
       "940  GDC         RunMetadata                ref:GDC    data_file_properties"
      ]
     },
     "execution_count": 207,
     "metadata": {},
     "output_type": "execute_result"
    }
   ],
   "source": [
    "# df_models rows with a third option (what should be node and what should be property?)\n",
    "df_models_other_1 = df_models_split.loc[df_models_split[3].notnull()]\n",
    "df_models_other_1"
   ]
  },
  {
   "cell_type": "code",
   "execution_count": 208,
   "metadata": {},
   "outputs": [
    {
     "data": {
      "text/html": [
       "<div>\n",
       "<style scoped>\n",
       "    .dataframe tbody tr th:only-of-type {\n",
       "        vertical-align: middle;\n",
       "    }\n",
       "\n",
       "    .dataframe tbody tr th {\n",
       "        vertical-align: top;\n",
       "    }\n",
       "\n",
       "    .dataframe thead th {\n",
       "        text-align: right;\n",
       "    }\n",
       "</style>\n",
       "<table border=\"1\" class=\"dataframe\">\n",
       "  <thead>\n",
       "    <tr style=\"text-align: right;\">\n",
       "      <th></th>\n",
       "      <th>0</th>\n",
       "      <th>1</th>\n",
       "      <th>2</th>\n",
       "      <th>3</th>\n",
       "    </tr>\n",
       "  </thead>\n",
       "  <tbody>\n",
       "    <tr>\n",
       "      <th>50</th>\n",
       "      <td>ICDC</td>\n",
       "      <td>case</td>\n",
       "      <td>None</td>\n",
       "      <td>None</td>\n",
       "    </tr>\n",
       "    <tr>\n",
       "      <th>51</th>\n",
       "      <td>ICDC</td>\n",
       "      <td>diagnosis</td>\n",
       "      <td>None</td>\n",
       "      <td>None</td>\n",
       "    </tr>\n",
       "    <tr>\n",
       "      <th>53</th>\n",
       "      <td>ICDC</td>\n",
       "      <td>sample</td>\n",
       "      <td>None</td>\n",
       "      <td>None</td>\n",
       "    </tr>\n",
       "    <tr>\n",
       "      <th>55</th>\n",
       "      <td>ICDC</td>\n",
       "      <td>demographic</td>\n",
       "      <td>None</td>\n",
       "      <td>None</td>\n",
       "    </tr>\n",
       "    <tr>\n",
       "      <th>56</th>\n",
       "      <td>ICDC</td>\n",
       "      <td>program</td>\n",
       "      <td>None</td>\n",
       "      <td>None</td>\n",
       "    </tr>\n",
       "    <tr>\n",
       "      <th>57</th>\n",
       "      <td>ICDC</td>\n",
       "      <td>study</td>\n",
       "      <td>None</td>\n",
       "      <td>None</td>\n",
       "    </tr>\n",
       "    <tr>\n",
       "      <th>75</th>\n",
       "      <td>ICDC</td>\n",
       "      <td>file</td>\n",
       "      <td>None</td>\n",
       "      <td>None</td>\n",
       "    </tr>\n",
       "    <tr>\n",
       "      <th>79</th>\n",
       "      <td>ICDC</td>\n",
       "      <td>principal_investigator</td>\n",
       "      <td>None</td>\n",
       "      <td>None</td>\n",
       "    </tr>\n",
       "    <tr>\n",
       "      <th>134</th>\n",
       "      <td>ICDC</td>\n",
       "      <td>enrollment</td>\n",
       "      <td>None</td>\n",
       "      <td>None</td>\n",
       "    </tr>\n",
       "    <tr>\n",
       "      <th>212</th>\n",
       "      <td>ICDC</td>\n",
       "      <td>sample</td>\n",
       "      <td>None</td>\n",
       "      <td>None</td>\n",
       "    </tr>\n",
       "    <tr>\n",
       "      <th>260</th>\n",
       "      <td>ICDC</td>\n",
       "      <td>adverse_event</td>\n",
       "      <td>None</td>\n",
       "      <td>None</td>\n",
       "    </tr>\n",
       "    <tr>\n",
       "      <th>261</th>\n",
       "      <td>ICDC</td>\n",
       "      <td>follow_up</td>\n",
       "      <td>None</td>\n",
       "      <td>None</td>\n",
       "    </tr>\n",
       "    <tr>\n",
       "      <th>404</th>\n",
       "      <td>ICDC</td>\n",
       "      <td>disease_extent</td>\n",
       "      <td>None</td>\n",
       "      <td>None</td>\n",
       "    </tr>\n",
       "    <tr>\n",
       "      <th>426</th>\n",
       "      <td>GDC desc</td>\n",
       "      <td>ENTITY</td>\n",
       "      <td>None</td>\n",
       "      <td>None</td>\n",
       "    </tr>\n",
       "    <tr>\n",
       "      <th>426</th>\n",
       "      <td>PDC desc</td>\n",
       "      <td>ENTITY</td>\n",
       "      <td>None</td>\n",
       "      <td>None</td>\n",
       "    </tr>\n",
       "    <tr>\n",
       "      <th>472</th>\n",
       "      <td>ICDC</td>\n",
       "      <td>prior_therapy</td>\n",
       "      <td>None</td>\n",
       "      <td>None</td>\n",
       "    </tr>\n",
       "    <tr>\n",
       "      <th>498</th>\n",
       "      <td>ICDC</td>\n",
       "      <td>study_arm</td>\n",
       "      <td>None</td>\n",
       "      <td>None</td>\n",
       "    </tr>\n",
       "    <tr>\n",
       "      <th>594</th>\n",
       "      <td>ICDC</td>\n",
       "      <td>agent</td>\n",
       "      <td>None</td>\n",
       "      <td>None</td>\n",
       "    </tr>\n",
       "    <tr>\n",
       "      <th>598</th>\n",
       "      <td>ICDC</td>\n",
       "      <td>agent_administration</td>\n",
       "      <td>None</td>\n",
       "      <td>None</td>\n",
       "    </tr>\n",
       "    <tr>\n",
       "      <th>648</th>\n",
       "      <td>ICDC</td>\n",
       "      <td>assay</td>\n",
       "      <td>None</td>\n",
       "      <td>None</td>\n",
       "    </tr>\n",
       "    <tr>\n",
       "      <th>671</th>\n",
       "      <td>ICDC</td>\n",
       "      <td>cohort</td>\n",
       "      <td>None</td>\n",
       "      <td>None</td>\n",
       "    </tr>\n",
       "    <tr>\n",
       "      <th>675</th>\n",
       "      <td>ICDC</td>\n",
       "      <td>cycle</td>\n",
       "      <td>None</td>\n",
       "      <td>None</td>\n",
       "    </tr>\n",
       "    <tr>\n",
       "      <th>765</th>\n",
       "      <td>ICDC</td>\n",
       "      <td>image</td>\n",
       "      <td>None</td>\n",
       "      <td>None</td>\n",
       "    </tr>\n",
       "    <tr>\n",
       "      <th>802</th>\n",
       "      <td>ICDC</td>\n",
       "      <td>off_study</td>\n",
       "      <td>None</td>\n",
       "      <td>None</td>\n",
       "    </tr>\n",
       "    <tr>\n",
       "      <th>812</th>\n",
       "      <td>ICDC</td>\n",
       "      <td>off_treatment</td>\n",
       "      <td>None</td>\n",
       "      <td>None</td>\n",
       "    </tr>\n",
       "    <tr>\n",
       "      <th>827</th>\n",
       "      <td>ICDC</td>\n",
       "      <td>physical_exam</td>\n",
       "      <td>None</td>\n",
       "      <td>None</td>\n",
       "    </tr>\n",
       "    <tr>\n",
       "      <th>842</th>\n",
       "      <td>ICDC</td>\n",
       "      <td>prior_surgery</td>\n",
       "      <td>None</td>\n",
       "      <td>None</td>\n",
       "    </tr>\n",
       "    <tr>\n",
       "      <th>999</th>\n",
       "      <td>ICDC</td>\n",
       "      <td>study_site</td>\n",
       "      <td>None</td>\n",
       "      <td>None</td>\n",
       "    </tr>\n",
       "    <tr>\n",
       "      <th>1011</th>\n",
       "      <td>ICDC</td>\n",
       "      <td>visit</td>\n",
       "      <td>None</td>\n",
       "      <td>None</td>\n",
       "    </tr>\n",
       "    <tr>\n",
       "      <th>1015</th>\n",
       "      <td>ICDC</td>\n",
       "      <td>vital_signs</td>\n",
       "      <td>None</td>\n",
       "      <td>None</td>\n",
       "    </tr>\n",
       "  </tbody>\n",
       "</table>\n",
       "</div>"
      ],
      "text/plain": [
       "             0                       1     2     3\n",
       "50        ICDC                    case  None  None\n",
       "51        ICDC               diagnosis  None  None\n",
       "53        ICDC                  sample  None  None\n",
       "55        ICDC             demographic  None  None\n",
       "56        ICDC                 program  None  None\n",
       "57        ICDC                   study  None  None\n",
       "75        ICDC                    file  None  None\n",
       "79        ICDC  principal_investigator  None  None\n",
       "134       ICDC              enrollment  None  None\n",
       "212       ICDC                  sample  None  None\n",
       "260       ICDC           adverse_event  None  None\n",
       "261       ICDC               follow_up  None  None\n",
       "404       ICDC          disease_extent  None  None\n",
       "426   GDC desc                  ENTITY  None  None\n",
       "426   PDC desc                  ENTITY  None  None\n",
       "472       ICDC           prior_therapy  None  None\n",
       "498       ICDC               study_arm  None  None\n",
       "594       ICDC                   agent  None  None\n",
       "598       ICDC    agent_administration  None  None\n",
       "648       ICDC                   assay  None  None\n",
       "671       ICDC                  cohort  None  None\n",
       "675       ICDC                   cycle  None  None\n",
       "765       ICDC                   image  None  None\n",
       "802       ICDC               off_study  None  None\n",
       "812       ICDC           off_treatment  None  None\n",
       "827       ICDC           physical_exam  None  None\n",
       "842       ICDC           prior_surgery  None  None\n",
       "999       ICDC              study_site  None  None\n",
       "1011      ICDC                   visit  None  None\n",
       "1015      ICDC             vital_signs  None  None"
      ]
     },
     "execution_count": 208,
     "metadata": {},
     "output_type": "execute_result"
    }
   ],
   "source": [
    "# df_models without a 2nd option\n",
    "df_models_other_2 = df_models_split.loc[df_models_split[1].notnull() & df_models_split[2].isnull()]\n",
    "df_models_other_2"
   ]
  },
  {
   "cell_type": "code",
   "execution_count": 209,
   "metadata": {},
   "outputs": [],
   "source": [
    "# default is 60?\n",
    "pd.set_option('display.max_rows', 60)"
   ]
  },
  {
   "cell_type": "code",
   "execution_count": 210,
   "metadata": {},
   "outputs": [
    {
     "data": {
      "text/html": [
       "<div>\n",
       "<style scoped>\n",
       "    .dataframe tbody tr th:only-of-type {\n",
       "        vertical-align: middle;\n",
       "    }\n",
       "\n",
       "    .dataframe tbody tr th {\n",
       "        vertical-align: top;\n",
       "    }\n",
       "\n",
       "    .dataframe thead th {\n",
       "        text-align: right;\n",
       "    }\n",
       "</style>\n",
       "<table border=\"1\" class=\"dataframe\">\n",
       "  <thead>\n",
       "    <tr style=\"text-align: right;\">\n",
       "      <th></th>\n",
       "      <th>0</th>\n",
       "      <th>1</th>\n",
       "      <th>2</th>\n",
       "      <th>3</th>\n",
       "    </tr>\n",
       "  </thead>\n",
       "  <tbody>\n",
       "    <tr>\n",
       "      <th>1</th>\n",
       "      <td>mCODE</td>\n",
       "      <td>Genomic Specimen Profile</td>\n",
       "      <td>Type</td>\n",
       "      <td>None</td>\n",
       "    </tr>\n",
       "    <tr>\n",
       "      <th>2</th>\n",
       "      <td>CTDC</td>\n",
       "      <td>case</td>\n",
       "      <td>ethnicity</td>\n",
       "      <td>None</td>\n",
       "    </tr>\n",
       "    <tr>\n",
       "      <th>2</th>\n",
       "      <td>IDC</td>\n",
       "      <td>DICOM</td>\n",
       "      <td>Patient Module</td>\n",
       "      <td>Patient's Ethnic Group</td>\n",
       "    </tr>\n",
       "    <tr>\n",
       "      <th>2</th>\n",
       "      <td>PDC</td>\n",
       "      <td>Demographic</td>\n",
       "      <td>ethnicity</td>\n",
       "      <td>None</td>\n",
       "    </tr>\n",
       "    <tr>\n",
       "      <th>2</th>\n",
       "      <td>CDA</td>\n",
       "      <td>Patient</td>\n",
       "      <td>ethnicity</td>\n",
       "      <td>None</td>\n",
       "    </tr>\n",
       "    <tr>\n",
       "      <th>...</th>\n",
       "      <td>...</td>\n",
       "      <td>...</td>\n",
       "      <td>...</td>\n",
       "      <td>...</td>\n",
       "    </tr>\n",
       "    <tr>\n",
       "      <th>1425</th>\n",
       "      <td>mCODE</td>\n",
       "      <td>Primary Cancer Condition Profile</td>\n",
       "      <td>Code</td>\n",
       "      <td>None</td>\n",
       "    </tr>\n",
       "    <tr>\n",
       "      <th>1426</th>\n",
       "      <td>mCODE</td>\n",
       "      <td>Primary Cancer Condition Profile</td>\n",
       "      <td>Body Site</td>\n",
       "      <td>None</td>\n",
       "    </tr>\n",
       "    <tr>\n",
       "      <th>1430</th>\n",
       "      <td>mCODE</td>\n",
       "      <td>Primary Cancer Condition Profile</td>\n",
       "      <td>Stage</td>\n",
       "      <td>None</td>\n",
       "    </tr>\n",
       "    <tr>\n",
       "      <th>1502</th>\n",
       "      <td>mCODE</td>\n",
       "      <td>Tumor Size Profile</td>\n",
       "      <td>Component &gt; Tumor Longest Dimension</td>\n",
       "      <td>None</td>\n",
       "    </tr>\n",
       "    <tr>\n",
       "      <th>1507</th>\n",
       "      <td>mCODE</td>\n",
       "      <td>Tumor Specimen Profile</td>\n",
       "      <td>Identifier</td>\n",
       "      <td>None</td>\n",
       "    </tr>\n",
       "  </tbody>\n",
       "</table>\n",
       "<p>106 rows × 4 columns</p>\n",
       "</div>"
      ],
      "text/plain": [
       "          0                                 1  \\\n",
       "1     mCODE          Genomic Specimen Profile   \n",
       "2      CTDC                              case   \n",
       "2       IDC                             DICOM   \n",
       "2       PDC                       Demographic   \n",
       "2       CDA                           Patient   \n",
       "...     ...                               ...   \n",
       "1425  mCODE  Primary Cancer Condition Profile   \n",
       "1426  mCODE  Primary Cancer Condition Profile   \n",
       "1430  mCODE  Primary Cancer Condition Profile   \n",
       "1502  mCODE                Tumor Size Profile   \n",
       "1507  mCODE            Tumor Specimen Profile   \n",
       "\n",
       "                                        2                       3  \n",
       "1                                    Type                    None  \n",
       "2                               ethnicity                    None  \n",
       "2                          Patient Module  Patient's Ethnic Group  \n",
       "2                               ethnicity                    None  \n",
       "2                               ethnicity                    None  \n",
       "...                                   ...                     ...  \n",
       "1425                                 Code                    None  \n",
       "1426                            Body Site                    None  \n",
       "1430                                Stage                    None  \n",
       "1502  Component > Tumor Longest Dimension                    None  \n",
       "1507                           Identifier                    None  \n",
       "\n",
       "[106 rows x 4 columns]"
      ]
     },
     "execution_count": 210,
     "metadata": {},
     "output_type": "execute_result"
    }
   ],
   "source": [
    "df_models_split[df_models_split.duplicated(keep=False)]"
   ]
  },
  {
   "cell_type": "code",
   "execution_count": 211,
   "metadata": {},
   "outputs": [],
   "source": [
    "df_models_split.columns = [\"ent_2_model\", \"ent_2_extra_handles\", \"ent_2_handles\", \"ent_2_handles_other\"]\n",
    "df_models_split = df_models_split[[\"ent_2_model\", \"ent_2_handles\", \"ent_2_handles_other\", \"ent_2_extra_handles\"]]\n",
    "#df_models_split[\"ent_2_extra_handles\"] = [[l] for l in df_models_split[\"ent_2_extra_handles\"]] # listify extra handles"
   ]
  },
  {
   "cell_type": "code",
   "execution_count": 212,
   "metadata": {},
   "outputs": [],
   "source": [
    "df_mappings = df_dst.join(df_models_split)"
   ]
  },
  {
   "cell_type": "code",
   "execution_count": 213,
   "metadata": {},
   "outputs": [
    {
     "data": {
      "text/html": [
       "<div>\n",
       "<style scoped>\n",
       "    .dataframe tbody tr th:only-of-type {\n",
       "        vertical-align: middle;\n",
       "    }\n",
       "\n",
       "    .dataframe tbody tr th {\n",
       "        vertical-align: top;\n",
       "    }\n",
       "\n",
       "    .dataframe thead th {\n",
       "        text-align: right;\n",
       "    }\n",
       "</style>\n",
       "<table border=\"1\" class=\"dataframe\">\n",
       "  <thead>\n",
       "    <tr style=\"text-align: right;\">\n",
       "      <th></th>\n",
       "      <th>ent_1_model</th>\n",
       "      <th>ent_1_handle</th>\n",
       "      <th>ent_1_extra_handles</th>\n",
       "      <th>ent_2_model</th>\n",
       "      <th>ent_2_handles</th>\n",
       "      <th>ent_2_handles_other</th>\n",
       "      <th>ent_2_extra_handles</th>\n",
       "    </tr>\n",
       "  </thead>\n",
       "  <tbody>\n",
       "    <tr>\n",
       "      <th>0</th>\n",
       "      <td>DST</td>\n",
       "      <td>Identifier</td>\n",
       "      <td>Subject</td>\n",
       "      <td>CTDC</td>\n",
       "      <td>case_id</td>\n",
       "      <td>None</td>\n",
       "      <td>case</td>\n",
       "    </tr>\n",
       "    <tr>\n",
       "      <th>0</th>\n",
       "      <td>DST</td>\n",
       "      <td>Identifier</td>\n",
       "      <td>Subject</td>\n",
       "      <td>GDC</td>\n",
       "      <td>id</td>\n",
       "      <td>None</td>\n",
       "      <td>Case</td>\n",
       "    </tr>\n",
       "    <tr>\n",
       "      <th>0</th>\n",
       "      <td>DST</td>\n",
       "      <td>Identifier</td>\n",
       "      <td>Subject</td>\n",
       "      <td>ICDC</td>\n",
       "      <td>case_id</td>\n",
       "      <td>None</td>\n",
       "      <td>case</td>\n",
       "    </tr>\n",
       "    <tr>\n",
       "      <th>0</th>\n",
       "      <td>DST</td>\n",
       "      <td>Identifier</td>\n",
       "      <td>Subject</td>\n",
       "      <td>IDC</td>\n",
       "      <td>Patient Module</td>\n",
       "      <td>Patient ID</td>\n",
       "      <td>DICOM</td>\n",
       "    </tr>\n",
       "    <tr>\n",
       "      <th>0</th>\n",
       "      <td>DST</td>\n",
       "      <td>Identifier</td>\n",
       "      <td>Subject</td>\n",
       "      <td>PDC</td>\n",
       "      <td>case_id</td>\n",
       "      <td>None</td>\n",
       "      <td>Case</td>\n",
       "    </tr>\n",
       "    <tr>\n",
       "      <th>...</th>\n",
       "      <td>...</td>\n",
       "      <td>...</td>\n",
       "      <td>...</td>\n",
       "      <td>...</td>\n",
       "      <td>...</td>\n",
       "      <td>...</td>\n",
       "      <td>...</td>\n",
       "    </tr>\n",
       "    <tr>\n",
       "      <th>1525</th>\n",
       "      <td>DST</td>\n",
       "      <td>Grade</td>\n",
       "      <td>Tumor</td>\n",
       "      <td>PDC</td>\n",
       "      <td>gleason_grade_tertiary</td>\n",
       "      <td>None</td>\n",
       "      <td>Diagnosis</td>\n",
       "    </tr>\n",
       "    <tr>\n",
       "      <th>1526</th>\n",
       "      <td>DST</td>\n",
       "      <td>NaN</td>\n",
       "      <td>NaN</td>\n",
       "      <td>GDC</td>\n",
       "      <td>tumor_depth</td>\n",
       "      <td>None</td>\n",
       "      <td>Diagnosis</td>\n",
       "    </tr>\n",
       "    <tr>\n",
       "      <th>1526</th>\n",
       "      <td>DST</td>\n",
       "      <td>NaN</td>\n",
       "      <td>NaN</td>\n",
       "      <td>PDC</td>\n",
       "      <td>tumor_depth</td>\n",
       "      <td>None</td>\n",
       "      <td>Diagnosis</td>\n",
       "    </tr>\n",
       "    <tr>\n",
       "      <th>1527</th>\n",
       "      <td>DST</td>\n",
       "      <td>Clinical Stage</td>\n",
       "      <td>Disease</td>\n",
       "      <td>PDC</td>\n",
       "      <td>figo_staging_edition_year</td>\n",
       "      <td>None</td>\n",
       "      <td>Diagnosis</td>\n",
       "    </tr>\n",
       "    <tr>\n",
       "      <th>1528</th>\n",
       "      <td>DST</td>\n",
       "      <td>Type</td>\n",
       "      <td>Exposure</td>\n",
       "      <td>PDC</td>\n",
       "      <td>exposure_type</td>\n",
       "      <td>None</td>\n",
       "      <td>Exposure</td>\n",
       "    </tr>\n",
       "  </tbody>\n",
       "</table>\n",
       "<p>2259 rows × 7 columns</p>\n",
       "</div>"
      ],
      "text/plain": [
       "     ent_1_model    ent_1_handle ent_1_extra_handles ent_2_model  \\\n",
       "0            DST      Identifier             Subject        CTDC   \n",
       "0            DST      Identifier             Subject         GDC   \n",
       "0            DST      Identifier             Subject        ICDC   \n",
       "0            DST      Identifier             Subject         IDC   \n",
       "0            DST      Identifier             Subject         PDC   \n",
       "...          ...             ...                 ...         ...   \n",
       "1525         DST           Grade               Tumor         PDC   \n",
       "1526         DST             NaN                 NaN         GDC   \n",
       "1526         DST             NaN                 NaN         PDC   \n",
       "1527         DST  Clinical Stage             Disease         PDC   \n",
       "1528         DST            Type            Exposure         PDC   \n",
       "\n",
       "                  ent_2_handles ent_2_handles_other ent_2_extra_handles  \n",
       "0                       case_id                None                case  \n",
       "0                            id                None                Case  \n",
       "0                       case_id                None                case  \n",
       "0                Patient Module          Patient ID               DICOM  \n",
       "0                       case_id                None                Case  \n",
       "...                         ...                 ...                 ...  \n",
       "1525     gleason_grade_tertiary                None           Diagnosis  \n",
       "1526                tumor_depth                None           Diagnosis  \n",
       "1526                tumor_depth                None           Diagnosis  \n",
       "1527  figo_staging_edition_year                None           Diagnosis  \n",
       "1528              exposure_type                None            Exposure  \n",
       "\n",
       "[2259 rows x 7 columns]"
      ]
     },
     "execution_count": 213,
     "metadata": {},
     "output_type": "execute_result"
    }
   ],
   "source": [
    "df_mappings"
   ]
  },
  {
   "cell_type": "code",
   "execution_count": 215,
   "metadata": {},
   "outputs": [
    {
     "data": {
      "text/html": [
       "<div>\n",
       "<style scoped>\n",
       "    .dataframe tbody tr th:only-of-type {\n",
       "        vertical-align: middle;\n",
       "    }\n",
       "\n",
       "    .dataframe tbody tr th {\n",
       "        vertical-align: top;\n",
       "    }\n",
       "\n",
       "    .dataframe thead th {\n",
       "        text-align: right;\n",
       "    }\n",
       "</style>\n",
       "<table border=\"1\" class=\"dataframe\">\n",
       "  <thead>\n",
       "    <tr style=\"text-align: right;\">\n",
       "      <th></th>\n",
       "      <th>ent_1_model</th>\n",
       "      <th>ent_1_handle</th>\n",
       "      <th>ent_1_extra_handles</th>\n",
       "      <th>ent_2_model</th>\n",
       "      <th>ent_2_handles</th>\n",
       "      <th>ent_2_handles_other</th>\n",
       "      <th>ent_2_extra_handles</th>\n",
       "    </tr>\n",
       "  </thead>\n",
       "  <tbody>\n",
       "    <tr>\n",
       "      <th>2</th>\n",
       "      <td>DST</td>\n",
       "      <td>Ethnicity*</td>\n",
       "      <td>Subject</td>\n",
       "      <td>CTDC</td>\n",
       "      <td>ethnicity</td>\n",
       "      <td>None</td>\n",
       "      <td>case</td>\n",
       "    </tr>\n",
       "    <tr>\n",
       "      <th>2</th>\n",
       "      <td>DST</td>\n",
       "      <td>Ethnicity*</td>\n",
       "      <td>Subject</td>\n",
       "      <td>IDC</td>\n",
       "      <td>Patient Module</td>\n",
       "      <td>Patient's Ethnic Group</td>\n",
       "      <td>DICOM</td>\n",
       "    </tr>\n",
       "    <tr>\n",
       "      <th>2</th>\n",
       "      <td>DST</td>\n",
       "      <td>Ethnicity*</td>\n",
       "      <td>Subject</td>\n",
       "      <td>PDC</td>\n",
       "      <td>ethnicity</td>\n",
       "      <td>None</td>\n",
       "      <td>Demographic</td>\n",
       "    </tr>\n",
       "    <tr>\n",
       "      <th>2</th>\n",
       "      <td>DST</td>\n",
       "      <td>Ethnicity*</td>\n",
       "      <td>Subject</td>\n",
       "      <td>CDA</td>\n",
       "      <td>ethnicity</td>\n",
       "      <td>None</td>\n",
       "      <td>Patient</td>\n",
       "    </tr>\n",
       "    <tr>\n",
       "      <th>10</th>\n",
       "      <td>DST</td>\n",
       "      <td>Ethnicity*</td>\n",
       "      <td>Subject</td>\n",
       "      <td>CTDC</td>\n",
       "      <td>ethnicity</td>\n",
       "      <td>None</td>\n",
       "      <td>case</td>\n",
       "    </tr>\n",
       "    <tr>\n",
       "      <th>...</th>\n",
       "      <td>...</td>\n",
       "      <td>...</td>\n",
       "      <td>...</td>\n",
       "      <td>...</td>\n",
       "      <td>...</td>\n",
       "      <td>...</td>\n",
       "      <td>...</td>\n",
       "    </tr>\n",
       "    <tr>\n",
       "      <th>774</th>\n",
       "      <td>DST</td>\n",
       "      <td>chromosome</td>\n",
       "      <td>Gene</td>\n",
       "      <td>mCODE</td>\n",
       "      <td>Component &gt; Genomic Reference Sequence Id</td>\n",
       "      <td>None</td>\n",
       "      <td>Genomic Region Studied Profile</td>\n",
       "    </tr>\n",
       "    <tr>\n",
       "      <th>775</th>\n",
       "      <td>DST</td>\n",
       "      <td>chromosome</td>\n",
       "      <td>Gene</td>\n",
       "      <td>mCODE</td>\n",
       "      <td>Component &gt; Genomic Reference Sequence Id</td>\n",
       "      <td>None</td>\n",
       "      <td>Genomic Region Studied Profile</td>\n",
       "    </tr>\n",
       "    <tr>\n",
       "      <th>776</th>\n",
       "      <td>DST</td>\n",
       "      <td>chromosome</td>\n",
       "      <td>Gene</td>\n",
       "      <td>mCODE</td>\n",
       "      <td>Component &gt; Genomic Reference Sequence Id</td>\n",
       "      <td>None</td>\n",
       "      <td>Genomic Region Studied Profile</td>\n",
       "    </tr>\n",
       "    <tr>\n",
       "      <th>793</th>\n",
       "      <td>DST</td>\n",
       "      <td>symbol (same as name?)</td>\n",
       "      <td>Gene</td>\n",
       "      <td>mCODE</td>\n",
       "      <td>Component &gt; Cytogenetic Nomenclature</td>\n",
       "      <td>None</td>\n",
       "      <td>Genomic Variant Profile</td>\n",
       "    </tr>\n",
       "    <tr>\n",
       "      <th>961</th>\n",
       "      <td>DST</td>\n",
       "      <td>NaN</td>\n",
       "      <td>NaN</td>\n",
       "      <td>ICDC</td>\n",
       "      <td>of_case(case)</td>\n",
       "      <td>None</td>\n",
       "      <td>sample</td>\n",
       "    </tr>\n",
       "  </tbody>\n",
       "</table>\n",
       "<p>67 rows × 7 columns</p>\n",
       "</div>"
      ],
      "text/plain": [
       "    ent_1_model            ent_1_handle ent_1_extra_handles ent_2_model  \\\n",
       "2           DST              Ethnicity*             Subject        CTDC   \n",
       "2           DST              Ethnicity*             Subject         IDC   \n",
       "2           DST              Ethnicity*             Subject         PDC   \n",
       "2           DST              Ethnicity*             Subject         CDA   \n",
       "10          DST              Ethnicity*             Subject        CTDC   \n",
       "..          ...                     ...                 ...         ...   \n",
       "774         DST              chromosome                Gene       mCODE   \n",
       "775         DST              chromosome                Gene       mCODE   \n",
       "776         DST              chromosome                Gene       mCODE   \n",
       "793         DST  symbol (same as name?)                Gene       mCODE   \n",
       "961         DST                     NaN                 NaN        ICDC   \n",
       "\n",
       "                                 ent_2_handles     ent_2_handles_other  \\\n",
       "2                                    ethnicity                    None   \n",
       "2                               Patient Module  Patient's Ethnic Group   \n",
       "2                                    ethnicity                    None   \n",
       "2                                    ethnicity                    None   \n",
       "10                                   ethnicity                    None   \n",
       "..                                         ...                     ...   \n",
       "774  Component > Genomic Reference Sequence Id                    None   \n",
       "775  Component > Genomic Reference Sequence Id                    None   \n",
       "776  Component > Genomic Reference Sequence Id                    None   \n",
       "793       Component > Cytogenetic Nomenclature                    None   \n",
       "961                              of_case(case)                    None   \n",
       "\n",
       "                ent_2_extra_handles  \n",
       "2                              case  \n",
       "2                             DICOM  \n",
       "2                       Demographic  \n",
       "2                           Patient  \n",
       "10                             case  \n",
       "..                              ...  \n",
       "774  Genomic Region Studied Profile  \n",
       "775  Genomic Region Studied Profile  \n",
       "776  Genomic Region Studied Profile  \n",
       "793         Genomic Variant Profile  \n",
       "961                          sample  \n",
       "\n",
       "[67 rows x 7 columns]"
      ]
     },
     "execution_count": 215,
     "metadata": {},
     "output_type": "execute_result"
    }
   ],
   "source": [
    "# default is 60?\n",
    "pd.set_option('display.max_rows', 60)\n",
    "df_mappings[df_mappings.duplicated(keep=False)]"
   ]
  },
  {
   "cell_type": "code",
   "execution_count": 216,
   "metadata": {},
   "outputs": [
    {
     "data": {
      "text/plain": [
       "2259"
      ]
     },
     "execution_count": 216,
     "metadata": {},
     "output_type": "execute_result"
    }
   ],
   "source": [
    "len(df_mappings)"
   ]
  },
  {
   "cell_type": "code",
   "execution_count": 217,
   "metadata": {},
   "outputs": [],
   "source": [
    "df_mappings.drop_duplicates(keep=\"first\", inplace=True)"
   ]
  },
  {
   "cell_type": "code",
   "execution_count": 218,
   "metadata": {},
   "outputs": [
    {
     "data": {
      "text/plain": [
       "2216"
      ]
     },
     "execution_count": 218,
     "metadata": {},
     "output_type": "execute_result"
    }
   ],
   "source": [
    "len(df_mappings)"
   ]
  },
  {
   "cell_type": "code",
   "execution_count": 219,
   "metadata": {},
   "outputs": [
    {
     "data": {
      "text/html": [
       "<div>\n",
       "<style scoped>\n",
       "    .dataframe tbody tr th:only-of-type {\n",
       "        vertical-align: middle;\n",
       "    }\n",
       "\n",
       "    .dataframe tbody tr th {\n",
       "        vertical-align: top;\n",
       "    }\n",
       "\n",
       "    .dataframe thead th {\n",
       "        text-align: right;\n",
       "    }\n",
       "</style>\n",
       "<table border=\"1\" class=\"dataframe\">\n",
       "  <thead>\n",
       "    <tr style=\"text-align: right;\">\n",
       "      <th></th>\n",
       "      <th>ent_1_model</th>\n",
       "      <th>ent_1_handle</th>\n",
       "      <th>ent_1_extra_handles</th>\n",
       "      <th>ent_2_model</th>\n",
       "      <th>ent_2_handles</th>\n",
       "      <th>ent_2_handles_other</th>\n",
       "      <th>ent_2_extra_handles</th>\n",
       "    </tr>\n",
       "  </thead>\n",
       "  <tbody>\n",
       "    <tr>\n",
       "      <th>0</th>\n",
       "      <td>DST</td>\n",
       "      <td>Identifier</td>\n",
       "      <td>Subject</td>\n",
       "      <td>CTDC</td>\n",
       "      <td>case_id</td>\n",
       "      <td>None</td>\n",
       "      <td>case</td>\n",
       "    </tr>\n",
       "    <tr>\n",
       "      <th>0</th>\n",
       "      <td>DST</td>\n",
       "      <td>Identifier</td>\n",
       "      <td>Subject</td>\n",
       "      <td>GDC</td>\n",
       "      <td>id</td>\n",
       "      <td>None</td>\n",
       "      <td>Case</td>\n",
       "    </tr>\n",
       "    <tr>\n",
       "      <th>0</th>\n",
       "      <td>DST</td>\n",
       "      <td>Identifier</td>\n",
       "      <td>Subject</td>\n",
       "      <td>ICDC</td>\n",
       "      <td>case_id</td>\n",
       "      <td>None</td>\n",
       "      <td>case</td>\n",
       "    </tr>\n",
       "    <tr>\n",
       "      <th>0</th>\n",
       "      <td>DST</td>\n",
       "      <td>Identifier</td>\n",
       "      <td>Subject</td>\n",
       "      <td>IDC</td>\n",
       "      <td>Patient Module</td>\n",
       "      <td>Patient ID</td>\n",
       "      <td>DICOM</td>\n",
       "    </tr>\n",
       "    <tr>\n",
       "      <th>0</th>\n",
       "      <td>DST</td>\n",
       "      <td>Identifier</td>\n",
       "      <td>Subject</td>\n",
       "      <td>PDC</td>\n",
       "      <td>case_id</td>\n",
       "      <td>None</td>\n",
       "      <td>Case</td>\n",
       "    </tr>\n",
       "    <tr>\n",
       "      <th>...</th>\n",
       "      <td>...</td>\n",
       "      <td>...</td>\n",
       "      <td>...</td>\n",
       "      <td>...</td>\n",
       "      <td>...</td>\n",
       "      <td>...</td>\n",
       "      <td>...</td>\n",
       "    </tr>\n",
       "    <tr>\n",
       "      <th>1525</th>\n",
       "      <td>DST</td>\n",
       "      <td>Grade</td>\n",
       "      <td>Tumor</td>\n",
       "      <td>PDC</td>\n",
       "      <td>gleason_grade_tertiary</td>\n",
       "      <td>None</td>\n",
       "      <td>Diagnosis</td>\n",
       "    </tr>\n",
       "    <tr>\n",
       "      <th>1526</th>\n",
       "      <td>DST</td>\n",
       "      <td>NaN</td>\n",
       "      <td>NaN</td>\n",
       "      <td>GDC</td>\n",
       "      <td>tumor_depth</td>\n",
       "      <td>None</td>\n",
       "      <td>Diagnosis</td>\n",
       "    </tr>\n",
       "    <tr>\n",
       "      <th>1526</th>\n",
       "      <td>DST</td>\n",
       "      <td>NaN</td>\n",
       "      <td>NaN</td>\n",
       "      <td>PDC</td>\n",
       "      <td>tumor_depth</td>\n",
       "      <td>None</td>\n",
       "      <td>Diagnosis</td>\n",
       "    </tr>\n",
       "    <tr>\n",
       "      <th>1527</th>\n",
       "      <td>DST</td>\n",
       "      <td>Clinical Stage</td>\n",
       "      <td>Disease</td>\n",
       "      <td>PDC</td>\n",
       "      <td>figo_staging_edition_year</td>\n",
       "      <td>None</td>\n",
       "      <td>Diagnosis</td>\n",
       "    </tr>\n",
       "    <tr>\n",
       "      <th>1528</th>\n",
       "      <td>DST</td>\n",
       "      <td>Type</td>\n",
       "      <td>Exposure</td>\n",
       "      <td>PDC</td>\n",
       "      <td>exposure_type</td>\n",
       "      <td>None</td>\n",
       "      <td>Exposure</td>\n",
       "    </tr>\n",
       "  </tbody>\n",
       "</table>\n",
       "<p>2216 rows × 7 columns</p>\n",
       "</div>"
      ],
      "text/plain": [
       "     ent_1_model    ent_1_handle ent_1_extra_handles ent_2_model  \\\n",
       "0            DST      Identifier             Subject        CTDC   \n",
       "0            DST      Identifier             Subject         GDC   \n",
       "0            DST      Identifier             Subject        ICDC   \n",
       "0            DST      Identifier             Subject         IDC   \n",
       "0            DST      Identifier             Subject         PDC   \n",
       "...          ...             ...                 ...         ...   \n",
       "1525         DST           Grade               Tumor         PDC   \n",
       "1526         DST             NaN                 NaN         GDC   \n",
       "1526         DST             NaN                 NaN         PDC   \n",
       "1527         DST  Clinical Stage             Disease         PDC   \n",
       "1528         DST            Type            Exposure         PDC   \n",
       "\n",
       "                  ent_2_handles ent_2_handles_other ent_2_extra_handles  \n",
       "0                       case_id                None                case  \n",
       "0                            id                None                Case  \n",
       "0                       case_id                None                case  \n",
       "0                Patient Module          Patient ID               DICOM  \n",
       "0                       case_id                None                Case  \n",
       "...                         ...                 ...                 ...  \n",
       "1525     gleason_grade_tertiary                None           Diagnosis  \n",
       "1526                tumor_depth                None           Diagnosis  \n",
       "1526                tumor_depth                None           Diagnosis  \n",
       "1527  figo_staging_edition_year                None           Diagnosis  \n",
       "1528              exposure_type                None            Exposure  \n",
       "\n",
       "[2216 rows x 7 columns]"
      ]
     },
     "execution_count": 219,
     "metadata": {},
     "output_type": "execute_result"
    }
   ],
   "source": [
    "df_mappings"
   ]
  },
  {
   "cell_type": "code",
   "execution_count": 251,
   "metadata": {},
   "outputs": [
    {
     "data": {
      "text/plain": [
       "151.0"
      ]
     },
     "execution_count": 251,
     "metadata": {},
     "output_type": "execute_result"
    }
   ],
   "source": [
    "df_mappings['ent_1_handle'].str.findall(r'[^a-zA-Z0-9 ]').str.len().sum()"
   ]
  },
  {
   "cell_type": "code",
   "execution_count": 247,
   "metadata": {},
   "outputs": [
    {
     "data": {
      "text/plain": [
       "16.0"
      ]
     },
     "execution_count": 247,
     "metadata": {},
     "output_type": "execute_result"
    }
   ],
   "source": [
    "df_mappings['ent_2_handles_other'].str.findall(r'[^a-zA-Z0-9 ]').str.len().sum()"
   ]
  },
  {
   "cell_type": "code",
   "execution_count": 263,
   "metadata": {},
   "outputs": [
    {
     "data": {
      "text/html": [
       "<div>\n",
       "<style scoped>\n",
       "    .dataframe tbody tr th:only-of-type {\n",
       "        vertical-align: middle;\n",
       "    }\n",
       "\n",
       "    .dataframe tbody tr th {\n",
       "        vertical-align: top;\n",
       "    }\n",
       "\n",
       "    .dataframe thead th {\n",
       "        text-align: right;\n",
       "    }\n",
       "</style>\n",
       "<table border=\"1\" class=\"dataframe\">\n",
       "  <thead>\n",
       "    <tr style=\"text-align: right;\">\n",
       "      <th></th>\n",
       "      <th>ent_2_handles_other</th>\n",
       "    </tr>\n",
       "  </thead>\n",
       "  <tbody>\n",
       "    <tr>\n",
       "      <th>0</th>\n",
       "      <td>Patient ID</td>\n",
       "    </tr>\n",
       "    <tr>\n",
       "      <th>2</th>\n",
       "      <td>Patient's Ethnic Group</td>\n",
       "    </tr>\n",
       "    <tr>\n",
       "      <th>29</th>\n",
       "      <td>Patient's Sex</td>\n",
       "    </tr>\n",
       "    <tr>\n",
       "      <th>48</th>\n",
       "      <td>BodyPartExamined</td>\n",
       "    </tr>\n",
       "    <tr>\n",
       "      <th>271</th>\n",
       "      <td>Patient Age</td>\n",
       "    </tr>\n",
       "    <tr>\n",
       "      <th>517</th>\n",
       "      <td>Patient's Size</td>\n",
       "    </tr>\n",
       "    <tr>\n",
       "      <th>518</th>\n",
       "      <td>Patient's Weight</td>\n",
       "    </tr>\n",
       "    <tr>\n",
       "      <th>519</th>\n",
       "      <td>StudyDate</td>\n",
       "    </tr>\n",
       "    <tr>\n",
       "      <th>571</th>\n",
       "      <td>data_file_properties</td>\n",
       "    </tr>\n",
       "    <tr>\n",
       "      <th>668</th>\n",
       "      <td>data_file_properties</td>\n",
       "    </tr>\n",
       "    <tr>\n",
       "      <th>736</th>\n",
       "      <td>data_file_properties</td>\n",
       "    </tr>\n",
       "    <tr>\n",
       "      <th>824</th>\n",
       "      <td>data_file_properties</td>\n",
       "    </tr>\n",
       "    <tr>\n",
       "      <th>894</th>\n",
       "      <td>data_file_properties</td>\n",
       "    </tr>\n",
       "    <tr>\n",
       "      <th>940</th>\n",
       "      <td>data_file_properties</td>\n",
       "    </tr>\n",
       "  </tbody>\n",
       "</table>\n",
       "</div>"
      ],
      "text/plain": [
       "        ent_2_handles_other\n",
       "0                Patient ID\n",
       "2    Patient's Ethnic Group\n",
       "29            Patient's Sex\n",
       "48         BodyPartExamined\n",
       "271             Patient Age\n",
       "517          Patient's Size\n",
       "518        Patient's Weight\n",
       "519               StudyDate\n",
       "571    data_file_properties\n",
       "668    data_file_properties\n",
       "736    data_file_properties\n",
       "824    data_file_properties\n",
       "894    data_file_properties\n",
       "940    data_file_properties"
      ]
     },
     "execution_count": 263,
     "metadata": {},
     "output_type": "execute_result"
    }
   ],
   "source": [
    "df_mappings[['ent_2_handles_other']][df_mappings['ent_2_handles_other'].str.findall(r'[^a-zA-Z0-9 ]').notnull()]"
   ]
  },
  {
   "cell_type": "code",
   "execution_count": 246,
   "metadata": {},
   "outputs": [
    {
     "data": {
      "text/plain": [
       "3334.0"
      ]
     },
     "execution_count": 246,
     "metadata": {},
     "output_type": "execute_result"
    }
   ],
   "source": [
    "df_mappings['ent_2_handles'].str.findall(r'[^a-zA-Z0-9 ]').str.len().sum()"
   ]
  },
  {
   "cell_type": "code",
   "execution_count": 245,
   "metadata": {},
   "outputs": [
    {
     "data": {
      "text/plain": [
       "254.0"
      ]
     },
     "execution_count": 245,
     "metadata": {},
     "output_type": "execute_result"
    }
   ],
   "source": [
    "df_mappings['ent_2_extra_handles'].str.findall(r'[^a-zA-Z0-9 ]').str.len().sum()"
   ]
  }
 ],
 "metadata": {
  "kernelspec": {
   "display_name": "Python 3.9.12 ('base')",
   "language": "python",
   "name": "python3"
  },
  "language_info": {
   "codemirror_mode": {
    "name": "ipython",
    "version": 3
   },
   "file_extension": ".py",
   "mimetype": "text/x-python",
   "name": "python",
   "nbconvert_exporter": "python",
   "pygments_lexer": "ipython3",
   "version": "3.9.12"
  },
  "orig_nbformat": 4,
  "vscode": {
   "interpreter": {
    "hash": "ad88f0db3467f5864ea1db9ef7250ec56abf639c4f9456de0b73450094059d1d"
   }
  }
 },
 "nbformat": 4,
 "nbformat_minor": 2
}
