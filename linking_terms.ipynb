{
 "cells": [
  {
   "cell_type": "markdown",
   "metadata": {},
   "source": [
    "# Installs and Imports"
   ]
  },
  {
   "cell_type": "markdown",
   "metadata": {},
   "source": [
    "## Installs"
   ]
  },
  {
   "cell_type": "code",
   "execution_count": 2,
   "metadata": {},
   "outputs": [
    {
     "name": "stdout",
     "output_type": "stream",
     "text": [
      "Collecting neo4j\n",
      "  Downloading neo4j-4.4.4.tar.gz (90 kB)\n",
      "     ---------------------------------------- 90.8/90.8 KB 2.5 MB/s eta 0:00:00\n",
      "  Preparing metadata (setup.py): started\n",
      "  Preparing metadata (setup.py): finished with status 'done'\n",
      "Collecting pytz\n",
      "  Downloading pytz-2022.1-py2.py3-none-any.whl (503 kB)\n",
      "     -------------------------------------- 503.5/503.5 KB 7.8 MB/s eta 0:00:00\n",
      "Using legacy 'setup.py install' for neo4j, since package 'wheel' is not installed.\n",
      "Installing collected packages: pytz, neo4j\n",
      "  Running setup.py install for neo4j: started\n",
      "  Running setup.py install for neo4j: finished with status 'done'\n",
      "Successfully installed neo4j-4.4.4 pytz-2022.1\n",
      "Note: you may need to restart the kernel to use updated packages.\n"
     ]
    },
    {
     "name": "stderr",
     "output_type": "stream",
     "text": [
      "WARNING: You are using pip version 22.0.4; however, version 22.1.2 is available.\n",
      "You should consider upgrading via the 'C:\\Users\\nelso\\AppData\\Local\\Microsoft\\WindowsApps\\PythonSoftwareFoundation.Python.3.9_qbz5n2kfra8p0\\python.exe -m pip install --upgrade pip' command.\n"
     ]
    }
   ],
   "source": [
    "%pip install neo4j"
   ]
  },
  {
   "cell_type": "markdown",
   "metadata": {},
   "source": [
    "## Imports"
   ]
  },
  {
   "cell_type": "code",
   "execution_count": 1,
   "metadata": {},
   "outputs": [],
   "source": [
    "import logging\n",
    "import sys\n",
    "\n",
    "from neo4j import GraphDatabase, basic_auth\n",
    "from neo4j.exceptions import ServiceUnavailable"
   ]
  },
  {
   "cell_type": "markdown",
   "metadata": {},
   "source": [
    "# Database connection"
   ]
  },
  {
   "cell_type": "markdown",
   "metadata": {},
   "source": [
    "URL, username, and password for database connection"
   ]
  },
  {
   "cell_type": "code",
   "execution_count": 2,
   "metadata": {},
   "outputs": [],
   "source": [
    "# MDB sandbox\n",
    "url = \"<URL for database>\"\n",
    "user = \"<Username for database>\"\n",
    "password = \"<Password for database>\"\n",
    "driver = GraphDatabase.driver(url, auth=(user, password))"
   ]
  },
  {
   "cell_type": "markdown",
   "metadata": {},
   "source": [
    "# Functions"
   ]
  },
  {
   "cell_type": "markdown",
   "metadata": {},
   "source": [
    "## Helper Functions"
   ]
  },
  {
   "cell_type": "markdown",
   "metadata": {},
   "source": [
    "### Check existence of Term"
   ]
  },
  {
   "cell_type": "code",
   "execution_count": 3,
   "metadata": {},
   "outputs": [],
   "source": [
    "def check_term_exists(tx, term_val):\n",
    "  result = tx.run(\"MATCH (t:term {value: $term_val}) \"\n",
    "                  \"RETURN t.value AS term\", term_val=term_val)\n",
    "  if [record[\"term\"] for record in result]:\n",
    "    return True\n",
    "  else:\n",
    "    return False"
   ]
  },
  {
   "cell_type": "code",
   "execution_count": 5,
   "metadata": {},
   "outputs": [
    {
     "name": "stdout",
     "output_type": "stream",
     "text": [
      "Term with that value found in DB\n"
     ]
    }
   ],
   "source": [
    "with driver.session() as session:\n",
    "  term_exists = session.read_transaction(check_term_exists, \"Epithelioma, benign\")\n",
    "  if term_exists:\n",
    "    print(\"Term with that value found in DB\")\n",
    "  else:\n",
    "    print(\"Term with that value not found in DB\")\n",
    "\n",
    "driver.close()"
   ]
  },
  {
   "cell_type": "markdown",
   "metadata": {},
   "source": [
    "### Find existing Concept from Term"
   ]
  },
  {
   "cell_type": "code",
   "execution_count": 5,
   "metadata": {},
   "outputs": [],
   "source": [
    "def get_concept(tx, term_val):\n",
    "  concepts = []\n",
    "  result = tx.run(\"MATCH (t:term {value: $term_val})-[:represents]->(c:concept) \"\n",
    "                  \"RETURN c.nanoid AS concept\", term_val=term_val)\n",
    "  for record in result:\n",
    "    concepts.append(record[\"concept\"])\n",
    "  return concepts"
   ]
  },
  {
   "cell_type": "code",
   "execution_count": null,
   "metadata": {},
   "outputs": [],
   "source": [
    "with driver.session() as session:\n",
    "  concepts = session.read_transaction(get_concept, \"Epithelioma, benign\")\n",
    "  print(concepts[0])\n",
    "  \n",
    "  for concept in concepts:\n",
    "    print(f\"concept: {concept}\")\n",
    "    \n",
    "driver.close()"
   ]
  },
  {
   "cell_type": "markdown",
   "metadata": {},
   "source": [
    "### Create new Term"
   ]
  },
  {
   "cell_type": "code",
   "execution_count": 6,
   "metadata": {},
   "outputs": [],
   "source": [
    "def create_term(tx, term_val):\n",
    "    tx.run(\"MERGE (n:term {value: $term_val, origin_name: 'NDC'})\",\n",
    "            term_val=term_val)\n",
    "    print(f\"Created new Term with value: {term_val}\")"
   ]
  },
  {
   "cell_type": "code",
   "execution_count": 7,
   "metadata": {},
   "outputs": [
    {
     "name": "stdout",
     "output_type": "stream",
     "text": [
      "Created new Term with value: Epithelioma, benign\n",
      "Created new Term with value: Epithelial tumor, benign\n",
      "Created new Term with value: Spindle cell carcinoma, NOS\n",
      "Created new Term with value: Sarcomatoid Carcinoma\n",
      "Created new Term with value: Minimally Invasive Lung Adenocarcinoma\n",
      "Created new Term with value: Undifferentiated Carcinoma\n"
     ]
    }
   ],
   "source": [
    "with driver.session() as session:\n",
    "    session.write_transaction(create_term, \"Epithelioma, benign\")\n",
    "    session.write_transaction(create_term, \"Epithelial tumor, benign\")\n",
    "    session.write_transaction(create_term, \"Spindle cell carcinoma, NOS\")\n",
    "    session.write_transaction(create_term, \"Sarcomatoid Carcinoma\")\n",
    "    session.write_transaction(create_term, \"Minimally Invasive Lung Adenocarcinoma\")\n",
    "    session.write_transaction(create_term, \"Undifferentiated Carcinoma\")\n",
    "driver.close()"
   ]
  },
  {
   "cell_type": "markdown",
   "metadata": {},
   "source": [
    "### Generate unique Concept nanoid"
   ]
  },
  {
   "cell_type": "code",
   "execution_count": 8,
   "metadata": {},
   "outputs": [],
   "source": [
    "# generate nanoid\n",
    "import random\n",
    "import string\n",
    "\n",
    "def generate_nanoid():\n",
    "    valid_chars = string.ascii_letters + string.digits\n",
    "    nanoid = ''.join(random.choice(valid_chars) for i in range(6))\n",
    "    return nanoid"
   ]
  },
  {
   "cell_type": "code",
   "execution_count": 9,
   "metadata": {},
   "outputs": [],
   "source": [
    "def generate_unique_nanoid(tx):\n",
    "    nanoid = generate_nanoid()\n",
    "    result = tx.run(\"MATCH (n {nanoid: $nanoid}) \"\n",
    "                    \"RETURN n.nanoid\", nanoid=nanoid)\n",
    "    if not [record[\"n.nanoid\"] for record in result]:\n",
    "        #print(nanoid)\n",
    "        return nanoid\n",
    "    else:\n",
    "        generate_unique_nanoid(tx)"
   ]
  },
  {
   "cell_type": "code",
   "execution_count": 81,
   "metadata": {},
   "outputs": [
    {
     "name": "stdout",
     "output_type": "stream",
     "text": [
      "hjpBQV\n"
     ]
    }
   ],
   "source": [
    "with driver.session() as session:\n",
    "  session.read_transaction(generate_unique_nanoid)\n",
    "driver.close()"
   ]
  },
  {
   "cell_type": "markdown",
   "metadata": {},
   "source": [
    "### Create Concept"
   ]
  },
  {
   "cell_type": "code",
   "execution_count": 10,
   "metadata": {},
   "outputs": [],
   "source": [
    "# create concept\n",
    "def create_concept(tx, concept_nanoid):    \n",
    "    tx.run(\"MERGE (n:concept {nanoid: $concept_nanoid})\", \n",
    "            concept_nanoid=concept_nanoid)\n",
    "    print(f\"Created new Concept with nanoid: {concept_nanoid}\")"
   ]
  },
  {
   "cell_type": "code",
   "execution_count": 12,
   "metadata": {},
   "outputs": [
    {
     "name": "stdout",
     "output_type": "stream",
     "text": [
      "Created new Concept with nanoid: H6X2Ph\n",
      "Created new Concept with nanoid: p2IbFv\n"
     ]
    }
   ],
   "source": [
    "with driver.session() as session:\n",
    "    id_1 = session.read_transaction(generate_unique_nanoid)\n",
    "    session.write_transaction(create_concept, id_1)\n",
    "    id_2 = session.read_transaction(generate_unique_nanoid)   \n",
    "    session.write_transaction(create_concept, id_2)\n",
    "driver.close()"
   ]
  },
  {
   "cell_type": "markdown",
   "metadata": {},
   "source": [
    "### Link Term and Concept"
   ]
  },
  {
   "cell_type": "code",
   "execution_count": 14,
   "metadata": {},
   "outputs": [],
   "source": [
    "# link term and concept\n",
    "def create_relationship(tx, term_val, concept_nanoid):\n",
    "        tx.run(\"MATCH (t:term {value: $term_val}), \"\n",
    "                \"(c:concept {nanoid: $concept_nanoid}) \"\n",
    "                \"MERGE (t)-[r:represents]->(c) \", \n",
    "                term_val=term_val, \n",
    "                concept_nanoid=concept_nanoid)\n",
    "        print(f\"{term_val} Term now represents {concept_nanoid} Concept\")"
   ]
  },
  {
   "cell_type": "code",
   "execution_count": 15,
   "metadata": {},
   "outputs": [
    {
     "name": "stdout",
     "output_type": "stream",
     "text": [
      "Epithelioma, benign Term now represents H6X2Ph Concept\n",
      "Epithelial tumor, benign Term now represents H6X2Ph Concept\n",
      "Minimally Invasive Lung Adenocarcinoma Term now represents p2IbFv Concept\n"
     ]
    }
   ],
   "source": [
    "with driver.session() as session:\n",
    "    session.write_transaction(create_relationship, \"Epithelioma, benign\", id_1)\n",
    "    session.write_transaction(create_relationship, \"Epithelial tumor, benign\", id_1)\n",
    "    session.write_transaction(create_relationship, \"Minimally Invasive Lung Adenocarcinoma\", id_2)\n",
    "driver.close() "
   ]
  },
  {
   "cell_type": "markdown",
   "metadata": {},
   "source": [
    "## Link Two Terms"
   ]
  },
  {
   "cell_type": "code",
   "execution_count": 17,
   "metadata": {},
   "outputs": [],
   "source": [
    "def link_two_terms(term_val_1: str, term_val_2: str) -> None:\n",
    "    \"\"\"\n",
    "    Link two Term nodes in the MDB via a Concept node.\n",
    "\n",
    "    This function takes two synonymous Term values as input strings and \n",
    "    ensures they are present in the MDB and connected to each other via \n",
    "    a Concept node and a 'represents' relationship.\n",
    "    \"\"\"\n",
    "\n",
    "    with driver.session() as session:\n",
    "\n",
    "        term_1_exists = session.read_transaction(check_term_exists, term_val_1)\n",
    "        term_2_exists = session.read_transaction(check_term_exists, term_val_2)\n",
    "\n",
    "        if term_1_exists and term_2_exists:\n",
    "            term_1_concepts = session.read_transaction(get_concept, term_val_1)\n",
    "            term_2_concepts = session.read_transaction(get_concept, term_val_2)\n",
    "            \n",
    "            # Terms are already connected by a Concept\n",
    "            if not set(term_1_concepts).isdisjoint(set(term_2_concepts)):\n",
    "                existing_concept = set(term_1_concepts).intersection(set(term_2_concepts))             \n",
    "                print(f\"{term_val_1} and {term_val_2} are already connected via Concept {list(existing_concept)[0]}\")\n",
    "\n",
    "            # Terms are not already connected by a Concept\n",
    "            elif set(term_1_concepts).isdisjoint(set(term_2_concepts)):                               \n",
    "                new_nanoid = session.read_transaction(generate_unique_nanoid)\n",
    "                session.write_transaction(create_concept, new_nanoid)\n",
    "                session.write_transaction(create_relationship, term_val_1, new_nanoid)\n",
    "                session.write_transaction(create_relationship, term_val_2, new_nanoid)\n",
    "\n",
    "        elif term_1_exists or term_2_exists:\n",
    "            if term_1_exists:\n",
    "                existing_term = term_val_1\n",
    "                new_term = term_val_2\n",
    "            else:\n",
    "                existing_term = term_val_2\n",
    "                new_term = term_val_1\n",
    "\n",
    "            existing_term_concepts = session.read_transaction(get_concept, existing_term)\n",
    "\n",
    "            if existing_term_concepts:                \n",
    "                session.write_transaction(create_term, new_term)\n",
    "                existing_concept_nanoid = existing_term_concepts[0]\n",
    "                session.write_transaction(create_relationship, new_term, existing_concept_nanoid)\n",
    "\n",
    "            else:      \n",
    "                new_nanoid = session.read_transaction(generate_unique_nanoid)\n",
    "                session.write_transaction(create_concept, new_nanoid)\n",
    "                session.write_transaction(create_term, new_term)\n",
    "                session.write_transaction(create_relationship, existing_term, new_nanoid)\n",
    "                session.write_transaction(create_relationship, new_term, new_nanoid)\n",
    "\n",
    "        else:\n",
    "            session.write_transaction(create_term, term_val_1)\n",
    "            session.write_transaction(create_term, term_val_2)\n",
    "            new_nanoid = session.read_transaction(generate_unique_nanoid)\n",
    "            session.write_transaction(create_concept, new_nanoid)\n",
    "            session.write_transaction(create_relationship, term_val_1, new_nanoid)\n",
    "            session.write_transaction(create_relationship, term_val_2, new_nanoid)\n",
    "    \n",
    "    driver.close()"
   ]
  },
  {
   "cell_type": "markdown",
   "metadata": {},
   "source": [
    "# Testing"
   ]
  },
  {
   "cell_type": "code",
   "execution_count": 18,
   "metadata": {},
   "outputs": [
    {
     "name": "stdout",
     "output_type": "stream",
     "text": [
      "Epithelioma, benign and Epithelial tumor, benign are already connected via Concept H6X2Ph\n"
     ]
    }
   ],
   "source": [
    "# both terms exist & connected via concept\n",
    "link_two_terms(\"Epithelioma, benign\", \"Epithelial tumor, benign\")"
   ]
  },
  {
   "cell_type": "code",
   "execution_count": 19,
   "metadata": {},
   "outputs": [
    {
     "name": "stdout",
     "output_type": "stream",
     "text": [
      "Created new Concept with nanoid: Zith4U\n",
      "Spindle cell carcinoma, NOS Term now represents Zith4U Concept\n",
      "Sarcomatoid Carcinoma Term now represents Zith4U Concept\n"
     ]
    }
   ],
   "source": [
    "# both terms exist & NOT connected via concept\n",
    "link_two_terms(\"Spindle cell carcinoma, NOS\", \"Sarcomatoid Carcinoma\")"
   ]
  },
  {
   "cell_type": "code",
   "execution_count": 20,
   "metadata": {},
   "outputs": [
    {
     "name": "stdout",
     "output_type": "stream",
     "text": [
      "Created new Term with value: Alveolar adenocarcinoma\n",
      "Alveolar adenocarcinoma Term now represents p2IbFv Concept\n"
     ]
    }
   ],
   "source": [
    "# one term exists & already has concept\n",
    "link_two_terms(\"Minimally Invasive Lung Adenocarcinoma\", \"Alveolar adenocarcinoma\")"
   ]
  },
  {
   "cell_type": "code",
   "execution_count": 21,
   "metadata": {},
   "outputs": [
    {
     "name": "stdout",
     "output_type": "stream",
     "text": [
      "Created new Concept with nanoid: dBSPWS\n",
      "Created new Term with value: Carcinoma, anaplastic, NOS\n",
      "Undifferentiated Carcinoma Term now represents dBSPWS Concept\n",
      "Carcinoma, anaplastic, NOS Term now represents dBSPWS Concept\n"
     ]
    }
   ],
   "source": [
    "# one term exists & doesn't have concept yet\n",
    "link_two_terms(\"Undifferentiated Carcinoma\", \"Carcinoma, anaplastic, NOS\")"
   ]
  },
  {
   "cell_type": "code",
   "execution_count": 22,
   "metadata": {},
   "outputs": [
    {
     "name": "stdout",
     "output_type": "stream",
     "text": [
      "Created new Term with value: Epithelioma, malignant\n",
      "Created new Term with value: Carcinoma\n",
      "Created new Concept with nanoid: 4CneRp\n",
      "Epithelioma, malignant Term now represents 4CneRp Concept\n",
      "Carcinoma Term now represents 4CneRp Concept\n"
     ]
    }
   ],
   "source": [
    "# neither term exists\n",
    "link_two_terms(\"Epithelioma, malignant\", \"Carcinoma\")"
   ]
  }
 ],
 "metadata": {
  "interpreter": {
   "hash": "ad2bdc8ecc057115af97d19610ffacc2b4e99fae6737bb82f5d7fb13d2f2c186"
  },
  "kernelspec": {
   "display_name": "Python 3.9.7 ('base')",
   "language": "python",
   "name": "python3"
  },
  "language_info": {
   "codemirror_mode": {
    "name": "ipython",
    "version": 3
   },
   "file_extension": ".py",
   "mimetype": "text/x-python",
   "name": "python",
   "nbconvert_exporter": "python",
   "pygments_lexer": "ipython3",
   "version": "3.9.7"
  },
  "orig_nbformat": 4
 },
 "nbformat": 4,
 "nbformat_minor": 2
}
