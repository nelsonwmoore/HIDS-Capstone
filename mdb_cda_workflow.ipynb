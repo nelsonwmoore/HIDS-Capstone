{
 "cells": [
  {
   "cell_type": "markdown",
   "metadata": {},
   "source": [
    "This notebook demonstrates a use case/workflow for a researcher using both the mdb and the cda in Python to build a cohort."
   ]
  },
  {
   "cell_type": "code",
   "execution_count": null,
   "metadata": {},
   "outputs": [],
   "source": [
    "from neo4j import GraphDatabase, basic_auth\n",
    "from bento_meta.objects import Term, Concept, Predicate\n",
    "import mdb_tools as mdb"
   ]
  },
  {
   "cell_type": "code",
   "execution_count": null,
   "metadata": {},
   "outputs": [],
   "source": [
    "# Connect to database (MDB sandbox)\n",
    "url = \"bolt://localhost:7687\" # <URL for database>\n",
    "user = \"neo4j\" # <Username for database>\n",
    "password = \"noble-use-dairy\" # <Password for database>\n",
    "driver = GraphDatabase.driver(url, auth=(user, password))"
   ]
  }
 ],
 "metadata": {
  "kernelspec": {
   "display_name": "Python 3.9.12 ('HIDS_Capstone')",
   "language": "python",
   "name": "python3"
  },
  "language_info": {
   "name": "python",
   "version": "3.9.12"
  },
  "orig_nbformat": 4,
  "vscode": {
   "interpreter": {
    "hash": "24bde3e8e56409237732496eb336b8081f14b31df1642fcb4e390fe4f4a787e4"
   }
  }
 },
 "nbformat": 4,
 "nbformat_minor": 2
}
