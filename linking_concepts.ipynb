{
 "cells": [
  {
   "cell_type": "markdown",
   "metadata": {},
   "source": [
    "# Installs and Imports"
   ]
  },
  {
   "cell_type": "markdown",
   "metadata": {},
   "source": [
    "## Imports"
   ]
  },
  {
   "cell_type": "code",
   "execution_count": 3,
   "metadata": {},
   "outputs": [],
   "source": [
    "import logging\n",
    "import sys\n",
    "\n",
    "from neo4j import GraphDatabase, basic_auth\n",
    "from neo4j.exceptions import ServiceUnavailable"
   ]
  },
  {
   "cell_type": "markdown",
   "metadata": {},
   "source": [
    "# Variables for database connection"
   ]
  },
  {
   "cell_type": "code",
   "execution_count": 4,
   "metadata": {},
   "outputs": [],
   "source": [
    "# MDB sandbox\n",
    "url = \"bolt://localhost:7687\" #\"<URL for database>\"\n",
    "user = \"neo4j\" #\"<Username for database>\"\n",
    "password = \"noble-use-dairy\" #\"<Password for database>\"\n",
    "driver = GraphDatabase.driver(url, auth=(user, password))"
   ]
  },
  {
   "cell_type": "markdown",
   "metadata": {},
   "source": [
    "# Functions"
   ]
  },
  {
   "cell_type": "markdown",
   "metadata": {},
   "source": [
    "## Helper Functions"
   ]
  },
  {
   "cell_type": "markdown",
   "metadata": {},
   "source": [
    "### Generate unique nanoid"
   ]
  },
  {
   "cell_type": "code",
   "execution_count": 5,
   "metadata": {},
   "outputs": [],
   "source": [
    "# generate nanoid\n",
    "import random\n",
    "import string\n",
    "\n",
    "def generate_nanoid():\n",
    "    valid_chars = string.ascii_letters + string.digits\n",
    "    nanoid = ''.join(random.choice(valid_chars) for i in range(6))\n",
    "    return nanoid"
   ]
  },
  {
   "cell_type": "code",
   "execution_count": 6,
   "metadata": {},
   "outputs": [],
   "source": [
    "def generate_unique_nanoid(tx):\n",
    "    nanoid = generate_nanoid()\n",
    "    result = tx.run(\"MATCH (n {nanoid: $nanoid}) \"\n",
    "                    \"RETURN n.nanoid\", nanoid=nanoid)\n",
    "    if not [record[\"n.nanoid\"] for record in result]:\n",
    "        #print(nanoid)\n",
    "        return nanoid\n",
    "    else:\n",
    "        generate_unique_nanoid(tx)"
   ]
  },
  {
   "cell_type": "markdown",
   "metadata": {},
   "source": [
    "### Create Concept"
   ]
  },
  {
   "cell_type": "code",
   "execution_count": 7,
   "metadata": {},
   "outputs": [],
   "source": [
    "# create concept\n",
    "def create_concept(tx, concept_nanoid):    \n",
    "        tx.run(\"MERGE (n:concept {nanoid: $concept_nanoid})\", \n",
    "                concept_nanoid=concept_nanoid)\n",
    "        print(f\"Created new Concept with nanoid: {concept_nanoid}\")"
   ]
  },
  {
   "cell_type": "markdown",
   "metadata": {},
   "source": [
    "### Create Predicate"
   ]
  },
  {
   "cell_type": "code",
   "execution_count": 8,
   "metadata": {},
   "outputs": [],
   "source": [
    "# create Predicate\n",
    "def create_predicate(tx, predicate_nanoid, predicate_handle):    \n",
    "        tx.run(\"MERGE (n:predicate {nanoid: $predicate_nanoid, handle: $predicate_handle})\", \n",
    "                predicate_nanoid=predicate_nanoid, predicate_handle=predicate_handle)\n",
    "        print(f\"Created new Predicate with nanoid: {predicate_nanoid} and handle: {predicate_handle}\")"
   ]
  },
  {
   "cell_type": "code",
   "execution_count": 9,
   "metadata": {},
   "outputs": [
    {
     "name": "stdout",
     "output_type": "stream",
     "text": [
      "Created new Predicate with nanoid: 2cEzXW and handle: exactMatch\n"
     ]
    }
   ],
   "source": [
    "with driver.session() as session:\n",
    "    pred_nanoid_1 = session.read_transaction(generate_unique_nanoid)\n",
    "    pred_handle_1 = \"exactMatch\"\n",
    "    session.write_transaction(create_predicate, pred_nanoid_1, pred_handle_1)\n",
    "driver.close() "
   ]
  },
  {
   "cell_type": "markdown",
   "metadata": {},
   "source": [
    "### Link two Concepts to a Predicate"
   ]
  },
  {
   "cell_type": "markdown",
   "metadata": {},
   "source": [
    "General pattern: (c1:concept)<-[:has_subject]-(p:predicate {handle:“exactMatch”})-[:has_object]->(c2:concept)"
   ]
  },
  {
   "cell_type": "code",
   "execution_count": 10,
   "metadata": {},
   "outputs": [],
   "source": [
    "def create_subject_relationship(tx, concept_nanoid, predicate_nanoid):\n",
    "        tx.run(\"MATCH (c:concept {nanoid: $concept_nanoid}), \"\n",
    "                \"(p:predicate {nanoid: $predicate_nanoid}) \"\n",
    "                \"MERGE (p)-[:has_subject]->(c)\", \n",
    "                concept_nanoid=concept_nanoid, \n",
    "                predicate_nanoid=predicate_nanoid)\n",
    "        print(f\"Created has_subject relationship between source Predicate: {predicate_nanoid} and destination Concept: {concept_nanoid}\")"
   ]
  },
  {
   "cell_type": "code",
   "execution_count": 11,
   "metadata": {},
   "outputs": [],
   "source": [
    "def create_object_relationship(tx, concept_nanoid, predicate_nanoid):\n",
    "        tx.run(\"MATCH (c:concept {nanoid: $concept_nanoid}), \"\n",
    "                \"(p:predicate {nanoid: $predicate_nanoid}) \"\n",
    "                \"MERGE (p)-[:has_object]->(c)\", \n",
    "                concept_nanoid=concept_nanoid, \n",
    "                predicate_nanoid=predicate_nanoid)\n",
    "        print(f\"Created has_object relationship between source Predicate: {predicate_nanoid} and destination Concept: {concept_nanoid}\")"
   ]
  },
  {
   "cell_type": "markdown",
   "metadata": {},
   "source": [
    "Example: Concepts with nanoid: \"4jtzA3\" and nanoid: \"UWs6Di\" both represent terms with value: Lung in the MDB. Let's link them with the predicate we just created."
   ]
  },
  {
   "cell_type": "code",
   "execution_count": 12,
   "metadata": {},
   "outputs": [
    {
     "name": "stdout",
     "output_type": "stream",
     "text": [
      "Created has_subject relationship between source Predicate: 2cEzXW and destination Concept: 4jtzA3\n",
      "Created has_object relationship between source Predicate: 2cEzXW and destination Concept: UWs6Di\n"
     ]
    }
   ],
   "source": [
    "with driver.session() as session:\n",
    "    predicate_nanoid = \"2cEzXW\" #\"<predicate_nanoid_from_above>\"\n",
    "    concept_nanoid_1 = \"4jtzA3\"\n",
    "    concept_nanoid_2 = \"UWs6Di\"\n",
    "    session.write_transaction(create_subject_relationship, concept_nanoid_1, predicate_nanoid)\n",
    "    session.write_transaction(create_object_relationship, concept_nanoid_2, predicate_nanoid)\n",
    "driver.close()"
   ]
  },
  {
   "cell_type": "markdown",
   "metadata": {},
   "source": [
    "### Get list of Terms represtented by a Concept"
   ]
  },
  {
   "cell_type": "code",
   "execution_count": 13,
   "metadata": {},
   "outputs": [],
   "source": [
    "def get_terms(tx, concept_nanoid):\n",
    "    terms = []\n",
    "    result = tx.run(\"MATCH (t:term)-[:represents]->(c:concept {nanoid: $concept_nanoid}) \"\n",
    "                    \"RETURN t.nanoid AS term\", concept_nanoid=concept_nanoid)\n",
    "    for record in result:\n",
    "        terms.append(record[\"term\"])\n",
    "    return terms"
   ]
  },
  {
   "cell_type": "markdown",
   "metadata": {},
   "source": [
    "### Detach and delete Predicate with nanoid"
   ]
  },
  {
   "cell_type": "code",
   "execution_count": 14,
   "metadata": {},
   "outputs": [],
   "source": [
    "def detach_delete_predicate(tx, nanoid):\n",
    "    tx.run(\"match (p:predicate {nanoid: $nanoid})\"\n",
    "            \"detach delete p\", nanoid=nanoid)"
   ]
  },
  {
   "cell_type": "code",
   "execution_count": 32,
   "metadata": {},
   "outputs": [],
   "source": [
    "with driver.session() as session:\n",
    "    nanoid_2_del = \"isAxe4\"\n",
    "    session.write_transaction(detach_delete_predicate, nanoid_2_del)\n",
    "driver.close() "
   ]
  },
  {
   "cell_type": "markdown",
   "metadata": {},
   "source": [
    "### Detach and delete Concept with nanoid"
   ]
  },
  {
   "cell_type": "code",
   "execution_count": 15,
   "metadata": {},
   "outputs": [],
   "source": [
    "def detach_delete_concept(tx, nanoid):\n",
    "    tx.run(\"match (c:concept {nanoid: $nanoid})\"\n",
    "            \"detach delete c\", nanoid=nanoid)"
   ]
  },
  {
   "cell_type": "markdown",
   "metadata": {},
   "source": [
    "### Create terms & represents relationship (adapted from linking_terms to use nanoids)"
   ]
  },
  {
   "cell_type": "code",
   "execution_count": 16,
   "metadata": {},
   "outputs": [],
   "source": [
    "def create_term_from_nanoid(tx, term_val, term_nanoid):\n",
    "        tx.run(\"MERGE (n:term {origin_name: 'NDC', \"\n",
    "                \"nanoid: $term_nanoid})\", \n",
    "                term_val=term_val, term_nanoid=term_nanoid)\n",
    "        print(f\"Created new Term with value: {term_val} and nanoid: {term_nanoid}\")\n",
    "\n",
    "# link term and concept\n",
    "def create_represents_relationship_from_nanoid(tx, term_nanoid, concept_nanoid):\n",
    "        tx.run(\"MATCH (t:term {nanoid: $term_nanoid}), \"\n",
    "                \"(c:concept {nanoid: $concept_nanoid}) \"\n",
    "                \"MERGE (t)-[r:represents]->(c) \", \n",
    "                term_nanoid=term_nanoid,\n",
    "                concept_nanoid=concept_nanoid)\n",
    "        print(f\"Term with nanoid:{term_nanoid} now represents Concept: {concept_nanoid}\")"
   ]
  },
  {
   "cell_type": "markdown",
   "metadata": {},
   "source": [
    "# Combining Concepts"
   ]
  },
  {
   "cell_type": "markdown",
   "metadata": {},
   "source": [
    "When two existing Concept nodes are deemed synonymous, there are two primary ways to approach linking them together. The first way to link the synonymous Concepts would be via a Predicate node with the an \"exactMatch\" handle. This method maintains the exisiting Concept & Term structure while adding to it, allowing queries already in use to continue to work. \n",
    "\n",
    "The second way is simply merging the two so they are represented by the same Concept node. With this approach, the Terms linked to each Concept would then be linked to the new merged Concept instead. They could be merged under one of the exisiting Concepts or a new Concept could be created and the old two removed. This method would invalidate existing queries using relevant Concepts & Terms."
   ]
  },
  {
   "cell_type": "code",
   "execution_count": 17,
   "metadata": {},
   "outputs": [],
   "source": [
    "# link Concepts via Predicate\n",
    "def link_concepts_to_predicate(concept_id_1: str, concept_id_2: str, predicate_handle=\"exactMatch\") -> None:\n",
    "    \"\"\"\n",
    "    Links two synonymous Concepts via a Predicate \n",
    "\n",
    "    This function takes two synonymous Concept nanoids as input strings and links \n",
    "    them via a Predicate node and has_subject and has_object relationships. The \n",
    "    predicate_handle parameter is defaulted to \"exactMatch\" but other similar\n",
    "    SKOS terms include \"relatedMatch\" and \"closeMatch\".\n",
    "    \"\"\"\n",
    "    \n",
    "    with driver.session() as session:\n",
    "\n",
    "        # create predicate\n",
    "        new_predicate_nanoid = session.read_transaction(generate_unique_nanoid)\n",
    "        session.write_transaction(create_predicate, new_predicate_nanoid, predicate_handle)\n",
    "\n",
    "        # link concepts to predicate via subject & object relationships\n",
    "        session.write_transaction(create_subject_relationship, concept_nanoid_1, new_predicate_nanoid)\n",
    "        session.write_transaction(create_object_relationship, concept_nanoid_2, new_predicate_nanoid)\n",
    "\n",
    "    driver.close()"
   ]
  },
  {
   "cell_type": "code",
   "execution_count": 26,
   "metadata": {},
   "outputs": [
    {
     "name": "stdout",
     "output_type": "stream",
     "text": [
      "Created new Predicate with nanoid: isAxe4 and handle: exactMatch\n",
      "Created has_subject relationship between source Predicate: isAxe4 and destination Concept: 4jtzA3\n",
      "Created has_object relationship between source Predicate: isAxe4 and destination Concept: UWs6Di\n"
     ]
    }
   ],
   "source": [
    "link_concepts_to_predicate(\"4jtzA3\", \"UWs6Di\")"
   ]
  },
  {
   "cell_type": "code",
   "execution_count": 18,
   "metadata": {},
   "outputs": [],
   "source": [
    "# merge Concepts into one\n",
    "def merge_two_concepts(concept_id_1: str, concept_id_2: str) -> None:\n",
    "    \"\"\"\n",
    "    Combine two synonymous Concepts into a single Concept\n",
    "\n",
    "    This function takes two synonymous Concept nanoids as input strings and\n",
    "    merges them into a single Concept.\n",
    "    \"\"\"\n",
    "\n",
    "    with driver.session() as session:\n",
    "        \n",
    "        # get list of all terms connected to concept 2\n",
    "        c2_terms = session.read_transaction(get_terms, concept_id_2)\n",
    "\n",
    "        # delete concept 2\n",
    "        session.write_transaction(detach_delete_concept, concept_id_2)\n",
    "\n",
    "        # connect terms from deleted concept to remaining concept\n",
    "        for term_id in c2_terms:\n",
    "            session.write_transaction(create_represents_relationship_from_nanoid, term_id, concept_id_1)\n",
    "\n",
    "    driver.close()"
   ]
  },
  {
   "cell_type": "markdown",
   "metadata": {},
   "source": [
    "# Testing"
   ]
  },
  {
   "cell_type": "code",
   "execution_count": 61,
   "metadata": {},
   "outputs": [
    {
     "name": "stdout",
     "output_type": "stream",
     "text": [
      "Created new Concept with nanoid: emSArC\n",
      "Created new Concept with nanoid: S0mbPX\n"
     ]
    }
   ],
   "source": [
    "with driver.session() as session:\n",
    "    id_1 = session.read_transaction(generate_unique_nanoid)\n",
    "    session.write_transaction(create_concept, id_1)\n",
    "    id_2 = session.read_transaction(generate_unique_nanoid)   \n",
    "    session.write_transaction(create_concept, id_2)\n",
    "driver.close()"
   ]
  },
  {
   "cell_type": "code",
   "execution_count": 62,
   "metadata": {},
   "outputs": [
    {
     "name": "stdout",
     "output_type": "stream",
     "text": [
      "Created new Term with value: Nelson and nanoid: wZ1yrF\n",
      "Created new Term with value: Nelly and nanoid: 6TntuU\n",
      "Created new Term with value: Nelsinghouse and nanoid: klKsMN\n",
      "Term with nanoid:wZ1yrF now represents Concept: emSArC\n",
      "Term with nanoid:6TntuU now represents Concept: emSArC\n",
      "Term with nanoid:klKsMN now represents Concept: S0mbPX\n"
     ]
    }
   ],
   "source": [
    "with driver.session() as session:\n",
    "    term_id_1 = session.read_transaction(generate_unique_nanoid)\n",
    "    session.write_transaction(create_term_from_nanoid, \"Nelson\", term_id_1)\n",
    "    term_id_2 = session.read_transaction(generate_unique_nanoid)\n",
    "    session.write_transaction(create_term_from_nanoid, \"Nelly\", term_id_2)\n",
    "    term_id_3 = session.read_transaction(generate_unique_nanoid)\n",
    "    session.write_transaction(create_term_from_nanoid, \"Nelsinghouse\", term_id_3)\n",
    "    session.write_transaction(create_represents_relationship_from_nanoid, term_id_1, \"emSArC\")\n",
    "    session.write_transaction(create_represents_relationship_from_nanoid, term_id_2, \"emSArC\")\n",
    "    session.write_transaction(create_represents_relationship_from_nanoid, term_id_3, \"S0mbPX\")\n",
    "    driver.close()"
   ]
  },
  {
   "cell_type": "code",
   "execution_count": 63,
   "metadata": {},
   "outputs": [
    {
     "name": "stdout",
     "output_type": "stream",
     "text": [
      "['6TntuU', 'wZ1yrF']\n",
      "['klKsMN']\n"
     ]
    }
   ],
   "source": [
    "with driver.session() as session:\n",
    "    concept_1 = \"emSArC\"\n",
    "    concept_2 = \"S0mbPX\"\n",
    "    terms_1 = session.read_transaction(get_terms, concept_1)\n",
    "    terms_2 = session.read_transaction(get_terms, concept_2)\n",
    "    print(f\"{terms_1}\")\n",
    "    print(f\"{terms_2}\")\n",
    "driver.close()"
   ]
  },
  {
   "cell_type": "code",
   "execution_count": 64,
   "metadata": {},
   "outputs": [
    {
     "name": "stdout",
     "output_type": "stream",
     "text": [
      "Term with nanoid:klKsMN now represents Concept: emSArC\n"
     ]
    }
   ],
   "source": [
    "merge_two_concepts(\"emSArC\", \"S0mbPX\")"
   ]
  }
 ],
 "metadata": {
  "interpreter": {
   "hash": "ad2bdc8ecc057115af97d19610ffacc2b4e99fae6737bb82f5d7fb13d2f2c186"
  },
  "kernelspec": {
   "display_name": "Python 3.9.7 ('base')",
   "language": "python",
   "name": "python3"
  },
  "language_info": {
   "codemirror_mode": {
    "name": "ipython",
    "version": 3
   },
   "file_extension": ".py",
   "mimetype": "text/x-python",
   "name": "python",
   "nbconvert_exporter": "python",
   "pygments_lexer": "ipython3",
   "version": "3.9.7"
  },
  "orig_nbformat": 4
 },
 "nbformat": 4,
 "nbformat_minor": 2
}
