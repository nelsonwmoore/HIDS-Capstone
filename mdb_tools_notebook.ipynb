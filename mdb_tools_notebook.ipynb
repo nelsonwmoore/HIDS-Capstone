{
 "cells": [
  {
   "cell_type": "markdown",
   "metadata": {},
   "source": [
    "# Installs and Imports"
   ]
  },
  {
   "cell_type": "markdown",
   "metadata": {},
   "source": [
    "## Installs"
   ]
  },
  {
   "cell_type": "code",
   "execution_count": 2,
   "metadata": {},
   "outputs": [
    {
     "name": "stdout",
     "output_type": "stream",
     "text": [
      "Looking in indexes: https://test.pypi.org/simple/\n",
      "Requirement already satisfied: mdb-tools in c:\\programdata\\anaconda3\\envs\\hids_capstone\\lib\\site-packages (0.5.4)\n",
      "Collecting mdb-tools\n",
      "  Downloading https://test-files.pythonhosted.org/packages/07/33/b0038df2f4ccf32cfaaa3bba09aaf0bdcc23bdc797e17c5ebc306750931f/mdb_tools-0.5.5-py3-none-any.whl (9.1 kB)\n",
      "Installing collected packages: mdb-tools\n",
      "  Attempting uninstall: mdb-tools\n",
      "    Found existing installation: mdb-tools 0.5.4\n",
      "    Uninstalling mdb-tools-0.5.4:\n",
      "      Successfully uninstalled mdb-tools-0.5.4\n",
      "Successfully installed mdb-tools-0.5.5\n",
      "Note: you may need to restart the kernel to use updated packages.\n"
     ]
    }
   ],
   "source": [
    "%pip install -i https://test.pypi.org/simple/ mdb-tools --upgrade"
   ]
  },
  {
   "cell_type": "code",
   "execution_count": 13,
   "metadata": {},
   "outputs": [
    {
     "name": "stdout",
     "output_type": "stream",
     "text": [
      "Processing c:\\users\\nelso\\onedrive - georgetown university\\school stuff\\capstone\\bento-meta\\bento-meta-master\\python\\bento_meta\n",
      "Requirement already satisfied: delfick-project in c:\\programdata\\anaconda3\\envs\\hids_capstone\\lib\\site-packages (from bento-meta==0.0.35) (0.7.9)\n",
      "Requirement already satisfied: neo4j>=4.0 in c:\\programdata\\anaconda3\\envs\\hids_capstone\\lib\\site-packages (from bento-meta==0.0.35) (4.4.4)\n",
      "Requirement already satisfied: nanoid in c:\\programdata\\anaconda3\\envs\\hids_capstone\\lib\\site-packages (from bento-meta==0.0.35) (2.0.0)\n",
      "Requirement already satisfied: requests in c:\\users\\nelso\\appdata\\roaming\\python\\python39\\site-packages (from bento-meta==0.0.35) (2.28.0)\n",
      "Requirement already satisfied: tqdm in c:\\users\\nelso\\appdata\\roaming\\python\\python39\\site-packages (from bento-meta==0.0.35) (4.64.0)\n",
      "Requirement already satisfied: pytz in c:\\programdata\\anaconda3\\envs\\hids_capstone\\lib\\site-packages (from neo4j>=4.0->bento-meta==0.0.35) (2022.1)\n",
      "Requirement already satisfied: idna<4,>=2.5 in c:\\users\\nelso\\appdata\\roaming\\python\\python39\\site-packages (from requests->bento-meta==0.0.35) (3.3)\n",
      "Requirement already satisfied: charset-normalizer~=2.0.0 in c:\\users\\nelso\\appdata\\roaming\\python\\python39\\site-packages (from requests->bento-meta==0.0.35) (2.0.12)\n",
      "Requirement already satisfied: urllib3<1.27,>=1.21.1 in c:\\users\\nelso\\appdata\\roaming\\python\\python39\\site-packages (from requests->bento-meta==0.0.35) (1.26.9)\n",
      "Requirement already satisfied: certifi>=2017.4.17 in c:\\programdata\\anaconda3\\envs\\hids_capstone\\lib\\site-packages (from requests->bento-meta==0.0.35) (2022.5.18.1)\n",
      "Requirement already satisfied: colorama in c:\\programdata\\anaconda3\\envs\\hids_capstone\\lib\\site-packages (from tqdm->bento-meta==0.0.35) (0.4.4)\n",
      "Building wheels for collected packages: bento-meta\n",
      "  Building wheel for bento-meta (setup.py): started\n",
      "  Building wheel for bento-meta (setup.py): finished with status 'done'\n",
      "  Created wheel for bento-meta: filename=bento_meta-0.0.35-py3-none-any.whl size=43099 sha256=9c5dbd0adcf10b916503ec3c2635dc015b775ed836d711d135ef20110be4a5a6\n",
      "  Stored in directory: C:\\Users\\nelso\\AppData\\Local\\Temp\\pip-ephem-wheel-cache-pggnde9y\\wheels\\87\\52\\71\\5b7387470731a4250547cf7b472ef42c0dd4b1591063fa1d7d\n",
      "Successfully built bento-meta\n",
      "Installing collected packages: bento-meta\n",
      "  Attempting uninstall: bento-meta\n",
      "    Found existing installation: bento-meta 0.0.34\n",
      "    Uninstalling bento-meta-0.0.34:\n",
      "      Successfully uninstalled bento-meta-0.0.34\n",
      "Successfully installed bento-meta-0.0.35\n",
      "Note: you may need to restart the kernel to use updated packages.\n"
     ]
    },
    {
     "name": "stderr",
     "output_type": "stream",
     "text": [
      "  DEPRECATION: A future pip version will change local packages to be built in-place without first copying to a temporary directory. We recommend you use --use-feature=in-tree-build to test your packages with this new behavior before it becomes the default.\n",
      "   pip 21.3 will remove support for this functionality. You can find discussion regarding this at https://github.com/pypa/pip/issues/7555.\n"
     ]
    }
   ],
   "source": [
    "%pip install \"C:\\Users\\nelso\\OneDrive - Georgetown University\\School Stuff\\Capstone\\bento-meta\\bento-meta-master\\python\\bento_meta\""
   ]
  },
  {
   "cell_type": "code",
   "execution_count": 1,
   "metadata": {},
   "outputs": [
    {
     "name": "stdout",
     "output_type": "stream",
     "text": [
      "Collecting neo4j\n",
      "  Using cached neo4j-4.4.4.tar.gz (90 kB)\n",
      "Collecting pytz\n",
      "  Using cached pytz-2022.1-py2.py3-none-any.whl (503 kB)\n",
      "Building wheels for collected packages: neo4j\n",
      "  Building wheel for neo4j (setup.py): started\n",
      "  Building wheel for neo4j (setup.py): finished with status 'done'\n",
      "  Created wheel for neo4j: filename=neo4j-4.4.4-py3-none-any.whl size=116330 sha256=a517cfafe5570e66afff8bcc61d8214846ca941aec34ad81aaa7480b135a65cb\n",
      "  Stored in directory: c:\\users\\nelso\\appdata\\local\\pip\\cache\\wheels\\9d\\b9\\b8\\570e01eacec0e57cc6bd070b79eeab917f83a00b8b090eb66f\n",
      "Successfully built neo4j\n",
      "Installing collected packages: pytz, neo4j\n",
      "Successfully installed neo4j-4.4.4 pytz-2022.1\n",
      "Note: you may need to restart the kernel to use updated packages.\n"
     ]
    }
   ],
   "source": [
    "%pip install neo4j"
   ]
  },
  {
   "cell_type": "code",
   "execution_count": 19,
   "metadata": {},
   "outputs": [
    {
     "name": "stdout",
     "output_type": "stream",
     "text": [
      "Collecting nanoid\n",
      "  Using cached nanoid-2.0.0-py3-none-any.whl (5.8 kB)\n",
      "Installing collected packages: nanoid\n",
      "Successfully installed nanoid-2.0.0\n",
      "Note: you may need to restart the kernel to use updated packages.\n"
     ]
    }
   ],
   "source": [
    "%pip install nanoid"
   ]
  },
  {
   "cell_type": "code",
   "execution_count": null,
   "metadata": {},
   "outputs": [
    {
     "name": "stdout",
     "output_type": "stream",
     "text": [
      "Requirement already satisfied: spacy in c:\\users\\nelso\\appdata\\roaming\\python\\python39\\site-packages (3.2.4)\n",
      "Collecting spacy\n",
      "  Using cached spacy-3.3.1-cp39-cp39-win_amd64.whl (11.7 MB)\n",
      "Requirement already satisfied: preshed<3.1.0,>=3.0.2 in c:\\users\\nelso\\appdata\\roaming\\python\\python39\\site-packages (from spacy) (3.0.6)\n",
      "Requirement already satisfied: typer<0.5.0,>=0.3.0 in c:\\users\\nelso\\appdata\\roaming\\python\\python39\\site-packages (from spacy) (0.4.1)\n",
      "Requirement already satisfied: pathy>=0.3.5 in c:\\users\\nelso\\appdata\\roaming\\python\\python39\\site-packages (from spacy) (0.6.1)\n",
      "Requirement already satisfied: langcodes<4.0.0,>=3.2.0 in c:\\users\\nelso\\appdata\\roaming\\python\\python39\\site-packages (from spacy) (3.3.0)\n",
      "Requirement already satisfied: srsly<3.0.0,>=2.4.3 in c:\\programdata\\anaconda3\\envs\\hids_capstone\\lib\\site-packages (from spacy) (2.4.3)\n",
      "Requirement already satisfied: numpy>=1.15.0 in c:\\users\\nelso\\appdata\\roaming\\python\\python39\\site-packages (from spacy) (1.22.4)\n",
      "Requirement already satisfied: murmurhash<1.1.0,>=0.28.0 in c:\\users\\nelso\\appdata\\roaming\\python\\python39\\site-packages (from spacy) (1.0.7)\n",
      "Requirement already satisfied: catalogue<2.1.0,>=2.0.6 in c:\\programdata\\anaconda3\\envs\\hids_capstone\\lib\\site-packages (from spacy) (2.0.7)\n",
      "Requirement already satisfied: setuptools in c:\\programdata\\anaconda3\\envs\\hids_capstone\\lib\\site-packages (from spacy) (61.2.0)\n",
      "Requirement already satisfied: spacy-loggers<2.0.0,>=1.0.0 in c:\\users\\nelso\\appdata\\roaming\\python\\python39\\site-packages (from spacy) (1.0.2)\n",
      "Requirement already satisfied: jinja2 in c:\\users\\nelso\\appdata\\roaming\\python\\python39\\site-packages (from spacy) (3.1.2)\n",
      "Requirement already satisfied: cymem<2.1.0,>=2.0.2 in c:\\users\\nelso\\appdata\\roaming\\python\\python39\\site-packages (from spacy) (2.0.6)\n",
      "Requirement already satisfied: tqdm<5.0.0,>=4.38.0 in c:\\users\\nelso\\appdata\\roaming\\python\\python39\\site-packages (from spacy) (4.64.0)\n",
      "Requirement already satisfied: spacy-legacy<3.1.0,>=3.0.9 in c:\\users\\nelso\\appdata\\roaming\\python\\python39\\site-packages (from spacy) (3.0.9)\n",
      "Requirement already satisfied: wasabi<1.1.0,>=0.9.1 in c:\\users\\nelso\\appdata\\roaming\\python\\python39\\site-packages (from spacy) (0.9.1)\n",
      "Requirement already satisfied: packaging>=20.0 in c:\\users\\nelso\\appdata\\roaming\\python\\python39\\site-packages (from spacy) (21.3)\n",
      "Requirement already satisfied: thinc<8.1.0,>=8.0.14 in c:\\users\\nelso\\appdata\\roaming\\python\\python39\\site-packages (from spacy) (8.0.17)\n",
      "Requirement already satisfied: pydantic!=1.8,!=1.8.1,<1.9.0,>=1.7.4 in c:\\users\\nelso\\appdata\\roaming\\python\\python39\\site-packages (from spacy) (1.8.2)\n",
      "Requirement already satisfied: blis<0.8.0,>=0.4.0 in c:\\users\\nelso\\appdata\\roaming\\python\\python39\\site-packages (from spacy) (0.7.8)\n",
      "Requirement already satisfied: requests<3.0.0,>=2.13.0 in c:\\users\\nelso\\appdata\\roaming\\python\\python39\\site-packages (from spacy) (2.28.0)\n",
      "Requirement already satisfied: pyparsing!=3.0.5,>=2.0.2 in c:\\users\\nelso\\appdata\\roaming\\python\\python39\\site-packages (from packaging>=20.0->spacy) (3.0.9)\n",
      "Requirement already satisfied: smart-open<6.0.0,>=5.0.0 in c:\\users\\nelso\\appdata\\roaming\\python\\python39\\site-packages (from pathy>=0.3.5->spacy) (5.2.1)\n",
      "Requirement already satisfied: typing-extensions>=3.7.4.3 in c:\\users\\nelso\\appdata\\roaming\\python\\python39\\site-packages (from pydantic!=1.8,!=1.8.1,<1.9.0,>=1.7.4->spacy) (4.2.0)\n",
      "Requirement already satisfied: charset-normalizer~=2.0.0 in c:\\users\\nelso\\appdata\\roaming\\python\\python39\\site-packages (from requests<3.0.0,>=2.13.0->spacy) (2.0.12)\n",
      "Requirement already satisfied: certifi>=2017.4.17 in c:\\programdata\\anaconda3\\envs\\hids_capstone\\lib\\site-packages (from requests<3.0.0,>=2.13.0->spacy) (2022.5.18.1)\n",
      "Requirement already satisfied: idna<4,>=2.5 in c:\\users\\nelso\\appdata\\roaming\\python\\python39\\site-packages (from requests<3.0.0,>=2.13.0->spacy) (3.3)\n",
      "Requirement already satisfied: urllib3<1.27,>=1.21.1 in c:\\users\\nelso\\appdata\\roaming\\python\\python39\\site-packages (from requests<3.0.0,>=2.13.0->spacy) (1.26.9)\n",
      "Requirement already satisfied: colorama in c:\\programdata\\anaconda3\\envs\\hids_capstone\\lib\\site-packages (from tqdm<5.0.0,>=4.38.0->spacy) (0.4.4)\n",
      "Requirement already satisfied: click<9.0.0,>=7.1.1 in c:\\programdata\\anaconda3\\envs\\hids_capstone\\lib\\site-packages (from typer<0.5.0,>=0.3.0->spacy) (8.0.4)\n",
      "Requirement already satisfied: MarkupSafe>=2.0 in c:\\users\\nelso\\appdata\\roaming\\python\\python39\\site-packages (from jinja2->spacy) (2.1.1)\n",
      "Installing collected packages: spacy\n",
      "  Attempting uninstall: spacy\n",
      "    Found existing installation: spacy 3.2.4\n",
      "    Uninstalling spacy-3.2.4:\n",
      "      Successfully uninstalled spacy-3.2.4\n",
      "Successfully installed spacy-3.3.1\n",
      "Note: you may need to restart the kernel to use updated packages.\n"
     ]
    },
    {
     "name": "stderr",
     "output_type": "stream",
     "text": [
      "  WARNING: The script spacy.exe is installed in 'C:\\Users\\nelso\\AppData\\Roaming\\Python\\Python39\\Scripts' which is not on PATH.\n",
      "  Consider adding this directory to PATH or, if you prefer to suppress this warning, use --no-warn-script-location.\n",
      "ERROR: pip's dependency resolver does not currently take into account all the packages that are installed. This behaviour is the source of the following dependency conflicts.\n",
      "en-core-sci-lg 0.5.0 requires spacy<3.3.0,>=3.2.3, but you have spacy 3.3.1 which is incompatible.\n"
     ]
    }
   ],
   "source": [
    "%pip install spacy --user --upgrade"
   ]
  },
  {
   "cell_type": "code",
   "execution_count": 7,
   "metadata": {},
   "outputs": [
    {
     "name": "stdout",
     "output_type": "stream",
     "text": [
      "Collecting https://s3-us-west-2.amazonaws.com/ai2-s2-scispacy/releases/v0.5.0/en_ner_bionlp13cg_md-0.5.0.tar.gzNote: you may need to restart the kernel to use updated packages.\n",
      "  Using cached https://s3-us-west-2.amazonaws.com/ai2-s2-scispacy/releases/v0.5.0/en_ner_bionlp13cg_md-0.5.0.tar.gz (120.2 MB)\n",
      "Requirement already satisfied: spacy<3.3.0,>=3.2.3 in c:\\users\\nelso\\appdata\\roaming\\python\\python39\\site-packages (from en-ner-bionlp13cg-md==0.5.0) (3.2.4)\n",
      "Requirement already satisfied: numpy>=1.15.0 in c:\\users\\nelso\\appdata\\roaming\\python\\python39\\site-packages (from spacy<3.3.0,>=3.2.3->en-ner-bionlp13cg-md==0.5.0) (1.22.4)\n",
      "Requirement already satisfied: click<8.1.0 in c:\\programdata\\anaconda3\\envs\\hids_capstone\\lib\\site-packages (from spacy<3.3.0,>=3.2.3->en-ner-bionlp13cg-md==0.5.0) (8.0.4)\n",
      "Requirement already satisfied: spacy-legacy<3.1.0,>=3.0.8 in c:\\users\\nelso\\appdata\\roaming\\python\\python39\\site-packages (from spacy<3.3.0,>=3.2.3->en-ner-bionlp13cg-md==0.5.0) (3.0.9)\n",
      "Requirement already satisfied: spacy-loggers<2.0.0,>=1.0.0 in c:\\users\\nelso\\appdata\\roaming\\python\\python39\\site-packages (from spacy<3.3.0,>=3.2.3->en-ner-bionlp13cg-md==0.5.0) (1.0.2)\n",
      "Requirement already satisfied: pathy>=0.3.5 in c:\\users\\nelso\\appdata\\roaming\\python\\python39\\site-packages (from spacy<3.3.0,>=3.2.3->en-ner-bionlp13cg-md==0.5.0) (0.6.1)\n",
      "Requirement already satisfied: thinc<8.1.0,>=8.0.12 in c:\\users\\nelso\\appdata\\roaming\\python\\python39\\site-packages (from spacy<3.3.0,>=3.2.3->en-ner-bionlp13cg-md==0.5.0) (8.0.17)\n",
      "Requirement already satisfied: tqdm<5.0.0,>=4.38.0 in c:\\users\\nelso\\appdata\\roaming\\python\\python39\\site-packages (from spacy<3.3.0,>=3.2.3->en-ner-bionlp13cg-md==0.5.0) (4.64.0)\n",
      "Requirement already satisfied: requests<3.0.0,>=2.13.0 in c:\\users\\nelso\\appdata\\roaming\\python\\python39\\site-packages (from spacy<3.3.0,>=3.2.3->en-ner-bionlp13cg-md==0.5.0) (2.28.0)\n",
      "Requirement already satisfied: typer<0.5.0,>=0.3.0 in c:\\users\\nelso\\appdata\\roaming\\python\\python39\\site-packages (from spacy<3.3.0,>=3.2.3->en-ner-bionlp13cg-md==0.5.0) (0.4.1)\n",
      "Requirement already satisfied: packaging>=20.0 in c:\\users\\nelso\\appdata\\roaming\\python\\python39\\site-packages (from spacy<3.3.0,>=3.2.3->en-ner-bionlp13cg-md==0.5.0) (21.3)\n",
      "Requirement already satisfied: wasabi<1.1.0,>=0.8.1 in c:\\users\\nelso\\appdata\\roaming\\python\\python39\\site-packages (from spacy<3.3.0,>=3.2.3->en-ner-bionlp13cg-md==0.5.0) (0.9.1)\n",
      "Requirement already satisfied: catalogue<2.1.0,>=2.0.6 in c:\\programdata\\anaconda3\\envs\\hids_capstone\\lib\\site-packages (from spacy<3.3.0,>=3.2.3->en-ner-bionlp13cg-md==0.5.0) (2.0.7)\n",
      "Requirement already satisfied: langcodes<4.0.0,>=3.2.0 in c:\\users\\nelso\\appdata\\roaming\\python\\python39\\site-packages (from spacy<3.3.0,>=3.2.3->en-ner-bionlp13cg-md==0.5.0) (3.3.0)\n",
      "Requirement already satisfied: srsly<3.0.0,>=2.4.1 in c:\\programdata\\anaconda3\\envs\\hids_capstone\\lib\\site-packages (from spacy<3.3.0,>=3.2.3->en-ner-bionlp13cg-md==0.5.0) (2.4.3)\n",
      "Requirement already satisfied: setuptools in c:\\programdata\\anaconda3\\envs\\hids_capstone\\lib\\site-packages (from spacy<3.3.0,>=3.2.3->en-ner-bionlp13cg-md==0.5.0) (61.2.0)\n",
      "Requirement already satisfied: cymem<2.1.0,>=2.0.2 in c:\\users\\nelso\\appdata\\roaming\\python\\python39\\site-packages (from spacy<3.3.0,>=3.2.3->en-ner-bionlp13cg-md==0.5.0) (2.0.6)\n",
      "Requirement already satisfied: jinja2 in c:\\users\\nelso\\appdata\\roaming\\python\\python39\\site-packages (from spacy<3.3.0,>=3.2.3->en-ner-bionlp13cg-md==0.5.0) (3.1.2)\n",
      "Requirement already satisfied: pydantic!=1.8,!=1.8.1,<1.9.0,>=1.7.4 in c:\\users\\nelso\\appdata\\roaming\\python\\python39\\site-packages (from spacy<3.3.0,>=3.2.3->en-ner-bionlp13cg-md==0.5.0) (1.8.2)\n",
      "Requirement already satisfied: preshed<3.1.0,>=3.0.2 in c:\\users\\nelso\\appdata\\roaming\\python\\python39\\site-packages (from spacy<3.3.0,>=3.2.3->en-ner-bionlp13cg-md==0.5.0) (3.0.6)\n",
      "Requirement already satisfied: blis<0.8.0,>=0.4.0 in c:\\users\\nelso\\appdata\\roaming\\python\\python39\\site-packages (from spacy<3.3.0,>=3.2.3->en-ner-bionlp13cg-md==0.5.0) (0.7.8)\n",
      "Requirement already satisfied: murmurhash<1.1.0,>=0.28.0 in c:\\users\\nelso\\appdata\\roaming\\python\\python39\\site-packages (from spacy<3.3.0,>=3.2.3->en-ner-bionlp13cg-md==0.5.0) (1.0.7)\n",
      "Requirement already satisfied: colorama in c:\\programdata\\anaconda3\\envs\\hids_capstone\\lib\\site-packages (from click<8.1.0->spacy<3.3.0,>=3.2.3->en-ner-bionlp13cg-md==0.5.0) (0.4.4)\n",
      "Requirement already satisfied: pyparsing!=3.0.5,>=2.0.2 in c:\\users\\nelso\\appdata\\roaming\\python\\python39\\site-packages (from packaging>=20.0->spacy<3.3.0,>=3.2.3->en-ner-bionlp13cg-md==0.5.0) (3.0.9)\n",
      "Requirement already satisfied: smart-open<6.0.0,>=5.0.0 in c:\\users\\nelso\\appdata\\roaming\\python\\python39\\site-packages (from pathy>=0.3.5->spacy<3.3.0,>=3.2.3->en-ner-bionlp13cg-md==0.5.0) (5.2.1)\n",
      "Requirement already satisfied: typing-extensions>=3.7.4.3 in c:\\users\\nelso\\appdata\\roaming\\python\\python39\\site-packages (from pydantic!=1.8,!=1.8.1,<1.9.0,>=1.7.4->spacy<3.3.0,>=3.2.3->en-ner-bionlp13cg-md==0.5.0) (4.2.0)\n",
      "Requirement already satisfied: idna<4,>=2.5 in c:\\users\\nelso\\appdata\\roaming\\python\\python39\\site-packages (from requests<3.0.0,>=2.13.0->spacy<3.3.0,>=3.2.3->en-ner-bionlp13cg-md==0.5.0) (3.3)\n",
      "Requirement already satisfied: urllib3<1.27,>=1.21.1 in c:\\users\\nelso\\appdata\\roaming\\python\\python39\\site-packages (from requests<3.0.0,>=2.13.0->spacy<3.3.0,>=3.2.3->en-ner-bionlp13cg-md==0.5.0) (1.26.9)\n",
      "Requirement already satisfied: certifi>=2017.4.17 in c:\\programdata\\anaconda3\\envs\\hids_capstone\\lib\\site-packages (from requests<3.0.0,>=2.13.0->spacy<3.3.0,>=3.2.3->en-ner-bionlp13cg-md==0.5.0) (2022.5.18.1)\n",
      "Requirement already satisfied: charset-normalizer~=2.0.0 in c:\\users\\nelso\\appdata\\roaming\\python\\python39\\site-packages (from requests<3.0.0,>=2.13.0->spacy<3.3.0,>=3.2.3->en-ner-bionlp13cg-md==0.5.0) (2.0.12)\n",
      "Requirement already satisfied: MarkupSafe>=2.0 in c:\\users\\nelso\\appdata\\roaming\\python\\python39\\site-packages (from jinja2->spacy<3.3.0,>=3.2.3->en-ner-bionlp13cg-md==0.5.0) (2.1.1)\n",
      "\n"
     ]
    }
   ],
   "source": [
    "%pip install https://s3-us-west-2.amazonaws.com/ai2-s2-scispacy/releases/v0.5.0/en_ner_bionlp13cg_md-0.5.0.tar.gz --user"
   ]
  },
  {
   "cell_type": "markdown",
   "metadata": {},
   "source": [
    "## Imports"
   ]
  },
  {
   "cell_type": "code",
   "execution_count": 3,
   "metadata": {},
   "outputs": [],
   "source": [
    "from neo4j import GraphDatabase, basic_auth\n",
    "import mdb_tools as mdb\n",
    "from nanoid import generate\n",
    "from bento_meta.objects import Term, Concept, Predicate"
   ]
  },
  {
   "cell_type": "code",
   "execution_count": 4,
   "metadata": {},
   "outputs": [
    {
     "name": "stdout",
     "output_type": "stream",
     "text": [
      "basic_auth\n",
      "check_term_exists\n",
      "create_concept\n",
      "create_object_relationship\n",
      "create_predicate\n",
      "create_represents_relationship\n",
      "create_subject_relationship\n",
      "create_term\n",
      "detach_delete_concept\n",
      "detach_delete_predicate\n",
      "generate\n",
      "get_concept\n",
      "get_predicates\n",
      "get_term_synonyms\n",
      "get_terms\n",
      "link_concepts_to_predicate\n",
      "link_two_terms\n",
      "make_nano\n",
      "merge_two_concepts\n",
      "potential_synonyms_to_csv\n"
     ]
    }
   ],
   "source": [
    "# see what functions are available in package\n",
    "from inspect import getmembers, isfunction\n",
    "\n",
    "import mdb_tools.mdb_tools as mdb\n",
    "func_list = (getmembers(mdb, isfunction))\n",
    "\n",
    "for x in func_list:\n",
    "    print(x[0])"
   ]
  },
  {
   "cell_type": "markdown",
   "metadata": {},
   "source": [
    "# Database connection"
   ]
  },
  {
   "cell_type": "markdown",
   "metadata": {},
   "source": [
    "URL, username, and password for database connection"
   ]
  },
  {
   "cell_type": "code",
   "execution_count": 7,
   "metadata": {},
   "outputs": [],
   "source": [
    "# MDB sandbox\n",
    "url = \"bolt://localhost:7687\" # <URL for database>\n",
    "user = \"neo4j\" # <Username for database>\n",
    "password = \"noble-use-dairy\" # <Password for database>\n",
    "driver = GraphDatabase.driver(url, auth=(user, password))"
   ]
  },
  {
   "cell_type": "markdown",
   "metadata": {},
   "source": [
    "# Linking Terms\n"
   ]
  },
  {
   "cell_type": "markdown",
   "metadata": {},
   "source": [
    "### Check existence of Term"
   ]
  },
  {
   "cell_type": "code",
   "execution_count": 3,
   "metadata": {},
   "outputs": [],
   "source": [
    "# generate test term\n",
    "test_term = Term()\n",
    "test_term.value = \"Cancer\"\n",
    "test_term.origin_name = \"GDC\""
   ]
  },
  {
   "cell_type": "code",
   "execution_count": 4,
   "metadata": {},
   "outputs": [
    {
     "name": "stdout",
     "output_type": "stream",
     "text": [
      "Term with that value found in DB\n"
     ]
    }
   ],
   "source": [
    "# should return \"Term with that value found in DB\"\n",
    "with driver.session() as session:\n",
    "  term_exists = session.read_transaction(mdb.check_term_exists, test_term)\n",
    "  if term_exists:\n",
    "    print(\"Term with that value found in DB\")\n",
    "  else:\n",
    "    print(\"Term with that value not found in DB\")\n",
    "driver.close()"
   ]
  },
  {
   "cell_type": "markdown",
   "metadata": {},
   "source": [
    "### Find existing Concept from Term"
   ]
  },
  {
   "cell_type": "code",
   "execution_count": 9,
   "metadata": {},
   "outputs": [],
   "source": [
    "# generate test term\n",
    "test_term = Term()\n",
    "test_term.value = \"Lung\"\n",
    "test_term.origin_name = \"NCIt\""
   ]
  },
  {
   "cell_type": "code",
   "execution_count": 11,
   "metadata": {},
   "outputs": [
    {
     "name": "stdout",
     "output_type": "stream",
     "text": [
      "4jtzA3\n"
     ]
    }
   ],
   "source": [
    "# should return \"4jtzA3\"\n",
    "with driver.session() as session:\n",
    "    test_term_concepts = session.read_transaction(mdb.get_concept, test_term)\n",
    "    print(test_term_concepts[0])\n",
    "driver.close()"
   ]
  },
  {
   "cell_type": "markdown",
   "metadata": {},
   "source": [
    "### Create new Term"
   ]
  },
  {
   "cell_type": "code",
   "execution_count": null,
   "metadata": {},
   "outputs": [],
   "source": [
    "# generate test term\n",
    "test_term = Term()\n",
    "test_term.value = \"Lung\"\n",
    "test_term.origin_name = \"NDC\""
   ]
  },
  {
   "cell_type": "code",
   "execution_count": null,
   "metadata": {},
   "outputs": [],
   "source": [
    "# should add term with value \"Lung\" and origin_name \"NDC\" and check it exists afterwards\n",
    "with driver.session() as session:\n",
    "    session.write_transaction(mdb.create_term, test_term)\n",
    "    \n",
    "    term_exists = session.read_transaction(mdb.check_term_exists, test_term)\n",
    "    if term_exists:\n",
    "        print(\"Term with that value found in DB\")\n",
    "    else:\n",
    "        print(\"Term with that value not found in DB\")\n",
    "driver.close()"
   ]
  },
  {
   "cell_type": "markdown",
   "metadata": {},
   "source": [
    "### Generate nanoid"
   ]
  },
  {
   "cell_type": "code",
   "execution_count": 25,
   "metadata": {},
   "outputs": [
    {
     "name": "stdout",
     "output_type": "stream",
     "text": [
      "mogoPt\n"
     ]
    }
   ],
   "source": [
    "with driver.session() as session:\n",
    "  print(mdb.make_nano())\n",
    "driver.close()"
   ]
  },
  {
   "cell_type": "markdown",
   "metadata": {},
   "source": [
    "### Create Concept"
   ]
  },
  {
   "cell_type": "code",
   "execution_count": null,
   "metadata": {},
   "outputs": [],
   "source": [
    "# generate test Concept\n",
    "with driver.session() as session:\n",
    "    test_nano = mdb.make_nano()\n",
    "driver.close()\n",
    "\n",
    "test_concept = Concept()\n",
    "test_concept.nanoid = test_nano"
   ]
  },
  {
   "cell_type": "code",
   "execution_count": null,
   "metadata": {},
   "outputs": [
    {
     "name": "stdout",
     "output_type": "stream",
     "text": [
      "Created new Concept with nanoid: E1PqVF\n"
     ]
    }
   ],
   "source": [
    "with driver.session() as session:\n",
    "    session.write_transaction(mdb.create_concept, test_concept)\n",
    "driver.close()"
   ]
  },
  {
   "cell_type": "markdown",
   "metadata": {},
   "source": [
    "### Link Term and Concept"
   ]
  },
  {
   "cell_type": "code",
   "execution_count": 63,
   "metadata": {},
   "outputs": [
    {
     "name": "stdout",
     "output_type": "stream",
     "text": [
      "Term value: Lung; Term origin: NDC\n",
      "Concept nanoid: n3udfp\n"
     ]
    }
   ],
   "source": [
    "# test term and concept created above\n",
    "print(f\"Term value: {test_term.value}; Term origin: {test_term.origin_name}\")\n",
    "print(f\"Concept nanoid: {test_concept.nanoid}\")"
   ]
  },
  {
   "cell_type": "code",
   "execution_count": null,
   "metadata": {},
   "outputs": [
    {
     "name": "stdout",
     "output_type": "stream",
     "text": [
      "Term with value: Lung and origin: NDC now represents Concept with nanoid: E1PqVF\n"
     ]
    }
   ],
   "source": [
    "with driver.session() as session:\n",
    "    session.write_transaction(mdb.create_represents_relationship, test_term, test_concept)\n",
    "driver.close()"
   ]
  },
  {
   "cell_type": "markdown",
   "metadata": {},
   "source": [
    "## Link Two Terms"
   ]
  },
  {
   "cell_type": "code",
   "execution_count": 11,
   "metadata": {},
   "outputs": [
    {
     "name": "stdout",
     "output_type": "stream",
     "text": [
      "Both terms are already connected via Concept wCGAiH\n"
     ]
    }
   ],
   "source": [
    "# both terms exist & connected via concept\n",
    "test_term_1 = Term()\n",
    "test_term_1.value = \"Epithelioma, benign\"\n",
    "test_term_1.origin_name = \"GDC\"\n",
    "\n",
    "test_term_2 = Term()\n",
    "test_term_2.value = \"Epithelial tumor, benign\"\n",
    "test_term_2.origin_name = \"GDC\"\n",
    "\n",
    "mdb.link_two_terms(test_term_1, test_term_2)"
   ]
  },
  {
   "cell_type": "code",
   "execution_count": null,
   "metadata": {},
   "outputs": [
    {
     "name": "stdout",
     "output_type": "stream",
     "text": [
      "Created new Concept with nanoid: aE7NQM\n",
      "Term with value: Cancer and origin: BentoTailorX now represents Concept with nanoid: aE7NQM\n",
      "Term with value: Cancer and origin: GDC now represents Concept with nanoid: aE7NQM\n"
     ]
    }
   ],
   "source": [
    "# both terms exist but neither have concept representing them\n",
    "test_term_1 = Term()\n",
    "test_term_1.value = \"Cancer\"\n",
    "test_term_1.origin_name = \"BentoTailorX\"\n",
    "\n",
    "test_term_2 = Term()\n",
    "test_term_2.value = \"Cancer\"\n",
    "test_term_2.origin_name = \"GDC\"\n",
    "\n",
    "mdb.link_two_terms(test_term_1, test_term_2)"
   ]
  },
  {
   "cell_type": "code",
   "execution_count": 83,
   "metadata": {},
   "outputs": [
    {
     "name": "stdout",
     "output_type": "stream",
     "text": [
      "Created new Concept with nanoid: fs7evP\n",
      "Term with value: Lung and origin: ICDC now represents Concept with nanoid: fs7evP\n",
      "Term with value: Lung and origin: BentoTailorX now represents Concept with nanoid: fs7evP\n"
     ]
    }
   ],
   "source": [
    "# both terms exist & NOT connected via concept\n",
    "test_term_1 = Term()\n",
    "test_term_1.value = \"Lung\"\n",
    "test_term_1.origin_name = \"ICDC\"\n",
    "\n",
    "test_term_2 = Term()\n",
    "test_term_2.value = \"Lung\"\n",
    "test_term_2.origin_name = \"BentoTailorX\"\n",
    "\n",
    "mdb.link_two_terms(test_term_1, test_term_2)"
   ]
  },
  {
   "cell_type": "code",
   "execution_count": 84,
   "metadata": {},
   "outputs": [
    {
     "name": "stdout",
     "output_type": "stream",
     "text": [
      "Created new Term with value: Alveolar adenocarcinoma and origin: NDC\n",
      "Term with value: Alveolar adenocarcinoma and origin: NDC now represents Concept with nanoid: 0c271a\n"
     ]
    }
   ],
   "source": [
    "# one term exists & already has concept\n",
    "test_term_1 = Term()\n",
    "test_term_1.value = \"Minimally Invasive Lung Adenocarcinoma\"\n",
    "test_term_1.origin_name = \"NCIt\"\n",
    "\n",
    "test_term_2 = Term()\n",
    "test_term_2.value = \"Alveolar adenocarcinoma\"\n",
    "test_term_2.origin_name = \"NDC\"\n",
    "\n",
    "mdb.link_two_terms(test_term_1, test_term_2)"
   ]
  },
  {
   "cell_type": "code",
   "execution_count": 85,
   "metadata": {},
   "outputs": [
    {
     "name": "stdout",
     "output_type": "stream",
     "text": [
      "Created new Concept with nanoid: CWx3W4\n",
      "Created new Term with value: Undifferentiated Carcinoma and origin: NDC\n",
      "Term with value: Carcinoma, anaplastic, NOS and origin: BentoTailorX now represents Concept with nanoid: CWx3W4\n",
      "Term with value: Undifferentiated Carcinoma and origin: NDC now represents Concept with nanoid: CWx3W4\n"
     ]
    }
   ],
   "source": [
    "# one term exists & doesn't have concept yet\n",
    "test_term_1 = Term()\n",
    "test_term_1.value = \"Carcinoma, anaplastic, NOS\"\n",
    "test_term_1.origin_name = \"BentoTailorX\"\n",
    "\n",
    "test_term_2 = Term()\n",
    "test_term_2.value = \"Undifferentiated Carcinoma\"\n",
    "test_term_2.origin_name = \"NDC\"\n",
    "\n",
    "mdb.link_two_terms(test_term_1, test_term_2)"
   ]
  },
  {
   "cell_type": "code",
   "execution_count": 93,
   "metadata": {},
   "outputs": [
    {
     "name": "stdout",
     "output_type": "stream",
     "text": [
      "Created new Term with value: Epithelioma, malignant and origin: NDC\n",
      "Created new Term with value: Carcinoma and origin: NDC\n",
      "Created new Concept with nanoid: VSQ2JS\n",
      "Term with value: Epithelioma, malignant and origin: NDC now represents Concept with nanoid: VSQ2JS\n",
      "Term with value: Carcinoma and origin: NDC now represents Concept with nanoid: VSQ2JS\n"
     ]
    }
   ],
   "source": [
    "# neither term exists\n",
    "test_term_1 = Term()\n",
    "test_term_1.value = \"Epithelioma, malignant\"\n",
    "test_term_1.origin_name = \"NDC\"\n",
    "\n",
    "test_term_2 = Term()\n",
    "test_term_2.value = \"Carcinoma\"\n",
    "test_term_2.origin_name = \"NDC\"\n",
    "\n",
    "mdb.link_two_terms(test_term_1, test_term_2)"
   ]
  },
  {
   "cell_type": "markdown",
   "metadata": {},
   "source": [
    "# Linking Concepts\n"
   ]
  },
  {
   "cell_type": "markdown",
   "metadata": {},
   "source": [
    "When two existing Concept nodes are deemed synonymous, there are two primary ways to approach linking them together. The first way to link the synonymous Concepts would be via a Predicate node with the an \"exactMatch\" handle. This method maintains the exisiting Concept & Term structure while adding to it, allowing queries already in use to continue to work. \n",
    "\n",
    "The second way is simply merging the two so they are represented by the same Concept node. With this approach, the Terms linked to each Concept would then be linked to the new merged Concept instead. They could be merged under one of the exisiting Concepts or a new Concept could be created and the old two removed. This method would invalidate existing queries using relevant Concepts & Terms."
   ]
  },
  {
   "cell_type": "markdown",
   "metadata": {},
   "source": [
    "### Create Predicate"
   ]
  },
  {
   "cell_type": "code",
   "execution_count": 7,
   "metadata": {},
   "outputs": [],
   "source": [
    "with driver.session() as session:\n",
    "    test_nano = mdb.make_nano()\n",
    "driver.close()\n",
    "\n",
    "test_predicate = Predicate()\n",
    "test_predicate.handle = \"exactMatch\"\n",
    "test_predicate.nanoid = test_nano"
   ]
  },
  {
   "cell_type": "code",
   "execution_count": 8,
   "metadata": {},
   "outputs": [
    {
     "name": "stdout",
     "output_type": "stream",
     "text": [
      "Created new Predicate with handle: exactMatch and nanoid: kudmtP\n"
     ]
    }
   ],
   "source": [
    "with driver.session() as session:\n",
    "    session.write_transaction(mdb.create_predicate, test_predicate)\n",
    "driver.close()"
   ]
  },
  {
   "cell_type": "markdown",
   "metadata": {},
   "source": [
    "### Link two Concepts to a Predicate"
   ]
  },
  {
   "cell_type": "markdown",
   "metadata": {},
   "source": [
    "General pattern: (c1:concept)<-[:has_subject]-(p:predicate {handle:“exactMatch”})-[:has_object]->(c2:concept)"
   ]
  },
  {
   "cell_type": "code",
   "execution_count": 5,
   "metadata": {},
   "outputs": [
    {
     "name": "stdout",
     "output_type": "stream",
     "text": [
      "Created new Predicate with handle: exactMatch and nanoid: C7iTgM\n",
      "Created has_subject relationship between source Predicate with handle: exactMatch and nanoid: C7iTgM and destination Concept with nanoid: 4jtzA3\n",
      "Created has_object relationship between source Predicate with handle: exactMatch and nanoid: C7iTgM and destination Concept with nanoid: n3udfp\n"
     ]
    }
   ],
   "source": [
    "# these Concepts both represent Terms with value: 'Lung' in the MDB.\n",
    "test_concept_1 = Concept({\"nanoid\": \"4jtzA3\"})\n",
    "test_concept_2 = Concept({\"nanoid\": \"n3udfp\"})\n",
    "\n",
    "mdb.link_concepts_to_predicate(test_concept_1, test_concept_2)"
   ]
  },
  {
   "cell_type": "markdown",
   "metadata": {},
   "source": [
    "### Merge two Concepts"
   ]
  },
  {
   "cell_type": "code",
   "execution_count": 8,
   "metadata": {},
   "outputs": [],
   "source": [
    "# see Terms attached to test Concept\n",
    "test_concept = Concept()\n",
    "test_concept.nanoid = \"qkqPeC\"\n",
    "\n",
    "with driver.session() as session:\n",
    "    terms = session.read_transaction(mdb.get_terms, test_concept)\n",
    "    for term in terms:\n",
    "        print(term.value)\n",
    "driver.close()"
   ]
  },
  {
   "cell_type": "code",
   "execution_count": 81,
   "metadata": {},
   "outputs": [],
   "source": [
    "# delete test Concept\n",
    "with driver.session() as session:\n",
    "    session.write_transaction(mdb.detach_delete_concept, test_concept)\n",
    "driver.close()"
   ]
  },
  {
   "cell_type": "code",
   "execution_count": null,
   "metadata": {},
   "outputs": [
    {
     "name": "stdout",
     "output_type": "stream",
     "text": [
      "Created new Concept with nanoid: 3NrU3q\n",
      "Created new Concept with nanoid: 2XgiU2\n",
      "Created new Concept with nanoid: yzh50Y\n",
      "Created new Term with value: Nelson and origin: NDC\n",
      "Created new Term with value: Nelsinghouse and origin: NDC\n",
      "Created new Term with value: Nelly and origin: NDC\n",
      "Created new Term with value: N. Moore and origin: NDC\n",
      "Term with value: Nelson and origin: NDC now represents Concept with nanoid: 3NrU3q\n",
      "Term with value: Nelsinghouse and origin: NDC now represents Concept with nanoid: 3NrU3q\n",
      "Term with value: Nelly and origin: NDC now represents Concept with nanoid: 2XgiU2\n",
      "Term with value: N. Moore and origin: NDC now represents Concept with nanoid: yzh50Y\n",
      "Created new Predicate with handle: exactMatch and nanoid: Zqk3Eh\n",
      "Created has_subject relationship between source Predicate with handle: exactMatch and nanoid: Zqk3Eh and destination Concept with nanoid: 2XgiU2\n",
      "Created has_object relationship between source Predicate with handle: exactMatch and nanoid: Zqk3Eh and destination Concept with nanoid: yzh50Y\n"
     ]
    }
   ],
   "source": [
    "# set up for merging Concepts\n",
    "with driver.session() as session:\n",
    "    # generate new Concepts, Terms, & Predicate\n",
    "    test_nano_1 = mdb.make_nano()\n",
    "    test_nano_2 = mdb.make_nano()\n",
    "    test_nano_3 = mdb.make_nano()\n",
    "    test_concept_1 = Concept({\"nanoid\": test_nano_1})\n",
    "    test_concept_2 = Concept({\"nanoid\": test_nano_2})\n",
    "    test_concept_3 = Concept({\"nanoid\": test_nano_3})\n",
    "    session.write_transaction(mdb.create_concept, test_concept_1)\n",
    "    session.write_transaction(mdb.create_concept, test_concept_2)\n",
    "    session.write_transaction(mdb.create_concept, test_concept_3)\n",
    "    test_term_1 = Term({\"value\": \"Nelson\", \"origin_name\": \"NDC\"})\n",
    "    test_term_2 = Term({\"value\": \"Nelsinghouse\", \"origin_name\": \"NDC\"})\n",
    "    test_term_3 = Term({\"value\": \"Nelly\", \"origin_name\": \"NDC\"})\n",
    "    test_term_4 = Term({\"value\": \"N. Moore\", \"origin_name\": \"NDC\"})\n",
    "    session.write_transaction(mdb.create_term, test_term_1)\n",
    "    session.write_transaction(mdb.create_term, test_term_2)\n",
    "    session.write_transaction(mdb.create_term, test_term_3)\n",
    "    session.write_transaction(mdb.create_term, test_term_4)\n",
    "    test_pred = Predicate({\"handle\": \"exactMatch\", })\n",
    "    \n",
    "    # link new Concepts to Terms above (2 Terms to 1st Concept, 1 Term to 2nd & 3rd Concept)  \n",
    "    session.write_transaction(mdb.create_represents_relationship, \n",
    "                            test_term_1, test_concept_1)\n",
    "    session.write_transaction(mdb.create_represents_relationship, \n",
    "                            test_term_2, test_concept_1)\n",
    "    session.write_transaction(mdb.create_represents_relationship, \n",
    "                            test_term_3, test_concept_2)\n",
    "    session.write_transaction(mdb.create_represents_relationship, \n",
    "                            test_term_4, test_concept_3)\n",
    "    \n",
    "    # link new Predicate to Concepts 2 and 3\n",
    "    mdb.link_concepts_to_predicate(test_concept_2, test_concept_3)\n",
    "driver.close()\n"
   ]
  },
  {
   "cell_type": "code",
   "execution_count": null,
   "metadata": {},
   "outputs": [
    {
     "name": "stdout",
     "output_type": "stream",
     "text": [
      "Term with value: Nelsinghouse and origin: NDC now represents Concept with nanoid: 2XgiU2\n",
      "Term with value: Nelson and origin: NDC now represents Concept with nanoid: 2XgiU2\n"
     ]
    }
   ],
   "source": [
    "# merge Concepts into one\n",
    "test_concept_1 = Concept({\"nanoid\": \"2XgiU2\"})\n",
    "test_concept_2 = Concept({\"nanoid\": \"3NrU3q\"})\n",
    "\n",
    "mdb.merge_two_concepts(test_concept_1, test_concept_2)"
   ]
  },
  {
   "cell_type": "markdown",
   "metadata": {},
   "source": [
    "# Finding potentially synonymous Terms "
   ]
  },
  {
   "cell_type": "code",
   "execution_count": null,
   "metadata": {},
   "outputs": [
    {
     "name": "stderr",
     "output_type": "stream",
     "text": [
      "C:\\Users\\nelso\\AppData\\Local\\Temp\\ipykernel_15392\\914149893.py:15: UserWarning: [W008] Evaluating Doc.similarity based on empty vectors.\n",
      "  similarity = term_1.similarity(term_2)\n"
     ]
    },
    {
     "name": "stdout",
     "output_type": "stream",
     "text": [
      "[{'value': 'Melanoma', 'origin_name': 'GDC', 'similarity': 1.0, 'valid_synonym': 0}, {'value': 'Melanoma', 'origin_name': 'BentoTailorX', 'similarity': 1.0, 'valid_synonym': 0}, {'value': 'Melanoma', 'origin_name': 'ICDC', 'similarity': 1.0, 'valid_synonym': 0}, {'value': 'Melanoma', 'origin_name': 'NCIt', 'similarity': 1.0, 'valid_synonym': 0}, {'value': 'Glioma', 'origin_name': 'NCIt', 'similarity': 0.9999999420005758, 'valid_synonym': 0}, {'value': 'Mesothelioma', 'origin_name': 'GDC', 'similarity': 0.9999999420005758, 'valid_synonym': 0}, {'value': 'Mesothelioma', 'origin_name': 'BentoTailorX', 'similarity': 0.9999999420005758, 'valid_synonym': 0}, {'value': 'Glioma', 'origin_name': 'ICDC', 'similarity': 0.9999999420005758, 'valid_synonym': 0}, {'value': 'Mesothelioma', 'origin_name': 'NCIt', 'similarity': 0.9999999420005758, 'valid_synonym': 0}, {'value': 'Low-CSD Melanoma', 'origin_name': 'NCIt', 'similarity': 0.9999999420005758, 'valid_synonym': 0}, {'value': 'Malignant Glioma', 'origin_name': 'NCIt', 'similarity': 0.850616622974472, 'valid_synonym': 0}, {'value': 'Malignant Mesothelioma', 'origin_name': 'NCIt', 'similarity': 0.850616622974472, 'valid_synonym': 0}, {'value': 'Mixed Glioma', 'origin_name': 'NCIt', 'similarity': 0.8234367253355912, 'valid_synonym': 0}, {'value': 'Glioma, malignant', 'origin_name': 'BentoTailorX', 'similarity': 0.8062874908254641, 'valid_synonym': 0}, {'value': 'Glioma, malignant', 'origin_name': 'GDC', 'similarity': 0.8062874908254641, 'valid_synonym': 0}, {'value': 'Mesothelioma, malignant', 'origin_name': 'GDC', 'similarity': 0.8062874908254641, 'valid_synonym': 0}, {'value': 'Amelanotic Melanoma', 'origin_name': 'NCIt', 'similarity': 0.8058917478183785, 'valid_synonym': 0}, {'value': 'Uveal Melanoma', 'origin_name': 'BentoTailorX', 'similarity': 0.8058917478183785, 'valid_synonym': 0}, {'value': 'Regressing Melanoma', 'origin_name': 'NCIt', 'similarity': 0.8026452223867003, 'valid_synonym': 0}]\n"
     ]
    }
   ],
   "source": [
    "test_term = Term({\n",
    "    \"value\": \"Melanoma\",\n",
    "    \"origin_name\": \"GDC\"\n",
    "})\n",
    "\n",
    "with driver.session() as session:\n",
    "    terms_to_csv = session.read_transaction(mdb.get_term_synonyms, test_term)\n",
    "    print(terms_to_csv)\n",
    "driver.close()"
   ]
  },
  {
   "cell_type": "code",
   "execution_count": 5,
   "metadata": {},
   "outputs": [
    {
     "name": "stdout",
     "output_type": "stream",
     "text": [
      "[{'value': 'Melanoma', 'origin_name': 'GDC', 'similarity': 1.0, 'valid_synonym': 0}, {'value': 'Melanoma', 'origin_name': 'BentoTailorX', 'similarity': 1.0, 'valid_synonym': 0}, {'value': 'Melanoma', 'origin_name': 'ICDC', 'similarity': 1.0, 'valid_synonym': 0}, {'value': 'Melanoma', 'origin_name': 'NCIt', 'similarity': 1.0, 'valid_synonym': 0}, {'value': 'Glioma', 'origin_name': 'NCIt', 'similarity': 0.9999999420005758, 'valid_synonym': 0}, {'value': 'Mesothelioma', 'origin_name': 'GDC', 'similarity': 0.9999999420005758, 'valid_synonym': 0}, {'value': 'Mesothelioma', 'origin_name': 'BentoTailorX', 'similarity': 0.9999999420005758, 'valid_synonym': 0}, {'value': 'Glioma', 'origin_name': 'ICDC', 'similarity': 0.9999999420005758, 'valid_synonym': 0}, {'value': 'Mesothelioma', 'origin_name': 'NCIt', 'similarity': 0.9999999420005758, 'valid_synonym': 0}, {'value': 'Low-CSD Melanoma', 'origin_name': 'NCIt', 'similarity': 0.9999999420005758, 'valid_synonym': 0}, {'value': 'Malignant Glioma', 'origin_name': 'NCIt', 'similarity': 0.850616622974472, 'valid_synonym': 0}, {'value': 'Malignant Mesothelioma', 'origin_name': 'NCIt', 'similarity': 0.850616622974472, 'valid_synonym': 0}, {'value': 'Mixed Glioma', 'origin_name': 'NCIt', 'similarity': 0.8234367253355912, 'valid_synonym': 0}, {'value': 'Glioma, malignant', 'origin_name': 'BentoTailorX', 'similarity': 0.8062874908254641, 'valid_synonym': 0}, {'value': 'Glioma, malignant', 'origin_name': 'GDC', 'similarity': 0.8062874908254641, 'valid_synonym': 0}, {'value': 'Mesothelioma, malignant', 'origin_name': 'GDC', 'similarity': 0.8062874908254641, 'valid_synonym': 0}, {'value': 'Amelanotic Melanoma', 'origin_name': 'NCIt', 'similarity': 0.8058917478183785, 'valid_synonym': 0}, {'value': 'Uveal Melanoma', 'origin_name': 'BentoTailorX', 'similarity': 0.8058917478183785, 'valid_synonym': 0}, {'value': 'Regressing Melanoma', 'origin_name': 'NCIt', 'similarity': 0.8026452223867003, 'valid_synonym': 0}]\n"
     ]
    }
   ],
   "source": [
    "print(terms_to_csv)"
   ]
  },
  {
   "cell_type": "code",
   "execution_count": 6,
   "metadata": {},
   "outputs": [],
   "source": [
    "file_name = \"potential_synonyms_melanoma.csv\"\n",
    "file_path = \"C:/Users/nelso/OneDrive - Georgetown University/School Stuff/Capstone/Test/\" + file_name\n",
    "\n",
    "mdb.potential_synonyms_to_csv(terms_to_csv, file_path)"
   ]
  },
  {
   "cell_type": "markdown",
   "metadata": {},
   "source": [
    "### Import list of Terms marked as synonymous and link via Concept"
   ]
  },
  {
   "cell_type": "code",
   "execution_count": 10,
   "metadata": {},
   "outputs": [
    {
     "name": "stdout",
     "output_type": "stream",
     "text": [
      "Both terms are already connected via Concept THVkbK\n",
      "Created new Concept with nanoid: 63G5dm\n",
      "Term with value: Melanoma and origin: GDC now represents Concept with nanoid: 63G5dm\n",
      "Term with value: Melanoma and origin: BentoTailorX now represents Concept with nanoid: 63G5dm\n",
      "Created new Concept with nanoid: cSK9wX\n",
      "Term with value: Melanoma and origin: GDC now represents Concept with nanoid: cSK9wX\n",
      "Term with value: Melanoma and origin: ICDC now represents Concept with nanoid: cSK9wX\n",
      "Both terms are already connected via Concept THVkbK\n"
     ]
    }
   ],
   "source": [
    "test_term = Term({\n",
    "    \"value\": \"Melanoma\",\n",
    "    \"origin_name\": \"GDC\"\n",
    "})\n",
    "\n",
    "csv_path = \"C:/Users/nelso/OneDrive - Georgetown University/School Stuff/Capstone/Test/potential_synonyms_melanoma.csv\"\n",
    "\n",
    "mdb.link_term_synonyms_csv(test_term, csv_path)"
   ]
  }
 ],
 "metadata": {
  "kernelspec": {
   "display_name": "Python 3.9.12 ('HIDS_Capstone')",
   "language": "python",
   "name": "python3"
  },
  "language_info": {
   "codemirror_mode": {
    "name": "ipython",
    "version": 3
   },
   "file_extension": ".py",
   "mimetype": "text/x-python",
   "name": "python",
   "nbconvert_exporter": "python",
   "pygments_lexer": "ipython3",
   "version": "3.9.12"
  },
  "orig_nbformat": 4,
  "vscode": {
   "interpreter": {
    "hash": "24bde3e8e56409237732496eb336b8081f14b31df1642fcb4e390fe4f4a787e4"
   }
  }
 },
 "nbformat": 4,
 "nbformat_minor": 2
}
