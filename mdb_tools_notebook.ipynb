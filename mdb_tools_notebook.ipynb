{
 "cells": [
  {
   "cell_type": "markdown",
   "metadata": {},
   "source": [
    "# Installs and Imports"
   ]
  },
  {
   "cell_type": "markdown",
   "metadata": {},
   "source": [
    "## Installs"
   ]
  },
  {
   "cell_type": "code",
   "execution_count": 2,
   "metadata": {},
   "outputs": [
    {
     "name": "stdout",
     "output_type": "stream",
     "text": [
      "Collecting neo4j\n",
      "  Downloading neo4j-4.4.4.tar.gz (90 kB)\n",
      "     ---------------------------------------- 90.8/90.8 KB 2.5 MB/s eta 0:00:00\n",
      "  Preparing metadata (setup.py): started\n",
      "  Preparing metadata (setup.py): finished with status 'done'\n",
      "Collecting pytz\n",
      "  Downloading pytz-2022.1-py2.py3-none-any.whl (503 kB)\n",
      "     -------------------------------------- 503.5/503.5 KB 7.8 MB/s eta 0:00:00\n",
      "Using legacy 'setup.py install' for neo4j, since package 'wheel' is not installed.\n",
      "Installing collected packages: pytz, neo4j\n",
      "  Running setup.py install for neo4j: started\n",
      "  Running setup.py install for neo4j: finished with status 'done'\n",
      "Successfully installed neo4j-4.4.4 pytz-2022.1\n",
      "Note: you may need to restart the kernel to use updated packages.\n"
     ]
    },
    {
     "name": "stderr",
     "output_type": "stream",
     "text": [
      "WARNING: You are using pip version 22.0.4; however, version 22.1.2 is available.\n",
      "You should consider upgrading via the 'C:\\Users\\nelso\\AppData\\Local\\Microsoft\\WindowsApps\\PythonSoftwareFoundation.Python.3.9_qbz5n2kfra8p0\\python.exe -m pip install --upgrade pip' command.\n"
     ]
    }
   ],
   "source": [
    "%pip install neo4j"
   ]
  },
  {
   "cell_type": "code",
   "execution_count": null,
   "metadata": {},
   "outputs": [],
   "source": [
    "%pip install -i https://test.pypi.org/simple/ mdb-tools"
   ]
  },
  {
   "cell_type": "markdown",
   "metadata": {},
   "source": [
    "## Imports"
   ]
  },
  {
   "cell_type": "code",
   "execution_count": 5,
   "metadata": {},
   "outputs": [],
   "source": [
    "from neo4j import GraphDatabase, basic_auth\n",
    "import mdb_tools.mdb_tools as mdb"
   ]
  },
  {
   "cell_type": "markdown",
   "metadata": {},
   "source": [
    "# Database connection"
   ]
  },
  {
   "cell_type": "markdown",
   "metadata": {},
   "source": [
    "URL, username, and password for database connection"
   ]
  },
  {
   "cell_type": "code",
   "execution_count": 6,
   "metadata": {},
   "outputs": [],
   "source": [
    "# MDB sandbox\n",
    "url = \"bolt://localhost:7687\" #\"<URL for database>\"\n",
    "user = \"neo4j\" #\"<Username for database>\"\n",
    "password = \"noble-use-dairy\" #\"<Password for database>\"\n",
    "driver = GraphDatabase.driver(url, auth=(user, password))"
   ]
  },
  {
   "cell_type": "code",
   "execution_count": 3,
   "metadata": {},
   "outputs": [
    {
     "data": {
      "text/plain": [
       "['GraphDatabase',\n",
       " '__builtins__',\n",
       " '__cached__',\n",
       " '__doc__',\n",
       " '__file__',\n",
       " '__loader__',\n",
       " '__name__',\n",
       " '__package__',\n",
       " '__spec__',\n",
       " 'basic_auth',\n",
       " 'check_term_exists',\n",
       " 'create_concept',\n",
       " 'create_object_relationship',\n",
       " 'create_predicate',\n",
       " 'create_represents_relationship',\n",
       " 'create_represents_relationship_from_nanoid',\n",
       " 'create_subject_relationship',\n",
       " 'create_term',\n",
       " 'create_term_from_nanoid',\n",
       " 'detach_delete_concept',\n",
       " 'detach_delete_predicate',\n",
       " 'generate',\n",
       " 'generate_unique_nanoid',\n",
       " 'get_concept',\n",
       " 'get_terms',\n",
       " 'link_concepts_to_predicate',\n",
       " 'link_two_terms',\n",
       " 'make_nano',\n",
       " 'merge_two_concepts']"
      ]
     },
     "execution_count": 3,
     "metadata": {},
     "output_type": "execute_result"
    }
   ],
   "source": [
    "dir(mdb)"
   ]
  },
  {
   "cell_type": "markdown",
   "metadata": {},
   "source": [
    "# Linking Terms\n"
   ]
  },
  {
   "cell_type": "markdown",
   "metadata": {},
   "source": [
    "### Check existence of Term"
   ]
  },
  {
   "cell_type": "code",
   "execution_count": null,
   "metadata": {},
   "outputs": [],
   "source": [
    "# generate test term\n",
    "test_term = {\n",
    "    \"value\": \"Cancer\",\n",
    "    \"origin_name\": \"GDC\"\n",
    "}"
   ]
  },
  {
   "cell_type": "code",
   "execution_count": null,
   "metadata": {},
   "outputs": [],
   "source": [
    "# should return \"Term with that value found in DB\"\n",
    "with driver.session() as session:\n",
    "  term_exists = session.read_transaction(mdb.check_term_exists, test_term)\n",
    "  if term_exists:\n",
    "    print(\"Term with that value found in DB\")\n",
    "  else:\n",
    "    print(\"Term with that value not found in DB\")\n",
    "driver.close()"
   ]
  },
  {
   "cell_type": "markdown",
   "metadata": {},
   "source": [
    "### Find existing Concept from Term"
   ]
  },
  {
   "cell_type": "code",
   "execution_count": null,
   "metadata": {},
   "outputs": [],
   "source": [
    "# generate test term\n",
    "test_term = {\n",
    "    \"value\": \"Lung\",\n",
    "    \"origin_name\": \"NCIt\"\n",
    "}"
   ]
  },
  {
   "cell_type": "code",
   "execution_count": null,
   "metadata": {},
   "outputs": [],
   "source": [
    "# should return \"4jtzA3\"\n",
    "with driver.session() as session:\n",
    "    test_term_concepts = session.read_transaction(mdb.get_concept, test_term)\n",
    "    print(test_term_concepts)\n",
    "driver.close()"
   ]
  },
  {
   "cell_type": "markdown",
   "metadata": {},
   "source": [
    "### Create new Term"
   ]
  },
  {
   "cell_type": "code",
   "execution_count": null,
   "metadata": {},
   "outputs": [],
   "source": [
    "# generate test term\n",
    "test_term = {\n",
    "    \"value\": \"Lung\",\n",
    "    \"origin_name\": \"NDC\"\n",
    "}"
   ]
  },
  {
   "cell_type": "code",
   "execution_count": null,
   "metadata": {},
   "outputs": [],
   "source": [
    "# should add term with value \"Lung\" and origin_name \"NDC\" and check it exists afterwards\n",
    "with driver.session() as session:\n",
    "    session.write_transaction(mdb.create_term, test_term)\n",
    "    \n",
    "    term_exists = session.read_transaction(mdb.check_term_exists, test_term)\n",
    "    if term_exists:\n",
    "        print(\"Term with that value found in DB\")\n",
    "    else:\n",
    "        print(\"Term with that value not found in DB\")\n",
    "driver.close()"
   ]
  },
  {
   "cell_type": "markdown",
   "metadata": {},
   "source": [
    "### Generate unique nanoid"
   ]
  },
  {
   "cell_type": "code",
   "execution_count": 81,
   "metadata": {},
   "outputs": [
    {
     "name": "stdout",
     "output_type": "stream",
     "text": [
      "hjpBQV\n"
     ]
    }
   ],
   "source": [
    "with driver.session() as session:\n",
    "  session.read_transaction(mdb.generate_unique_nanoid)\n",
    "driver.close()"
   ]
  },
  {
   "cell_type": "markdown",
   "metadata": {},
   "source": [
    "### Create Concept"
   ]
  },
  {
   "cell_type": "code",
   "execution_count": null,
   "metadata": {},
   "outputs": [],
   "source": [
    "# generate test Concept\n",
    "with driver.session() as session:\n",
    "    test_nano = session.read_transaction(mdb.generate_unique_nanoid)\n",
    "driver.close()\n",
    "\n",
    "test_concept = {\n",
    "    \"nanoid\": test_nano\n",
    "}"
   ]
  },
  {
   "cell_type": "code",
   "execution_count": null,
   "metadata": {},
   "outputs": [
    {
     "name": "stdout",
     "output_type": "stream",
     "text": [
      "Created new Concept with nanoid: E1PqVF\n"
     ]
    }
   ],
   "source": [
    "with driver.session() as session:\n",
    "    session.write_transaction(mdb.create_concept, test_concept)\n",
    "driver.close()"
   ]
  },
  {
   "cell_type": "markdown",
   "metadata": {},
   "source": [
    "### Link Term and Concept"
   ]
  },
  {
   "cell_type": "code",
   "execution_count": 44,
   "metadata": {},
   "outputs": [
    {
     "name": "stdout",
     "output_type": "stream",
     "text": [
      "{'value': 'Lung', 'origin_name': 'NDC'}\n",
      "{'nanoid': 'E1PqVF'}\n"
     ]
    }
   ],
   "source": [
    "# test term and concept created above\n",
    "print(test_term)\n",
    "print(test_concept)"
   ]
  },
  {
   "cell_type": "code",
   "execution_count": null,
   "metadata": {},
   "outputs": [
    {
     "name": "stdout",
     "output_type": "stream",
     "text": [
      "Term with value: Lung and origin: NDC now represents Concept with nanoid: E1PqVF\n"
     ]
    }
   ],
   "source": [
    "with driver.session() as session:\n",
    "    session.write_transaction(mdb.create_represents_relationship, test_term, test_concept)\n",
    "driver.close()"
   ]
  },
  {
   "cell_type": "markdown",
   "metadata": {},
   "source": [
    "## Link Two Terms"
   ]
  },
  {
   "cell_type": "code",
   "execution_count": 18,
   "metadata": {},
   "outputs": [
    {
     "name": "stdout",
     "output_type": "stream",
     "text": [
      "Epithelioma, benign and Epithelial tumor, benign are already connected via Concept H6X2Ph\n"
     ]
    }
   ],
   "source": [
    "# both terms exist & connected via concept\n",
    "mdb.link_two_terms(\"Epithelioma, benign\", \"Epithelial tumor, benign\")"
   ]
  },
  {
   "cell_type": "code",
   "execution_count": null,
   "metadata": {},
   "outputs": [
    {
     "name": "stdout",
     "output_type": "stream",
     "text": [
      "Created new Concept with nanoid: aE7NQM\n",
      "Term with value: Cancer and origin: BentoTailorX now represents Concept with nanoid: aE7NQM\n",
      "Term with value: Cancer and origin: GDC now represents Concept with nanoid: aE7NQM\n"
     ]
    }
   ],
   "source": [
    "# both terms exist but neither have concept representing them\n",
    "test_term_1 = {\n",
    "    \"value\": \"Cancer\",\n",
    "    \"origin_name\": \"BentoTailorX\"\n",
    "}\n",
    "\n",
    "test_term_2 = {\n",
    "    \"value\": \"Cancer\",\n",
    "    \"origin_name\": \"GDC\"\n",
    "}\n",
    "\n",
    "mdb.link_two_terms(test_term_1, test_term_2)"
   ]
  },
  {
   "cell_type": "code",
   "execution_count": 19,
   "metadata": {},
   "outputs": [
    {
     "name": "stdout",
     "output_type": "stream",
     "text": [
      "Created new Concept with nanoid: Zith4U\n",
      "Spindle cell carcinoma, NOS Term now represents Zith4U Concept\n",
      "Sarcomatoid Carcinoma Term now represents Zith4U Concept\n"
     ]
    }
   ],
   "source": [
    "# both terms exist & NOT connected via concept\n",
    "mdb.link_two_terms(\"Spindle cell carcinoma, NOS\", \"Sarcomatoid Carcinoma\")"
   ]
  },
  {
   "cell_type": "code",
   "execution_count": 20,
   "metadata": {},
   "outputs": [
    {
     "name": "stdout",
     "output_type": "stream",
     "text": [
      "Created new Term with value: Alveolar adenocarcinoma\n",
      "Alveolar adenocarcinoma Term now represents p2IbFv Concept\n"
     ]
    }
   ],
   "source": [
    "# one term exists & already has concept\n",
    "mdb.link_two_terms(\"Minimally Invasive Lung Adenocarcinoma\", \"Alveolar adenocarcinoma\")"
   ]
  },
  {
   "cell_type": "code",
   "execution_count": 21,
   "metadata": {},
   "outputs": [
    {
     "name": "stdout",
     "output_type": "stream",
     "text": [
      "Created new Concept with nanoid: dBSPWS\n",
      "Created new Term with value: Carcinoma, anaplastic, NOS\n",
      "Undifferentiated Carcinoma Term now represents dBSPWS Concept\n",
      "Carcinoma, anaplastic, NOS Term now represents dBSPWS Concept\n"
     ]
    }
   ],
   "source": [
    "# one term exists & doesn't have concept yet\n",
    "mdb.link_two_terms(\"Undifferentiated Carcinoma\", \"Carcinoma, anaplastic, NOS\")"
   ]
  },
  {
   "cell_type": "code",
   "execution_count": 22,
   "metadata": {},
   "outputs": [
    {
     "name": "stdout",
     "output_type": "stream",
     "text": [
      "Created new Term with value: Epithelioma, malignant\n",
      "Created new Term with value: Carcinoma\n",
      "Created new Concept with nanoid: 4CneRp\n",
      "Epithelioma, malignant Term now represents 4CneRp Concept\n",
      "Carcinoma Term now represents 4CneRp Concept\n"
     ]
    }
   ],
   "source": [
    "# neither term exists\n",
    "mdb.link_two_terms(\"Epithelioma, malignant\", \"Carcinoma\")"
   ]
  },
  {
   "cell_type": "markdown",
   "metadata": {},
   "source": [
    "# Linking Concepts\n"
   ]
  },
  {
   "cell_type": "markdown",
   "metadata": {},
   "source": [
    "When two existing Concept nodes are deemed synonymous, there are two primary ways to approach linking them together. The first way to link the synonymous Concepts would be via a Predicate node with the an \"exactMatch\" handle. This method maintains the exisiting Concept & Term structure while adding to it, allowing queries already in use to continue to work. \n",
    "\n",
    "The second way is simply merging the two so they are represented by the same Concept node. With this approach, the Terms linked to each Concept would then be linked to the new merged Concept instead. They could be merged under one of the exisiting Concepts or a new Concept could be created and the old two removed. This method would invalidate existing queries using relevant Concepts & Terms."
   ]
  },
  {
   "cell_type": "markdown",
   "metadata": {},
   "source": [
    "### Create Predicate"
   ]
  },
  {
   "cell_type": "code",
   "execution_count": null,
   "metadata": {},
   "outputs": [],
   "source": [
    "with driver.session() as session:\n",
    "    test_nano = session.read_transaction(mdb.generate_unique_nanoid)\n",
    "driver.close()\n",
    "\n",
    "test_predicate = {\n",
    "    \"handle\": \"exactMatch\",\n",
    "    \"nanoid\": test_nano\n",
    "}"
   ]
  },
  {
   "cell_type": "code",
   "execution_count": null,
   "metadata": {},
   "outputs": [
    {
     "name": "stdout",
     "output_type": "stream",
     "text": [
      "Created new Predicate with handle: exactMatch and nanoid: 1N5WiS\n"
     ]
    }
   ],
   "source": [
    "with driver.session() as session:\n",
    "    session.write_transaction(mdb.create_predicate, test_predicate)\n",
    "driver.close()"
   ]
  },
  {
   "cell_type": "markdown",
   "metadata": {},
   "source": [
    "### Link two Concepts to a Predicate"
   ]
  },
  {
   "cell_type": "markdown",
   "metadata": {},
   "source": [
    "General pattern: (c1:concept)<-[:has_subject]-(p:predicate {handle:“exactMatch”})-[:has_object]->(c2:concept)"
   ]
  },
  {
   "cell_type": "code",
   "execution_count": null,
   "metadata": {},
   "outputs": [
    {
     "name": "stdout",
     "output_type": "stream",
     "text": [
      "Created new Predicate with handle: exactMatch and nanoid: Bpp7ab\n",
      "Created has_subject relationship between source Predicate with handle: exactMatch and nanoid: Bpp7ab and destination Concept with nanoid: E1PqVF\n",
      "Created has_object relationship between source Predicate with handle: exactMatch and nanoid: Bpp7ab and destination Concept with nanoid: UWs6Di\n"
     ]
    }
   ],
   "source": [
    "# these Concepts both represent Terms with value: 'Lung' in the MDB.\n",
    "test_concept_1 = {\"nanoid\": \"E1PqVF\"}\n",
    "test_concept_2 = {\"nanoid\": \"UWs6Di\"}\n",
    "\n",
    "mdb.link_concepts_to_predicate(test_concept_1, test_concept_2)"
   ]
  },
  {
   "cell_type": "markdown",
   "metadata": {},
   "source": [
    "### Merge two Concepts"
   ]
  },
  {
   "cell_type": "code",
   "execution_count": null,
   "metadata": {},
   "outputs": [],
   "source": [
    "# see Terms attached to test Concept\n",
    "test_concept = {\"nanoid\": \"qkqPeC\"}\n",
    "\n",
    "with driver.session() as session:\n",
    "    terms = session.read_transaction(mdb.get_terms, test_concept)\n",
    "    print(terms)\n",
    "driver.close()"
   ]
  },
  {
   "cell_type": "code",
   "execution_count": 81,
   "metadata": {},
   "outputs": [],
   "source": [
    "# delete test Concept\n",
    "with driver.session() as session:\n",
    "    session.write_transaction(mdb.detach_delete_concept, test_concept)\n",
    "driver.close()"
   ]
  },
  {
   "cell_type": "code",
   "execution_count": 87,
   "metadata": {},
   "outputs": [
    {
     "name": "stdout",
     "output_type": "stream",
     "text": [
      "Created new Concept with nanoid: qkqPeC\n",
      "Created new Concept with nanoid: nDHYF0\n"
     ]
    }
   ],
   "source": [
    "# generate new Concepts\n",
    "with driver.session() as session:\n",
    "    test_nano_1 = session.read_transaction(mdb.generate_unique_nanoid)\n",
    "    test_nano_2 = session.read_transaction(mdb.generate_unique_nanoid)\n",
    "    test_concept_1 = {\"nanoid\": test_nano_1}\n",
    "    test_concept_2 = {\"nanoid\": test_nano_2}\n",
    "    session.write_transaction(mdb.create_concept, test_concept_1)\n",
    "    session.write_transaction(mdb.create_concept, test_concept_2)\n",
    "driver.close()"
   ]
  },
  {
   "cell_type": "code",
   "execution_count": 89,
   "metadata": {},
   "outputs": [
    {
     "name": "stdout",
     "output_type": "stream",
     "text": [
      "Term with value: Nelson and origin: NDC now represents Concept with nanoid: qkqPeC\n",
      "Term with value: Nelsinghouse and origin: NDC now represents Concept with nanoid: qkqPeC\n",
      "Term with value: Nelly and origin: NDC now represents Concept with nanoid: nDHYF0\n"
     ]
    }
   ],
   "source": [
    "# link new Concepts to Terms above (2 Terms to 1st Concept, 1 Term to 2nd Concept)\n",
    "with driver.session() as session:\n",
    "    test_term_1 = {\"value\": \"Nelson\", \"origin_name\": \"NDC\"}\n",
    "    test_term_2 = {\"value\": \"Nelsinghouse\", \"origin_name\": \"NDC\"}\n",
    "    test_term_3 = {\"value\": \"Nelly\", \"origin_name\": \"NDC\"}\n",
    "\n",
    "    session.write_transaction(mdb.create_represents_relationship, \n",
    "                            test_term_1, test_concept_1)\n",
    "    session.write_transaction(mdb.create_represents_relationship, \n",
    "                            test_term_2, test_concept_1)\n",
    "    session.write_transaction(mdb.create_represents_relationship, \n",
    "                            test_term_3, test_concept_2)\n",
    "driver.close()"
   ]
  },
  {
   "cell_type": "code",
   "execution_count": 90,
   "metadata": {},
   "outputs": [
    {
     "name": "stdout",
     "output_type": "stream",
     "text": [
      "Term with value: Nelly and origin: NDC now represents Concept with nanoid: qkqPeC\n"
     ]
    }
   ],
   "source": [
    "# merge Concepts into one\n",
    "test_concept_1 = {\"nanoid\": \"qkqPeC\"}\n",
    "test_concept_2 = {\"nanoid\": \"nDHYF0\"}\n",
    "\n",
    "mdb.merge_two_concepts(test_concept_1, test_concept_2)"
   ]
  }
 ],
 "metadata": {
  "interpreter": {
   "hash": "ad2bdc8ecc057115af97d19610ffacc2b4e99fae6737bb82f5d7fb13d2f2c186"
  },
  "kernelspec": {
   "display_name": "Python 3.9.7 ('base')",
   "language": "python",
   "name": "python3"
  },
  "language_info": {
   "codemirror_mode": {
    "name": "ipython",
    "version": 3
   },
   "file_extension": ".py",
   "mimetype": "text/x-python",
   "name": "python",
   "nbconvert_exporter": "python",
   "pygments_lexer": "ipython3",
   "version": "3.9.7"
  },
  "orig_nbformat": 4
 },
 "nbformat": 4,
 "nbformat_minor": 2
}
