{
 "cells": [
  {
   "cell_type": "markdown",
   "metadata": {},
   "source": [
    "# Installs and Imports"
   ]
  },
  {
   "cell_type": "markdown",
   "metadata": {},
   "source": [
    "## Installs"
   ]
  },
  {
   "cell_type": "code",
   "execution_count": 90,
   "metadata": {},
   "outputs": [
    {
     "name": "stdout",
     "output_type": "stream",
     "text": [
      "Looking in indexes: https://test.pypi.org/simple/\n",
      "Requirement already satisfied: mdb-tools in c:\\programdata\\anaconda3\\envs\\hids_capstone\\lib\\site-packages (0.5.12)\n",
      "Collecting mdb-tools\n",
      "  Downloading https://test-files.pythonhosted.org/packages/f0/54/94663311d1d0e8f1c28de44225d4bc4f913a1d934b04118936b1371d44fb/mdb_tools-0.5.13-py3-none-any.whl (9.2 kB)\n",
      "Installing collected packages: mdb-tools\n",
      "  Attempting uninstall: mdb-tools\n",
      "    Found existing installation: mdb-tools 0.5.12\n",
      "    Uninstalling mdb-tools-0.5.12:\n",
      "      Successfully uninstalled mdb-tools-0.5.12\n",
      "Successfully installed mdb-tools-0.5.13\n",
      "Note: you may need to restart the kernel to use updated packages.\n"
     ]
    }
   ],
   "source": [
    "%pip install -i https://test.pypi.org/simple/ mdb-tools --upgrade"
   ]
  },
  {
   "cell_type": "markdown",
   "metadata": {},
   "source": [
    "## Imports"
   ]
  },
  {
   "cell_type": "code",
   "execution_count": 1,
   "metadata": {},
   "outputs": [],
   "source": [
    "from neo4j import GraphDatabase, basic_auth\n",
    "import mdb_tools as mdb\n",
    "from bento_meta.objects import Term, Concept, Predicate"
   ]
  },
  {
   "cell_type": "code",
   "execution_count": 2,
   "metadata": {},
   "outputs": [
    {
     "name": "stdout",
     "output_type": "stream",
     "text": [
      "check_term_exists\n",
      "create_concept\n",
      "create_object_relationship\n",
      "create_predicate\n",
      "create_represents_relationship\n",
      "create_subject_relationship\n",
      "create_term\n",
      "detach_delete_concept\n",
      "detach_delete_predicate\n",
      "detach_delete_term\n",
      "generate\n",
      "get_concepts\n",
      "get_predicates\n",
      "get_term_synonyms\n",
      "get_terms\n",
      "link_concepts_to_predicate\n",
      "link_term_synonyms_csv\n",
      "link_two_terms\n",
      "make_nano\n",
      "merge_two_concepts\n",
      "potential_synonyms_to_csv\n"
     ]
    }
   ],
   "source": [
    "# see what functions are available in package\n",
    "from inspect import getmembers, isfunction\n",
    "\n",
    "import mdb_tools.mdb_tools as mdb\n",
    "func_list = (getmembers(mdb, isfunction))\n",
    "\n",
    "for x in func_list:\n",
    "    print(x[0])"
   ]
  },
  {
   "cell_type": "markdown",
   "metadata": {},
   "source": [
    "# Database connection"
   ]
  },
  {
   "cell_type": "markdown",
   "metadata": {},
   "source": [
    "URL, username, and password for database connection"
   ]
  },
  {
   "cell_type": "code",
   "execution_count": 3,
   "metadata": {},
   "outputs": [],
   "source": [
    "# MDB sandbox\n",
    "URL = \"bolt://localhost:7687\" # <URL for database>\n",
    "USER = \"neo4j\" # <Username for database>\n",
    "PASSWORD = \"noble-use-dairy\" # <Password for database>\n",
    "driver = GraphDatabase.driver(URL, auth=(USER, PASSWORD))"
   ]
  },
  {
   "cell_type": "markdown",
   "metadata": {},
   "source": [
    "# Linking Terms\n"
   ]
  },
  {
   "cell_type": "markdown",
   "metadata": {},
   "source": [
    "### Check existence of Term"
   ]
  },
  {
   "cell_type": "code",
   "execution_count": 4,
   "metadata": {},
   "outputs": [],
   "source": [
    "# generate test term\n",
    "test_term = Term()\n",
    "test_term.value = \"Cancer\"\n",
    "test_term.origin_name = \"GDC\""
   ]
  },
  {
   "cell_type": "code",
   "execution_count": 5,
   "metadata": {},
   "outputs": [
    {
     "name": "stdout",
     "output_type": "stream",
     "text": [
      "Term with that value found in DB\n"
     ]
    }
   ],
   "source": [
    "# should return \"Term with that value found in DB\"\n",
    "with driver.session() as session:\n",
    "  term_exists = session.read_transaction(mdb.check_term_exists, test_term)\n",
    "  if term_exists:\n",
    "    print(\"Term with that value found in DB\")\n",
    "  else:\n",
    "    print(\"Term with that value not found in DB\")\n",
    "driver.close()"
   ]
  },
  {
   "cell_type": "markdown",
   "metadata": {},
   "source": [
    "### Find existing Concept from Term"
   ]
  },
  {
   "cell_type": "code",
   "execution_count": 53,
   "metadata": {},
   "outputs": [],
   "source": [
    "# generate test term\n",
    "test_term = Term()\n",
    "test_term.value = \"Lung\"\n",
    "test_term.origin_name = \"NCIt\""
   ]
  },
  {
   "cell_type": "code",
   "execution_count": 54,
   "metadata": {},
   "outputs": [
    {
     "name": "stdout",
     "output_type": "stream",
     "text": [
      "4jtzA3\n"
     ]
    }
   ],
   "source": [
    "# should return \"4jtzA3\"\n",
    "with driver.session() as session:\n",
    "    test_term_concepts = session.read_transaction(mdb.get_concepts, test_term)\n",
    "    print(test_term_concepts[0])\n",
    "driver.close()"
   ]
  },
  {
   "cell_type": "markdown",
   "metadata": {},
   "source": [
    "### Create new Term"
   ]
  },
  {
   "cell_type": "code",
   "execution_count": 56,
   "metadata": {},
   "outputs": [],
   "source": [
    "# generate test term\n",
    "test_term = Term()\n",
    "test_term.value = \"Lung\"\n",
    "test_term.origin_name = \"NDC\""
   ]
  },
  {
   "cell_type": "code",
   "execution_count": 57,
   "metadata": {},
   "outputs": [
    {
     "name": "stdout",
     "output_type": "stream",
     "text": [
      "Created new Term with value: Lung and origin: NDC\n",
      "Term with that value found in DB\n"
     ]
    }
   ],
   "source": [
    "# should add term with value \"Lung\" and origin_name \"NDC\" and check it exists afterwards\n",
    "with driver.session() as session:\n",
    "    session.write_transaction(mdb.create_term, test_term)\n",
    "    \n",
    "    term_exists = session.read_transaction(mdb.check_term_exists, test_term)\n",
    "    if term_exists:\n",
    "        print(\"Term with that value found in DB\")\n",
    "    else:\n",
    "        print(\"Term with that value not found in DB\")\n",
    "driver.close()"
   ]
  },
  {
   "cell_type": "markdown",
   "metadata": {},
   "source": [
    "### Generate nanoid"
   ]
  },
  {
   "cell_type": "code",
   "execution_count": 55,
   "metadata": {},
   "outputs": [
    {
     "name": "stdout",
     "output_type": "stream",
     "text": [
      "3gcVMM\n"
     ]
    }
   ],
   "source": [
    "with driver.session() as session:\n",
    "  print(mdb.make_nano())\n",
    "driver.close()"
   ]
  },
  {
   "cell_type": "markdown",
   "metadata": {},
   "source": [
    "### Create Concept"
   ]
  },
  {
   "cell_type": "code",
   "execution_count": 58,
   "metadata": {},
   "outputs": [],
   "source": [
    "# generate test Concept\n",
    "with driver.session() as session:\n",
    "    test_nano = mdb.make_nano()\n",
    "driver.close()\n",
    "\n",
    "test_concept = Concept()\n",
    "test_concept.nanoid = test_nano"
   ]
  },
  {
   "cell_type": "code",
   "execution_count": 59,
   "metadata": {},
   "outputs": [
    {
     "name": "stdout",
     "output_type": "stream",
     "text": [
      "Created Concept node with nanoid: GDUDWC\n"
     ]
    }
   ],
   "source": [
    "with driver.session() as session:\n",
    "    session.write_transaction(mdb.create_concept, test_concept)\n",
    "driver.close()"
   ]
  },
  {
   "cell_type": "markdown",
   "metadata": {},
   "source": [
    "### Link Term and Concept"
   ]
  },
  {
   "cell_type": "code",
   "execution_count": 60,
   "metadata": {},
   "outputs": [
    {
     "name": "stdout",
     "output_type": "stream",
     "text": [
      "Term value: Lung; Term origin: NDC\n",
      "Concept nanoid: GDUDWC\n"
     ]
    }
   ],
   "source": [
    "# test term and concept created above\n",
    "print(f\"Term value: {test_term.value}; Term origin: {test_term.origin_name}\")\n",
    "print(f\"Concept nanoid: {test_concept.nanoid}\")"
   ]
  },
  {
   "cell_type": "code",
   "execution_count": 75,
   "metadata": {},
   "outputs": [
    {
     "name": "stdout",
     "output_type": "stream",
     "text": [
      "Created represents relationship between Term with value: Cancer            and origin: GDC and Concept with nanoid: GDUDWC\n"
     ]
    }
   ],
   "source": [
    "with driver.session() as session:\n",
    "    session.write_transaction(mdb.create_represents_relationship, test_term, test_concept)\n",
    "driver.close()"
   ]
  },
  {
   "cell_type": "markdown",
   "metadata": {},
   "source": [
    "## Link Two Terms"
   ]
  },
  {
   "cell_type": "code",
   "execution_count": 7,
   "metadata": {},
   "outputs": [
    {
     "name": "stdout",
     "output_type": "stream",
     "text": [
      "Both terms are already connected via Concept gNbSxf\n"
     ]
    }
   ],
   "source": [
    "# both terms exist & connected via concept\n",
    "test_term_1 = Term()\n",
    "test_term_1.value = \"Epithelioma, benign\"\n",
    "test_term_1.origin_name = \"GDC\"\n",
    "\n",
    "test_term_2 = Term()\n",
    "test_term_2.value = \"Epithelial tumor, benign\"\n",
    "test_term_2.origin_name = \"GDC\"\n",
    "\n",
    "with driver.session() as session:\n",
    "    session.write_transaction(mdb.link_two_terms, test_term_1, test_term_2)\n",
    "driver.close()"
   ]
  },
  {
   "cell_type": "code",
   "execution_count": 8,
   "metadata": {},
   "outputs": [
    {
     "name": "stdout",
     "output_type": "stream",
     "text": [
      "Created Concept node with nanoid: HH7YwF\n",
      "Created represents relationship between Term with value: Cancer and origin: BentoTailorX and Concept with nanoid: HH7YwF\n",
      "Created represents relationship between Term with value: Cancer and origin: GDC and Concept with nanoid: HH7YwF\n"
     ]
    }
   ],
   "source": [
    "# both terms exist but neither have concept representing them\n",
    "test_term_1 = Term()\n",
    "test_term_1.value = \"Cancer\"\n",
    "test_term_1.origin_name = \"BentoTailorX\"\n",
    "\n",
    "test_term_2 = Term()\n",
    "test_term_2.value = \"Cancer\"\n",
    "test_term_2.origin_name = \"GDC\"\n",
    "\n",
    "with driver.session() as session:\n",
    "    session.write_transaction(mdb.link_two_terms, test_term_1, test_term_2)\n",
    "driver.close()"
   ]
  },
  {
   "cell_type": "code",
   "execution_count": 10,
   "metadata": {},
   "outputs": [
    {
     "name": "stdout",
     "output_type": "stream",
     "text": [
      "Created Concept node with nanoid: 4Ygrnp\n",
      "Created represents relationship between Term with value: Lung and origin: ICDC and Concept with nanoid: 4Ygrnp\n",
      "Created represents relationship between Term with value: Lung and origin: BentoTailorX and Concept with nanoid: 4Ygrnp\n"
     ]
    }
   ],
   "source": [
    "# both terms exist & NOT connected via concept\n",
    "test_term_1 = Term()\n",
    "test_term_1.value = \"Lung\"\n",
    "test_term_1.origin_name = \"ICDC\"\n",
    "\n",
    "test_term_2 = Term()\n",
    "test_term_2.value = \"Lung\"\n",
    "test_term_2.origin_name = \"BentoTailorX\"\n",
    "\n",
    "with driver.session() as session:\n",
    "    session.write_transaction(mdb.link_two_terms, test_term_1, test_term_2)\n",
    "driver.close()"
   ]
  },
  {
   "cell_type": "code",
   "execution_count": null,
   "metadata": {},
   "outputs": [],
   "source": [
    "# both terms exist & NOT connected via concept, but one has a concept"
   ]
  },
  {
   "cell_type": "code",
   "execution_count": 9,
   "metadata": {},
   "outputs": [
    {
     "name": "stdout",
     "output_type": "stream",
     "text": [
      "Created new Term with value: Alveolar adenocarcinoma and origin: NDC\n",
      "Created represents relationship between Term with value: Alveolar adenocarcinoma and origin: NDC and Concept with nanoid: 0c271a\n"
     ]
    }
   ],
   "source": [
    "# one term exists & already has concept\n",
    "test_term_1 = Term()\n",
    "test_term_1.value = \"Minimally Invasive Lung Adenocarcinoma\"\n",
    "test_term_1.origin_name = \"NCIt\"\n",
    "\n",
    "test_term_2 = Term()\n",
    "test_term_2.value = \"Alveolar adenocarcinoma\"\n",
    "test_term_2.origin_name = \"NDC\"\n",
    "\n",
    "with driver.session() as session:\n",
    "    session.write_transaction(mdb.link_two_terms, test_term_1, test_term_2)\n",
    "driver.close()"
   ]
  },
  {
   "cell_type": "code",
   "execution_count": 11,
   "metadata": {},
   "outputs": [
    {
     "name": "stdout",
     "output_type": "stream",
     "text": [
      "Created Concept node with nanoid: gifRog\n",
      "Created new Term with value: Undifferentiated Carcinoma and origin: NDC\n",
      "Created represents relationship between Term with value: Carcinoma, anaplastic, NOS and origin: BentoTailorX and Concept with nanoid: gifRog\n",
      "Created represents relationship between Term with value: Undifferentiated Carcinoma and origin: NDC and Concept with nanoid: gifRog\n"
     ]
    }
   ],
   "source": [
    "# one term exists & doesn't have concept yet\n",
    "test_term_1 = Term()\n",
    "test_term_1.value = \"Carcinoma, anaplastic, NOS\"\n",
    "test_term_1.origin_name = \"BentoTailorX\"\n",
    "\n",
    "test_term_2 = Term()\n",
    "test_term_2.value = \"Undifferentiated Carcinoma\"\n",
    "test_term_2.origin_name = \"NDC\"\n",
    "\n",
    "with driver.session() as session:\n",
    "    session.write_transaction(mdb.link_two_terms, test_term_1, test_term_2)\n",
    "driver.close()"
   ]
  },
  {
   "cell_type": "code",
   "execution_count": 12,
   "metadata": {},
   "outputs": [
    {
     "name": "stdout",
     "output_type": "stream",
     "text": [
      "Created new Term with value: Epithelioma, malignant and origin: NDC\n",
      "Created new Term with value: Carcinoma and origin: NDC\n",
      "Created Concept node with nanoid: 5aX4EN\n",
      "Created represents relationship between Term with value: Epithelioma, malignant and origin: NDC and Concept with nanoid: 5aX4EN\n",
      "Created represents relationship between Term with value: Carcinoma and origin: NDC and Concept with nanoid: 5aX4EN\n"
     ]
    }
   ],
   "source": [
    "# neither term exists\n",
    "test_term_1 = Term()\n",
    "test_term_1.value = \"Epithelioma, malignant\"\n",
    "test_term_1.origin_name = \"NDC\"\n",
    "\n",
    "test_term_2 = Term()\n",
    "test_term_2.value = \"Carcinoma\"\n",
    "test_term_2.origin_name = \"NDC\"\n",
    "\n",
    "with driver.session() as session:\n",
    "    session.write_transaction(mdb.link_two_terms, test_term_1, test_term_2)\n",
    "driver.close()"
   ]
  },
  {
   "cell_type": "markdown",
   "metadata": {},
   "source": [
    "# Linking Concepts\n"
   ]
  },
  {
   "cell_type": "markdown",
   "metadata": {},
   "source": [
    "When two existing Concept nodes are deemed synonymous, there are two primary ways to approach linking them together. The first way to link the synonymous Concepts would be via a Predicate node with the an \"exactMatch\" handle. This method maintains the exisiting Concept & Term structure while adding to it, allowing queries already in use to continue to work. \n",
    "\n",
    "The second way is simply merging the two so they are represented by the same Concept node. With this approach, the Terms linked to each Concept would then be linked to the new merged Concept instead. They could be merged under one of the exisiting Concepts or a new Concept could be created and the old two removed. This method would invalidate existing queries using relevant Concepts & Terms."
   ]
  },
  {
   "cell_type": "markdown",
   "metadata": {},
   "source": [
    "### Create Predicate"
   ]
  },
  {
   "cell_type": "code",
   "execution_count": 13,
   "metadata": {},
   "outputs": [],
   "source": [
    "with driver.session() as session:\n",
    "    test_nano = mdb.make_nano()\n",
    "driver.close()\n",
    "\n",
    "test_predicate = Predicate()\n",
    "test_predicate.handle = \"exactMatch\"\n",
    "test_predicate.nanoid = test_nano"
   ]
  },
  {
   "cell_type": "code",
   "execution_count": 14,
   "metadata": {},
   "outputs": [
    {
     "name": "stdout",
     "output_type": "stream",
     "text": [
      "Created new Predicate with handle: exactMatch and nanoid: 10B00s\n"
     ]
    }
   ],
   "source": [
    "with driver.session() as session:\n",
    "    session.write_transaction(mdb.create_predicate, test_predicate)\n",
    "driver.close()"
   ]
  },
  {
   "cell_type": "markdown",
   "metadata": {},
   "source": [
    "### Link two Concepts to a Predicate"
   ]
  },
  {
   "cell_type": "markdown",
   "metadata": {},
   "source": [
    "General pattern: (c1:concept)<-[:has_subject]-(p:predicate {handle:“exactMatch”})-[:has_object]->(c2:concept)"
   ]
  },
  {
   "cell_type": "code",
   "execution_count": 16,
   "metadata": {},
   "outputs": [
    {
     "name": "stdout",
     "output_type": "stream",
     "text": [
      "Created new Predicate with handle: exactMatch and nanoid: 6QQakF\n",
      "Created has_subject relationship between source Predicate with handle: exactMatch and nanoid: 6QQakF and destination Concept with nanoid: 4jtzA3\n",
      "Created has_object relationship between source Predicate with handle: exactMatch and nanoid: 6QQakF and destination Concept with nanoid: n3udfp\n"
     ]
    }
   ],
   "source": [
    "# these Concepts both represent Terms with value: 'Lung' in the MDB.\n",
    "test_concept_1 = Concept({\"nanoid\": \"4jtzA3\"})\n",
    "test_concept_2 = Concept({\"nanoid\": \"n3udfp\"})\n",
    "\n",
    "with driver.session() as session: \n",
    "    session.write_transaction(mdb.link_concepts_to_predicate, test_concept_1, test_concept_2)\n",
    "driver.close()"
   ]
  },
  {
   "cell_type": "markdown",
   "metadata": {},
   "source": [
    "### Merge two Concepts"
   ]
  },
  {
   "cell_type": "code",
   "execution_count": 19,
   "metadata": {},
   "outputs": [
    {
     "name": "stdout",
     "output_type": "stream",
     "text": [
      "Lung NCIt\n",
      "Lung GDC\n"
     ]
    }
   ],
   "source": [
    "# see Terms attached to test Concept\n",
    "test_concept = Concept({\"nanoid\": \"4jtzA3\"})\n",
    "\n",
    "with driver.session() as session:\n",
    "    terms = session.read_transaction(mdb.get_terms, test_concept)\n",
    "    for term in terms:\n",
    "        print(term.value, term.origin_name)\n",
    "driver.close()"
   ]
  },
  {
   "cell_type": "code",
   "execution_count": 21,
   "metadata": {},
   "outputs": [
    {
     "name": "stdout",
     "output_type": "stream",
     "text": [
      "Created Concept node with nanoid: wJt7F6\n",
      "Created Concept node with nanoid: GGzwWF\n",
      "Created Concept node with nanoid: UA40MK\n",
      "Created new Term with value: Nelson and origin: NDC\n",
      "Created new Term with value: Nelsinghouse and origin: NDC\n",
      "Created new Term with value: Nelly and origin: NDC\n",
      "Created new Term with value: N. Moore and origin: NDC\n",
      "Created represents relationship between Term with value: Nelson and origin: NDC and Concept with nanoid: wJt7F6\n",
      "Created represents relationship between Term with value: Nelsinghouse and origin: NDC and Concept with nanoid: wJt7F6\n",
      "Created represents relationship between Term with value: Nelly and origin: NDC and Concept with nanoid: GGzwWF\n",
      "Created represents relationship between Term with value: N. Moore and origin: NDC and Concept with nanoid: UA40MK\n",
      "Created new Predicate with handle: exactMatch and nanoid: q4sJ9n\n",
      "Created has_subject relationship between source Predicate with handle: exactMatch and nanoid: q4sJ9n and destination Concept with nanoid: GGzwWF\n",
      "Created has_object relationship between source Predicate with handle: exactMatch and nanoid: q4sJ9n and destination Concept with nanoid: UA40MK\n"
     ]
    }
   ],
   "source": [
    "# set up for merging Concepts\n",
    "with driver.session() as session:\n",
    "    # generate new Concepts, Terms, & Predicate\n",
    "    test_nano_1 = mdb.make_nano()\n",
    "    test_nano_2 = mdb.make_nano()\n",
    "    test_nano_3 = mdb.make_nano()\n",
    "    test_concept_1 = Concept({\"nanoid\": test_nano_1})\n",
    "    test_concept_2 = Concept({\"nanoid\": test_nano_2})\n",
    "    test_concept_3 = Concept({\"nanoid\": test_nano_3})\n",
    "    session.write_transaction(mdb.create_concept, test_concept_1)\n",
    "    session.write_transaction(mdb.create_concept, test_concept_2)\n",
    "    session.write_transaction(mdb.create_concept, test_concept_3)\n",
    "    test_term_1 = Term({\"value\": \"Nelson\", \"origin_name\": \"NDC\"})\n",
    "    test_term_2 = Term({\"value\": \"Nelsinghouse\", \"origin_name\": \"NDC\"})\n",
    "    test_term_3 = Term({\"value\": \"Nelly\", \"origin_name\": \"NDC\"})\n",
    "    test_term_4 = Term({\"value\": \"N. Moore\", \"origin_name\": \"NDC\"})\n",
    "    session.write_transaction(mdb.create_term, test_term_1)\n",
    "    session.write_transaction(mdb.create_term, test_term_2)\n",
    "    session.write_transaction(mdb.create_term, test_term_3)\n",
    "    session.write_transaction(mdb.create_term, test_term_4)\n",
    "    \n",
    "    # link new Concepts to Terms above (2 Terms to 1st Concept, 1 Term to 2nd & 3rd Concept)  \n",
    "    session.write_transaction(mdb.create_represents_relationship, \n",
    "                            test_term_1, test_concept_1)\n",
    "    session.write_transaction(mdb.create_represents_relationship, \n",
    "                            test_term_2, test_concept_1)\n",
    "    session.write_transaction(mdb.create_represents_relationship, \n",
    "                            test_term_3, test_concept_2)\n",
    "    session.write_transaction(mdb.create_represents_relationship, \n",
    "                            test_term_4, test_concept_3)\n",
    "    \n",
    "    # link new Predicate to Concepts 2 and 3\n",
    "    session.write_transaction(mdb.link_concepts_to_predicate, test_concept_2, test_concept_3)\n",
    "driver.close()\n"
   ]
  },
  {
   "cell_type": "code",
   "execution_count": 22,
   "metadata": {},
   "outputs": [
    {
     "name": "stdout",
     "output_type": "stream",
     "text": [
      "Removed Concept node with nanoid: GGzwWF\n",
      "Created represents relationship between Term with value: Nelly and origin: NDC and Concept with nanoid: wJt7F6\n",
      "Created has_subject relationship between source Predicate with handle: exactMatch and nanoid: q4sJ9n and destination Concept with nanoid: wJt7F6\n"
     ]
    }
   ],
   "source": [
    "# merge Concepts into one\n",
    "with driver.session() as session:\n",
    "    session.write_transaction(mdb.merge_two_concepts, test_concept_1, test_concept_2)\n",
    "driver.close()"
   ]
  },
  {
   "cell_type": "markdown",
   "metadata": {},
   "source": [
    "# Finding potentially synonymous Terms "
   ]
  },
  {
   "cell_type": "code",
   "execution_count": 31,
   "metadata": {},
   "outputs": [
    {
     "name": "stderr",
     "output_type": "stream",
     "text": [
      "c:\\ProgramData\\Anaconda3\\envs\\HIDS_Capstone\\lib\\site-packages\\mdb_tools\\mdb_tools.py:303: UserWarning: [W008] Evaluating Doc.similarity based on empty vectors.\n",
      "  similarity = term_1.similarity(term_2)\n"
     ]
    },
    {
     "name": "stdout",
     "output_type": "stream",
     "text": [
      "[{'value': 'Melanoma', 'origin_name': 'GDC', 'similarity': 1.0, 'valid_synonym': 0}, {'value': 'Melanoma', 'origin_name': 'BentoTailorX', 'similarity': 1.0, 'valid_synonym': 0}, {'value': 'Melanoma', 'origin_name': 'ICDC', 'similarity': 1.0, 'valid_synonym': 0}, {'value': 'Melanoma', 'origin_name': 'NCIt', 'similarity': 1.0, 'valid_synonym': 0}, {'value': 'Glioma', 'origin_name': 'NCIt', 'similarity': 0.9999999420005758, 'valid_synonym': 0}, {'value': 'Mesothelioma', 'origin_name': 'GDC', 'similarity': 0.9999999420005758, 'valid_synonym': 0}, {'value': 'Mesothelioma', 'origin_name': 'BentoTailorX', 'similarity': 0.9999999420005758, 'valid_synonym': 0}, {'value': 'Glioma', 'origin_name': 'ICDC', 'similarity': 0.9999999420005758, 'valid_synonym': 0}, {'value': 'Mesothelioma', 'origin_name': 'NCIt', 'similarity': 0.9999999420005758, 'valid_synonym': 0}, {'value': 'Low-CSD Melanoma', 'origin_name': 'NCIt', 'similarity': 0.9999999420005758, 'valid_synonym': 0}, {'value': 'Malignant Glioma', 'origin_name': 'NCIt', 'similarity': 0.850616622974472, 'valid_synonym': 0}, {'value': 'Malignant Mesothelioma', 'origin_name': 'NCIt', 'similarity': 0.850616622974472, 'valid_synonym': 0}, {'value': 'Mixed Glioma', 'origin_name': 'NCIt', 'similarity': 0.8234367253355912, 'valid_synonym': 0}, {'value': 'Glioma, malignant', 'origin_name': 'BentoTailorX', 'similarity': 0.8062874908254641, 'valid_synonym': 0}, {'value': 'Glioma, malignant', 'origin_name': 'GDC', 'similarity': 0.8062874908254641, 'valid_synonym': 0}, {'value': 'Mesothelioma, malignant', 'origin_name': 'GDC', 'similarity': 0.8062874908254641, 'valid_synonym': 0}, {'value': 'Amelanotic Melanoma', 'origin_name': 'NCIt', 'similarity': 0.8058917478183785, 'valid_synonym': 0}, {'value': 'Uveal Melanoma', 'origin_name': 'BentoTailorX', 'similarity': 0.8058917478183785, 'valid_synonym': 0}, {'value': 'Regressing Melanoma', 'origin_name': 'NCIt', 'similarity': 0.8026452223867003, 'valid_synonym': 0}]\n"
     ]
    }
   ],
   "source": [
    "test_term = Term({\n",
    "    \"value\": \"Melanoma\",\n",
    "    \"origin_name\": \"GDC\"\n",
    "})\n",
    "\n",
    "with driver.session() as session:\n",
    "    terms_to_csv = session.read_transaction(mdb.get_term_synonyms, test_term)\n",
    "    print(terms_to_csv)\n",
    "driver.close()"
   ]
  },
  {
   "cell_type": "code",
   "execution_count": 34,
   "metadata": {},
   "outputs": [],
   "source": [
    "file_name = \"potential_synonyms_melanoma.csv\"\n",
    "file_path = \"C:/Users/nelso/OneDrive - Georgetown University/School Stuff/Capstone/Test/\" + file_name\n",
    "\n",
    "mdb.potential_synonyms_to_csv(terms_to_csv, file_path)"
   ]
  },
  {
   "cell_type": "markdown",
   "metadata": {},
   "source": [
    "### Import list of Terms marked as synonymous and link via Concept"
   ]
  },
  {
   "cell_type": "code",
   "execution_count": 36,
   "metadata": {},
   "outputs": [
    {
     "name": "stdout",
     "output_type": "stream",
     "text": [
      "Both terms are already connected via Concept THVkbK\n",
      "Created represents relationship between Term with value: Melanoma and origin: BentoTailorX and Concept with nanoid: THVkbK\n",
      "Created represents relationship between Term with value: Melanoma and origin: ICDC and Concept with nanoid: THVkbK\n",
      "Both terms are already connected via Concept THVkbK\n"
     ]
    }
   ],
   "source": [
    "test_term = Term({\n",
    "    \"value\": \"Melanoma\",\n",
    "    \"origin_name\": \"GDC\"\n",
    "})\n",
    "\n",
    "csv_path = \"C:/Users/nelso/OneDrive - Georgetown University/School Stuff/Capstone/Test/potential_synonyms_melanoma.csv\"\n",
    "\n",
    "with driver.session() as session:\n",
    "    session.write_transaction(mdb.link_term_synonyms_csv, test_term, csv_path)\n",
    "driver.close()"
   ]
  },
  {
   "cell_type": "markdown",
   "metadata": {},
   "source": [
    "# Testing"
   ]
  },
  {
   "cell_type": "code",
   "execution_count": 100,
   "metadata": {},
   "outputs": [],
   "source": [
    "# MDB sandbox\n",
    "URL = \"bolt://localhost:7687\" # <URL for database>\n",
    "USER = \"neo4j\" # <Username for database>\n",
    "PASSWORD = \"noble-use-dairy\" # <Password for database>\n",
    "driver = GraphDatabase.driver(URL, auth=(USER, PASSWORD))"
   ]
  },
  {
   "cell_type": "code",
   "execution_count": 28,
   "metadata": {},
   "outputs": [
    {
     "name": "stdout",
     "output_type": "stream",
     "text": [
      "Removed Concept node with nanoid: HH7YwF\n",
      "Removed Concept node with nanoid: 4Ygrnp\n",
      "Removed Concept node with nanoid: gifRog\n",
      "Removed Term node with value: Alveolar adenocarcinoma and origin: NDC\n",
      "Removed Term node with value: Undifferentiated Carcinoma and origin: NDC\n",
      "Removed Term node with value: Epithelioma, malignant and origin: NDC\n",
      "Removed Term node with value: Carcinoma and origin: NDC\n",
      "Removed Concept node with nanoid: 5aX4EN\n",
      "Removed Predicate node with handle: exactMatch and nanoid: 6QQakF\n",
      "Removed Concept node with nanoid: wJt7F6\n",
      "Removed Concept node with nanoid: UA40MK\n",
      "Removed Term node with value: Nelson and origin: NDC\n",
      "Removed Term node with value: Nelsinghouse  and origin: NDC\n",
      "Removed Term node with value: Nelly and origin: NDC\n",
      "Removed Term node with value: N. Moore and origin: NDC\n",
      "Removed Predicate node with handle: exactMatch and nanoid: q4sJ9n\n"
     ]
    }
   ],
   "source": [
    "# deleting created nodes & relationships to resuse notebook examples; move this and\n",
    "# any node creation used in notebook examples to a setup section at beginning of notebook\n",
    "# (should be all examples used so reproducable in empty sandbox db by user)\n",
    "with driver.session() as session:\n",
    "    #link 2 terms\n",
    "    session.write_transaction(mdb.detach_delete_concept, Concept({\"nanoid\": \"HH7YwF\"}))\n",
    "    session.write_transaction(mdb.detach_delete_concept, Concept({\"nanoid\": \"4Ygrnp\"}))\n",
    "    session.write_transaction(mdb.detach_delete_concept, Concept({\"nanoid\": \"gifRog\"}))\n",
    "    session.write_transaction(mdb.detach_delete_term, Term({\"value\": \"Alveolar adenocarcinoma\", \"origin_name\": \"NDC\"}))\n",
    "    session.write_transaction(mdb.detach_delete_term, Term({\"value\": \"Undifferentiated Carcinoma\", \"origin_name\": \"NDC\"}))\n",
    "    session.write_transaction(mdb.detach_delete_term, Term({\"value\": \"Epithelioma, malignant\", \"origin_name\": \"NDC\"}))\n",
    "    session.write_transaction(mdb.detach_delete_term, Term({\"value\": \"Carcinoma\", \"origin_name\": \"NDC\"}))\n",
    "    session.write_transaction(mdb.detach_delete_concept, Concept({\"nanoid\": \"5aX4EN\"}))\n",
    "    #link 2 concepts via predicate\n",
    "    session.write_transaction(mdb.detach_delete_predicate, Predicate({\"handle\": \"exactMatch\", \"nanoid\": \"6QQakF\"}))\n",
    "    #merge 2 concepts\n",
    "    session.write_transaction(mdb.detach_delete_concept, Concept({\"nanoid\": \"wJt7F6\"}))\n",
    "    session.write_transaction(mdb.detach_delete_concept, Concept({\"nanoid\": \"UA40MK\"}))\n",
    "    session.write_transaction(mdb.detach_delete_term, Term({\"value\": \"Nelson\", \"origin_name\": \"NDC\"}))\n",
    "    session.write_transaction(mdb.detach_delete_term, Term({\"value\": \"Nelsinghouse\", \"origin_name\": \"NDC\"}))\n",
    "    session.write_transaction(mdb.detach_delete_term, Term({\"value\": \"Nelly\", \"origin_name\": \"NDC\"}))\n",
    "    session.write_transaction(mdb.detach_delete_term, Term({\"value\": \"N. Moore\", \"origin_name\": \"NDC\"}))\n",
    "    session.write_transaction(mdb.detach_delete_predicate, Predicate({\"handle\": \"exactMatch\", \"nanoid\": \"q4sJ9n\"}))\n",
    "driver.close()"
   ]
  }
 ],
 "metadata": {
  "kernelspec": {
   "display_name": "Python 3.9.12 ('HIDS_Capstone')",
   "language": "python",
   "name": "python3"
  },
  "language_info": {
   "codemirror_mode": {
    "name": "ipython",
    "version": 3
   },
   "file_extension": ".py",
   "mimetype": "text/x-python",
   "name": "python",
   "nbconvert_exporter": "python",
   "pygments_lexer": "ipython3",
   "version": "3.9.12"
  },
  "orig_nbformat": 4,
  "vscode": {
   "interpreter": {
    "hash": "24bde3e8e56409237732496eb336b8081f14b31df1642fcb4e390fe4f4a787e4"
   }
  }
 },
 "nbformat": 4,
 "nbformat_minor": 2
}
