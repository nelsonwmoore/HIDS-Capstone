{
 "cells": [
  {
   "cell_type": "markdown",
   "metadata": {},
   "source": [
    "# Installs and Imports"
   ]
  },
  {
   "cell_type": "markdown",
   "metadata": {},
   "source": [
    "## Installs"
   ]
  },
  {
   "cell_type": "code",
   "execution_count": 2,
   "metadata": {},
   "outputs": [
    {
     "name": "stdout",
     "output_type": "stream",
     "text": [
      "Collecting neo4j\n",
      "  Downloading neo4j-4.4.4.tar.gz (90 kB)\n",
      "     ---------------------------------------- 90.8/90.8 KB 2.5 MB/s eta 0:00:00\n",
      "  Preparing metadata (setup.py): started\n",
      "  Preparing metadata (setup.py): finished with status 'done'\n",
      "Collecting pytz\n",
      "  Downloading pytz-2022.1-py2.py3-none-any.whl (503 kB)\n",
      "     -------------------------------------- 503.5/503.5 KB 7.8 MB/s eta 0:00:00\n",
      "Using legacy 'setup.py install' for neo4j, since package 'wheel' is not installed.\n",
      "Installing collected packages: pytz, neo4j\n",
      "  Running setup.py install for neo4j: started\n",
      "  Running setup.py install for neo4j: finished with status 'done'\n",
      "Successfully installed neo4j-4.4.4 pytz-2022.1\n",
      "Note: you may need to restart the kernel to use updated packages.\n"
     ]
    },
    {
     "name": "stderr",
     "output_type": "stream",
     "text": [
      "WARNING: You are using pip version 22.0.4; however, version 22.1.2 is available.\n",
      "You should consider upgrading via the 'C:\\Users\\nelso\\AppData\\Local\\Microsoft\\WindowsApps\\PythonSoftwareFoundation.Python.3.9_qbz5n2kfra8p0\\python.exe -m pip install --upgrade pip' command.\n"
     ]
    }
   ],
   "source": [
    "%pip install neo4j"
   ]
  },
  {
   "cell_type": "markdown",
   "metadata": {},
   "source": [
    "## Imports"
   ]
  },
  {
   "cell_type": "code",
   "execution_count": 3,
   "metadata": {},
   "outputs": [],
   "source": [
    "from neo4j import GraphDatabase, basic_auth\n",
    "import mdb_tools.mdb_tools as mdb"
   ]
  },
  {
   "cell_type": "markdown",
   "metadata": {},
   "source": [
    "# Database connection"
   ]
  },
  {
   "cell_type": "markdown",
   "metadata": {},
   "source": [
    "URL, username, and password for database connection"
   ]
  },
  {
   "cell_type": "code",
   "execution_count": 4,
   "metadata": {},
   "outputs": [],
   "source": [
    "# MDB sandbox\n",
    "url = \"bolt://localhost:7687\" #\"<URL for database>\"\n",
    "user = \"neo4j\" #\"<Username for database>\"\n",
    "password = \"noble-use-dairy\" #\"<Password for database>\"\n",
    "driver = GraphDatabase.driver(url, auth=(user, password))"
   ]
  },
  {
   "cell_type": "code",
   "execution_count": 12,
   "metadata": {},
   "outputs": [
    {
     "data": {
      "text/plain": [
       "['GraphDatabase',\n",
       " '__builtins__',\n",
       " '__cached__',\n",
       " '__doc__',\n",
       " '__file__',\n",
       " '__loader__',\n",
       " '__name__',\n",
       " '__package__',\n",
       " '__spec__',\n",
       " 'basic_auth',\n",
       " 'check_term_exists',\n",
       " 'create_concept',\n",
       " 'create_object_relationship',\n",
       " 'create_predicate',\n",
       " 'create_represents_relationship',\n",
       " 'create_represents_relationship_from_nanoid',\n",
       " 'create_subject_relationship',\n",
       " 'create_term',\n",
       " 'create_term_from_nanoid',\n",
       " 'detach_delete_concept',\n",
       " 'detach_delete_predicate',\n",
       " 'generate',\n",
       " 'generate_unique_nanoid',\n",
       " 'get_concept',\n",
       " 'get_terms',\n",
       " 'link_concepts_to_predicate',\n",
       " 'link_two_terms',\n",
       " 'make_nano',\n",
       " 'merge_two_concepts']"
      ]
     },
     "execution_count": 12,
     "metadata": {},
     "output_type": "execute_result"
    }
   ],
   "source": [
    "dir(mdb)"
   ]
  },
  {
   "cell_type": "markdown",
   "metadata": {},
   "source": [
    "# Linking Terms\n"
   ]
  },
  {
   "cell_type": "markdown",
   "metadata": {},
   "source": [
    "### Check existence of Term"
   ]
  },
  {
   "cell_type": "code",
   "execution_count": 5,
   "metadata": {},
   "outputs": [
    {
     "name": "stdout",
     "output_type": "stream",
     "text": [
      "Term with that value found in DB\n"
     ]
    }
   ],
   "source": [
    "with driver.session() as session:\n",
    "  term_exists = session.read_transaction(mdb.check_term_exists, \"Epithelioma, benign\")\n",
    "  if term_exists:\n",
    "    print(\"Term with that value found in DB\")\n",
    "  else:\n",
    "    print(\"Term with that value not found in DB\")\n",
    "\n",
    "driver.close()"
   ]
  },
  {
   "cell_type": "markdown",
   "metadata": {},
   "source": [
    "### Find existing Concept from Term"
   ]
  },
  {
   "cell_type": "markdown",
   "metadata": {},
   "source": [
    "### Create new Term"
   ]
  },
  {
   "cell_type": "code",
   "execution_count": 7,
   "metadata": {},
   "outputs": [
    {
     "name": "stdout",
     "output_type": "stream",
     "text": [
      "Created new Term with value: Epithelioma, benign\n",
      "Created new Term with value: Epithelial tumor, benign\n",
      "Created new Term with value: Spindle cell carcinoma, NOS\n",
      "Created new Term with value: Sarcomatoid Carcinoma\n",
      "Created new Term with value: Minimally Invasive Lung Adenocarcinoma\n",
      "Created new Term with value: Undifferentiated Carcinoma\n"
     ]
    }
   ],
   "source": [
    "with driver.session() as session:\n",
    "    session.write_transaction(mdb.create_term, \"Epithelioma, benign\")\n",
    "    session.write_transaction(mdb.create_term, \"Epithelial tumor, benign\")\n",
    "    session.write_transaction(mdb.create_term, \"Spindle cell carcinoma, NOS\")\n",
    "    session.write_transaction(mdb.create_term, \"Sarcomatoid Carcinoma\")\n",
    "    session.write_transaction(mdb.create_term, \"Minimally Invasive Lung Adenocarcinoma\")\n",
    "    session.write_transaction(mdb.create_term, \"Undifferentiated Carcinoma\")\n",
    "driver.close()"
   ]
  },
  {
   "cell_type": "markdown",
   "metadata": {},
   "source": [
    "### Generate unique Concept nanoid"
   ]
  },
  {
   "cell_type": "code",
   "execution_count": 81,
   "metadata": {},
   "outputs": [
    {
     "name": "stdout",
     "output_type": "stream",
     "text": [
      "hjpBQV\n"
     ]
    }
   ],
   "source": [
    "with driver.session() as session:\n",
    "  session.read_transaction(mdb.generate_unique_nanoid)\n",
    "driver.close()"
   ]
  },
  {
   "cell_type": "markdown",
   "metadata": {},
   "source": [
    "### Create Concept"
   ]
  },
  {
   "cell_type": "code",
   "execution_count": 12,
   "metadata": {},
   "outputs": [
    {
     "name": "stdout",
     "output_type": "stream",
     "text": [
      "Created new Concept with nanoid: H6X2Ph\n",
      "Created new Concept with nanoid: p2IbFv\n"
     ]
    }
   ],
   "source": [
    "with driver.session() as session:\n",
    "    id_1 = session.read_transaction(mdb.generate_unique_nanoid)\n",
    "    session.write_transaction(mdb.create_concept, id_1)\n",
    "    id_2 = session.read_transaction(mdb.generate_unique_nanoid)   \n",
    "    session.write_transaction(mdb.create_concept, id_2)\n",
    "driver.close()"
   ]
  },
  {
   "cell_type": "markdown",
   "metadata": {},
   "source": [
    "### Link Term and Concept"
   ]
  },
  {
   "cell_type": "code",
   "execution_count": 15,
   "metadata": {},
   "outputs": [
    {
     "name": "stdout",
     "output_type": "stream",
     "text": [
      "Epithelioma, benign Term now represents H6X2Ph Concept\n",
      "Epithelial tumor, benign Term now represents H6X2Ph Concept\n",
      "Minimally Invasive Lung Adenocarcinoma Term now represents p2IbFv Concept\n"
     ]
    }
   ],
   "source": [
    "with driver.session() as session:\n",
    "    session.write_transaction(mdb.create_represents_relationship, \"Epithelioma, benign\", id_1)\n",
    "    session.write_transaction(mdb.create_represents_relationship, \"Epithelial tumor, benign\", id_1)\n",
    "    session.write_transaction(mdb.create_represents_relationship, \"Minimally Invasive Lung Adenocarcinoma\", id_2)\n",
    "driver.close() "
   ]
  },
  {
   "cell_type": "markdown",
   "metadata": {},
   "source": [
    "## Link Two Terms"
   ]
  },
  {
   "cell_type": "code",
   "execution_count": 18,
   "metadata": {},
   "outputs": [
    {
     "name": "stdout",
     "output_type": "stream",
     "text": [
      "Epithelioma, benign and Epithelial tumor, benign are already connected via Concept H6X2Ph\n"
     ]
    }
   ],
   "source": [
    "# both terms exist & connected via concept\n",
    "mdb.link_two_terms(\"Epithelioma, benign\", \"Epithelial tumor, benign\")"
   ]
  },
  {
   "cell_type": "code",
   "execution_count": 19,
   "metadata": {},
   "outputs": [
    {
     "name": "stdout",
     "output_type": "stream",
     "text": [
      "Created new Concept with nanoid: Zith4U\n",
      "Spindle cell carcinoma, NOS Term now represents Zith4U Concept\n",
      "Sarcomatoid Carcinoma Term now represents Zith4U Concept\n"
     ]
    }
   ],
   "source": [
    "# both terms exist & NOT connected via concept\n",
    "mdb.link_two_terms(\"Spindle cell carcinoma, NOS\", \"Sarcomatoid Carcinoma\")"
   ]
  },
  {
   "cell_type": "code",
   "execution_count": 20,
   "metadata": {},
   "outputs": [
    {
     "name": "stdout",
     "output_type": "stream",
     "text": [
      "Created new Term with value: Alveolar adenocarcinoma\n",
      "Alveolar adenocarcinoma Term now represents p2IbFv Concept\n"
     ]
    }
   ],
   "source": [
    "# one term exists & already has concept\n",
    "mdb.link_two_terms(\"Minimally Invasive Lung Adenocarcinoma\", \"Alveolar adenocarcinoma\")"
   ]
  },
  {
   "cell_type": "code",
   "execution_count": 21,
   "metadata": {},
   "outputs": [
    {
     "name": "stdout",
     "output_type": "stream",
     "text": [
      "Created new Concept with nanoid: dBSPWS\n",
      "Created new Term with value: Carcinoma, anaplastic, NOS\n",
      "Undifferentiated Carcinoma Term now represents dBSPWS Concept\n",
      "Carcinoma, anaplastic, NOS Term now represents dBSPWS Concept\n"
     ]
    }
   ],
   "source": [
    "# one term exists & doesn't have concept yet\n",
    "mdb.link_two_terms(\"Undifferentiated Carcinoma\", \"Carcinoma, anaplastic, NOS\")"
   ]
  },
  {
   "cell_type": "code",
   "execution_count": 22,
   "metadata": {},
   "outputs": [
    {
     "name": "stdout",
     "output_type": "stream",
     "text": [
      "Created new Term with value: Epithelioma, malignant\n",
      "Created new Term with value: Carcinoma\n",
      "Created new Concept with nanoid: 4CneRp\n",
      "Epithelioma, malignant Term now represents 4CneRp Concept\n",
      "Carcinoma Term now represents 4CneRp Concept\n"
     ]
    }
   ],
   "source": [
    "# neither term exists\n",
    "mdb.link_two_terms(\"Epithelioma, malignant\", \"Carcinoma\")"
   ]
  },
  {
   "cell_type": "markdown",
   "metadata": {},
   "source": [
    "# Linking Concepts\n"
   ]
  },
  {
   "cell_type": "markdown",
   "metadata": {},
   "source": [
    "### Create Predicate"
   ]
  },
  {
   "cell_type": "code",
   "execution_count": null,
   "metadata": {},
   "outputs": [],
   "source": [
    "with driver.session() as session:\n",
    "    pred_nanoid_1 = session.read_transaction(mdb.generate_unique_nanoid)\n",
    "    pred_handle_1 = \"exactMatch\"\n",
    "    session.write_transaction(mdb.create_predicate, pred_nanoid_1, pred_handle_1)\n",
    "driver.close() "
   ]
  },
  {
   "cell_type": "markdown",
   "metadata": {},
   "source": [
    "### Link two Concepts to a Predicate"
   ]
  },
  {
   "cell_type": "markdown",
   "metadata": {},
   "source": [
    "General pattern: (c1:concept)<-[:has_subject]-(p:predicate {handle:“exactMatch”})-[:has_object]->(c2:concept)"
   ]
  },
  {
   "cell_type": "markdown",
   "metadata": {},
   "source": [
    "Example: Concepts with nanoid: \"4jtzA3\" and nanoid: \"UWs6Di\" both represent terms with value: Lung in the MDB. Let's link them with the predicate we just created."
   ]
  },
  {
   "cell_type": "code",
   "execution_count": null,
   "metadata": {},
   "outputs": [
    {
     "name": "stdout",
     "output_type": "stream",
     "text": [
      "Created has_subject relationship between source Predicate: 2cEzXW and destination Concept: 4jtzA3\n",
      "Created has_object relationship between source Predicate: 2cEzXW and destination Concept: UWs6Di\n"
     ]
    }
   ],
   "source": [
    "with driver.session() as session:\n",
    "    predicate_nanoid = \"2cEzXW\" #\"<predicate_nanoid_from_above>\"\n",
    "    concept_nanoid_1 = \"4jtzA3\"\n",
    "    concept_nanoid_2 = \"UWs6Di\"\n",
    "    session.write_transaction(mdb.create_subject_relationship, \n",
    "                                concept_nanoid_1, predicate_nanoid)\n",
    "    session.write_transaction(mdb.create_object_relationship, \n",
    "                                concept_nanoid_2, predicate_nanoid)\n",
    "driver.close()"
   ]
  },
  {
   "cell_type": "markdown",
   "metadata": {},
   "source": [
    "When two existing Concept nodes are deemed synonymous, there are two primary ways to approach linking them together. The first way to link the synonymous Concepts would be via a Predicate node with the an \"exactMatch\" handle. This method maintains the exisiting Concept & Term structure while adding to it, allowing queries already in use to continue to work. \n",
    "\n",
    "The second way is simply merging the two so they are represented by the same Concept node. With this approach, the Terms linked to each Concept would then be linked to the new merged Concept instead. They could be merged under one of the exisiting Concepts or a new Concept could be created and the old two removed. This method would invalidate existing queries using relevant Concepts & Terms."
   ]
  },
  {
   "cell_type": "code",
   "execution_count": null,
   "metadata": {},
   "outputs": [
    {
     "name": "stdout",
     "output_type": "stream",
     "text": [
      "Created new Predicate with nanoid: isAxe4 and handle: exactMatch\n",
      "Created has_subject relationship between source Predicate: isAxe4 and destination Concept: 4jtzA3\n",
      "Created has_object relationship between source Predicate: isAxe4 and destination Concept: UWs6Di\n"
     ]
    }
   ],
   "source": [
    "mdb.link_concepts_to_predicate(\"4jtzA3\", \"UWs6Di\")"
   ]
  },
  {
   "cell_type": "code",
   "execution_count": null,
   "metadata": {},
   "outputs": [
    {
     "name": "stdout",
     "output_type": "stream",
     "text": [
      "Created new Concept with nanoid: emSArC\n",
      "Created new Concept with nanoid: S0mbPX\n"
     ]
    }
   ],
   "source": [
    "with driver.session() as session:\n",
    "    id_1 = session.read_transaction(mdb.generate_unique_nanoid)\n",
    "    session.write_transaction(mdb.create_concept, id_1)\n",
    "    id_2 = session.read_transaction(mdb.generate_unique_nanoid)   \n",
    "    session.write_transaction(mdb.create_concept, id_2)\n",
    "driver.close()"
   ]
  },
  {
   "cell_type": "code",
   "execution_count": null,
   "metadata": {},
   "outputs": [
    {
     "name": "stdout",
     "output_type": "stream",
     "text": [
      "Created new Term with value: Nelson and nanoid: wZ1yrF\n",
      "Created new Term with value: Nelly and nanoid: 6TntuU\n",
      "Created new Term with value: Nelsinghouse and nanoid: klKsMN\n",
      "Term with nanoid:wZ1yrF now represents Concept: emSArC\n",
      "Term with nanoid:6TntuU now represents Concept: emSArC\n",
      "Term with nanoid:klKsMN now represents Concept: S0mbPX\n"
     ]
    }
   ],
   "source": [
    "with driver.session() as session:\n",
    "    term_id_1 = session.read_transaction(mdb.generate_unique_nanoid)\n",
    "    session.write_transaction(mdb.create_term_from_nanoid, \"Nelson\", term_id_1)\n",
    "    term_id_2 = session.read_transaction(mdb.generate_unique_nanoid)\n",
    "    session.write_transaction(mdb.create_term_from_nanoid, \"Nelly\", term_id_2)\n",
    "    term_id_3 = session.read_transaction(mdb.generate_unique_nanoid)\n",
    "    session.write_transaction(mdb.create_term_from_nanoid, \"Nelsinghouse\", term_id_3)\n",
    "    session.write_transaction(mdb.create_represents_relationship_from_nanoid, \n",
    "                                term_id_1, \"emSArC\")\n",
    "    session.write_transaction(mdb.create_represents_relationship_from_nanoid, \n",
    "                                term_id_2, \"emSArC\")\n",
    "    session.write_transaction(mdb.create_represents_relationship_from_nanoid, \n",
    "                                term_id_3, \"S0mbPX\")\n",
    "    driver.close()"
   ]
  },
  {
   "cell_type": "code",
   "execution_count": null,
   "metadata": {},
   "outputs": [
    {
     "name": "stdout",
     "output_type": "stream",
     "text": [
      "['6TntuU', 'wZ1yrF']\n",
      "['klKsMN']\n"
     ]
    }
   ],
   "source": [
    "with driver.session() as session:\n",
    "    concept_1 = \"emSArC\"\n",
    "    concept_2 = \"S0mbPX\"\n",
    "    terms_1 = session.read_transaction(mdb.get_terms, concept_1)\n",
    "    terms_2 = session.read_transaction(mdb.get_terms, concept_2)\n",
    "    print(f\"{terms_1}\")\n",
    "    print(f\"{terms_2}\")\n",
    "driver.close()"
   ]
  },
  {
   "cell_type": "code",
   "execution_count": null,
   "metadata": {},
   "outputs": [
    {
     "name": "stdout",
     "output_type": "stream",
     "text": [
      "Term with nanoid:klKsMN now represents Concept: emSArC\n"
     ]
    }
   ],
   "source": [
    "mdb.merge_two_concepts(\"emSArC\", \"S0mbPX\")"
   ]
  }
 ],
 "metadata": {
  "interpreter": {
   "hash": "ad2bdc8ecc057115af97d19610ffacc2b4e99fae6737bb82f5d7fb13d2f2c186"
  },
  "kernelspec": {
   "display_name": "Python 3.9.7 ('base')",
   "language": "python",
   "name": "python3"
  },
  "language_info": {
   "codemirror_mode": {
    "name": "ipython",
    "version": 3
   },
   "file_extension": ".py",
   "mimetype": "text/x-python",
   "name": "python",
   "nbconvert_exporter": "python",
   "pygments_lexer": "ipython3",
   "version": "3.9.7"
  },
  "orig_nbformat": 4
 },
 "nbformat": 4,
 "nbformat_minor": 2
}
